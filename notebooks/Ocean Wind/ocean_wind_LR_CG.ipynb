{
 "cells": [
  {
   "cell_type": "code",
   "execution_count": null,
   "metadata": {
    "scrolled": true
   },
   "outputs": [],
   "source": [
    "include(\"../../src/CoherentStructures.jl\") #this is terrible but neccessary during development (?)"
   ]
  },
  {
   "cell_type": "code",
   "execution_count": null,
   "metadata": {},
   "outputs": [],
   "source": [
    "using StreamMacros, Main.CoherentStructures\n",
    "using Tensors, Arpack, JLD2, OrdinaryDiffEq\n",
    "using Plots;"
   ]
  },
  {
   "cell_type": "code",
   "execution_count": null,
   "metadata": {},
   "outputs": [],
   "source": [
    "JLD2.@load(\"Ocean_geostrophic_velocity.jld2\");\n",
    "UV = interpolateVF(Lon, Lat, Time, UT, VT);"
   ]
  },
  {
   "cell_type": "code",
   "execution_count": null,
   "metadata": {},
   "outputs": [],
   "source": [
    "# Parameters\n",
    "grid_resolution        = 100\n",
    "quadrature_order       = 2\n",
    "ϵ                      = 0.5              # perturbation\n",
    "selected_ev            = 2\n",
    "t_initial              = minimum(Time)\n",
    "t_end                  = t_initial+90     # parameter value corresponding to ϵ=0 (t_max is 90)\n",
    "wind_scale             = 1e-5\n",
    "wind_center            = 30;\n",
    "solver_tolerance       = 1e-8\n",
    "solver                 = OrdinaryDiffEq.BS5()"
   ]
  },
  {
   "cell_type": "code",
   "execution_count": null,
   "metadata": {},
   "outputs": [],
   "source": [
    "lattitude_range = range(minimum(Lat),maximum(Lat),length=size(UT)[2]) # should be equal to Lat, but just to be safe\n",
    "wind_u = repeat(collect(wind_scale.*(lattitude_range.-wind_center))',size(UT)[1],1,size(UT)[3])\n",
    "wind_v = zero(VT); #no northward component of wind\n",
    "wind = interpolateVF(Lon, Lat, Time, wind_u, wind_v);"
   ]
  },
  {
   "cell_type": "code",
   "execution_count": null,
   "metadata": {},
   "outputs": [],
   "source": [
    "# it would be much easier to write this with interp_rhs and p=UV .+ param.*wind, but that has the wrong type\n",
    "interp_rhs_scaled = OrdinaryDiffEq.ODEFunction{false}((u,p,t) -> p[1](u[1],u[2],t) .+ p[3].*p[2](u[1],u[2],t))\n",
    "function T(x,param)\n",
    "    flow(interp_rhs_scaled, x, [t_initial, t_end]; \n",
    "        p=(UV, wind, param), tolerance=solver_tolerance, solver=solver)[end]\n",
    "end"
   ]
  },
  {
   "cell_type": "code",
   "execution_count": null,
   "metadata": {},
   "outputs": [],
   "source": [
    "LL, UR = (-4.0, -34.0), (6.0, -28.0)\n",
    "lon_resolution = grid_resolution\n",
    "lat_resolution = Integer(floor((UR[2] - LL[2])/(UR[1] - LL[1])*grid_resolution))\n",
    "ctx, _ = regularTriangularGrid((lon_resolution, lat_resolution), \n",
    "        LL, UR, quadrature_order = quadrature_order);\n",
    "bdata = getHomDBCS(ctx, \"all\");"
   ]
  },
  {
   "cell_type": "code",
   "execution_count": null,
   "metadata": {},
   "outputs": [],
   "source": [
    "M = assembleMassMatrix(ctx, bdata=bdata);"
   ]
  },
  {
   "cell_type": "code",
   "execution_count": null,
   "metadata": {
    "scrolled": false
   },
   "outputs": [],
   "source": [
    "DT₀(x) = linearized_flow_autodiff(y -> T(y,0) , x)\n",
    "A₀(x) = 0.5*(one(Tensor{2,2}) + dott(inv(DT₀(x))))\n",
    "@time K = assembleStiffnessMatrix(ctx, A₀, bdata=bdata);"
   ]
  },
  {
   "cell_type": "code",
   "execution_count": null,
   "metadata": {},
   "outputs": [],
   "source": [
    "# solve the linear system\n",
    "@time λ₀, u₀ = eigs(K, M, which=:SM)\n",
    "@assert all(imag.(u₀) .== 0)\n",
    "@assert all(imag.(λ₀) .== 0)\n",
    "u₀ = real.(u₀[:,selected_ev])\n",
    "λ₀ = real.(λ₀[selected_ev])\n",
    "u₀ = u₀ ./ sqrt(u₀'*M*u₀)        # L2 normalization\n",
    "if u₀[Int(floor(0.75*lat_resolution*lon_resolution+0.75*lon_resolution))]<0\n",
    "    u₀ = -u₀\n",
    "end\n",
    "λ₀"
   ]
  },
  {
   "cell_type": "code",
   "execution_count": null,
   "metadata": {},
   "outputs": [],
   "source": [
    "# assemble the linear response matrix L\n",
    "Adot = x -> linear_response_tensor(T, x, 0)\n",
    "@time L = assembleStiffnessMatrix(ctx, Adot, bdata=bdata);"
   ]
  },
  {
   "cell_type": "code",
   "execution_count": null,
   "metadata": {},
   "outputs": [],
   "source": [
    "# solve the system for the derivative u_dot\n",
    "lhs = [K-λ₀*M   -M*u₀\n",
    "        u₀'*M      0]\n",
    "rhs = [-L*u₀    ;  0]\n",
    "\n",
    "@time b = lhs \\ rhs\n",
    "u_dot = b[1:end-1]\n",
    "λ_dot = b[end]"
   ]
  },
  {
   "cell_type": "code",
   "execution_count": null,
   "metadata": {},
   "outputs": [],
   "source": [
    "# calculate the exact uϵ\n",
    "DTϵ(x) = linearized_flow_autodiff(y -> T(y,ϵ) , x)\n",
    "Aϵ(x) = 0.5*(one(Tensor{2,2}) + dott(inv(DTϵ(x))))\n",
    "Kϵ = assembleStiffnessMatrix(ctx, Aϵ, bdata=bdata)\n",
    "λϵ, uϵ = eigs(Kϵ, M, which=:SM)\n",
    "@assert all(imag.(uϵ) .== 0)\n",
    "@assert all(imag.(λϵ) .== 0)\n",
    "uϵ = real.(uϵ[:,selected_ev])\n",
    "λϵ = real.(λϵ[selected_ev])\n",
    "uϵ = uϵ ./ sqrt(uϵ'*M*uϵ)\n",
    "if uϵ[Int(floor(0.75*lat_resolution*lon_resolution+0.75*lon_resolution))]<0\n",
    "    uϵ = -uϵ\n",
    "end\n",
    "λϵ"
   ]
  },
  {
   "cell_type": "code",
   "execution_count": null,
   "metadata": {},
   "outputs": [],
   "source": [
    "λ₀ + ϵ*λ_dot "
   ]
  },
  {
   "cell_type": "code",
   "execution_count": null,
   "metadata": {},
   "outputs": [],
   "source": [
    "color =    :balance\n",
    "xticks =   -4:2:6\n",
    "yticks =   -34:2:-28\n",
    "colorbar = :left\n",
    "cmin =     -1\n",
    "cmax =     1\n",
    "cmin_lr =  -1\n",
    "cmax_lr =  1\n",
    "#unfortunately there is no option for colorbar ticks\n",
    "\n",
    "\n",
    "original      = plot_u(ctx, u₀,           lon_resolution, lat_resolution, title=\"u₀\", bdata=bdata,\n",
    "                colorbar=colorbar, color=color, clims=(cmin,cmax), xticks=xticks, yticks=yticks)\n",
    "derivative    = plot_u(ctx, u_dot,       lon_resolution, lat_resolution, title=\"u̇ ₀\", bdata=bdata,\n",
    "                colorbar=colorbar, color=color, clims=(cmin_lr,cmax_lr), xticks=xticks, yticks=yticks)\n",
    "extrapolated  = plot_u(ctx, u₀ + ϵ*u_dot, lon_resolution, lat_resolution, title=\"u₀ + $(ϵ)u̇ ₀\", bdata=bdata,\n",
    "                colorbar=colorbar, color=color, clims=(cmin,cmax), xticks=xticks, yticks=yticks)\n",
    "exact         = plot_u(ctx, uϵ,          lon_resolution, lat_resolution, title=\"uϵ\", bdata=bdata,\n",
    "                colorbar=colorbar, color=color, clims=(cmin,cmax), xticks=xticks, yticks=yticks)\n",
    "Plots.plot(original,derivative,extrapolated,exact, fmt=:png, dpi=500)"
   ]
  },
  {
   "cell_type": "code",
   "execution_count": null,
   "metadata": {},
   "outputs": [],
   "source": [
    "# calculate the exact uminusϵ\n",
    "DTminusϵ(x) = linearized_flow_autodiff(y -> T(y,-ϵ) , x)\n",
    "Aminusϵ(x) = 0.5*(one(Tensor{2,2}) + dott(inv(DTminusϵ(x))))\n",
    "Kminusϵ = assembleStiffnessMatrix(ctx, Aminusϵ, bdata=bdata)\n",
    "λminusϵ, uminusϵ = eigs(Kminusϵ, M, which=:SM)\n",
    "@assert all(imag.(uminusϵ) .== 0)\n",
    "@assert all(imag.(λminusϵ) .== 0)\n",
    "uminusϵ = real.(uminusϵ[:,selected_ev])\n",
    "λminusϵ = real.(λminusϵ[selected_ev])\n",
    "uminusϵ = uminusϵ ./ sqrt(uminusϵ'*M*uminusϵ)\n",
    "if uminusϵ[Int(floor(0.75*lat_resolution*lon_resolution+0.75*lon_resolution))]<0\n",
    "    uminusϵ = -uminusϵ\n",
    "end\n",
    "λminusϵ"
   ]
  },
  {
   "cell_type": "code",
   "execution_count": null,
   "metadata": {},
   "outputs": [],
   "source": [
    "λ₀ - ϵ*λ_dot "
   ]
  },
  {
   "cell_type": "code",
   "execution_count": null,
   "metadata": {},
   "outputs": [],
   "source": [
    "finite_diff_right = plot_u(ctx, (uϵ - u₀)/ϵ,          lon_resolution, lat_resolution, title=\"fd right\", bdata=bdata,\n",
    "                colorbar=colorbar, color=color, clims=(cmin_lr,cmax_lr), xticks=xticks, yticks=yticks)\n",
    "finite_diff_left = plot_u(ctx, (u₀ - uminusϵ)/ϵ,          lon_resolution, lat_resolution, title=\"fd left\", bdata=bdata,\n",
    "                colorbar=colorbar, color=color, clims=(cmin_lr,cmax_lr), xticks=xticks, yticks=yticks)\n",
    "finite_diff_both = plot_u(ctx, (uϵ - uminusϵ)/ 2ϵ,          lon_resolution, lat_resolution, title=\"fd both\", bdata=bdata,\n",
    "                colorbar=colorbar, color=color, clims=(cmin_lr,cmax_lr), xticks=xticks, yticks=yticks)\n",
    "Plots.plot(derivative,finite_diff_right,finite_diff_left,finite_diff_both, fmt=:png, dpi=500)"
   ]
  },
  {
   "cell_type": "code",
   "execution_count": null,
   "metadata": {},
   "outputs": [],
   "source": [
    "using Contour"
   ]
  },
  {
   "cell_type": "code",
   "execution_count": null,
   "metadata": {},
   "outputs": [],
   "source": [
    "function dynamic_cheeger_value_levelset(levelset)\n",
    "    curves = lines(levelset)\n",
    "    if length(curves) != 1 \n",
    "        @warn \"Currently only connected levelsets are allowed! Levelset: \", level(levelset)\n",
    "    end\n",
    "    curve = curves[1]\n",
    "    return dynamic_cheeger_value(ctx,curve,x->T(x,0),tolerance=1e-10)\n",
    "end\n",
    "function dynamic_cheeger_value_levelset_nonnegative(levelset)\n",
    "    if level(levelset) < 0\n",
    "        return Inf\n",
    "    end\n",
    "    curves = lines(levelset)\n",
    "    if length(curves) != 1 \n",
    "        @warn \"Currently only connected levelsets are allowed! Levelset: $(level(levelset))\"\n",
    "    end\n",
    "    curve = curves[1]\n",
    "    return dynamic_cheeger_value(ctx,curve,x->T(x,0),tolerance=1e-10)\n",
    "end\n",
    "\n",
    "best_levelset, best_value = get_minimal_levelset(\n",
    "    ctx,u₀,dynamic_cheeger_value_levelset_nonnegative,n_candidates=1000,bdata=bdata)\n",
    "print(\"Dynamic Cheeger value:\\t\",best_value,\"\\n\")\n",
    "print(\"Levelset:\\t\\t\",level(best_levelset),\"\\n\")"
   ]
  },
  {
   "cell_type": "code",
   "execution_count": null,
   "metadata": {},
   "outputs": [],
   "source": [
    "c_best = level(best_levelset)\n",
    "plot_best = plot_u(ctx, u₀,  grid_resolution, grid_resolution, title=\"c=$(round(c_best,digits=4))\",bdata=bdata,\n",
    "        colorbar=colorbar, color=color, clims=(cmin,cmax), xticks=xticks, yticks=yticks,legend=false)\n",
    "\n",
    "curve = lines(get_levelset(ctx, u₀, c_best, bdata=bdata))[1]\n",
    "curve = Main.CoherentStructures.closeCurve(ctx,curve)\n",
    "curve_moved = Main.CoherentStructures.apply2curve(x->T(x,0),curve)\n",
    "\n",
    "cheeger_value = dynamic_cheeger_value(ctx, curve, x->T(x,0))\n",
    "print(\"$(cheeger_value)\\t$(Main.CoherentStructures.getLength(curve))\\t\",\n",
    "    \"$(Main.CoherentStructures.getLength(curve_moved))\\t$(Main.CoherentStructures.getEuclideanArea(ctx,curve))\\n\")\n",
    "\n",
    "Plots.plot!(coordinates(curve))\n",
    "Plots.plot!(coordinates(curve_moved))\n",
    "\n",
    "\n",
    "Plots.plot!(fmt=:png,dpi=200)"
   ]
  },
  {
   "cell_type": "code",
   "execution_count": null,
   "metadata": {},
   "outputs": [],
   "source": [
    "function plot_vectorfield(xs,ys,dx,dy;scale=1,step=1)\n",
    "    xs, ys = xs[1:step:end], ys[1:step:end]\n",
    "    x_coords = repeat(xs, outer=length(ys))\n",
    "    y_coords = repeat(ys, inner=length(xs))\n",
    "    dx, dy = scale.*dx[1:step:end,1:step:end], scale.*dy[1:step:end,1:step:end]\n",
    "    quiver(x_coords,y_coords,quiver=(vec(dx),vec(dy)))\n",
    "end"
   ]
  },
  {
   "cell_type": "code",
   "execution_count": null,
   "metadata": {},
   "outputs": [],
   "source": [
    "plot_vectorfield(get_levelset_evolution(ctx,u₀,u_dot, bdata=bdata)...,scale=0.005,step=5)\n",
    "curves         = lines(get_levelset(ctx, u₀, c_best, bdata=bdata))\n",
    "curves_epsilon = lines(get_levelset(ctx, uϵ, c_best, bdata=bdata))\n",
    "curves_predicted = lines(get_levelset(ctx, u₀ + ϵ*u_dot, c_best, bdata=bdata))\n",
    "\n",
    "for c in curves\n",
    "    plot!(coordinates(c),color=:black)\n",
    "end\n",
    "for c in curves_epsilon\n",
    "    plot!(coordinates(c),color=:red,linestyle=:dash)\n",
    "end\n",
    "for c in curves_predicted\n",
    "    plot!(coordinates(c),color=:lightgreen)\n",
    "end\n",
    "\n",
    "Plots.plot!(fmt=:png,dpi=200,legend=false,aspectratio=1,xlims=(-4,6),ylims=(-34,-28),title=\"c=$(round(c_best,digits=4))\")"
   ]
  },
  {
   "cell_type": "code",
   "execution_count": null,
   "metadata": {},
   "outputs": [],
   "source": []
  }
 ],
 "metadata": {
  "kernelspec": {
   "display_name": "Julia (16 threads) 1.4.2",
   "language": "julia",
   "name": "julia-(16-threads)-1.4"
  },
  "language_info": {
   "file_extension": ".jl",
   "mimetype": "application/julia",
   "name": "julia",
   "version": "1.4.2"
  }
 },
 "nbformat": 4,
 "nbformat_minor": 4
}
