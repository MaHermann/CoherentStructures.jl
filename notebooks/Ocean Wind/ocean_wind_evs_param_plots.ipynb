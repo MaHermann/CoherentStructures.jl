{
 "cells": [
  {
   "cell_type": "code",
   "execution_count": 1,
   "metadata": {
    "scrolled": true
   },
   "outputs": [
    {
     "data": {
      "text/plain": [
       "Main.CoherentStructures"
      ]
     },
     "execution_count": 1,
     "metadata": {},
     "output_type": "execute_result"
    }
   ],
   "source": [
    "include(\"../../src/CoherentStructures.jl\") #this is terrible but neccessary during development (?)"
   ]
  },
  {
   "cell_type": "code",
   "execution_count": 2,
   "metadata": {},
   "outputs": [],
   "source": [
    "using StreamMacros, Main.CoherentStructures\n",
    "using Tensors, Arpack, JLD2, OrdinaryDiffEq\n",
    "using Plots;"
   ]
  },
  {
   "cell_type": "code",
   "execution_count": 3,
   "metadata": {},
   "outputs": [],
   "source": [
    "JLD2.@load(\"Ocean_geostrophic_velocity.jld2\");\n",
    "UV = interpolateVF(Lon, Lat, Time, UT, VT);"
   ]
  },
  {
   "cell_type": "code",
   "execution_count": 4,
   "metadata": {},
   "outputs": [],
   "source": [
    "# Parameters\n",
    "grid_resolution        = 200\n",
    "quadrature_order       = 5\n",
    "nevs                   = 6\n",
    "ϵ                      = 0.001\n",
    "num_steps              = 200\n",
    "t_initial              = minimum(Time)\n",
    "t_end                  = t_initial+70     # parameter value corresponding to ϵ=0 (t_max is 90)\n",
    "wind_scale             = 1e-5\n",
    "wind_center            = 30;\n",
    "solver_tolerance       = 1e-8\n",
    "solver                 = OrdinaryDiffEq.BS5();"
   ]
  },
  {
   "cell_type": "code",
   "execution_count": 5,
   "metadata": {},
   "outputs": [],
   "source": [
    "lattitude_range = range(minimum(Lat),maximum(Lat),length=size(UT)[2]) # should be equal to Lat, but just to be safe\n",
    "wind_u = repeat(collect(wind_scale.*(lattitude_range.-wind_center))',size(UT)[1],1,size(UT)[3])\n",
    "wind_v = zero(VT); #no northward component of wind\n",
    "wind = interpolateVF(Lon, Lat, Time, wind_u, wind_v);"
   ]
  },
  {
   "cell_type": "code",
   "execution_count": 6,
   "metadata": {},
   "outputs": [
    {
     "data": {
      "text/plain": [
       "T (generic function with 1 method)"
      ]
     },
     "execution_count": 6,
     "metadata": {},
     "output_type": "execute_result"
    }
   ],
   "source": [
    "# it would be much easier to write this with interp_rhs and p=UV .+ param.*wind, but that has the wrong type\n",
    "interp_rhs_scaled = OrdinaryDiffEq.ODEFunction{false}((u,p,t) -> p[1](u[1],u[2],t) .+ p[3].*p[2](u[1],u[2],t))\n",
    "function T(x,param)\n",
    "    flow(interp_rhs_scaled, x, [t_initial, t_end]; \n",
    "        p=(UV, wind, param), tolerance=solver_tolerance, solver=solver)[end]\n",
    "end"
   ]
  },
  {
   "cell_type": "code",
   "execution_count": 7,
   "metadata": {},
   "outputs": [],
   "source": [
    "LL, UR = (-4.0, -34.0), (6.0, -28.0)\n",
    "lon_resolution = grid_resolution\n",
    "lat_resolution = Integer(floor((UR[2] - LL[2])/(UR[1] - LL[1])*grid_resolution))\n",
    "ctx, _ = regularTriangularGrid((lon_resolution, lat_resolution), \n",
    "        LL, UR, quadrature_order = quadrature_order);\n",
    "bdata = getHomDBCS(ctx, \"all\");"
   ]
  },
  {
   "cell_type": "code",
   "execution_count": 8,
   "metadata": {},
   "outputs": [],
   "source": [
    "M = assembleMassMatrix(ctx, bdata=bdata);"
   ]
  },
  {
   "cell_type": "code",
   "execution_count": 9,
   "metadata": {
    "scrolled": false
   },
   "outputs": [
    {
     "name": "stdout",
     "output_type": "stream",
     "text": [
      "176.638994 seconds (95.48 M allocations: 5.413 GiB, 0.80% gc time)\n"
     ]
    }
   ],
   "source": [
    "# assemble K\n",
    "DT₀(x) = linearized_flow_autodiff(y -> T(y,0) , x)\n",
    "A₀(x) = 0.5*(one(Tensor{2,2}) + dott(inv(DT₀(x))))\n",
    "@time K = assembleStiffnessMatrix(ctx, A₀, bdata=bdata)\n",
    "nothing"
   ]
  },
  {
   "cell_type": "code",
   "execution_count": 10,
   "metadata": {},
   "outputs": [],
   "source": [
    "evs = zeros(num_steps+1,nevs)\n",
    "evs[Int(num_steps/2 +1),:] , _ = eigs(K, M, nev=nevs, which=:SM);"
   ]
  },
  {
   "cell_type": "code",
   "execution_count": 11,
   "metadata": {
    "scrolled": true
   },
   "outputs": [
    {
     "name": "stdout",
     "output_type": "stream",
     "text": [
      "164.553925 seconds (59.38 M allocations: 3.276 GiB, 0.31% gc time)\n",
      "162.994833 seconds (59.18 M allocations: 3.265 GiB, 0.31% gc time)\n",
      "1/100\n",
      "161.133584 seconds (45.28 M allocations: 2.663 GiB, 0.20% gc time)\n",
      "161.157428 seconds (45.28 M allocations: 2.663 GiB, 0.21% gc time)\n",
      "2/100\n",
      "162.021441 seconds (45.28 M allocations: 2.663 GiB, 0.42% gc time)\n",
      "160.768844 seconds (45.28 M allocations: 2.663 GiB, 0.18% gc time)\n",
      "3/100\n",
      "161.724792 seconds (45.28 M allocations: 2.663 GiB, 0.17% gc time)\n",
      "160.729541 seconds (45.28 M allocations: 2.663 GiB, 0.17% gc time)\n",
      "4/100\n",
      "161.539569 seconds (45.28 M allocations: 2.663 GiB, 0.17% gc time)\n",
      "160.631608 seconds (45.28 M allocations: 2.663 GiB, 0.18% gc time)\n",
      "5/100\n",
      "162.157524 seconds (45.28 M allocations: 2.663 GiB, 0.17% gc time)\n",
      "161.328527 seconds (45.28 M allocations: 2.663 GiB, 0.18% gc time)\n",
      "6/100\n",
      "163.323644 seconds (45.28 M allocations: 2.663 GiB, 0.17% gc time)\n",
      "163.648549 seconds (45.28 M allocations: 2.663 GiB, 0.19% gc time)\n",
      "7/100\n",
      "163.397607 seconds (45.28 M allocations: 2.663 GiB, 0.18% gc time)\n",
      "161.252072 seconds (45.28 M allocations: 2.663 GiB, 0.17% gc time)\n",
      "8/100\n",
      "161.571409 seconds (45.28 M allocations: 2.663 GiB, 0.17% gc time)\n",
      "161.466440 seconds (45.28 M allocations: 2.663 GiB, 0.18% gc time)\n",
      "9/100\n",
      "161.680863 seconds (45.28 M allocations: 2.663 GiB, 0.17% gc time)\n",
      "160.848101 seconds (45.28 M allocations: 2.663 GiB, 0.18% gc time)\n",
      "10/100\n",
      "161.872672 seconds (45.28 M allocations: 2.663 GiB, 0.17% gc time)\n",
      "160.758578 seconds (45.28 M allocations: 2.663 GiB, 0.18% gc time)\n",
      "11/100\n",
      "161.814222 seconds (45.28 M allocations: 2.663 GiB, 0.18% gc time)\n",
      "160.805031 seconds (45.28 M allocations: 2.663 GiB, 0.17% gc time)\n",
      "12/100\n",
      "162.051242 seconds (45.28 M allocations: 2.663 GiB, 0.18% gc time)\n",
      "160.763070 seconds (45.28 M allocations: 2.663 GiB, 0.16% gc time)\n",
      "13/100\n",
      "162.146692 seconds (45.28 M allocations: 2.663 GiB, 0.40% gc time)\n",
      "160.733917 seconds (45.28 M allocations: 2.663 GiB, 0.18% gc time)\n",
      "14/100\n",
      "161.854712 seconds (45.28 M allocations: 2.663 GiB, 0.18% gc time)\n",
      "161.284246 seconds (45.28 M allocations: 2.663 GiB, 0.17% gc time)\n",
      "15/100\n",
      "161.513046 seconds (45.28 M allocations: 2.663 GiB, 0.17% gc time)\n",
      "160.713050 seconds (45.28 M allocations: 2.663 GiB, 0.18% gc time)\n",
      "16/100\n",
      "161.761453 seconds (45.28 M allocations: 2.663 GiB, 0.17% gc time)\n",
      "160.474104 seconds (45.28 M allocations: 2.663 GiB, 0.17% gc time)\n",
      "17/100\n",
      "161.956437 seconds (45.28 M allocations: 2.663 GiB, 0.17% gc time)\n",
      "161.132380 seconds (45.28 M allocations: 2.663 GiB, 0.18% gc time)\n",
      "18/100\n",
      "162.126185 seconds (45.28 M allocations: 2.663 GiB, 0.18% gc time)\n",
      "160.625126 seconds (45.28 M allocations: 2.663 GiB, 0.17% gc time)\n",
      "19/100\n",
      "162.343883 seconds (45.28 M allocations: 2.663 GiB, 0.18% gc time)\n",
      "161.746640 seconds (45.28 M allocations: 2.663 GiB, 0.19% gc time)\n",
      "20/100\n",
      "161.153953 seconds (45.28 M allocations: 2.663 GiB, 0.17% gc time)\n",
      "160.521374 seconds (45.28 M allocations: 2.663 GiB, 0.18% gc time)\n",
      "21/100\n",
      "161.741370 seconds (45.28 M allocations: 2.663 GiB, 0.17% gc time)\n",
      "162.416850 seconds (45.28 M allocations: 2.663 GiB, 0.18% gc time)\n",
      "22/100\n",
      "164.083057 seconds (45.28 M allocations: 2.663 GiB, 0.18% gc time)\n",
      "163.129577 seconds (45.28 M allocations: 2.663 GiB, 0.17% gc time)\n",
      "23/100\n",
      "163.487083 seconds (45.28 M allocations: 2.663 GiB, 0.17% gc time)\n",
      "161.185181 seconds (45.28 M allocations: 2.663 GiB, 0.18% gc time)\n",
      "24/100\n",
      "163.299827 seconds (45.28 M allocations: 2.663 GiB, 0.48% gc time)\n",
      "160.948164 seconds (45.28 M allocations: 2.663 GiB, 0.18% gc time)\n",
      "25/100\n",
      "162.789417 seconds (45.28 M allocations: 2.663 GiB, 0.18% gc time)\n",
      "163.353690 seconds (45.28 M allocations: 2.663 GiB, 0.17% gc time)\n",
      "26/100\n",
      "163.350551 seconds (45.28 M allocations: 2.663 GiB, 0.17% gc time)\n",
      "160.300194 seconds (45.28 M allocations: 2.663 GiB, 0.17% gc time)\n",
      "27/100\n",
      "161.243342 seconds (45.28 M allocations: 2.663 GiB, 0.17% gc time)\n",
      "160.695847 seconds (45.28 M allocations: 2.663 GiB, 0.17% gc time)\n",
      "28/100\n",
      "161.444214 seconds (45.28 M allocations: 2.663 GiB, 0.17% gc time)\n",
      "159.900476 seconds (45.28 M allocations: 2.663 GiB, 0.18% gc time)\n",
      "29/100\n",
      "160.295502 seconds (45.28 M allocations: 2.663 GiB, 0.17% gc time)\n",
      "159.158562 seconds (45.28 M allocations: 2.663 GiB, 0.17% gc time)\n",
      "30/100\n",
      "159.881278 seconds (45.28 M allocations: 2.663 GiB, 0.17% gc time)\n",
      "159.565270 seconds (45.28 M allocations: 2.663 GiB, 0.18% gc time)\n",
      "31/100\n",
      "160.204265 seconds (45.28 M allocations: 2.663 GiB, 0.18% gc time)\n",
      "159.400007 seconds (45.28 M allocations: 2.663 GiB, 0.18% gc time)\n",
      "32/100\n",
      "161.124089 seconds (45.28 M allocations: 2.663 GiB, 0.17% gc time)\n",
      "160.656104 seconds (45.28 M allocations: 2.663 GiB, 0.18% gc time)\n",
      "33/100\n",
      "161.627071 seconds (45.28 M allocations: 2.663 GiB, 0.17% gc time)\n",
      "160.760812 seconds (45.28 M allocations: 2.663 GiB, 0.18% gc time)\n",
      "34/100\n",
      "161.703740 seconds (45.28 M allocations: 2.663 GiB, 0.16% gc time)\n",
      "162.848972 seconds (45.28 M allocations: 2.663 GiB, 0.18% gc time)\n",
      "35/100\n",
      "162.153408 seconds (45.28 M allocations: 2.663 GiB, 0.44% gc time)\n",
      "159.593435 seconds (45.28 M allocations: 2.663 GiB, 0.17% gc time)\n",
      "36/100\n",
      "161.565702 seconds (45.28 M allocations: 2.663 GiB, 0.17% gc time)\n",
      "159.451628 seconds (45.28 M allocations: 2.663 GiB, 0.18% gc time)\n",
      "37/100\n",
      "160.187329 seconds (45.28 M allocations: 2.663 GiB, 0.17% gc time)\n",
      "159.329158 seconds (45.28 M allocations: 2.663 GiB, 0.17% gc time)\n",
      "38/100\n",
      "159.485862 seconds (45.28 M allocations: 2.663 GiB, 0.17% gc time)\n",
      "159.463335 seconds (45.28 M allocations: 2.663 GiB, 0.18% gc time)\n",
      "39/100\n",
      "160.530011 seconds (45.28 M allocations: 2.663 GiB, 0.17% gc time)\n",
      "159.821349 seconds (45.28 M allocations: 2.663 GiB, 0.18% gc time)\n",
      "40/100\n",
      "160.251570 seconds (45.28 M allocations: 2.663 GiB, 0.18% gc time)\n",
      "159.370879 seconds (45.28 M allocations: 2.663 GiB, 0.17% gc time)\n",
      "41/100\n",
      "160.153179 seconds (45.28 M allocations: 2.663 GiB, 0.17% gc time)\n",
      "159.389929 seconds (45.28 M allocations: 2.663 GiB, 0.18% gc time)\n",
      "42/100\n",
      "160.159979 seconds (45.28 M allocations: 2.663 GiB, 0.17% gc time)\n",
      "159.198887 seconds (45.28 M allocations: 2.663 GiB, 0.18% gc time)\n",
      "43/100\n",
      "161.251524 seconds (45.28 M allocations: 2.663 GiB, 0.17% gc time)\n",
      "159.960613 seconds (45.28 M allocations: 2.663 GiB, 0.17% gc time)\n",
      "44/100\n",
      "160.367910 seconds (45.28 M allocations: 2.663 GiB, 0.17% gc time)\n",
      "158.816973 seconds (45.28 M allocations: 2.663 GiB, 0.18% gc time)\n",
      "45/100\n",
      "161.855422 seconds (45.28 M allocations: 2.663 GiB, 0.39% gc time)\n",
      "158.571038 seconds (45.28 M allocations: 2.663 GiB, 0.17% gc time)\n",
      "46/100\n",
      "160.809821 seconds (45.28 M allocations: 2.663 GiB, 0.16% gc time)\n",
      "160.318519 seconds (45.28 M allocations: 2.663 GiB, 0.17% gc time)\n",
      "47/100\n",
      "161.473782 seconds (45.28 M allocations: 2.663 GiB, 0.17% gc time)\n",
      "160.009070 seconds (45.28 M allocations: 2.663 GiB, 0.17% gc time)\n",
      "48/100\n",
      "160.143164 seconds (45.28 M allocations: 2.663 GiB, 0.17% gc time)\n",
      "159.979741 seconds (45.28 M allocations: 2.663 GiB, 0.17% gc time)\n",
      "49/100\n",
      "160.848683 seconds (45.28 M allocations: 2.663 GiB, 0.17% gc time)\n",
      "159.458863 seconds (45.28 M allocations: 2.663 GiB, 0.17% gc time)\n",
      "50/100\n",
      "161.630962 seconds (45.28 M allocations: 2.663 GiB, 0.16% gc time)\n",
      "161.086493 seconds (45.28 M allocations: 2.663 GiB, 0.18% gc time)\n",
      "51/100\n",
      "161.322981 seconds (45.28 M allocations: 2.663 GiB, 0.17% gc time)\n",
      "159.483299 seconds (45.28 M allocations: 2.663 GiB, 0.17% gc time)\n",
      "52/100\n",
      "160.162088 seconds (45.28 M allocations: 2.663 GiB, 0.17% gc time)\n",
      "158.885764 seconds (45.28 M allocations: 2.663 GiB, 0.16% gc time)\n",
      "53/100\n",
      "162.093072 seconds (45.28 M allocations: 2.663 GiB, 0.17% gc time)\n",
      "160.710665 seconds (45.28 M allocations: 2.663 GiB, 0.18% gc time)\n",
      "54/100\n",
      "161.800561 seconds (45.28 M allocations: 2.663 GiB, 0.16% gc time)\n",
      "160.979590 seconds (45.28 M allocations: 2.663 GiB, 0.18% gc time)\n",
      "55/100\n",
      "164.425259 seconds (45.28 M allocations: 2.663 GiB, 0.44% gc time)\n",
      "162.147519 seconds (45.28 M allocations: 2.663 GiB, 0.18% gc time)\n",
      "56/100\n",
      "162.641849 seconds (45.28 M allocations: 2.663 GiB, 0.17% gc time)\n",
      "160.640110 seconds (45.28 M allocations: 2.663 GiB, 0.18% gc time)\n",
      "57/100\n",
      "161.484944 seconds (45.28 M allocations: 2.663 GiB, 0.17% gc time)\n",
      "160.679894 seconds (45.28 M allocations: 2.663 GiB, 0.18% gc time)\n",
      "58/100\n",
      "160.722717 seconds (45.28 M allocations: 2.663 GiB, 0.17% gc time)\n"
     ]
    },
    {
     "name": "stdout",
     "output_type": "stream",
     "text": [
      "159.327236 seconds (45.28 M allocations: 2.663 GiB, 0.17% gc time)\n",
      "59/100\n",
      "160.016413 seconds (45.28 M allocations: 2.663 GiB, 0.17% gc time)\n",
      "159.418507 seconds (45.28 M allocations: 2.663 GiB, 0.18% gc time)\n",
      "60/100\n",
      "159.714558 seconds (45.28 M allocations: 2.663 GiB, 0.17% gc time)\n",
      "160.946613 seconds (45.28 M allocations: 2.663 GiB, 0.17% gc time)\n",
      "61/100\n",
      "162.538771 seconds (45.28 M allocations: 2.663 GiB, 0.17% gc time)\n",
      "160.286689 seconds (45.28 M allocations: 2.663 GiB, 0.18% gc time)\n",
      "62/100\n",
      "159.593139 seconds (45.28 M allocations: 2.663 GiB, 0.17% gc time)\n",
      "158.408171 seconds (45.28 M allocations: 2.663 GiB, 0.17% gc time)\n",
      "63/100\n",
      "159.425321 seconds (45.28 M allocations: 2.663 GiB, 0.17% gc time)\n",
      "158.817892 seconds (45.28 M allocations: 2.663 GiB, 0.17% gc time)\n",
      "64/100\n",
      "160.468091 seconds (45.28 M allocations: 2.663 GiB, 0.17% gc time)\n",
      "161.405772 seconds (45.28 M allocations: 2.663 GiB, 0.17% gc time)\n",
      "65/100\n",
      "162.601055 seconds (45.28 M allocations: 2.663 GiB, 0.17% gc time)\n",
      "160.899885 seconds (45.28 M allocations: 2.663 GiB, 0.17% gc time)\n",
      "66/100\n",
      "161.738901 seconds (45.28 M allocations: 2.663 GiB, 0.42% gc time)\n",
      "160.828672 seconds (45.28 M allocations: 2.663 GiB, 0.17% gc time)\n",
      "67/100\n",
      "161.928030 seconds (45.28 M allocations: 2.663 GiB, 0.17% gc time)\n",
      "161.476898 seconds (45.28 M allocations: 2.663 GiB, 0.18% gc time)\n",
      "68/100\n",
      "162.111090 seconds (45.28 M allocations: 2.663 GiB, 0.17% gc time)\n",
      "161.052682 seconds (45.28 M allocations: 2.663 GiB, 0.18% gc time)\n",
      "69/100\n",
      "161.464364 seconds (45.28 M allocations: 2.663 GiB, 0.17% gc time)\n",
      "160.310430 seconds (45.28 M allocations: 2.663 GiB, 0.17% gc time)\n",
      "70/100\n",
      "160.730183 seconds (45.28 M allocations: 2.663 GiB, 0.17% gc time)\n",
      "160.176748 seconds (45.28 M allocations: 2.663 GiB, 0.18% gc time)\n",
      "71/100\n",
      "162.820865 seconds (45.28 M allocations: 2.663 GiB, 0.18% gc time)\n",
      "161.496496 seconds (45.28 M allocations: 2.663 GiB, 0.17% gc time)\n",
      "72/100\n",
      "162.725506 seconds (45.28 M allocations: 2.663 GiB, 0.17% gc time)\n",
      "160.324318 seconds (45.28 M allocations: 2.663 GiB, 0.17% gc time)\n",
      "73/100\n",
      "161.617380 seconds (45.28 M allocations: 2.663 GiB, 0.17% gc time)\n",
      "160.349293 seconds (45.28 M allocations: 2.663 GiB, 0.17% gc time)\n",
      "74/100\n",
      "159.708110 seconds (45.28 M allocations: 2.663 GiB, 0.17% gc time)\n",
      "158.645271 seconds (45.28 M allocations: 2.663 GiB, 0.17% gc time)\n",
      "75/100\n",
      "158.980617 seconds (45.28 M allocations: 2.663 GiB, 0.17% gc time)\n",
      "157.997272 seconds (45.28 M allocations: 2.663 GiB, 0.17% gc time)\n",
      "76/100\n",
      "159.260417 seconds (45.28 M allocations: 2.663 GiB, 0.17% gc time)\n",
      "158.033623 seconds (45.28 M allocations: 2.663 GiB, 0.16% gc time)\n",
      "77/100\n",
      "159.493785 seconds (45.28 M allocations: 2.663 GiB, 0.39% gc time)\n",
      "158.110337 seconds (45.28 M allocations: 2.663 GiB, 0.17% gc time)\n",
      "78/100\n",
      "160.345449 seconds (45.28 M allocations: 2.663 GiB, 0.17% gc time)\n",
      "160.405007 seconds (45.28 M allocations: 2.663 GiB, 0.18% gc time)\n",
      "79/100\n",
      "161.635319 seconds (45.28 M allocations: 2.663 GiB, 0.17% gc time)\n",
      "160.519996 seconds (45.28 M allocations: 2.663 GiB, 0.17% gc time)\n",
      "80/100\n",
      "160.302399 seconds (45.28 M allocations: 2.663 GiB, 0.17% gc time)\n",
      "160.178213 seconds (45.28 M allocations: 2.663 GiB, 0.16% gc time)\n",
      "81/100\n",
      "159.473697 seconds (45.28 M allocations: 2.663 GiB, 0.16% gc time)\n",
      "158.943289 seconds (45.28 M allocations: 2.663 GiB, 0.18% gc time)\n",
      "82/100\n",
      "160.156081 seconds (45.28 M allocations: 2.663 GiB, 0.17% gc time)\n",
      "159.466033 seconds (45.28 M allocations: 2.663 GiB, 0.17% gc time)\n",
      "83/100\n",
      "160.946705 seconds (45.28 M allocations: 2.663 GiB, 0.17% gc time)\n",
      "161.604144 seconds (45.28 M allocations: 2.663 GiB, 0.18% gc time)\n",
      "84/100\n",
      "161.791220 seconds (45.28 M allocations: 2.663 GiB, 0.17% gc time)\n",
      "160.910822 seconds (45.28 M allocations: 2.663 GiB, 0.17% gc time)\n",
      "85/100\n",
      "162.182359 seconds (45.28 M allocations: 2.663 GiB, 0.17% gc time)\n",
      "161.041376 seconds (45.28 M allocations: 2.663 GiB, 0.17% gc time)\n",
      "86/100\n",
      "160.056396 seconds (45.28 M allocations: 2.663 GiB, 0.16% gc time)\n",
      "159.295642 seconds (45.28 M allocations: 2.663 GiB, 0.18% gc time)\n",
      "87/100\n",
      "159.989367 seconds (45.28 M allocations: 2.663 GiB, 0.16% gc time)\n",
      "159.985816 seconds (45.28 M allocations: 2.663 GiB, 0.18% gc time)\n",
      "88/100\n",
      "160.263985 seconds (45.28 M allocations: 2.663 GiB, 0.39% gc time)\n",
      "158.929797 seconds (45.28 M allocations: 2.663 GiB, 0.17% gc time)\n",
      "89/100\n",
      "159.257910 seconds (45.28 M allocations: 2.663 GiB, 0.17% gc time)\n",
      "158.520980 seconds (45.28 M allocations: 2.663 GiB, 0.17% gc time)\n",
      "90/100\n",
      "159.273550 seconds (45.28 M allocations: 2.663 GiB, 0.17% gc time)\n",
      "158.155883 seconds (45.28 M allocations: 2.663 GiB, 0.17% gc time)\n",
      "91/100\n",
      "158.815043 seconds (45.28 M allocations: 2.663 GiB, 0.17% gc time)\n",
      "157.380479 seconds (45.28 M allocations: 2.663 GiB, 0.18% gc time)\n",
      "92/100\n",
      "159.600932 seconds (45.28 M allocations: 2.663 GiB, 0.17% gc time)\n",
      "157.742083 seconds (45.28 M allocations: 2.663 GiB, 0.17% gc time)\n",
      "93/100\n",
      "158.859771 seconds (45.28 M allocations: 2.663 GiB, 0.17% gc time)\n",
      "158.072510 seconds (45.28 M allocations: 2.663 GiB, 0.18% gc time)\n",
      "94/100\n",
      "158.641164 seconds (45.28 M allocations: 2.663 GiB, 0.17% gc time)\n",
      "158.320005 seconds (45.28 M allocations: 2.663 GiB, 0.17% gc time)\n",
      "95/100\n",
      "158.860197 seconds (45.28 M allocations: 2.663 GiB, 0.17% gc time)\n",
      "157.915227 seconds (45.28 M allocations: 2.663 GiB, 0.17% gc time)\n",
      "96/100\n",
      "159.545126 seconds (45.28 M allocations: 2.663 GiB, 0.17% gc time)\n",
      "158.712980 seconds (45.28 M allocations: 2.663 GiB, 0.17% gc time)\n",
      "97/100\n",
      "159.444719 seconds (45.28 M allocations: 2.663 GiB, 0.17% gc time)\n",
      "157.799089 seconds (45.28 M allocations: 2.663 GiB, 0.17% gc time)\n",
      "98/100\n",
      "159.014816 seconds (45.28 M allocations: 2.663 GiB, 0.17% gc time)\n",
      "158.417284 seconds (45.28 M allocations: 2.663 GiB, 0.16% gc time)\n",
      "99/100\n",
      "159.543104 seconds (45.28 M allocations: 2.663 GiB, 0.39% gc time)\n",
      "158.008340 seconds (45.28 M allocations: 2.663 GiB, 0.17% gc time)\n",
      "100/100\n"
     ]
    }
   ],
   "source": [
    "for i in 1:(num_steps/2)\n",
    "    DTϵ(x) = linearized_flow_autodiff(y -> T(y,i*ϵ) , x)\n",
    "    Aϵ(x) = 0.5*(one(Tensor{2,2}) + dott(inv(DTϵ(x))))\n",
    "    @time Kϵ = assembleStiffnessMatrix(ctx, Aϵ, bdata=bdata)\n",
    "    DTminusϵ(x) = linearized_flow_autodiff(y -> T(y,-i*ϵ) , x)\n",
    "    Aminusϵ(x) = 0.5*(one(Tensor{2,2}) + dott(inv(DTminusϵ(x))))\n",
    "    @time Kminusϵ = assembleStiffnessMatrix(ctx, Aminusϵ, bdata=bdata)\n",
    "    evs[Int(num_steps/2 +1+i),:], _ = eigs(Kϵ, M, nev=nevs, which=:SM)\n",
    "    evs[Int(num_steps/2 +1-i),:], _ = eigs(Kminusϵ, M, nev=nevs, which=:SM)\n",
    "    print(Int(i), \"/\" ,Int(num_steps/2), \"\\n\")\n",
    "end\n",
    "nothing"
   ]
  },
  {
   "cell_type": "code",
   "execution_count": 12,
   "metadata": {},
   "outputs": [
    {
     "data": {
      "image/png": "[encoded data removed]"
     },
     "execution_count": 12,
     "metadata": {},
     "output_type": "execute_result"
    }
   ],
   "source": [
    "Plots.plot(range(-(num_steps/2)*ϵ,(num_steps/2)*ϵ,length=num_steps+1), evs, legend=false, fmt = :png)"
   ]
  },
  {
   "cell_type": "code",
   "execution_count": 13,
   "metadata": {},
   "outputs": [
    {
     "data": {
      "image/png": "[encoded data removed]"
     },
     "execution_count": 13,
     "metadata": {},
     "output_type": "execute_result"
    }
   ],
   "source": [
    "Plots.plot(range(-(num_steps/2)*ϵ,(num_steps/2)*ϵ,length=num_steps+1), evs[:,1], legend=false, fmt = :png)"
   ]
  },
  {
   "cell_type": "code",
   "execution_count": 14,
   "metadata": {},
   "outputs": [
    {
     "data": {
      "image/png": "[encoded data removed]"
     },
     "execution_count": 14,
     "metadata": {},
     "output_type": "execute_result"
    }
   ],
   "source": [
    "Plots.plot(range(-(num_steps/2)*ϵ,(num_steps/2)*ϵ,length=num_steps+1), evs[:,2], legend=false, fmt = :png)"
   ]
  },
  {
   "cell_type": "code",
   "execution_count": 15,
   "metadata": {},
   "outputs": [
    {
     "data": {
      "image/png": "[encoded data removed]"
     },
     "execution_count": 15,
     "metadata": {},
     "output_type": "execute_result"
    }
   ],
   "source": [
    "Plots.plot(range(-(num_steps/2)*ϵ,(num_steps/2)*ϵ,length=num_steps+1), evs[:,3], legend=false, fmt = :png)"
   ]
  },
  {
   "cell_type": "code",
   "execution_count": 16,
   "metadata": {},
   "outputs": [
    {
     "data": {
      "text/plain": [
       "201×7 Array{Float64,2}:\n",
       " -0.1    -10.4616  -11.0124  -13.202   -25.2169  -26.9275  -41.8009\n",
       " -0.099  -10.4611  -11.0105  -13.2026  -25.2157  -26.9277  -41.8015\n",
       " -0.098  -10.4607  -11.0088  -13.2031  -25.2146  -26.9279  -41.802\n",
       " -0.097  -10.4603  -11.0071  -13.2036  -25.2135  -26.9282  -41.8026\n",
       " -0.096  -10.46    -11.0055  -13.2041  -25.2124  -26.9284  -41.8032\n",
       " -0.095  -10.4597  -11.004   -13.2046  -25.2114  -26.9289  -41.8037\n",
       " -0.094  -10.4594  -11.0026  -13.2051  -25.2105  -26.9296  -41.8042\n",
       " -0.093  -10.4591  -11.0012  -13.2056  -25.2095  -26.9303  -41.8047\n",
       " -0.092  -10.4588  -10.9999  -13.2061  -25.2087  -26.9313  -41.8051\n",
       " -0.091  -10.4585  -10.9986  -13.2067  -25.2078  -26.9325  -41.8055\n",
       " -0.09   -10.4582  -10.9975  -13.2072  -25.207   -26.9338  -41.8058\n",
       " -0.089  -10.4579  -10.9964  -13.2078  -25.2062  -26.9355  -41.8063\n",
       " -0.088  -10.4576  -10.9954  -13.2084  -25.2054  -26.9373  -41.8066\n",
       "  ⋮                                                ⋮       \n",
       "  0.089  -10.4273  -11.1122  -13.022   -25.0979  -27.0322  -42.0071\n",
       "  0.09   -10.4268  -11.1105  -13.0202  -25.0986  -27.0347  -42.0073\n",
       "  0.091  -10.4263  -11.1089  -13.0186  -25.1     -27.0412  -42.0074\n",
       "  0.092  -10.4257  -11.1073  -13.0174  -25.102   -27.051   -42.0074\n",
       "  0.093  -10.4251  -11.1056  -13.0161  -25.1041  -27.0631  -42.0071\n",
       "  0.094  -10.4244  -11.1036  -13.015   -25.106   -27.0766  -42.006\n",
       "  0.095  -10.4238  -11.1012  -13.0138  -25.1071  -27.0899  -42.0037\n",
       "  0.096  -10.4231  -11.0988  -13.0125  -25.1081  -27.1028  -42.0014\n",
       "  0.097  -10.4224  -11.0982  -13.0113  -25.111   -27.1152  -42.0024\n",
       "  0.098  -10.4219  -11.0982  -13.0102  -25.1143  -27.1264  -42.0046\n",
       "  0.099  -10.4213  -11.098   -13.009   -25.1169  -27.136   -42.0059\n",
       "  0.1    -10.4207  -11.0974  -13.0079  -25.1189  -27.144   -42.0066"
      ]
     },
     "execution_count": 16,
     "metadata": {},
     "output_type": "execute_result"
    }
   ],
   "source": [
    "[range(-(num_steps/2)*ϵ,(num_steps/2)*ϵ,length=num_steps+1)  evs]"
   ]
  },
  {
   "cell_type": "code",
   "execution_count": 17,
   "metadata": {},
   "outputs": [
    {
     "data": {
      "text/plain": [
       "201×6 Array{Float64,2}:\n",
       " -10.4616  -11.0124  -13.202   -25.2169  -26.9275  -41.8009\n",
       " -10.4611  -11.0105  -13.2026  -25.2157  -26.9277  -41.8015\n",
       " -10.4607  -11.0088  -13.2031  -25.2146  -26.9279  -41.802\n",
       " -10.4603  -11.0071  -13.2036  -25.2135  -26.9282  -41.8026\n",
       " -10.46    -11.0055  -13.2041  -25.2124  -26.9284  -41.8032\n",
       " -10.4597  -11.004   -13.2046  -25.2114  -26.9289  -41.8037\n",
       " -10.4594  -11.0026  -13.2051  -25.2105  -26.9296  -41.8042\n",
       " -10.4591  -11.0012  -13.2056  -25.2095  -26.9303  -41.8047\n",
       " -10.4588  -10.9999  -13.2061  -25.2087  -26.9313  -41.8051\n",
       " -10.4585  -10.9986  -13.2067  -25.2078  -26.9325  -41.8055\n",
       " -10.4582  -10.9975  -13.2072  -25.207   -26.9338  -41.8058\n",
       " -10.4579  -10.9964  -13.2078  -25.2062  -26.9355  -41.8063\n",
       " -10.4576  -10.9954  -13.2084  -25.2054  -26.9373  -41.8066\n",
       "   ⋮                                                 ⋮\n",
       " -10.4273  -11.1122  -13.022   -25.0979  -27.0322  -42.0071\n",
       " -10.4268  -11.1105  -13.0202  -25.0986  -27.0347  -42.0073\n",
       " -10.4263  -11.1089  -13.0186  -25.1     -27.0412  -42.0074\n",
       " -10.4257  -11.1073  -13.0174  -25.102   -27.051   -42.0074\n",
       " -10.4251  -11.1056  -13.0161  -25.1041  -27.0631  -42.0071\n",
       " -10.4244  -11.1036  -13.015   -25.106   -27.0766  -42.006\n",
       " -10.4238  -11.1012  -13.0138  -25.1071  -27.0899  -42.0037\n",
       " -10.4231  -11.0988  -13.0125  -25.1081  -27.1028  -42.0014\n",
       " -10.4224  -11.0982  -13.0113  -25.111   -27.1152  -42.0024\n",
       " -10.4219  -11.0982  -13.0102  -25.1143  -27.1264  -42.0046\n",
       " -10.4213  -11.098   -13.009   -25.1169  -27.136   -42.0059\n",
       " -10.4207  -11.0974  -13.0079  -25.1189  -27.144   -42.0066"
      ]
     },
     "execution_count": 17,
     "metadata": {},
     "output_type": "execute_result"
    }
   ],
   "source": [
    "evs"
   ]
  },
  {
   "cell_type": "code",
   "execution_count": 18,
   "metadata": {},
   "outputs": [],
   "source": [
    "using DelimitedFiles"
   ]
  },
  {
   "cell_type": "code",
   "execution_count": 19,
   "metadata": {},
   "outputs": [],
   "source": [
    "writedlm(\"D:/ocean_wind_\"*string(grid_resolution)*\"_\"*string(Integer(num_steps/2)*ϵ)*\"_\"*string(t_end-t_initial)*\".csv\", [range(-(num_steps/2)*ϵ,(num_steps/2)*ϵ,length=num_steps+1)  evs], \",\")"
   ]
  },
  {
   "cell_type": "code",
   "execution_count": null,
   "metadata": {},
   "outputs": [],
   "source": []
  }
 ],
 "metadata": {
  "kernelspec": {
   "display_name": "Julia 1.4.2",
   "language": "julia",
   "name": "julia-1.4"
  },
  "language_info": {
   "file_extension": ".jl",
   "mimetype": "application/julia",
   "name": "julia",
   "version": "1.4.2"
  }
 },
 "nbformat": 4,
 "nbformat_minor": 4
}
