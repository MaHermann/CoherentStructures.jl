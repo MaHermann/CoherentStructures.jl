{
 "cells": [
  {
   "cell_type": "code",
   "execution_count": 1,
   "metadata": {},
   "outputs": [
    {
     "data": {
      "text/plain": [
       "Main.CoherentStructures"
      ]
     },
     "execution_count": 1,
     "metadata": {},
     "output_type": "execute_result"
    }
   ],
   "source": [
    "include(\"../../src/CoherentStructures.jl\") #this is terrible but neccessary during development (?)"
   ]
  },
  {
   "cell_type": "code",
   "execution_count": 2,
   "metadata": {},
   "outputs": [],
   "source": [
    "using StreamMacros, Main.CoherentStructures\n",
    "using Tensors, Arpack \n",
    "using Plots\n",
    "using OrdinaryDiffEq"
   ]
  },
  {
   "cell_type": "code",
   "execution_count": 3,
   "metadata": {},
   "outputs": [],
   "source": [
    "# Parameters\n",
    "grid_resolution        = 100\n",
    "quadrature_order       = 5\n",
    "selected_ev            = 2        # which Eigenvector to choose\n",
    "ϵ                      = 0.2      # perturbation\n",
    "t₀                      = 0.6;    # parameter value corresponding to ϵ=0\n",
    "solver_tolerance       = 1e-5\n",
    "solver                 = OrdinaryDiffEq.Tsit5();"
   ]
  },
  {
   "cell_type": "code",
   "execution_count": 4,
   "metadata": {},
   "outputs": [],
   "source": [
    "rot_double_gyre = @velo_from_stream Ψ_rot_dgyre begin\n",
    "    st          = heaviside(t)*heaviside(1-t)*t^2*(3-2*t) + heaviside(t-1)\n",
    "    heaviside(x)= 0.5*(sign(x) + 1)\n",
    "    Ψ_P         = sin(2π*x)*sin(π*y)\n",
    "    Ψ_F         = sin(π*x)*sin(2π*y)\n",
    "    Ψ_rot_dgyre = (1-st) * Ψ_P + st * Ψ_F\n",
    "end\n",
    "T(x,p) = flow(rot_double_gyre, x, [0.0, t₀ + p],\n",
    "    tolerance = solver_tolerance, solver = solver)[end];"
   ]
  },
  {
   "cell_type": "code",
   "execution_count": 5,
   "metadata": {},
   "outputs": [],
   "source": [
    "LL, UR = (0.0, 0.0), (1.0, 1.0)\n",
    "ctx, _ = regularTriangularGrid((grid_resolution, grid_resolution), LL, UR, quadrature_order = quadrature_order);"
   ]
  },
  {
   "cell_type": "code",
   "execution_count": 6,
   "metadata": {},
   "outputs": [],
   "source": [
    "M = assembleMassMatrix(ctx);"
   ]
  },
  {
   "cell_type": "code",
   "execution_count": 7,
   "metadata": {},
   "outputs": [
    {
     "name": "stdout",
     "output_type": "stream",
     "text": [
      " 18.651005 seconds (68.27 M allocations: 3.805 GiB, 5.23% gc time)\n"
     ]
    }
   ],
   "source": [
    "# assemble K\n",
    "DT₀(x) = linearized_transfer_function_autodiff(y -> T(y,0) , x)\n",
    "A₀(x) = 0.5*(one(Tensor{2,2}) + dott(inv(DT₀(x))))\n",
    "@time K = assembleStiffnessMatrix(ctx, A₀);"
   ]
  },
  {
   "cell_type": "code",
   "execution_count": 8,
   "metadata": {},
   "outputs": [
    {
     "name": "stdout",
     "output_type": "stream",
     "text": [
      "  3.163824 seconds (9.52 M allocations: 555.043 MiB, 5.12% gc time)\n"
     ]
    },
    {
     "data": {
      "text/plain": [
       "-53.85535425626238"
      ]
     },
     "execution_count": 8,
     "metadata": {},
     "output_type": "execute_result"
    }
   ],
   "source": [
    "# solve the linear system\n",
    "@time λ₀, u₀ = eigs(K, M, which=:SM)\n",
    "@assert all(imag.(u₀) .== 0)\n",
    "@assert all(imag.(λ₀) .== 0)\n",
    "u₀ = real.(u₀[:,selected_ev])\n",
    "λ₀ = real.(λ₀[selected_ev])\n",
    "u₀ = u₀ ./ sqrt(u₀'*M*u₀)        # L2 normalization\n",
    "if u₀[Int(floor(0.5*grid_resolution*grid_resolution+0.25*grid_resolution))]>0\n",
    "    u₀ = -u₀                    # eigs is nondeterministic with respect to the sign, so normalize\n",
    "end\n",
    "λ₀"
   ]
  },
  {
   "cell_type": "code",
   "execution_count": 9,
   "metadata": {},
   "outputs": [
    {
     "name": "stdout",
     "output_type": "stream",
     "text": [
      " 34.175692 seconds (54.45 M allocations: 3.925 GiB, 2.81% gc time)\n"
     ]
    }
   ],
   "source": [
    "# assemble the linear response matrix L\n",
    "Adot = x -> linear_response_tensor_autodiff(T, x, 0)\n",
    "@time L = assembleStiffnessMatrix(ctx, Adot);"
   ]
  },
  {
   "cell_type": "code",
   "execution_count": 30,
   "metadata": {},
   "outputs": [
    {
     "name": "stdout",
     "output_type": "stream",
     "text": [
      "  0.054544 seconds (75 allocations: 19.985 MiB)\n"
     ]
    },
    {
     "data": {
      "text/plain": [
       "-69.87478592087778"
      ]
     },
     "execution_count": 30,
     "metadata": {},
     "output_type": "execute_result"
    }
   ],
   "source": [
    "# solve the system for the derivative u_dot\n",
    "lhs = [K-λ₀*M   -M*u₀\n",
    "        u₀'*M      0]\n",
    "rhs = [-L*u₀    ;  0]\n",
    "\n",
    "@time b = lhs \\ rhs\n",
    "u_dot = b[1:end-1]\n",
    "λ_dot = b[end]"
   ]
  },
  {
   "cell_type": "code",
   "execution_count": 10,
   "metadata": {},
   "outputs": [
    {
     "data": {
      "text/plain": [
       "-70.63565025552911"
      ]
     },
     "execution_count": 10,
     "metadata": {},
     "output_type": "execute_result"
    }
   ],
   "source": [
    "# calculate the exact uϵ\n",
    "DTϵ(x) = linearized_transfer_function_autodiff(y -> T(y,ϵ) , x)\n",
    "Aϵ(x) = 0.5*(one(Tensor{2,2}) + dott(inv(DTϵ(x))))\n",
    "Kϵ = assembleStiffnessMatrix(ctx, Aϵ)\n",
    "λϵ, uϵ = eigs(Kϵ, M, which=:SM)\n",
    "@assert all(imag.(uϵ) .== 0)\n",
    "@assert all(imag.(λϵ) .== 0)\n",
    "uϵ = real.(uϵ[:,selected_ev])\n",
    "λϵ = real.(λϵ[selected_ev])\n",
    "uϵ = uϵ ./ sqrt(uϵ'*M*uϵ)\n",
    "if uϵ[Int(floor(0.5*grid_resolution*grid_resolution+0.25*grid_resolution))]>0\n",
    "    uϵ = -uϵ\n",
    "end\n",
    "λϵ"
   ]
  },
  {
   "cell_type": "code",
   "execution_count": 12,
   "metadata": {},
   "outputs": [
    {
     "ename": "UndefVarError",
     "evalue": "\u001b[91mUndefVarError: λ_dot not defined\u001b[39m",
     "output_type": "error",
     "traceback": [
      "\u001b[91mUndefVarError: λ_dot not defined\u001b[39m",
      "",
      "Stacktrace:",
      " [1] top-level scope at In[12]:1"
     ]
    }
   ],
   "source": [
    "λ₀ + ϵ*λ_dot"
   ]
  },
  {
   "cell_type": "code",
   "execution_count": null,
   "metadata": {},
   "outputs": [],
   "source": [
    "color =    :balance\n",
    "xticks =   0:1:1\n",
    "yticks =   0:1:1\n",
    "colorbar = :left\n",
    "cmin =     -2.1\n",
    "cmax =     2.1\n",
    "#unfortunately there is no option for colorbar ticks\n",
    "\n",
    "\n",
    "original      = plot_u(ctx, u₀,           grid_resolution, grid_resolution, title=\"u₀\",\n",
    "                colorbar=colorbar, color=color, clims=(cmin,cmax), xticks=xticks, yticks=yticks)\n",
    "derivative    = plot_u(ctx, u_dot,       grid_resolution, grid_resolution, title=\"u̇ ₀\",\n",
    "                colorbar=colorbar, color=color, clims=(cmin,cmax), xticks=xticks, yticks=yticks)\n",
    "extrapolated  = plot_u(ctx, u₀ + ϵ*u_dot, grid_resolution, grid_resolution, title=\"u₀ + $(ϵ)u̇ ₀\",\n",
    "                colorbar=colorbar, color=color, clims=(cmin,cmax), xticks=xticks, yticks=yticks)\n",
    "exact         = plot_u(ctx, uϵ,          grid_resolution, grid_resolution, title=\"uϵ\",\n",
    "                colorbar=colorbar, color=color, clims=(cmin,cmax), xticks=xticks, yticks=yticks)\n",
    "Plots.plot(original,derivative,extrapolated,exact, fmt=:png, dpi=500)"
   ]
  },
  {
   "cell_type": "code",
   "execution_count": null,
   "metadata": {},
   "outputs": [],
   "source": []
  }
 ],
 "metadata": {
  "kernelspec": {
   "display_name": "Julia (16 threads) 1.4.2",
   "language": "julia",
   "name": "julia-(16-threads)-1.4"
  },
  "language_info": {
   "file_extension": ".jl",
   "mimetype": "application/julia",
   "name": "julia",
   "version": "1.4.2"
  }
 },
 "nbformat": 4,
 "nbformat_minor": 4
}
