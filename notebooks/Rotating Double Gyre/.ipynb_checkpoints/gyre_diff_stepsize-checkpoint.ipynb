{
 "cells": [
  {
   "cell_type": "code",
   "execution_count": null,
   "metadata": {},
   "outputs": [],
   "source": [
    "include(\"../../src/CoherentStructures.jl\") #this is terrible but neccessary during development (?)"
   ]
  },
  {
   "cell_type": "code",
   "execution_count": null,
   "metadata": {},
   "outputs": [],
   "source": [
    "using StreamMacros, Main.CoherentStructures\n",
    "using Tensors, OrdinaryDiffEq\n",
    "using Plots\n",
    "using OrdinaryDiffEq"
   ]
  },
  {
   "cell_type": "code",
   "execution_count": null,
   "metadata": {},
   "outputs": [],
   "source": [
    "# Parameters\n",
    "grid_resolution        = 500\n",
    "quadrature_order       = 1\n",
    "t₀                      = 0.6;    "
   ]
  },
  {
   "cell_type": "code",
   "execution_count": null,
   "metadata": {},
   "outputs": [],
   "source": [
    "rot_double_gyre = @velo_from_stream Ψ_rot_dgyre begin\n",
    "    st          = heaviside(t)*heaviside(1-t)*t^2*(3-2*t) + heaviside(t-1)\n",
    "    heaviside(x)= 0.5*(sign(x) + 1)\n",
    "    Ψ_P         = sin(2π*x)*sin(π*y)\n",
    "    Ψ_F         = sin(π*x)*sin(2π*y)\n",
    "    Ψ_rot_dgyre = (1-st) * Ψ_P + st * Ψ_F\n",
    "end\n",
    "nothing"
   ]
  },
  {
   "cell_type": "code",
   "execution_count": null,
   "metadata": {},
   "outputs": [],
   "source": [
    "LL, UR = (0.0, 0.0), (1.0, 1.0)\n",
    "ctx, _ = regularTriangularGrid((grid_resolution, grid_resolution), LL, UR, quadrature_order = quadrature_order);"
   ]
  },
  {
   "cell_type": "code",
   "execution_count": null,
   "metadata": {},
   "outputs": [],
   "source": [
    "function evaluate_on_grid(f,ctx)\n",
    "    [f(node.x) for node in ctx.grid.nodes]\n",
    "end"
   ]
  },
  {
   "cell_type": "code",
   "execution_count": null,
   "metadata": {},
   "outputs": [],
   "source": [
    "function l1_error(reference,solution)\n",
    "    sum(sum([abs.(a .- b) for (a,b) in zip(reference,solution)])) / (2*length(reference))\n",
    "end"
   ]
  },
  {
   "cell_type": "code",
   "execution_count": null,
   "metadata": {},
   "outputs": [],
   "source": [
    "function l2_error(reference,solution)\n",
    "    sum(sqrt.(sum([(a .- b).^2 for (a,b) in zip(reference,solution)]))) / (2*length(reference))\n",
    "end"
   ]
  },
  {
   "cell_type": "code",
   "execution_count": null,
   "metadata": {},
   "outputs": [],
   "source": [
    "function linfty_error(reference,solution)\n",
    "    sum(maximum([(a .- b) for (a,b) in zip(reference,solution)]))\n",
    "end"
   ]
  },
  {
   "cell_type": "code",
   "execution_count": null,
   "metadata": {},
   "outputs": [],
   "source": [
    "function T(solver, stepsize)\n",
    "    return (x, param) -> flow(rot_double_gyre, x, [0.0, t₀ + param],\n",
    "        dt=stepsize,adaptive=false,solver=solver)[end]\n",
    "end"
   ]
  },
  {
   "cell_type": "code",
   "execution_count": null,
   "metadata": {},
   "outputs": [],
   "source": [
    "function Tdot_reference(solver, stepsize, param)\n",
    "   return x -> rot_double_gyre(T(solver, stepsize)(x,param),nothing,t₀+param) \n",
    "end"
   ]
  },
  {
   "cell_type": "code",
   "execution_count": null,
   "metadata": {},
   "outputs": [],
   "source": [
    "function Tdot_autodiff(solver, stepsize, param)\n",
    "    return x -> Main.CoherentStructures.parameter_autodiff(T(solver, stepsize), x, param)\n",
    "end"
   ]
  },
  {
   "cell_type": "code",
   "execution_count": null,
   "metadata": {},
   "outputs": [],
   "source": [
    "function Tdot_finite_differences(solver, stepsize, param, diff)\n",
    "    return x -> \n",
    "     (T(solver, stepsize)(x, param+diff) .- T(solver, stepsize)(x, param-diff)) ./ (2*diff)\n",
    "end"
   ]
  },
  {
   "cell_type": "code",
   "execution_count": null,
   "metadata": {},
   "outputs": [],
   "source": [
    "stepsize_range_BS5 = [5e-1,4.5e-1,4e-1,3.5e-1,3e-1,2.5e-1,2e-1,1.5e-1,1e-1,\n",
    "                      9e-2,8.5e-2,8e-2,7.5e-2,7e-2,6.5e-2,6e-2,5.5e-2,\n",
    "                      5e-2,4.5e-2,4e-2,3.5e-2,3e-2,2.5e-2,2e-2,1e-2,\n",
    "                      9e-3,8e-3,7e-3,6e-3,5e-3,4e-3,3e-3,2e-3,1e-3];"
   ]
  },
  {
   "cell_type": "code",
   "execution_count": null,
   "metadata": {},
   "outputs": [],
   "source": [
    "reference_BS5 = [evaluate_on_grid(Tdot_reference(OrdinaryDiffEq.BS5(),stepsize,0),ctx) \n",
    "    for stepsize in stepsize_range_BS5];"
   ]
  },
  {
   "cell_type": "code",
   "execution_count": null,
   "metadata": {},
   "outputs": [],
   "source": [
    "autodiff_BS5    = [evaluate_on_grid(Tdot_autodiff(OrdinaryDiffEq.BS5(),stepsize,0),ctx) \n",
    "    for stepsize in stepsize_range_BS5]\n",
    "FD_1eminus2_BS5 = [evaluate_on_grid(Tdot_finite_differences(OrdinaryDiffEq.BS5(),stepsize,0,1e-2),ctx)\n",
    "    for stepsize in stepsize_range_BS5]\n",
    "FD_1eminus3_BS5 = [evaluate_on_grid(Tdot_finite_differences(OrdinaryDiffEq.BS5(),stepsize,0,1e-3),ctx)\n",
    "    for stepsize in stepsize_range_BS5]\n",
    "FD_1eminus4_BS5 = [evaluate_on_grid(Tdot_finite_differences(OrdinaryDiffEq.BS5(),stepsize,0,1e-4),ctx) \n",
    "    for stepsize in stepsize_range_BS5]\n",
    "FD_1eminus5_BS5 = [evaluate_on_grid(Tdot_finite_differences(OrdinaryDiffEq.BS5(),stepsize,0,1e-5),ctx)\n",
    "    for stepsize in stepsize_range_BS5];\n",
    "FD_1eminus6_BS5 = [evaluate_on_grid(Tdot_finite_differences(OrdinaryDiffEq.BS5(),stepsize,0,1e-6),ctx)\n",
    "    for stepsize in stepsize_range_BS5];\n",
    "FD_1eminus7_BS5 = [evaluate_on_grid(Tdot_finite_differences(OrdinaryDiffEq.BS5(),stepsize,0,1e-7),ctx)\n",
    "    for stepsize in stepsize_range_BS5];"
   ]
  },
  {
   "cell_type": "code",
   "execution_count": null,
   "metadata": {},
   "outputs": [],
   "source": [
    "l2_plot_BS5 = Plots.plot(stepsize_range_BS5,[l2_error(ref_stepsize,stepsize) \n",
    "        for (ref_stepsize,stepsize) in zip(reference_BS5,autodiff_BS5)], \n",
    "    xaxis=:log, yaxis=:log, marker=:dot, xflip=true, label=\"Autodiff BS5\"\n",
    "    ,fmt=:png,dpi=300,title=\"L2 error\",legend=(0.1,0.25),legendfontsize=5)\n",
    "Plots.plot!(stepsize_range_BS5,[l2_error(ref_stepsize,stepsize) \n",
    "        for (ref_stepsize,stepsize) in zip(reference_BS5,FD_1eminus2_BS5)], \n",
    "    marker=:dot, label=\"Finite Differences, δ=1e-2, BS5\")\n",
    "Plots.plot!(stepsize_range_BS5,[l2_error(ref_stepsize,stepsize) \n",
    "         for (ref_stepsize,stepsize) in zip(reference_BS5,FD_1eminus3_BS5)], \n",
    "    marker=:dot, label=\"Finite Differences, δ=1e-3, BS5\")\n",
    "Plots.plot!(stepsize_range_BS5,[l2_error(ref_stepsize,stepsize) \n",
    "         for (ref_stepsize,stepsize) in zip(reference_BS5,FD_1eminus4_BS5)], \n",
    "    marker=:dot, label=\"Finite Differences, δ=1e-4, BS5\")\n",
    "Plots.plot!(stepsize_range_BS5,[l2_error(ref_stepsize,stepsize) \n",
    "         for (ref_stepsize,stepsize) in zip(reference_BS5,FD_1eminus5_BS5)], \n",
    "    marker=:dot, label=\"Finite Differences, δ=1e-5, BS5\")\n",
    "Plots.plot!(stepsize_range_BS5,[l2_error(ref_stepsize,stepsize) \n",
    "         for (ref_stepsize,stepsize) in zip(reference_BS5,FD_1eminus6_BS5)], \n",
    "    marker=:dot, label=\"Finite Differences, δ=1e-6, BS5\")\n",
    "Plots.plot!(stepsize_range_BS5,[l2_error(ref_stepsize,stepsize) \n",
    "         for (ref_stepsize,stepsize) in zip(reference_BS5,FD_1eminus7_BS5)], \n",
    "    marker=:dot, label=\"Finite Differences, δ=1e-7, BS5\")\n",
    "Plots.plot!(stepsize_range_BS5,[x^(5.5) for x in stepsize_range_BS5], \n",
    "    linestyle=:dash,label=\"O(h^5.5)\")"
   ]
  },
  {
   "cell_type": "code",
   "execution_count": null,
   "metadata": {},
   "outputs": [],
   "source": [
    "stepsize_range_DP8 = [5e-1,4.5e-1,4e-1,3.5e-1,3e-1,2.5e-1,2e-1,1.5e-1,1e-1,\n",
    "                      9e-2,8.5e-2,8e-2,7.5e-2,7e-2,6.5e-2,6e-2,5.5e-2,5e-2,4.5e-2,4e-2,3.5e-2,3e-2,2.5e-2,2e-2,1e-2,\n",
    "                      9e-3,8e-3,7e-3,6e-3,5e-3,4e-3,3e-3,2e-3];"
   ]
  },
  {
   "cell_type": "code",
   "execution_count": null,
   "metadata": {},
   "outputs": [],
   "source": [
    "reference_DP8 = [evaluate_on_grid(Tdot_reference(OrdinaryDiffEq.DP8(),stepsize,0),ctx) \n",
    "    for stepsize in stepsize_range_DP8];"
   ]
  },
  {
   "cell_type": "code",
   "execution_count": null,
   "metadata": {},
   "outputs": [],
   "source": [
    "autodiff_DP8     = [evaluate_on_grid(Tdot_autodiff(OrdinaryDiffEq.DP8(),stepsize,0),ctx) \n",
    "    for stepsize in stepsize_range_DP8]\n",
    "FD_1eminus2_DP8 = [evaluate_on_grid(Tdot_finite_differences(OrdinaryDiffEq.DP8(),stepsize,0,1e-2),ctx)\n",
    "    for stepsize in stepsize_range_DP8]\n",
    "FD_1eminus3_DP8 = [evaluate_on_grid(Tdot_finite_differences(OrdinaryDiffEq.DP8(),stepsize,0,1e-3),ctx)\n",
    "    for stepsize in stepsize_range_DP8]\n",
    "FD_1eminus4_DP8 = [evaluate_on_grid(Tdot_finite_differences(OrdinaryDiffEq.DP8(),stepsize,0,1e-4),ctx) \n",
    "    for stepsize in stepsize_range_DP8]\n",
    "FD_1eminus5_DP8 = [evaluate_on_grid(Tdot_finite_differences(OrdinaryDiffEq.DP8(),stepsize,0,1e-5),ctx)\n",
    "    for stepsize in stepsize_range_DP8];\n",
    "FD_1eminus6_DP8 = [evaluate_on_grid(Tdot_finite_differences(OrdinaryDiffEq.DP8(),stepsize,0,1e-6),ctx)\n",
    "    for stepsize in stepsize_range_DP8];\n",
    "FD_1eminus7_DP8 = [evaluate_on_grid(Tdot_finite_differences(OrdinaryDiffEq.DP8(),stepsize,0,1e-7),ctx)\n",
    "    for stepsize in stepsize_range_DP8];"
   ]
  },
  {
   "cell_type": "code",
   "execution_count": null,
   "metadata": {},
   "outputs": [],
   "source": [
    "l2_plot_DP8 = Plots.plot(stepsize_range_DP8,[l2_error(ref_stepsize,stepsize) \n",
    "        for (ref_stepsize,stepsize) in zip(reference_DP8,autodiff_DP8)], \n",
    "    xaxis=:log, yaxis=:log, marker=:dot, xflip=true, label=\"Autodiff DP8\"\n",
    "    ,fmt=:png,dpi=300,title=\"L2 error\",legend=(0.1,0.25),legendfontsize=5)\n",
    "Plots.plot!(stepsize_range_DP8,[l2_error(ref_stepsize,stepsize) \n",
    "        for (ref_stepsize,stepsize) in zip(reference_DP8,FD_1eminus2_DP8)], \n",
    "    marker=:dot, label=\"Finite Differences, δ=1e-2, DP8\")\n",
    "Plots.plot!(stepsize_range_DP8,[l2_error(ref_stepsize,stepsize) \n",
    "         for (ref_stepsize,stepsize) in zip(reference_DP8,FD_1eminus3_DP8)], \n",
    "    marker=:dot, label=\"Finite Differences, δ=1e-3, DP8\")\n",
    "Plots.plot!(stepsize_range_DP8,[l2_error(ref_stepsize,stepsize) \n",
    "         for (ref_stepsize,stepsize) in zip(reference_DP8,FD_1eminus4_DP8)], \n",
    "    marker=:dot, label=\"Finite Differences, δ=1e-4, DP8\")\n",
    "Plots.plot!(stepsize_range_DP8,[l2_error(ref_stepsize,stepsize) \n",
    "         for (ref_stepsize,stepsize) in zip(reference_DP8,FD_1eminus5_DP8)], \n",
    "    marker=:dot, label=\"Finite Differences, δ=1e-5, DP8\")\n",
    "Plots.plot!(stepsize_range_DP8,[l2_error(ref_stepsize,stepsize) \n",
    "         for (ref_stepsize,stepsize) in zip(reference_DP8,FD_1eminus6_DP8)], \n",
    "    marker=:dot, label=\"Finite Differences, δ=1e-6, DP8\")\n",
    "Plots.plot!(stepsize_range_DP8,[l2_error(ref_stepsize,stepsize) \n",
    "         for (ref_stepsize,stepsize) in zip(reference_DP8,FD_1eminus7_DP8)], \n",
    "    marker=:dot, label=\"Finite Differences, δ=1e-7, DP8\")\n",
    "Plots.plot!(stepsize_range_DP8,[100*x^8 for x in stepsize_range_DP8], \n",
    "    linestyle=:dash,label=\"O(h^8)\")"
   ]
  },
  {
   "cell_type": "code",
   "execution_count": null,
   "metadata": {},
   "outputs": [],
   "source": [
    "stepsize_range_Vern7 = [5e-1,4.5e-1,4e-1,3.5e-1,3e-1,2.5e-1,2e-1,1.5e-1,1e-1,\n",
    "                      9e-2,8.5e-2,8e-2,7.5e-2,7e-2,6.5e-2,6e-2,5.5e-2,5e-2,4.5e-2,4e-2,3.5e-2,3e-2,2.5e-2,2e-2,1e-2,\n",
    "                      9e-3,8e-3,7e-3,6e-3,5e-3,4e-3,3e-3,2e-3,1e-3];"
   ]
  },
  {
   "cell_type": "code",
   "execution_count": null,
   "metadata": {},
   "outputs": [],
   "source": [
    "reference_Vern7 = [evaluate_on_grid(Tdot_reference(OrdinaryDiffEq.Vern7(),stepsize,0),ctx) \n",
    "    for stepsize in stepsize_range_Vern7];"
   ]
  },
  {
   "cell_type": "code",
   "execution_count": null,
   "metadata": {},
   "outputs": [],
   "source": [
    "autodiff_Vern7     = [evaluate_on_grid(Tdot_autodiff(OrdinaryDiffEq.Vern7(),stepsize,0),ctx) \n",
    "    for stepsize in stepsize_range_Vern7]\n",
    "FD_1eminus2_Vern7 = [evaluate_on_grid(Tdot_finite_differences(OrdinaryDiffEq.Vern7(),stepsize,0,1e-2),ctx)\n",
    "    for stepsize in stepsize_range_Vern7]\n",
    "FD_1eminus3_Vern7 = [evaluate_on_grid(Tdot_finite_differences(OrdinaryDiffEq.Vern7(),stepsize,0,1e-3),ctx)\n",
    "    for stepsize in stepsize_range_Vern7]\n",
    "FD_1eminus4_Vern7 = [evaluate_on_grid(Tdot_finite_differences(OrdinaryDiffEq.Vern7(),stepsize,0,1e-4),ctx) \n",
    "    for stepsize in stepsize_range_Vern7]\n",
    "FD_1eminus5_Vern7 = [evaluate_on_grid(Tdot_finite_differences(OrdinaryDiffEq.Vern7(),stepsize,0,1e-5),ctx)\n",
    "    for stepsize in stepsize_range_Vern7];\n",
    "FD_1eminus6_Vern7 = [evaluate_on_grid(Tdot_finite_differences(OrdinaryDiffEq.Vern7(),stepsize,0,1e-6),ctx)\n",
    "    for stepsize in stepsize_range_Vern7];\n",
    "FD_1eminus7_Vern7 = [evaluate_on_grid(Tdot_finite_differences(OrdinaryDiffEq.Vern7(),stepsize,0,1e-7),ctx)\n",
    "    for stepsize in stepsize_range_Vern7];"
   ]
  },
  {
   "cell_type": "code",
   "execution_count": null,
   "metadata": {},
   "outputs": [],
   "source": [
    "l2_plot_Vern7 = Plots.plot(stepsize_range_Vern7,[l2_error(ref_stepsize,stepsize) \n",
    "        for (ref_stepsize,stepsize) in zip(reference_Vern7,autodiff_Vern7)], \n",
    "    xaxis=:log, yaxis=:log, marker=:dot, xflip=true, label=\"Autodiff Vern7\"\n",
    "    ,fmt=:png,dpi=300,title=\"L2 error\",legend=(0.1,0.25),legendfontsize=5)\n",
    "Plots.plot!(stepsize_range_Vern7,[l2_error(ref_stepsize,stepsize) \n",
    "        for (ref_stepsize,stepsize) in zip(reference_Vern7,FD_1eminus2_Vern7)], \n",
    "    marker=:dot, label=\"Finite Differences, δ=1e-2, Vern7\")\n",
    "Plots.plot!(stepsize_range_Vern7,[l2_error(ref_stepsize,stepsize) \n",
    "         for (ref_stepsize,stepsize) in zip(reference_Vern7,FD_1eminus3_Vern7)], \n",
    "    marker=:dot, label=\"Finite Differences, δ=1e-3, Vern7\")\n",
    "Plots.plot!(stepsize_range_Vern7,[l2_error(ref_stepsize,stepsize) \n",
    "         for (ref_stepsize,stepsize) in zip(reference_Vern7,FD_1eminus4_Vern7)], \n",
    "    marker=:dot, label=\"Finite Differences, δ=1e-4, Vern7\")\n",
    "Plots.plot!(stepsize_range_Vern7,[l2_error(ref_stepsize,stepsize) \n",
    "         for (ref_stepsize,stepsize) in zip(reference_Vern7,FD_1eminus5_Vern7)], \n",
    "    marker=:dot, label=\"Finite Differences, δ=1e-5, Vern7\")\n",
    "Plots.plot!(stepsize_range_Vern7,[l2_error(ref_stepsize,stepsize) \n",
    "         for (ref_stepsize,stepsize) in zip(reference_Vern7,FD_1eminus6_Vern7)], \n",
    "    marker=:dot, label=\"Finite Differences, δ=1e-6, Vern7\")\n",
    "Plots.plot!(stepsize_range_Vern7,[l2_error(ref_stepsize,stepsize) \n",
    "         for (ref_stepsize,stepsize) in zip(reference_Vern7,FD_1eminus7_Vern7)], \n",
    "    marker=:dot, label=\"Finite Differences, δ=1e-7, Vern7\")\n",
    "Plots.plot!(stepsize_range_Vern7,[1000*x^8 for x in stepsize_range_Vern7], \n",
    "    linestyle=:dash,label=\"O(h^8)\")"
   ]
  },
  {
   "cell_type": "code",
   "execution_count": null,
   "metadata": {},
   "outputs": [],
   "source": []
  }
 ],
 "metadata": {
  "kernelspec": {
   "display_name": "Julia (16 threads) 1.4.2",
   "language": "julia",
   "name": "julia-(16-threads)-1.4"
  },
  "language_info": {
   "file_extension": ".jl",
   "mimetype": "application/julia",
   "name": "julia",
   "version": "1.4.2"
  }
 },
 "nbformat": 4,
 "nbformat_minor": 4
}
