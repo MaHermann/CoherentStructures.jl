{
 "cells": [
  {
   "cell_type": "code",
   "execution_count": 1,
   "metadata": {
    "scrolled": true
   },
   "outputs": [
    {
     "data": {
      "text/plain": [
       "Main.CoherentStructures"
      ]
     },
     "execution_count": 1,
     "metadata": {},
     "output_type": "execute_result"
    }
   ],
   "source": [
    "include(\"../../src/CoherentStructures.jl\") #this is terrible but neccessary during development (?)"
   ]
  },
  {
   "cell_type": "code",
   "execution_count": 2,
   "metadata": {},
   "outputs": [],
   "source": [
    "using StreamMacros, Main.CoherentStructures\n",
    "using Tensors, Arpack\n",
    "using Plots\n",
    "using OrdinaryDiffEq"
   ]
  },
  {
   "cell_type": "code",
   "execution_count": 3,
   "metadata": {},
   "outputs": [],
   "source": [
    "# Parameters\n",
    "grid_resolution        = 100\n",
    "quadrature_order       = 5\n",
    "nevs                   = 10        # which Eigenvector to choose\n",
    "num_steps              = 200\n",
    "ϵ                      = 2\n",
    "t₀                      = 0.6      # parameter value corresponding to ϵ=0\n",
    "wind_scale             = 1e-3\n",
    "wind_center            = 0\n",
    "solver_tolerance       = 1e-5\n",
    "solver                 = OrdinaryDiffEq.BS5();"
   ]
  },
  {
   "cell_type": "code",
   "execution_count": 4,
   "metadata": {},
   "outputs": [],
   "source": [
    "rot_double_gyre = @velo_from_stream Ψ_rot_dgyre begin\n",
    "    st          = heaviside(t)*heaviside(1-t)*t^2*(3-2*t) + heaviside(t-1)\n",
    "    heaviside(x)= 0.5*(sign(x) + 1)\n",
    "    Ψ_P         = sin(2π*x)*sin(π*y)\n",
    "    Ψ_F         = sin(π*x)*sin(2π*y)\n",
    "    Ψ_rot_dgyre = (1-st) * Ψ_P + st * Ψ_F\n",
    "end\n",
    "nothing"
   ]
  },
  {
   "cell_type": "code",
   "execution_count": 5,
   "metadata": {},
   "outputs": [],
   "source": [
    "gyre_wind(param) = OrdinaryDiffEq.ODEFunction{false}((u,p,t) -> rot_double_gyre(u,p,t) + param*wind_scale*[u[2]-wind_center, 0]);"
   ]
  },
  {
   "cell_type": "code",
   "execution_count": 6,
   "metadata": {},
   "outputs": [],
   "source": [
    "T(x,p) = flow(gyre_wind(p), x, [0.0, t₀],\n",
    "    tolerance = solver_tolerance, solver = solver)[end];"
   ]
  },
  {
   "cell_type": "code",
   "execution_count": 7,
   "metadata": {},
   "outputs": [],
   "source": [
    "LL, UR = (0.0, 0.0), (1.0, 1.0)\n",
    "ctx, _ = regularTriangularGrid((grid_resolution, grid_resolution), LL, UR, quadrature_order = quadrature_order);"
   ]
  },
  {
   "cell_type": "code",
   "execution_count": 8,
   "metadata": {},
   "outputs": [],
   "source": [
    "M = assembleMassMatrix(ctx);"
   ]
  },
  {
   "cell_type": "code",
   "execution_count": 9,
   "metadata": {
    "scrolled": false
   },
   "outputs": [
    {
     "name": "stdout",
     "output_type": "stream",
     "text": [
      "119.059887 seconds (895.41 M allocations: 39.170 GiB, 6.21% gc time)\n"
     ]
    }
   ],
   "source": [
    "# assemble K\n",
    "DT₀(x) = linearized_flow_autodiff(y -> T(y,0) , x)\n",
    "A₀(x) = 0.5*(one(Tensor{2,2}) + dott(inv(DT₀(x))))\n",
    "@time K = assembleStiffnessMatrix(ctx, A₀);"
   ]
  },
  {
   "cell_type": "code",
   "execution_count": 10,
   "metadata": {},
   "outputs": [],
   "source": [
    "evs = zeros(num_steps+1,nevs)\n",
    "evs[Int(num_steps/2 +1),:] , _ = eigs(K, M, nev=nevs, which=:SM);"
   ]
  },
  {
   "cell_type": "code",
   "execution_count": 11,
   "metadata": {
    "scrolled": true
   },
   "outputs": [
    {
     "name": "stdout",
     "output_type": "stream",
     "text": [
      "111.677015 seconds (880.32 M allocations: 37.433 GiB, 6.09% gc time)\n",
      "112.368100 seconds (878.65 M allocations: 37.335 GiB, 5.96% gc time)\n",
      "1/100\n",
      "107.831879 seconds (871.67 M allocations: 36.995 GiB, 6.11% gc time)\n",
      "110.325152 seconds (871.64 M allocations: 36.994 GiB, 5.94% gc time)\n",
      "2/100\n",
      "109.961980 seconds (871.68 M allocations: 36.995 GiB, 6.18% gc time)\n",
      "110.033295 seconds (871.63 M allocations: 36.993 GiB, 5.92% gc time)\n",
      "3/100\n",
      "107.689619 seconds (871.69 M allocations: 36.996 GiB, 6.01% gc time)\n",
      "109.738210 seconds (871.62 M allocations: 36.993 GiB, 5.90% gc time)\n",
      "4/100\n",
      "107.382509 seconds (871.69 M allocations: 36.996 GiB, 5.97% gc time)\n",
      "109.741731 seconds (871.61 M allocations: 36.992 GiB, 5.84% gc time)\n",
      "5/100\n",
      "107.947105 seconds (871.70 M allocations: 36.996 GiB, 5.91% gc time)\n",
      "111.664081 seconds (871.60 M allocations: 36.992 GiB, 5.86% gc time)\n",
      "6/100\n",
      " 94.370893 seconds (871.71 M allocations: 36.996 GiB, 4.02% gc time)\n",
      " 96.228620 seconds (871.60 M allocations: 36.992 GiB, 3.52% gc time)\n",
      "7/100\n",
      " 95.357794 seconds (871.72 M allocations: 36.997 GiB, 3.65% gc time)\n",
      " 95.968161 seconds (871.59 M allocations: 36.991 GiB, 3.53% gc time)\n",
      "8/100\n",
      " 93.758721 seconds (871.72 M allocations: 36.997 GiB, 3.63% gc time)\n",
      " 95.807732 seconds (871.58 M allocations: 36.991 GiB, 3.54% gc time)\n",
      "9/100\n",
      " 94.270547 seconds (871.72 M allocations: 36.997 GiB, 3.65% gc time)\n",
      " 96.369412 seconds (871.58 M allocations: 36.991 GiB, 3.56% gc time)\n",
      "10/100\n",
      " 94.658090 seconds (871.73 M allocations: 36.998 GiB, 3.66% gc time)\n",
      " 96.864050 seconds (871.57 M allocations: 36.991 GiB, 3.57% gc time)\n",
      "11/100\n",
      " 95.453735 seconds (871.74 M allocations: 36.998 GiB, 3.66% gc time)\n",
      " 97.098233 seconds (871.57 M allocations: 36.990 GiB, 3.60% gc time)\n",
      "12/100\n",
      " 95.217096 seconds (871.75 M allocations: 36.998 GiB, 3.67% gc time)\n",
      " 97.957335 seconds (871.55 M allocations: 36.990 GiB, 3.58% gc time)\n",
      "13/100\n",
      " 95.587612 seconds (871.76 M allocations: 36.999 GiB, 3.69% gc time)\n",
      " 97.945829 seconds (871.54 M allocations: 36.989 GiB, 3.62% gc time)\n",
      "14/100\n",
      " 95.993810 seconds (871.76 M allocations: 36.999 GiB, 3.71% gc time)\n",
      " 98.873646 seconds (871.54 M allocations: 36.989 GiB, 3.61% gc time)\n",
      "15/100\n",
      " 97.629654 seconds (871.78 M allocations: 36.999 GiB, 3.73% gc time)\n",
      "100.363208 seconds (871.54 M allocations: 36.989 GiB, 3.65% gc time)\n",
      "16/100\n",
      " 98.587301 seconds (871.79 M allocations: 37.000 GiB, 3.76% gc time)\n",
      "100.462129 seconds (871.52 M allocations: 36.989 GiB, 3.67% gc time)\n",
      "17/100\n",
      " 97.388201 seconds (871.80 M allocations: 37.000 GiB, 3.69% gc time)\n",
      " 99.347448 seconds (871.51 M allocations: 36.988 GiB, 3.64% gc time)\n",
      "18/100\n",
      " 97.895726 seconds (871.81 M allocations: 37.001 GiB, 3.70% gc time)\n",
      " 99.203418 seconds (871.51 M allocations: 36.988 GiB, 3.65% gc time)\n",
      "19/100\n",
      " 96.385511 seconds (871.81 M allocations: 37.001 GiB, 3.73% gc time)\n",
      " 99.568818 seconds (871.50 M allocations: 36.988 GiB, 3.69% gc time)\n",
      "20/100\n",
      " 97.055685 seconds (871.81 M allocations: 37.001 GiB, 3.75% gc time)\n",
      " 99.111880 seconds (871.48 M allocations: 36.987 GiB, 3.64% gc time)\n",
      "21/100\n",
      " 96.909995 seconds (871.81 M allocations: 37.001 GiB, 3.72% gc time)\n",
      " 99.016821 seconds (871.47 M allocations: 36.987 GiB, 3.66% gc time)\n",
      "22/100\n",
      " 97.549857 seconds (871.82 M allocations: 37.001 GiB, 3.76% gc time)\n",
      " 99.992788 seconds (871.47 M allocations: 36.986 GiB, 3.69% gc time)\n",
      "23/100\n",
      " 97.967191 seconds (871.82 M allocations: 37.001 GiB, 3.75% gc time)\n",
      " 99.430819 seconds (871.47 M allocations: 36.986 GiB, 3.68% gc time)\n",
      "24/100\n",
      " 92.202068 seconds (871.82 M allocations: 37.001 GiB, 4.02% gc time)\n",
      " 93.784506 seconds (871.46 M allocations: 36.986 GiB, 3.50% gc time)\n",
      "25/100\n",
      " 92.214730 seconds (871.83 M allocations: 37.002 GiB, 3.59% gc time)\n",
      " 94.450380 seconds (871.45 M allocations: 36.986 GiB, 3.54% gc time)\n",
      "26/100\n",
      " 92.813163 seconds (871.83 M allocations: 37.002 GiB, 3.60% gc time)\n",
      " 94.645067 seconds (871.44 M allocations: 36.985 GiB, 3.55% gc time)\n",
      "27/100\n",
      " 93.086519 seconds (871.84 M allocations: 37.002 GiB, 3.64% gc time)\n",
      " 95.107642 seconds (871.44 M allocations: 36.985 GiB, 3.56% gc time)\n",
      "28/100\n",
      " 95.041864 seconds (871.84 M allocations: 37.002 GiB, 3.71% gc time)\n",
      " 96.537947 seconds (871.44 M allocations: 36.985 GiB, 3.61% gc time)\n",
      "29/100\n",
      " 95.176291 seconds (871.85 M allocations: 37.003 GiB, 3.71% gc time)\n",
      " 97.458994 seconds (871.43 M allocations: 36.985 GiB, 3.64% gc time)\n",
      "30/100\n",
      " 95.389178 seconds (871.87 M allocations: 37.003 GiB, 3.70% gc time)\n",
      " 98.347656 seconds (871.41 M allocations: 36.984 GiB, 3.66% gc time)\n",
      "31/100\n",
      " 97.162649 seconds (871.87 M allocations: 37.003 GiB, 3.71% gc time)\n",
      " 99.830972 seconds (871.40 M allocations: 36.984 GiB, 3.61% gc time)\n",
      "32/100\n",
      " 98.446152 seconds (871.88 M allocations: 37.004 GiB, 3.69% gc time)\n",
      "100.694585 seconds (871.40 M allocations: 36.983 GiB, 3.62% gc time)\n",
      "33/100\n",
      " 99.083744 seconds (871.89 M allocations: 37.004 GiB, 3.69% gc time)\n",
      "100.787057 seconds (871.38 M allocations: 36.983 GiB, 3.63% gc time)\n",
      "34/100\n",
      " 97.356995 seconds (871.89 M allocations: 37.004 GiB, 3.74% gc time)\n",
      " 98.390160 seconds (871.38 M allocations: 36.983 GiB, 3.65% gc time)\n",
      "35/100\n",
      " 96.617228 seconds (871.90 M allocations: 37.005 GiB, 3.70% gc time)\n",
      " 99.955000 seconds (871.37 M allocations: 36.982 GiB, 3.64% gc time)\n",
      "36/100\n",
      " 99.155164 seconds (871.91 M allocations: 37.005 GiB, 3.70% gc time)\n",
      "100.314375 seconds (871.37 M allocations: 36.982 GiB, 3.61% gc time)\n",
      "37/100\n",
      " 96.940833 seconds (871.91 M allocations: 37.005 GiB, 3.70% gc time)\n",
      " 98.222138 seconds (871.35 M allocations: 36.982 GiB, 3.64% gc time)\n",
      "38/100\n",
      " 95.939573 seconds (871.92 M allocations: 37.005 GiB, 3.73% gc time)\n",
      " 99.741941 seconds (871.34 M allocations: 36.981 GiB, 3.63% gc time)\n",
      "39/100\n",
      " 98.875943 seconds (871.92 M allocations: 37.006 GiB, 3.67% gc time)\n",
      "101.063170 seconds (871.34 M allocations: 36.981 GiB, 3.60% gc time)\n",
      "40/100\n",
      " 97.648508 seconds (871.93 M allocations: 37.006 GiB, 3.71% gc time)\n",
      " 98.830719 seconds (871.33 M allocations: 36.981 GiB, 3.67% gc time)\n",
      "41/100\n",
      " 92.543608 seconds (871.94 M allocations: 37.006 GiB, 3.96% gc time)\n",
      " 94.823198 seconds (871.32 M allocations: 36.980 GiB, 3.49% gc time)\n",
      "42/100\n",
      " 94.670956 seconds (871.94 M allocations: 37.006 GiB, 3.57% gc time)\n",
      " 96.938162 seconds (871.32 M allocations: 36.980 GiB, 3.48% gc time)\n",
      "43/100\n",
      " 93.797200 seconds (871.95 M allocations: 37.007 GiB, 3.61% gc time)\n",
      " 94.625785 seconds (871.31 M allocations: 36.980 GiB, 3.54% gc time)\n",
      "44/100\n",
      " 92.980114 seconds (871.95 M allocations: 37.007 GiB, 3.64% gc time)\n",
      " 94.984010 seconds (871.30 M allocations: 36.979 GiB, 3.57% gc time)\n",
      "45/100\n",
      " 95.037314 seconds (871.96 M allocations: 37.007 GiB, 3.61% gc time)\n",
      " 98.124608 seconds (871.29 M allocations: 36.979 GiB, 3.52% gc time)\n",
      "46/100\n",
      " 95.385938 seconds (871.97 M allocations: 37.008 GiB, 3.62% gc time)\n",
      " 97.990329 seconds (871.29 M allocations: 36.979 GiB, 3.54% gc time)\n",
      "47/100\n",
      " 96.311761 seconds (871.97 M allocations: 37.007 GiB, 3.62% gc time)\n",
      " 98.058032 seconds (871.28 M allocations: 36.978 GiB, 3.56% gc time)\n",
      "48/100\n",
      " 94.163553 seconds (871.98 M allocations: 37.008 GiB, 3.69% gc time)\n",
      " 96.009213 seconds (871.27 M allocations: 36.978 GiB, 3.61% gc time)\n",
      "49/100\n",
      " 94.420755 seconds (871.99 M allocations: 37.008 GiB, 3.71% gc time)\n",
      " 98.826406 seconds (871.26 M allocations: 36.978 GiB, 3.58% gc time)\n",
      "50/100\n",
      " 96.975499 seconds (871.99 M allocations: 37.008 GiB, 3.65% gc time)\n",
      " 98.580325 seconds (871.26 M allocations: 36.978 GiB, 3.61% gc time)\n",
      "51/100\n",
      " 95.443447 seconds (871.99 M allocations: 37.008 GiB, 3.72% gc time)\n",
      " 97.153499 seconds (871.25 M allocations: 36.977 GiB, 3.64% gc time)\n",
      "52/100\n",
      " 95.312785 seconds (872.00 M allocations: 37.009 GiB, 3.72% gc time)\n",
      " 98.929068 seconds (871.24 M allocations: 36.977 GiB, 3.61% gc time)\n",
      "53/100\n",
      " 98.181408 seconds (872.01 M allocations: 37.009 GiB, 3.68% gc time)\n",
      " 99.635388 seconds (871.23 M allocations: 36.976 GiB, 3.60% gc time)\n",
      "54/100\n",
      " 96.327340 seconds (872.02 M allocations: 37.010 GiB, 3.72% gc time)\n",
      " 97.783350 seconds (871.22 M allocations: 36.976 GiB, 3.65% gc time)\n",
      "55/100\n",
      " 95.606603 seconds (872.02 M allocations: 37.010 GiB, 3.74% gc time)\n",
      " 99.371369 seconds (871.22 M allocations: 36.976 GiB, 3.62% gc time)\n",
      "56/100\n",
      " 98.003958 seconds (872.04 M allocations: 37.010 GiB, 3.69% gc time)\n",
      "100.282057 seconds (871.22 M allocations: 36.976 GiB, 3.61% gc time)\n",
      "57/100\n",
      " 97.468088 seconds (872.04 M allocations: 37.011 GiB, 3.71% gc time)\n",
      " 98.155799 seconds (871.22 M allocations: 36.976 GiB, 3.66% gc time)\n",
      "58/100\n",
      " 96.500427 seconds (872.05 M allocations: 37.011 GiB, 3.73% gc time)\n",
      " 99.255652 seconds (871.21 M allocations: 36.976 GiB, 3.65% gc time)\n",
      "59/100\n",
      " 93.490604 seconds (872.06 M allocations: 37.011 GiB, 3.92% gc time)\n",
      " 97.915069 seconds (871.20 M allocations: 36.975 GiB, 3.57% gc time)\n",
      "60/100\n",
      " 95.689439 seconds (872.07 M allocations: 37.012 GiB, 3.66% gc time)\n",
      " 94.308368 seconds (871.20 M allocations: 36.975 GiB, 3.54% gc time)\n",
      "61/100\n",
      " 92.594464 seconds (872.07 M allocations: 37.012 GiB, 3.63% gc time)\n",
      " 94.590391 seconds (871.20 M allocations: 36.975 GiB, 3.56% gc time)\n",
      "62/100\n",
      " 94.615518 seconds (872.08 M allocations: 37.012 GiB, 3.61% gc time)\n",
      " 97.195646 seconds (871.19 M allocations: 36.975 GiB, 3.52% gc time)\n",
      "63/100\n",
      " 95.389452 seconds (872.09 M allocations: 37.013 GiB, 3.61% gc time)\n",
      " 97.234262 seconds (871.18 M allocations: 36.974 GiB, 3.55% gc time)\n",
      "64/100\n",
      " 95.389899 seconds (872.10 M allocations: 37.013 GiB, 3.64% gc time)\n",
      " 97.688455 seconds (871.18 M allocations: 36.974 GiB, 3.54% gc time)\n",
      "65/100\n",
      " 95.561003 seconds (872.10 M allocations: 37.013 GiB, 3.65% gc time)\n",
      " 97.548935 seconds (871.18 M allocations: 36.974 GiB, 3.57% gc time)\n",
      "66/100\n",
      " 96.165431 seconds (872.11 M allocations: 37.013 GiB, 3.65% gc time)\n",
      " 96.783769 seconds (871.17 M allocations: 36.974 GiB, 3.62% gc time)\n",
      "67/100\n",
      " 97.671165 seconds (872.12 M allocations: 37.014 GiB, 3.82% gc time)\n",
      " 97.130026 seconds (871.17 M allocations: 36.974 GiB, 3.65% gc time)\n",
      "68/100\n",
      " 96.250555 seconds (872.13 M allocations: 37.014 GiB, 3.67% gc time)\n",
      " 99.487675 seconds (871.17 M allocations: 36.974 GiB, 3.59% gc time)\n",
      "69/100\n",
      " 98.207994 seconds (872.13 M allocations: 37.014 GiB, 3.67% gc time)\n",
      " 98.270370 seconds (871.16 M allocations: 36.973 GiB, 3.63% gc time)\n",
      "70/100\n",
      " 95.301059 seconds (872.13 M allocations: 37.014 GiB, 3.73% gc time)\n",
      " 97.498690 seconds (871.15 M allocations: 36.973 GiB, 3.64% gc time)\n",
      "71/100\n",
      " 97.184384 seconds (872.13 M allocations: 37.014 GiB, 3.68% gc time)\n",
      " 99.610458 seconds (871.14 M allocations: 36.973 GiB, 3.60% gc time)\n",
      "72/100\n",
      " 98.356451 seconds (872.14 M allocations: 37.015 GiB, 3.66% gc time)\n",
      " 98.829321 seconds (871.13 M allocations: 36.972 GiB, 3.62% gc time)\n",
      "73/100\n",
      " 96.414078 seconds (872.15 M allocations: 37.015 GiB, 3.72% gc time)\n",
      "100.323878 seconds (871.12 M allocations: 36.972 GiB, 3.68% gc time)\n",
      "74/100\n",
      " 99.003058 seconds (872.16 M allocations: 37.015 GiB, 3.74% gc time)\n",
      "101.805082 seconds (871.11 M allocations: 36.972 GiB, 3.61% gc time)\n",
      "75/100\n",
      "100.393261 seconds (872.16 M allocations: 37.015 GiB, 3.71% gc time)\n",
      "100.755296 seconds (871.10 M allocations: 36.971 GiB, 3.65% gc time)\n",
      "76/100\n",
      " 96.983443 seconds (872.17 M allocations: 37.016 GiB, 3.76% gc time)\n",
      " 98.533480 seconds (871.08 M allocations: 36.970 GiB, 3.66% gc time)\n",
      "77/100\n",
      " 92.407629 seconds (872.17 M allocations: 37.016 GiB, 3.94% gc time)\n",
      " 96.768399 seconds (871.07 M allocations: 36.969 GiB, 3.47% gc time)\n",
      "78/100\n",
      " 94.699965 seconds (872.18 M allocations: 37.016 GiB, 3.56% gc time)\n",
      " 95.933969 seconds (871.06 M allocations: 36.969 GiB, 3.50% gc time)\n",
      "79/100\n",
      " 92.459301 seconds (872.18 M allocations: 37.016 GiB, 3.62% gc time)\n",
      " 94.780902 seconds (871.06 M allocations: 36.969 GiB, 3.53% gc time)\n",
      "80/100\n",
      " 92.690075 seconds (872.18 M allocations: 37.016 GiB, 3.64% gc time)\n",
      " 96.937216 seconds (871.06 M allocations: 36.969 GiB, 3.52% gc time)\n",
      "81/100\n",
      " 95.773296 seconds (872.19 M allocations: 37.017 GiB, 3.58% gc time)\n",
      " 97.608695 seconds (871.05 M allocations: 36.969 GiB, 3.53% gc time)\n",
      "82/100\n",
      " 93.636023 seconds (872.20 M allocations: 37.017 GiB, 3.66% gc time)\n",
      " 95.407628 seconds (871.05 M allocations: 36.969 GiB, 3.61% gc time)\n",
      "83/100\n",
      " 93.848578 seconds (872.21 M allocations: 37.018 GiB, 3.67% gc time)\n",
      " 97.705590 seconds (871.04 M allocations: 36.968 GiB, 3.54% gc time)\n",
      "84/100\n",
      " 96.476155 seconds (872.21 M allocations: 37.018 GiB, 3.63% gc time)\n",
      "100.215418 seconds (871.03 M allocations: 36.968 GiB, 3.58% gc time)\n",
      "85/100\n",
      " 95.467974 seconds (872.22 M allocations: 37.018 GiB, 3.68% gc time)\n",
      " 96.599369 seconds (871.02 M allocations: 36.968 GiB, 3.59% gc time)\n",
      "86/100\n",
      " 94.647044 seconds (872.22 M allocations: 37.018 GiB, 3.69% gc time)\n",
      " 96.742407 seconds (871.02 M allocations: 36.968 GiB, 3.61% gc time)\n",
      "87/100\n",
      " 94.686481 seconds (872.24 M allocations: 37.019 GiB, 3.72% gc time)\n",
      " 96.864035 seconds (871.01 M allocations: 36.967 GiB, 3.63% gc time)\n",
      "88/100\n",
      " 95.925897 seconds (872.24 M allocations: 37.019 GiB, 3.69% gc time)\n",
      " 99.407753 seconds (871.00 M allocations: 36.967 GiB, 3.56% gc time)\n",
      "89/100\n",
      " 97.290442 seconds (872.24 M allocations: 37.019 GiB, 3.68% gc time)\n",
      " 98.834803 seconds (871.00 M allocations: 36.967 GiB, 3.60% gc time)\n",
      "90/100\n",
      " 95.563542 seconds (872.25 M allocations: 37.019 GiB, 3.72% gc time)\n",
      " 97.505202 seconds (870.99 M allocations: 36.966 GiB, 3.63% gc time)\n",
      "91/100\n",
      " 96.157270 seconds (872.26 M allocations: 37.019 GiB, 3.73% gc time)\n",
      "100.278276 seconds (870.98 M allocations: 36.966 GiB, 3.57% gc time)\n",
      "92/100\n",
      " 98.289488 seconds (872.26 M allocations: 37.020 GiB, 3.66% gc time)\n",
      "101.218510 seconds (870.97 M allocations: 36.966 GiB, 3.62% gc time)\n",
      "93/100\n",
      " 98.030008 seconds (872.27 M allocations: 37.020 GiB, 3.77% gc time)\n",
      " 99.851812 seconds (870.97 M allocations: 36.965 GiB, 3.69% gc time)\n",
      "94/100\n",
      " 98.074977 seconds (872.28 M allocations: 37.020 GiB, 3.73% gc time)\n",
      "100.000877 seconds (870.96 M allocations: 36.965 GiB, 3.65% gc time)\n",
      "95/100\n",
      " 93.346922 seconds (872.28 M allocations: 37.021 GiB, 3.97% gc time)\n",
      " 95.148301 seconds (870.95 M allocations: 36.965 GiB, 3.53% gc time)\n",
      "96/100\n",
      " 95.616796 seconds (872.28 M allocations: 37.021 GiB, 3.60% gc time)\n",
      " 97.666969 seconds (870.95 M allocations: 36.965 GiB, 3.55% gc time)\n",
      "97/100\n",
      " 96.542413 seconds (872.29 M allocations: 37.021 GiB, 3.62% gc time)\n",
      " 96.251073 seconds (870.94 M allocations: 36.964 GiB, 3.58% gc time)\n",
      "98/100\n",
      " 94.328210 seconds (872.30 M allocations: 37.021 GiB, 3.62% gc time)\n",
      " 96.615333 seconds (870.94 M allocations: 36.964 GiB, 3.56% gc time)\n",
      "99/100\n",
      " 96.130698 seconds (872.31 M allocations: 37.022 GiB, 3.60% gc time)\n",
      " 98.641318 seconds (870.93 M allocations: 36.964 GiB, 3.57% gc time)\n",
      "100/100\n"
     ]
    }
   ],
   "source": [
    "for i in 1:(num_steps/2)\n",
    "    DTϵ(x) = linearized_flow_autodiff(y -> T(y,i*ϵ) , x)\n",
    "    Aϵ(x) = 0.5*(one(Tensor{2,2}) + dott(inv(DTϵ(x))))\n",
    "    @time Kϵ = assembleStiffnessMatrix(ctx, Aϵ)\n",
    "    DTminusϵ(x) = linearized_flow_autodiff(y -> T(y,-i*ϵ) , x)\n",
    "    Aminusϵ(x) = 0.5*(one(Tensor{2,2}) + dott(inv(DTminusϵ(x))))\n",
    "    @time Kminusϵ = assembleStiffnessMatrix(ctx, Aminusϵ)\n",
    "    evs[Int(num_steps/2 +1+i),:], _ = eigs(Kϵ, M, nev=nevs, which=:SM)\n",
    "    evs[Int(num_steps/2 +1-i),:], _ = eigs(Kminusϵ, M, nev=nevs, which=:SM)\n",
    "    print(Int(i), \"/\" ,Int(num_steps/2), \"\\n\")\n",
    "end\n",
    "nothing"
   ]
  },
  {
   "cell_type": "code",
   "execution_count": 12,
   "metadata": {},
   "outputs": [
    {
     "data": {
      "image/png": "[encoded data removed]"
     },
     "execution_count": 12,
     "metadata": {},
     "output_type": "execute_result"
    }
   ],
   "source": [
    "Plots.plot(range(-(num_steps/2)*ϵ,(num_steps/2)*ϵ,length=num_steps+1), evs, legend=false, fmt = :png)"
   ]
  },
  {
   "cell_type": "code",
   "execution_count": 19,
   "metadata": {
    "scrolled": false
   },
   "outputs": [
    {
     "data": {
      "image/png": "[encoded data removed]"
     },
     "execution_count": 19,
     "metadata": {},
     "output_type": "execute_result"
    }
   ],
   "source": [
    "Plots.plot(range(-(num_steps/2)*ϵ,(num_steps/2)*ϵ,length=num_steps+1), evs[:,2], legend=false, fmt = :png)"
   ]
  },
  {
   "cell_type": "code",
   "execution_count": 24,
   "metadata": {},
   "outputs": [
    {
     "data": {
      "image/png": "[encoded data removed]"
     },
     "execution_count": 24,
     "metadata": {},
     "output_type": "execute_result"
    }
   ],
   "source": [
    "Plots.plot(range(-(num_steps/2)*ϵ,(num_steps/2)*ϵ,length=num_steps+1), evs[:,3], legend=false, fmt = :png)"
   ]
  },
  {
   "cell_type": "code",
   "execution_count": 15,
   "metadata": {},
   "outputs": [],
   "source": [
    "using DelimitedFiles"
   ]
  },
  {
   "cell_type": "code",
   "execution_count": 16,
   "metadata": {},
   "outputs": [],
   "source": [
    "writedlm(\"D:/gyre_wind_eigenvalues_n=\"*string(grid_resolution)*\"_tol=\"*string(solver_tolerance)*\n",
    "        \"_qo=\"*string(quadrature_order)*\"_solver=\"*string(solver)*\"_method=CG.csv\",\n",
    "        [range(-(num_steps/2)*ϵ,(num_steps/2)*ϵ,length=num_steps+1)  evs], \",\")"
   ]
  },
  {
   "cell_type": "code",
   "execution_count": null,
   "metadata": {},
   "outputs": [],
   "source": []
  }
 ],
 "metadata": {
  "kernelspec": {
   "display_name": "Julia 1.4.2",
   "language": "julia",
   "name": "julia-1.4"
  },
  "language_info": {
   "file_extension": ".jl",
   "mimetype": "application/julia",
   "name": "julia",
   "version": "1.4.2"
  }
 },
 "nbformat": 4,
 "nbformat_minor": 4
}
