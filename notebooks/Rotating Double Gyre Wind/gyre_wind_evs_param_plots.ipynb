{
 "cells": [
  {
   "cell_type": "code",
   "execution_count": 1,
   "metadata": {
    "scrolled": true
   },
   "outputs": [
    {
     "data": {
      "text/plain": [
       "Main.CoherentStructures"
      ]
     },
     "execution_count": 1,
     "metadata": {},
     "output_type": "execute_result"
    }
   ],
   "source": [
    "include(\"../../src/CoherentStructures.jl\") #this is terrible but neccessary during development (?)"
   ]
  },
  {
   "cell_type": "code",
   "execution_count": 2,
   "metadata": {},
   "outputs": [],
   "source": [
    "using StreamMacros, Main.CoherentStructures\n",
    "using Tensors, Arpack\n",
    "using Plots\n",
    "using OrdinaryDiffEq"
   ]
  },
  {
   "cell_type": "code",
   "execution_count": 3,
   "metadata": {},
   "outputs": [],
   "source": [
    "# Parameters\n",
    "grid_resolution        = 100\n",
    "quadrature_order       = 5\n",
    "nevs                   = 10        # which Eigenvector to choose\n",
    "num_steps              = 200\n",
    "ϵ                      = 2\n",
    "t₀                      = 0.6      # parameter value corresponding to ϵ=0\n",
    "wind_scale             = 1e-3\n",
    "wind_center            = 0\n",
    "solver_tolerance       = 1e-5\n",
    "solver                 = OrdinaryDiffEq.BS5();"
   ]
  },
  {
   "cell_type": "code",
   "execution_count": 4,
   "metadata": {},
   "outputs": [],
   "source": [
    "rot_double_gyre = @velo_from_stream Ψ_rot_dgyre begin\n",
    "    st          = heaviside(t)*heaviside(1-t)*t^2*(3-2*t) + heaviside(t-1)\n",
    "    heaviside(x)= 0.5*(sign(x) + 1)\n",
    "    Ψ_P         = sin(2π*x)*sin(π*y)\n",
    "    Ψ_F         = sin(π*x)*sin(2π*y)\n",
    "    Ψ_rot_dgyre = (1-st) * Ψ_P + st * Ψ_F\n",
    "end\n",
    "nothing"
   ]
  },
  {
   "cell_type": "code",
   "execution_count": 5,
   "metadata": {},
   "outputs": [],
   "source": [
    "gyre_wind(param) = OrdinaryDiffEq.ODEFunction{false}((u,p,t) -> rot_double_gyre(u,p,t) + param*wind_scale*[u[2]-wind_center, 0]);"
   ]
  },
  {
   "cell_type": "code",
   "execution_count": 6,
   "metadata": {},
   "outputs": [],
   "source": [
    "T(x,p) = flow(gyre_wind(p), x, [0.0, t₀],\n",
    "    tolerance = solver_tolerance, solver = solver)[end];"
   ]
  },
  {
   "cell_type": "code",
   "execution_count": 7,
   "metadata": {},
   "outputs": [],
   "source": [
    "LL, UR = (0.0, 0.0), (1.0, 1.0)\n",
    "ctx, _ = regularTriangularGrid((grid_resolution, grid_resolution), LL, UR, quadrature_order = quadrature_order);"
   ]
  },
  {
   "cell_type": "code",
   "execution_count": 8,
   "metadata": {},
   "outputs": [],
   "source": [
    "M = assembleMassMatrix(ctx);"
   ]
  },
  {
   "cell_type": "code",
   "execution_count": 9,
   "metadata": {
    "scrolled": false
   },
   "outputs": [
    {
     "name": "stdout",
     "output_type": "stream",
     "text": [
      "119.912821 seconds (895.41 M allocations: 39.170 GiB, 5.74% gc time)\n"
     ]
    }
   ],
   "source": [
    "# assemble K\n",
    "DT₀(x) = linearized_flow_autodiff(y -> T(y,0) , x)\n",
    "A₀(x) = 0.5*(one(Tensor{2,2}) + dott(inv(DT₀(x))))\n",
    "@time K = assembleStiffnessMatrix(ctx, A₀);"
   ]
  },
  {
   "cell_type": "code",
   "execution_count": 10,
   "metadata": {},
   "outputs": [],
   "source": [
    "evs = zeros(num_steps+1,nevs)\n",
    "evs[Int(num_steps/2 +1),:] , _ = eigs(K, M, nev=nevs, which=:SM);"
   ]
  },
  {
   "cell_type": "code",
   "execution_count": 11,
   "metadata": {
    "scrolled": true
   },
   "outputs": [
    {
     "name": "stdout",
     "output_type": "stream",
     "text": [
      "114.547206 seconds (880.38 M allocations: 37.436 GiB, 5.73% gc time)\n",
      "113.572488 seconds (878.58 M allocations: 37.332 GiB, 5.54% gc time)\n",
      "1/100\n",
      "109.478227 seconds (871.81 M allocations: 37.001 GiB, 5.67% gc time)\n",
      "111.993911 seconds (871.50 M allocations: 36.988 GiB, 5.51% gc time)\n",
      "2/100\n",
      "109.776607 seconds (871.85 M allocations: 37.003 GiB, 5.54% gc time)\n",
      "111.310436 seconds (871.43 M allocations: 36.985 GiB, 5.46% gc time)\n",
      "3/100\n",
      "109.744840 seconds (871.92 M allocations: 37.006 GiB, 5.50% gc time)\n",
      "111.617880 seconds (871.34 M allocations: 36.981 GiB, 5.36% gc time)\n",
      "4/100\n",
      "109.713057 seconds (871.99 M allocations: 37.008 GiB, 5.46% gc time)\n",
      "111.585480 seconds (871.26 M allocations: 36.978 GiB, 5.37% gc time)\n",
      "5/100\n",
      "109.191567 seconds (872.06 M allocations: 37.011 GiB, 5.37% gc time)\n",
      "110.886217 seconds (871.20 M allocations: 36.975 GiB, 5.28% gc time)\n",
      "6/100\n",
      " 95.116841 seconds (872.13 M allocations: 37.014 GiB, 3.97% gc time)\n",
      " 95.547220 seconds (871.16 M allocations: 36.973 GiB, 3.50% gc time)\n",
      "7/100\n",
      " 94.588223 seconds (872.18 M allocations: 37.016 GiB, 3.55% gc time)\n",
      " 95.400607 seconds (871.06 M allocations: 36.969 GiB, 3.51% gc time)\n",
      "8/100\n",
      " 94.540142 seconds (872.24 M allocations: 37.019 GiB, 3.56% gc time)\n",
      " 95.703054 seconds (871.00 M allocations: 36.967 GiB, 3.51% gc time)\n",
      "9/100\n",
      " 94.806001 seconds (872.31 M allocations: 37.022 GiB, 3.59% gc time)\n",
      " 96.447031 seconds (870.93 M allocations: 36.964 GiB, 3.52% gc time)\n",
      "10/100\n",
      " 96.028796 seconds (872.39 M allocations: 37.025 GiB, 3.56% gc time)\n",
      " 97.199288 seconds (870.87 M allocations: 36.961 GiB, 3.53% gc time)\n",
      "11/100\n",
      " 96.427311 seconds (872.47 M allocations: 37.029 GiB, 3.58% gc time)\n",
      " 95.871844 seconds (870.79 M allocations: 36.958 GiB, 3.58% gc time)\n",
      "12/100\n",
      " 96.954426 seconds (872.56 M allocations: 37.032 GiB, 3.56% gc time)\n",
      " 98.282760 seconds (870.73 M allocations: 36.955 GiB, 3.51% gc time)\n",
      "13/100\n",
      " 97.289108 seconds (872.62 M allocations: 37.035 GiB, 3.54% gc time)\n",
      " 98.351486 seconds (870.66 M allocations: 36.953 GiB, 3.53% gc time)\n",
      "14/100\n",
      " 97.233208 seconds (872.69 M allocations: 37.038 GiB, 3.60% gc time)\n",
      " 96.718677 seconds (870.58 M allocations: 36.949 GiB, 3.58% gc time)\n",
      "15/100\n",
      " 95.328628 seconds (872.76 M allocations: 37.041 GiB, 3.64% gc time)\n",
      " 96.473068 seconds (870.51 M allocations: 36.946 GiB, 3.58% gc time)\n",
      "16/100\n",
      " 97.447100 seconds (872.80 M allocations: 37.043 GiB, 3.56% gc time)\n",
      " 99.023430 seconds (870.45 M allocations: 36.944 GiB, 3.55% gc time)\n",
      "17/100\n",
      " 98.134527 seconds (872.85 M allocations: 37.045 GiB, 3.58% gc time)\n",
      " 99.199692 seconds (870.41 M allocations: 36.942 GiB, 3.54% gc time)\n",
      "18/100\n",
      " 98.371059 seconds (872.91 M allocations: 37.047 GiB, 3.58% gc time)\n",
      " 99.481080 seconds (870.35 M allocations: 36.939 GiB, 3.54% gc time)\n",
      "19/100\n",
      " 98.559743 seconds (872.94 M allocations: 37.048 GiB, 3.58% gc time)\n",
      " 99.731307 seconds (870.31 M allocations: 36.938 GiB, 3.53% gc time)\n",
      "20/100\n",
      " 98.799832 seconds (873.00 M allocations: 37.051 GiB, 3.58% gc time)\n",
      " 99.370275 seconds (870.25 M allocations: 36.935 GiB, 3.56% gc time)\n",
      "21/100\n",
      " 96.764394 seconds (873.04 M allocations: 37.053 GiB, 3.64% gc time)\n",
      " 97.661915 seconds (870.20 M allocations: 36.933 GiB, 3.62% gc time)\n",
      "22/100\n",
      " 98.031857 seconds (873.10 M allocations: 37.055 GiB, 3.64% gc time)\n",
      "100.374725 seconds (870.12 M allocations: 36.930 GiB, 3.58% gc time)\n",
      "23/100\n",
      "100.566286 seconds (873.15 M allocations: 37.057 GiB, 3.60% gc time)\n",
      " 99.342738 seconds (870.09 M allocations: 36.928 GiB, 3.58% gc time)\n",
      "24/100\n",
      " 93.209886 seconds (873.19 M allocations: 37.059 GiB, 4.01% gc time)\n",
      " 94.216275 seconds (870.01 M allocations: 36.925 GiB, 3.58% gc time)\n",
      "25/100\n",
      " 95.295141 seconds (873.25 M allocations: 37.061 GiB, 3.64% gc time)\n",
      " 97.390764 seconds (869.96 M allocations: 36.923 GiB, 3.59% gc time)\n",
      "26/100\n",
      " 97.347942 seconds (873.31 M allocations: 37.064 GiB, 3.67% gc time)\n",
      " 95.862108 seconds (869.93 M allocations: 36.922 GiB, 3.53% gc time)\n",
      "27/100\n",
      " 93.137083 seconds (873.36 M allocations: 37.066 GiB, 3.62% gc time)\n",
      " 94.141978 seconds (869.86 M allocations: 36.919 GiB, 3.57% gc time)\n",
      "28/100\n",
      " 93.567391 seconds (873.41 M allocations: 37.068 GiB, 3.64% gc time)\n",
      " 96.873862 seconds (869.81 M allocations: 36.917 GiB, 3.54% gc time)\n",
      "29/100\n",
      " 96.141390 seconds (873.47 M allocations: 37.070 GiB, 3.61% gc time)\n",
      " 97.652731 seconds (869.76 M allocations: 36.915 GiB, 3.56% gc time)\n",
      "30/100\n",
      " 94.801362 seconds (873.54 M allocations: 37.074 GiB, 3.66% gc time)\n",
      " 95.426242 seconds (869.70 M allocations: 36.912 GiB, 3.62% gc time)\n",
      "31/100\n",
      " 94.590833 seconds (873.60 M allocations: 37.076 GiB, 3.67% gc time)\n",
      " 96.020084 seconds (869.66 M allocations: 36.910 GiB, 3.63% gc time)\n",
      "32/100\n",
      " 94.934977 seconds (873.67 M allocations: 37.079 GiB, 3.71% gc time)\n",
      " 96.177562 seconds (869.59 M allocations: 36.908 GiB, 3.62% gc time)\n",
      "33/100\n",
      " 96.939272 seconds (873.74 M allocations: 37.082 GiB, 3.65% gc time)\n",
      " 98.904802 seconds (869.54 M allocations: 36.905 GiB, 3.58% gc time)\n",
      "34/100\n",
      " 98.229960 seconds (873.80 M allocations: 37.084 GiB, 3.62% gc time)\n",
      " 98.225347 seconds (869.49 M allocations: 36.903 GiB, 3.60% gc time)\n",
      "35/100\n",
      " 95.955672 seconds (873.86 M allocations: 37.087 GiB, 3.66% gc time)\n",
      " 96.785010 seconds (869.45 M allocations: 36.902 GiB, 3.62% gc time)\n",
      "36/100\n",
      " 97.925377 seconds (873.92 M allocations: 37.089 GiB, 3.63% gc time)\n",
      "101.433703 seconds (869.40 M allocations: 36.899 GiB, 3.55% gc time)\n",
      "37/100\n",
      " 99.111104 seconds (873.96 M allocations: 37.091 GiB, 3.59% gc time)\n",
      " 99.012939 seconds (869.35 M allocations: 36.897 GiB, 3.57% gc time)\n",
      "38/100\n",
      " 99.309996 seconds (874.00 M allocations: 37.093 GiB, 3.64% gc time)\n",
      " 98.825354 seconds (869.30 M allocations: 36.895 GiB, 3.53% gc time)\n",
      "39/100\n",
      " 98.842746 seconds (874.04 M allocations: 37.095 GiB, 3.56% gc time)\n",
      "102.486246 seconds (869.25 M allocations: 36.893 GiB, 3.50% gc time)\n",
      "40/100\n",
      "101.152471 seconds (874.08 M allocations: 37.096 GiB, 3.58% gc time)\n",
      "101.275958 seconds (869.20 M allocations: 36.891 GiB, 3.59% gc time)\n",
      "41/100\n",
      "100.722421 seconds (874.14 M allocations: 37.099 GiB, 3.62% gc time)\n",
      "100.909942 seconds (869.14 M allocations: 36.889 GiB, 3.55% gc time)\n",
      "42/100\n",
      " 99.998921 seconds (874.18 M allocations: 37.101 GiB, 3.62% gc time)\n",
      "101.078095 seconds (869.09 M allocations: 36.886 GiB, 3.57% gc time)\n",
      "43/100\n",
      " 95.600246 seconds (874.21 M allocations: 37.102 GiB, 3.92% gc time)\n",
      " 94.146796 seconds (869.03 M allocations: 36.884 GiB, 3.54% gc time)\n",
      "44/100\n",
      " 93.359342 seconds (874.28 M allocations: 37.105 GiB, 3.58% gc time)\n",
      " 93.347954 seconds (868.99 M allocations: 36.882 GiB, 3.55% gc time)\n",
      "45/100\n",
      " 93.643246 seconds (874.32 M allocations: 37.106 GiB, 3.58% gc time)\n",
      " 96.392590 seconds (868.93 M allocations: 36.880 GiB, 3.48% gc time)\n",
      "46/100\n",
      " 97.270889 seconds (874.37 M allocations: 37.109 GiB, 3.50% gc time)\n",
      " 96.703967 seconds (868.88 M allocations: 36.877 GiB, 3.48% gc time)\n",
      "47/100\n",
      " 96.082011 seconds (874.43 M allocations: 37.111 GiB, 3.52% gc time)\n",
      " 97.468951 seconds (868.82 M allocations: 36.875 GiB, 3.52% gc time)\n",
      "48/100\n",
      " 97.962338 seconds (874.48 M allocations: 37.113 GiB, 3.62% gc time)\n",
      " 97.584483 seconds (868.80 M allocations: 36.874 GiB, 3.62% gc time)\n",
      "49/100\n",
      " 95.664180 seconds (874.55 M allocations: 37.116 GiB, 3.62% gc time)\n",
      " 96.866146 seconds (868.74 M allocations: 36.872 GiB, 3.65% gc time)\n",
      "50/100\n",
      "100.516131 seconds (874.60 M allocations: 37.118 GiB, 3.64% gc time)\n",
      " 98.972065 seconds (868.69 M allocations: 36.869 GiB, 3.59% gc time)\n",
      "51/100\n",
      " 98.418959 seconds (874.63 M allocations: 37.119 GiB, 3.63% gc time)\n",
      " 97.058440 seconds (868.64 M allocations: 36.867 GiB, 3.63% gc time)\n",
      "52/100\n",
      " 96.882913 seconds (874.68 M allocations: 37.122 GiB, 3.65% gc time)\n",
      " 97.625913 seconds (868.59 M allocations: 36.865 GiB, 3.59% gc time)\n",
      "53/100\n",
      " 98.442964 seconds (874.74 M allocations: 37.124 GiB, 3.64% gc time)\n",
      "101.843386 seconds (868.53 M allocations: 36.863 GiB, 3.60% gc time)\n",
      "54/100\n",
      "102.171226 seconds (874.77 M allocations: 37.125 GiB, 3.60% gc time)\n",
      " 98.445418 seconds (868.53 M allocations: 36.863 GiB, 3.45% gc time)\n",
      "55/100\n",
      " 97.535171 seconds (874.83 M allocations: 37.128 GiB, 3.47% gc time)\n",
      " 98.672364 seconds (868.50 M allocations: 36.862 GiB, 3.44% gc time)\n",
      "56/100\n",
      " 99.398621 seconds (874.87 M allocations: 37.130 GiB, 3.44% gc time)\n",
      "100.433222 seconds (868.44 M allocations: 36.859 GiB, 3.41% gc time)\n"
     ]
    },
    {
     "name": "stdout",
     "output_type": "stream",
     "text": [
      "57/100\n",
      " 99.903602 seconds (874.92 M allocations: 37.131 GiB, 3.46% gc time)\n",
      " 99.331589 seconds (868.41 M allocations: 36.858 GiB, 3.43% gc time)\n",
      "58/100\n",
      " 97.376082 seconds (874.96 M allocations: 37.133 GiB, 3.53% gc time)\n",
      " 97.926223 seconds (868.37 M allocations: 36.856 GiB, 3.49% gc time)\n",
      "59/100\n",
      "100.689799 seconds (875.01 M allocations: 37.135 GiB, 3.59% gc time)\n",
      "100.551396 seconds (868.31 M allocations: 36.854 GiB, 3.45% gc time)\n",
      "60/100\n",
      "100.417928 seconds (875.07 M allocations: 37.138 GiB, 3.50% gc time)\n",
      "102.445754 seconds (868.27 M allocations: 36.852 GiB, 3.56% gc time)\n",
      "61/100\n",
      " 95.420926 seconds (875.11 M allocations: 37.140 GiB, 4.06% gc time)\n",
      " 96.117648 seconds (868.21 M allocations: 36.849 GiB, 3.72% gc time)\n",
      "62/100\n",
      " 96.151381 seconds (875.15 M allocations: 37.141 GiB, 3.64% gc time)\n",
      " 97.217595 seconds (868.17 M allocations: 36.848 GiB, 3.53% gc time)\n",
      "63/100\n",
      " 97.223291 seconds (875.19 M allocations: 37.143 GiB, 3.52% gc time)\n",
      " 96.634206 seconds (868.13 M allocations: 36.846 GiB, 3.53% gc time)\n",
      "64/100\n",
      " 94.934862 seconds (875.25 M allocations: 37.146 GiB, 3.64% gc time)\n",
      " 95.036151 seconds (868.09 M allocations: 36.844 GiB, 3.55% gc time)\n",
      "65/100\n",
      " 96.345475 seconds (875.28 M allocations: 37.147 GiB, 3.65% gc time)\n",
      " 98.871293 seconds (868.04 M allocations: 36.842 GiB, 3.63% gc time)\n",
      "66/100\n",
      " 99.361142 seconds (875.34 M allocations: 37.149 GiB, 3.70% gc time)\n",
      " 99.093104 seconds (867.99 M allocations: 36.840 GiB, 3.60% gc time)\n",
      "67/100\n",
      " 97.866308 seconds (875.37 M allocations: 37.151 GiB, 3.64% gc time)\n",
      " 98.676658 seconds (867.97 M allocations: 36.839 GiB, 3.62% gc time)\n",
      "68/100\n",
      " 98.513741 seconds (875.42 M allocations: 37.153 GiB, 3.64% gc time)\n",
      " 99.536520 seconds (867.94 M allocations: 36.838 GiB, 3.57% gc time)\n",
      "69/100\n",
      " 99.551998 seconds (875.47 M allocations: 37.155 GiB, 3.59% gc time)\n",
      " 98.725784 seconds (867.88 M allocations: 36.836 GiB, 3.62% gc time)\n",
      "70/100\n",
      " 96.479736 seconds (875.51 M allocations: 37.157 GiB, 3.66% gc time)\n",
      " 96.782067 seconds (867.83 M allocations: 36.833 GiB, 3.55% gc time)\n",
      "71/100\n",
      " 97.817903 seconds (875.57 M allocations: 37.159 GiB, 3.58% gc time)\n",
      "100.304589 seconds (867.79 M allocations: 36.832 GiB, 3.53% gc time)\n",
      "72/100\n",
      " 99.505727 seconds (875.63 M allocations: 37.161 GiB, 3.58% gc time)\n",
      "100.070766 seconds (867.73 M allocations: 36.829 GiB, 3.50% gc time)\n",
      "73/100\n",
      " 99.873335 seconds (875.67 M allocations: 37.163 GiB, 3.53% gc time)\n",
      "101.093658 seconds (867.69 M allocations: 36.827 GiB, 3.58% gc time)\n",
      "74/100\n",
      "100.010691 seconds (875.74 M allocations: 37.166 GiB, 3.56% gc time)\n",
      "100.386788 seconds (867.65 M allocations: 36.826 GiB, 3.52% gc time)\n",
      "75/100\n",
      "100.242201 seconds (875.77 M allocations: 37.167 GiB, 3.59% gc time)\n",
      "101.830687 seconds (867.58 M allocations: 36.823 GiB, 3.65% gc time)\n",
      "76/100\n",
      "100.183188 seconds (875.82 M allocations: 37.169 GiB, 3.66% gc time)\n",
      "101.048422 seconds (867.53 M allocations: 36.821 GiB, 3.60% gc time)\n",
      "77/100\n",
      "101.210463 seconds (875.87 M allocations: 37.172 GiB, 3.55% gc time)\n",
      "103.385159 seconds (867.48 M allocations: 36.819 GiB, 3.50% gc time)\n",
      "78/100\n",
      "103.091164 seconds (875.92 M allocations: 37.174 GiB, 3.58% gc time)\n",
      "102.498649 seconds (867.43 M allocations: 36.817 GiB, 3.58% gc time)\n",
      "79/100\n",
      " 99.832745 seconds (875.97 M allocations: 37.176 GiB, 3.63% gc time)\n",
      "100.837069 seconds (867.38 M allocations: 36.814 GiB, 3.46% gc time)\n",
      "80/100\n",
      " 98.558597 seconds (876.02 M allocations: 37.178 GiB, 4.21% gc time)\n",
      " 97.995762 seconds (867.35 M allocations: 36.813 GiB, 3.47% gc time)\n",
      "81/100\n",
      " 98.193615 seconds (876.06 M allocations: 37.180 GiB, 3.51% gc time)\n",
      " 97.390702 seconds (867.33 M allocations: 36.812 GiB, 3.57% gc time)\n",
      "82/100\n",
      " 95.299956 seconds (876.11 M allocations: 37.182 GiB, 3.64% gc time)\n",
      " 94.420474 seconds (867.28 M allocations: 36.810 GiB, 3.54% gc time)\n",
      "83/100\n",
      " 95.558844 seconds (876.15 M allocations: 37.183 GiB, 3.61% gc time)\n",
      " 97.665924 seconds (867.25 M allocations: 36.809 GiB, 3.58% gc time)\n",
      "84/100\n",
      " 97.291038 seconds (876.22 M allocations: 37.186 GiB, 3.57% gc time)\n",
      " 97.590525 seconds (867.20 M allocations: 36.807 GiB, 3.56% gc time)\n",
      "85/100\n",
      " 96.086718 seconds (876.28 M allocations: 37.189 GiB, 3.69% gc time)\n",
      " 95.805428 seconds (867.15 M allocations: 36.805 GiB, 3.60% gc time)\n",
      "86/100\n",
      " 96.407422 seconds (876.33 M allocations: 37.191 GiB, 3.65% gc time)\n",
      " 98.566001 seconds (867.10 M allocations: 36.803 GiB, 3.56% gc time)\n",
      "87/100\n",
      " 99.086765 seconds (876.38 M allocations: 37.193 GiB, 3.67% gc time)\n",
      "100.842916 seconds (867.05 M allocations: 36.800 GiB, 3.71% gc time)\n",
      "88/100\n",
      " 98.287073 seconds (876.42 M allocations: 37.195 GiB, 3.66% gc time)\n",
      " 98.352564 seconds (867.02 M allocations: 36.799 GiB, 3.55% gc time)\n",
      "89/100\n",
      " 98.090020 seconds (876.44 M allocations: 37.196 GiB, 3.56% gc time)\n",
      "100.225163 seconds (866.98 M allocations: 36.798 GiB, 3.50% gc time)\n",
      "90/100\n",
      "100.644857 seconds (876.48 M allocations: 37.197 GiB, 3.58% gc time)\n",
      "103.537130 seconds (866.93 M allocations: 36.795 GiB, 3.58% gc time)\n",
      "91/100\n",
      "100.701926 seconds (876.54 M allocations: 37.200 GiB, 3.56% gc time)\n",
      "101.917897 seconds (866.87 M allocations: 36.793 GiB, 3.52% gc time)\n",
      "92/100\n",
      "102.231179 seconds (876.59 M allocations: 37.202 GiB, 3.59% gc time)\n",
      "102.036640 seconds (866.84 M allocations: 36.792 GiB, 3.61% gc time)\n",
      "93/100\n",
      "101.041844 seconds (876.62 M allocations: 37.203 GiB, 3.65% gc time)\n",
      "101.601890 seconds (866.82 M allocations: 36.791 GiB, 3.64% gc time)\n",
      "94/100\n",
      " 97.678513 seconds (876.67 M allocations: 37.205 GiB, 3.66% gc time)\n",
      " 98.044056 seconds (866.78 M allocations: 36.789 GiB, 3.61% gc time)\n",
      "95/100\n",
      " 98.282025 seconds (876.69 M allocations: 37.206 GiB, 3.64% gc time)\n",
      "101.433779 seconds (866.72 M allocations: 36.787 GiB, 3.60% gc time)\n",
      "96/100\n",
      "100.892714 seconds (876.73 M allocations: 37.208 GiB, 3.66% gc time)\n",
      "100.873631 seconds (866.68 M allocations: 36.785 GiB, 3.64% gc time)\n",
      "97/100\n",
      " 98.007629 seconds (876.77 M allocations: 37.210 GiB, 3.68% gc time)\n",
      " 98.201762 seconds (866.64 M allocations: 36.783 GiB, 3.67% gc time)\n",
      "98/100\n",
      " 98.135566 seconds (876.79 M allocations: 37.210 GiB, 3.70% gc time)\n",
      "100.588356 seconds (866.59 M allocations: 36.781 GiB, 3.61% gc time)\n",
      "99/100\n",
      " 95.457025 seconds (876.83 M allocations: 37.212 GiB, 4.32% gc time)\n",
      " 95.120342 seconds (866.56 M allocations: 36.780 GiB, 3.52% gc time)\n",
      "100/100\n"
     ]
    }
   ],
   "source": [
    "for i in 1:(num_steps/2)\n",
    "    DTϵ(x) = linearized_flow_autodiff(y -> T(y,i*ϵ) , x)\n",
    "    Aϵ(x) = 0.5*(one(Tensor{2,2}) + dott(inv(DTϵ(x))))\n",
    "    @time Kϵ = assembleStiffnessMatrix(ctx, Aϵ)\n",
    "    DTminusϵ(x) = linearized_flow_autodiff(y -> T(y,-i*ϵ) , x)\n",
    "    Aminusϵ(x) = 0.5*(one(Tensor{2,2}) + dott(inv(DTminusϵ(x))))\n",
    "    @time Kminusϵ = assembleStiffnessMatrix(ctx, Aminusϵ)\n",
    "    evs[Int(num_steps/2 +1+i),:], _ = eigs(Kϵ, M, nev=nevs, which=:SM)\n",
    "    evs[Int(num_steps/2 +1-i),:], _ = eigs(Kminusϵ, M, nev=nevs, which=:SM)\n",
    "    print(Int(i), \"/\" ,Int(num_steps/2), \"\\n\")\n",
    "end\n",
    "nothing"
   ]
  },
  {
   "cell_type": "code",
   "execution_count": 12,
   "metadata": {},
   "outputs": [
    {
     "data": {
      "image/png": "[encoded data removed]"
     },
     "execution_count": 12,
     "metadata": {},
     "output_type": "execute_result"
    }
   ],
   "source": [
    "Plots.plot(range(-(num_steps/2)*ϵ,(num_steps/2)*ϵ,length=num_steps+1), evs, legend=false, fmt = :png)"
   ]
  },
  {
   "cell_type": "code",
   "execution_count": 13,
   "metadata": {
    "scrolled": false
   },
   "outputs": [
    {
     "data": {
      "image/png": "[encoded data removed]"
     },
     "execution_count": 13,
     "metadata": {},
     "output_type": "execute_result"
    }
   ],
   "source": [
    "Plots.plot(range(-(num_steps/2)*ϵ,(num_steps/2)*ϵ,length=num_steps+1), evs[:,2], legend=false, fmt = :png)"
   ]
  },
  {
   "cell_type": "code",
   "execution_count": 14,
   "metadata": {},
   "outputs": [
    {
     "data": {
      "image/png": "[encoded data removed]"
     },
     "execution_count": 14,
     "metadata": {},
     "output_type": "execute_result"
    }
   ],
   "source": [
    "Plots.plot(range(-(num_steps/2)*ϵ,(num_steps/2)*ϵ,length=num_steps+1), evs[:,3], legend=false, fmt = :png)"
   ]
  },
  {
   "cell_type": "code",
   "execution_count": 15,
   "metadata": {},
   "outputs": [],
   "source": [
    "using DelimitedFiles"
   ]
  },
  {
   "cell_type": "code",
   "execution_count": 16,
   "metadata": {},
   "outputs": [],
   "source": [
    "writedlm(\"D:/gyre_wind_eigenvalues_n=\"*string(grid_resolution)*\"_tol=\"*string(solver_tolerance)*\n",
    "        \"_qo=\"*string(quadrature_order)*\"_solver=\"*string(solver)*\"_method=CG.csv\",\n",
    "        [range(-(num_steps/2)*ϵ,(num_steps/2)*ϵ,length=num_steps+1)  evs], \",\")"
   ]
  },
  {
   "cell_type": "code",
   "execution_count": null,
   "metadata": {},
   "outputs": [],
   "source": []
  }
 ],
 "metadata": {
  "kernelspec": {
   "display_name": "Julia 1.4.2",
   "language": "julia",
   "name": "julia-1.4"
  },
  "language_info": {
   "file_extension": ".jl",
   "mimetype": "application/julia",
   "name": "julia",
   "version": "1.4.2"
  }
 },
 "nbformat": 4,
 "nbformat_minor": 4
}
