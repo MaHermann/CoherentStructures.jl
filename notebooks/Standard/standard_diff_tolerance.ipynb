{
 "cells": [
  {
   "cell_type": "code",
   "execution_count": null,
   "metadata": {},
   "outputs": [],
   "source": [
    "include(\"../../src/CoherentStructures.jl\") #this is terrible but neccessary during development (?)"
   ]
  },
  {
   "cell_type": "code",
   "execution_count": null,
   "metadata": {},
   "outputs": [],
   "source": [
    "using StreamMacros, Main.CoherentStructures\n",
    "using Tensors, Arpack, JLD2, OrdinaryDiffEq\n",
    "using Plots\n",
    "using OrdinaryDiffEq\n",
    "const ODE = OrdinaryDiffEq"
   ]
  },
  {
   "cell_type": "code",
   "execution_count": null,
   "metadata": {},
   "outputs": [],
   "source": [
    "JLD2.@load(\"Ocean_geostrophic_velocity.jld2\");\n",
    "UV = interpolateVF(Lon, Lat, Time, UT, VT);"
   ]
  },
  {
   "cell_type": "code",
   "execution_count": null,
   "metadata": {},
   "outputs": [],
   "source": [
    "# Parameters\n",
    "grid_resolution        = 100\n",
    "quadrature_order       = 1\n",
    "t_initial              = minimum(Time)\n",
    "t_end                  = t_initial+90\n",
    "scale                  = 1;  "
   ]
  },
  {
   "cell_type": "code",
   "execution_count": null,
   "metadata": {},
   "outputs": [],
   "source": [
    "LL, UR = (-4.0, -34.0), (6.0, -28.0)\n",
    "ctx, _ = regularTriangularGrid((grid_resolution, Integer(floor((UR[2] - LL[2])/(UR[1] - LL[1])*grid_resolution))), \n",
    "        LL, UR, quadrature_order = quadrature_order);"
   ]
  },
  {
   "cell_type": "code",
   "execution_count": null,
   "metadata": {},
   "outputs": [],
   "source": [
    "function evaluate_on_grid(f,ctx)\n",
    "    [f(node.x) for node in ctx.grid.nodes]\n",
    "end"
   ]
  },
  {
   "cell_type": "code",
   "execution_count": null,
   "metadata": {},
   "outputs": [],
   "source": [
    "function l1_error(reference,solution)\n",
    "    sum(sum([abs.(a .- b) for (a,b) in zip(reference,solution)])) / (2*length(reference))\n",
    "end"
   ]
  },
  {
   "cell_type": "code",
   "execution_count": null,
   "metadata": {},
   "outputs": [],
   "source": [
    "function l2_error(reference,solution)\n",
    "    sum(sqrt.(sum([(a .- b).^2 for (a,b) in zip(reference,solution)]))) / (2*length(reference))\n",
    "end"
   ]
  },
  {
   "cell_type": "code",
   "execution_count": null,
   "metadata": {},
   "outputs": [],
   "source": [
    "function linfty_error(reference,solution)\n",
    "    sum(maximum([(a .- b) for (a,b) in zip(reference,solution)]))\n",
    "end"
   ]
  },
  {
   "cell_type": "code",
   "execution_count": null,
   "metadata": {},
   "outputs": [],
   "source": [
    "function T(solver, tolerance)\n",
    "    return (x, param) -> flow(interp_rhs, x, [t_initial, t_end + scale*param], p=UV,\n",
    "            tolerance=tolerance,solver=solver)[end]\n",
    "end"
   ]
  },
  {
   "cell_type": "code",
   "execution_count": null,
   "metadata": {},
   "outputs": [],
   "source": [
    "function Tdot_reference(solver, tolerance, param)\n",
    "   return x -> UV(T(solver, tolerance)(x,param)...,t_end+param)*scale\n",
    "end"
   ]
  },
  {
   "cell_type": "code",
   "execution_count": null,
   "metadata": {},
   "outputs": [],
   "source": [
    "function Tdot_autodiff(solver, tolerance, param)\n",
    "    return x -> Main.CoherentStructures.parameter_autodiff(T(solver, tolerance), x, param)\n",
    "end"
   ]
  },
  {
   "cell_type": "code",
   "execution_count": null,
   "metadata": {},
   "outputs": [],
   "source": [
    "function Tdot_finite_differences(solver, tolerance, param, diff)\n",
    "    return x -> \n",
    "     (T(solver, tolerance)(x, param+diff) .- T(solver, tolerance)(x, param-diff)) ./ (2*diff)\n",
    "end"
   ]
  },
  {
   "cell_type": "code",
   "execution_count": null,
   "metadata": {},
   "outputs": [],
   "source": [
    "tolerance_range_BS5 = [1e-3,1e-4,1e-5,1e-6,1e-7,1e-8,1e-9,1e-10,1e-11,1e-12,1e-13,1e-14];"
   ]
  },
  {
   "cell_type": "code",
   "execution_count": null,
   "metadata": {},
   "outputs": [],
   "source": [
    "reference_BS5 = [evaluate_on_grid(Tdot_reference(OrdinaryDiffEq.BS5(),tolerance,0),ctx) \n",
    "    for tolerance in tolerance_range_BS5];"
   ]
  },
  {
   "cell_type": "code",
   "execution_count": null,
   "metadata": {},
   "outputs": [],
   "source": [
    "autodiff_BS5    = [evaluate_on_grid(Tdot_autodiff(OrdinaryDiffEq.BS5(),tolerance,0),ctx) \n",
    "    for tolerance in tolerance_range_BS5]\n",
    "FD_1eminus2_BS5 = [evaluate_on_grid(Tdot_finite_differences(OrdinaryDiffEq.BS5(),tolerance,0,1e-2),ctx)\n",
    "    for tolerance in tolerance_range_BS5]\n",
    "FD_1eminus3_BS5 = [evaluate_on_grid(Tdot_finite_differences(OrdinaryDiffEq.BS5(),tolerance,0,1e-3),ctx)\n",
    "    for tolerance in tolerance_range_BS5]\n",
    "FD_1eminus4_BS5 = [evaluate_on_grid(Tdot_finite_differences(OrdinaryDiffEq.BS5(),tolerance,0,1e-4),ctx) \n",
    "    for tolerance in tolerance_range_BS5]\n",
    "FD_1eminus5_BS5 = [evaluate_on_grid(Tdot_finite_differences(OrdinaryDiffEq.BS5(),tolerance,0,1e-5),ctx)\n",
    "    for tolerance in tolerance_range_BS5];\n",
    "FD_1eminus6_BS5 = [evaluate_on_grid(Tdot_finite_differences(OrdinaryDiffEq.BS5(),tolerance,0,1e-6),ctx)\n",
    "    for tolerance in tolerance_range_BS5];\n",
    "FD_1eminus7_BS5 = [evaluate_on_grid(Tdot_finite_differences(OrdinaryDiffEq.BS5(),tolerance,0,1e-7),ctx)\n",
    "    for tolerance in tolerance_range_BS5];"
   ]
  },
  {
   "cell_type": "code",
   "execution_count": null,
   "metadata": {},
   "outputs": [],
   "source": [
    "l2_plot_BS5 = Plots.plot(tolerance_range_BS5,[l2_error(ref_tol,tol) \n",
    "        for (ref_tol,tol) in zip(reference_BS5,autodiff_BS5)], \n",
    "    xaxis=:log, yaxis=:log, marker=:dot, xflip=true, label=\"Autodiff BS5\"\n",
    "    ,fmt=:png,dpi=300,title=\"L2 error\",legend=(0.1,0.25),legendfontsize=5)\n",
    "Plots.plot!(tolerance_range_BS5,[l2_error(ref_tol,tol)\n",
    "        for (ref_tol,tol) in zip(reference_BS5,FD_1eminus2_BS5)], \n",
    "    marker=:dot, label=\"Finite Differences, δ=1e-2, BS5\")\n",
    "Plots.plot!(tolerance_range_BS5,[l2_error(ref_tol,tol)\n",
    "         for (ref_tol,tol) in zip(reference_BS5,FD_1eminus3_BS5)], \n",
    "    marker=:dot, label=\"Finite Differences, δ=1e-3, BS5\")\n",
    "Plots.plot!(tolerance_range_BS5,[l2_error(ref_tol,tol)\n",
    "         for (ref_tol,tol) in zip(reference_BS5,FD_1eminus4_BS5)], \n",
    "    marker=:dot, label=\"Finite Differences, δ=1e-4, BS5\")\n",
    "Plots.plot!(tolerance_range_BS5,[l2_error(ref_tol,tol)\n",
    "         for (ref_tol,tol) in zip(reference_BS5,FD_1eminus5_BS5)], \n",
    "    marker=:dot, label=\"Finite Differences, δ=1e-5, BS5\")\n",
    "Plots.plot!(tolerance_range_BS5,[l2_error(ref_tol,tol)\n",
    "         for (ref_tol,tol) in zip(reference_BS5,FD_1eminus6_BS5)], \n",
    "    marker=:dot, label=\"Finite Differences, δ=1e-6, BS5\")\n",
    "Plots.plot!(tolerance_range_BS5,[l2_error(ref_tol,tol)\n",
    "         for (ref_tol,tol) in zip(reference_BS5,FD_1eminus7_BS5)], \n",
    "    marker=:dot, label=\"Finite Differences, δ=1e-7, BS5\")\n",
    "Plots.plot!(tolerance_range_BS5,[10x for x in tolerance_range_BS5], \n",
    "    linestyle=:dash,label=\"O(h)\")"
   ]
  },
  {
   "cell_type": "code",
   "execution_count": null,
   "metadata": {},
   "outputs": [],
   "source": [
    "tolerance_range_DP8 = [1e-3,1e-4,1e-5,1e-6,1e-7,1e-8,1e-9,1e-10,1e-11,1e-12,1e-13,1e-14];"
   ]
  },
  {
   "cell_type": "code",
   "execution_count": null,
   "metadata": {},
   "outputs": [],
   "source": [
    "reference_DP8 = [evaluate_on_grid(Tdot_reference(OrdinaryDiffEq.DP8(),stepsize,0),ctx) \n",
    "    for stepsize in tolerance_range_DP8];"
   ]
  },
  {
   "cell_type": "code",
   "execution_count": null,
   "metadata": {},
   "outputs": [],
   "source": [
    "autodiff_DP8     = [evaluate_on_grid(Tdot_autodiff(OrdinaryDiffEq.DP8(),tolerance,0),ctx) \n",
    "    for tolerance in tolerance_range_DP8]\n",
    "FD_1eminus2_DP8 = [evaluate_on_grid(Tdot_finite_differences(OrdinaryDiffEq.DP8(),tolerance,0,1e-2),ctx)\n",
    "    for tolerance in tolerance_range_DP8]\n",
    "FD_1eminus3_DP8 = [evaluate_on_grid(Tdot_finite_differences(OrdinaryDiffEq.DP8(),tolerance,0,1e-3),ctx)\n",
    "    for tolerance in tolerance_range_DP8]\n",
    "FD_1eminus4_DP8 = [evaluate_on_grid(Tdot_finite_differences(OrdinaryDiffEq.DP8(),tolerance,0,1e-4),ctx) \n",
    "    for tolerance in tolerance_range_DP8]\n",
    "FD_1eminus5_DP8 = [evaluate_on_grid(Tdot_finite_differences(OrdinaryDiffEq.DP8(),tolerance,0,1e-5),ctx)\n",
    "    for tolerance in tolerance_range_DP8];\n",
    "FD_1eminus6_DP8 = [evaluate_on_grid(Tdot_finite_differences(OrdinaryDiffEq.DP8(),tolerance,0,1e-6),ctx)\n",
    "    for tolerance in tolerance_range_DP8];\n",
    "FD_1eminus7_DP8 = [evaluate_on_grid(Tdot_finite_differences(OrdinaryDiffEq.DP8(),tolerance,0,1e-7),ctx)\n",
    "    for tolerance in tolerance_range_DP8];"
   ]
  },
  {
   "cell_type": "code",
   "execution_count": null,
   "metadata": {},
   "outputs": [],
   "source": [
    "l2_plot_DP8 = Plots.plot(tolerance_range_DP8,[l2_error(ref_tol,tol) \n",
    "        for (ref_tol,tol) in zip(reference_DP8,autodiff_DP8)], \n",
    "    xaxis=:log, yaxis=:log, marker=:dot, xflip=true, label=\"Autodiff DP8\"\n",
    "    ,fmt=:png,dpi=300,title=\"L2 error\",legend=(0.1,0.25),legendfontsize=5)\n",
    "Plots.plot!(tolerance_range_DP8,[l2_error(ref_tol,tol) \n",
    "        for (ref_tol,tol) in zip(reference_DP8,FD_1eminus2_DP8)], \n",
    "    marker=:dot, label=\"Finite Differences, δ=1e-2, DP8\")\n",
    "Plots.plot!(tolerance_range_DP8,[l2_error(ref_tol,tol) \n",
    "         for (ref_tol,tol) in zip(reference_DP8,FD_1eminus3_DP8)], \n",
    "    marker=:dot, label=\"Finite Differences, δ=1e-3, DP8\")\n",
    "Plots.plot!(tolerance_range_DP8,[l2_error(ref_tol,tol)\n",
    "         for (ref_tol,tol) in zip(reference_DP8,FD_1eminus4_DP8)], \n",
    "    marker=:dot, label=\"Finite Differences, δ=1e-4, DP8\")\n",
    "Plots.plot!(tolerance_range_DP8,[l2_error(ref_tol,tol)\n",
    "         for (ref_tol,tol) in zip(reference_DP8,FD_1eminus5_DP8)], \n",
    "    marker=:dot, label=\"Finite Differences, δ=1e-5, DP8\")\n",
    "Plots.plot!(tolerance_range_DP8,[l2_error(ref_tol,tol)\n",
    "         for (ref_tol,tol) in zip(reference_DP8,FD_1eminus6_DP8)], \n",
    "    marker=:dot, label=\"Finite Differences, δ=1e-6, DP8\")\n",
    "Plots.plot!(tolerance_range_DP8,[l2_error(ref_tol,tol)\n",
    "         for (ref_tol,tol) in zip(reference_DP8,FD_1eminus7_DP8)], \n",
    "    marker=:dot, label=\"Finite Differences, δ=1e-7, DP8\")\n",
    "Plots.plot!(tolerance_range_DP8,[0.01x for x in tolerance_range_DP8], \n",
    "    linestyle=:dash,label=\"O(h)\")"
   ]
  },
  {
   "cell_type": "code",
   "execution_count": null,
   "metadata": {},
   "outputs": [],
   "source": [
    "tolerance_range_Vern7 = [1e-3,1e-4,1e-5,1e-6,1e-7,1e-8,1e-9,1e-10,1e-11,1e-12,1e-13,1e-14];"
   ]
  },
  {
   "cell_type": "code",
   "execution_count": null,
   "metadata": {},
   "outputs": [],
   "source": [
    "reference_Vern7 = [evaluate_on_grid(Tdot_reference(OrdinaryDiffEq.Vern7(),tolerance,0),ctx) \n",
    "    for tolerance in tolerance_range_Vern7];"
   ]
  },
  {
   "cell_type": "code",
   "execution_count": null,
   "metadata": {},
   "outputs": [],
   "source": [
    "autodiff_Vern7     = [evaluate_on_grid(Tdot_autodiff(OrdinaryDiffEq.Vern7(),tolerance,0),ctx) \n",
    "    for tolerance in tolerance_range_Vern7]\n",
    "FD_1eminus2_Vern7 = [evaluate_on_grid(Tdot_finite_differences(OrdinaryDiffEq.Vern7(),tolerance,0,1e-2),ctx)\n",
    "    for tolerance in tolerance_range_Vern7]\n",
    "FD_1eminus3_Vern7 = [evaluate_on_grid(Tdot_finite_differences(OrdinaryDiffEq.Vern7(),tolerance,0,1e-3),ctx)\n",
    "    for tolerance in tolerance_range_Vern7]\n",
    "FD_1eminus4_Vern7 = [evaluate_on_grid(Tdot_finite_differences(OrdinaryDiffEq.Vern7(),tolerance,0,1e-4),ctx) \n",
    "    for tolerance in tolerance_range_Vern7]\n",
    "FD_1eminus5_Vern7 = [evaluate_on_grid(Tdot_finite_differences(OrdinaryDiffEq.Vern7(),tolerance,0,1e-5),ctx)\n",
    "    for tolerance in tolerance_range_Vern7];\n",
    "FD_1eminus6_Vern7 = [evaluate_on_grid(Tdot_finite_differences(OrdinaryDiffEq.Vern7(),tolerance,0,1e-6),ctx)\n",
    "    for tolerance in tolerance_range_Vern7];\n",
    "FD_1eminus7_Vern7 = [evaluate_on_grid(Tdot_finite_differences(OrdinaryDiffEq.Vern7(),tolerance,0,1e-7),ctx)\n",
    "    for tolerance in tolerance_range_Vern7];"
   ]
  },
  {
   "cell_type": "code",
   "execution_count": null,
   "metadata": {},
   "outputs": [],
   "source": [
    "l2_plot_Vern7 = Plots.plot(tolerance_range_Vern7,[l2_error(ref_tol,tol) \n",
    "        for (ref_tol,tol) in zip(reference_Vern7,autodiff_Vern7)], \n",
    "    xaxis=:log, yaxis=:log, marker=:dot, xflip=true, label=\"Autodiff Vern7\"\n",
    "    ,fmt=:png,dpi=300,title=\"L2 error\",legend=(0.1,0.25),legendfontsize=5)\n",
    "Plots.plot!(tolerance_range_Vern7,[l2_error(ref_tol,tol) \n",
    "        for (ref_tol,tol) in zip(reference_Vern7,FD_1eminus2_Vern7)], \n",
    "    marker=:dot, label=\"Finite Differences, δ=1e-2, Vern7\")\n",
    "Plots.plot!(tolerance_range_Vern7,[l2_error(ref_tol,tol)\n",
    "         for (ref_tol,tol) in zip(reference_Vern7,FD_1eminus3_Vern7)], \n",
    "    marker=:dot, label=\"Finite Differences, δ=1e-3, Vern7\")\n",
    "Plots.plot!(tolerance_range_Vern7,[l2_error(ref_tol,tol)\n",
    "         for (ref_tol,tol) in zip(reference_Vern7,FD_1eminus4_Vern7)], \n",
    "    marker=:dot, label=\"Finite Differences, δ=1e-4, Vern7\")\n",
    "Plots.plot!(tolerance_range_Vern7,[l2_error(ref_tol,tol)\n",
    "         for (ref_tol,tol) in zip(reference_Vern7,FD_1eminus5_Vern7)], \n",
    "    marker=:dot, label=\"Finite Differences, δ=1e-5, Vern7\")\n",
    "Plots.plot!(tolerance_range_Vern7,[l2_error(ref_tol,tol) \n",
    "         for (ref_tol,tol) in zip(reference_Vern7,FD_1eminus6_Vern7)], \n",
    "    marker=:dot, label=\"Finite Differences, δ=1e-6, Vern7\")\n",
    "Plots.plot!(tolerance_range_Vern7,[l2_error(ref_tol,tol)\n",
    "         for (ref_tol,tol) in zip(reference_Vern7,FD_1eminus7_Vern7)], \n",
    "    marker=:dot, label=\"Finite Differences, δ=1e-7, Vern7\")\n",
    "Plots.plot!(tolerance_range_Vern7,[0.01x for x in tolerance_range_Vern7], \n",
    "    linestyle=:dash,label=\"O(h)\")"
   ]
  },
  {
   "cell_type": "code",
   "execution_count": null,
   "metadata": {},
   "outputs": [],
   "source": []
  }
 ],
 "metadata": {
  "kernelspec": {
   "display_name": "Julia (16 threads) 1.4.2",
   "language": "julia",
   "name": "julia-(16-threads)-1.4"
  },
  "language_info": {
   "file_extension": ".jl",
   "mimetype": "application/julia",
   "name": "julia",
   "version": "1.4.2"
  }
 },
 "nbformat": 4,
 "nbformat_minor": 4
}
