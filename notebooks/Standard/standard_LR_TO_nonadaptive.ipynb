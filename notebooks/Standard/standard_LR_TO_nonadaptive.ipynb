{
 "cells": [
  {
   "cell_type": "code",
   "execution_count": 1,
   "metadata": {},
   "outputs": [
    {
     "data": {
      "text/plain": [
       "Main.CoherentStructures"
      ]
     },
     "execution_count": 1,
     "metadata": {},
     "output_type": "execute_result"
    }
   ],
   "source": [
    "include(\"../../src/CoherentStructures.jl\") #this is terrible but neccessary during development (?)"
   ]
  },
  {
   "cell_type": "code",
   "execution_count": 2,
   "metadata": {},
   "outputs": [],
   "source": [
    "using StreamMacros, Main.CoherentStructures\n",
    "using Tensors, Arpack, Distances\n",
    "using Plots"
   ]
  },
  {
   "cell_type": "code",
   "execution_count": 3,
   "metadata": {},
   "outputs": [],
   "source": [
    "# Parameters\n",
    "grid_resolution        = 100\n",
    "quadrature_order       = 2\n",
    "selected_ev            = 2;      # which Eigenvector to choose\n",
    "ϵ                      = 0.5     # perturbation\n",
    "a                      = 0.98;   # parameter value corresponding to ϵ=0"
   ]
  },
  {
   "cell_type": "code",
   "execution_count": 4,
   "metadata": {},
   "outputs": [
    {
     "data": {
      "text/plain": [
       "T (generic function with 1 method)"
      ]
     },
     "execution_count": 4,
     "metadata": {},
     "output_type": "execute_result"
    }
   ],
   "source": [
    "T(x ,p) = [rem2pi(x[1] + x[2] + (a+p)*sin(x[1]), RoundDown),\n",
    "           rem2pi(       x[2] + (a+p)*sin(x[1]), RoundDown)]"
   ]
  },
  {
   "cell_type": "code",
   "execution_count": 5,
   "metadata": {},
   "outputs": [
    {
     "data": {
      "text/plain": [
       "T_inv (generic function with 1 method)"
      ]
     },
     "execution_count": 5,
     "metadata": {},
     "output_type": "execute_result"
    }
   ],
   "source": [
    "T_inv(x, p) = [rem2pi(x[1] - x[2], RoundDown),\n",
    "               rem2pi(x[2] - (a+p)*sin(x[1] - x[2]), RoundDown)]"
   ]
  },
  {
   "cell_type": "code",
   "execution_count": 6,
   "metadata": {},
   "outputs": [],
   "source": [
    "LL, UR = (0.0, 0.0), (2π, 2π)\n",
    "ctx, _ = regularTriangularGrid((grid_resolution, grid_resolution), LL, UR, quadrature_order = quadrature_order)\n",
    "pred(x,y) = peuclidean(x, y, [2π, 2π]) < 1e-9\n",
    "bdata = BoundaryData(ctx, pred);"
   ]
  },
  {
   "cell_type": "code",
   "execution_count": 7,
   "metadata": {},
   "outputs": [],
   "source": [
    "M = assembleMassMatrix(ctx, bdata=bdata);"
   ]
  },
  {
   "cell_type": "code",
   "execution_count": 8,
   "metadata": {},
   "outputs": [
    {
     "name": "stdout",
     "output_type": "stream",
     "text": [
      "  1.113484 seconds (4.03 M allocations: 233.956 MiB, 5.33% gc time)\n"
     ]
    }
   ],
   "source": [
    "@time A,_ = nonAdaptiveTOCollocation(ctx, y -> T_inv(y,0),project_in=true, bdata_domain=bdata);"
   ]
  },
  {
   "cell_type": "code",
   "execution_count": 9,
   "metadata": {},
   "outputs": [
    {
     "name": "stdout",
     "output_type": "stream",
     "text": [
      "  0.315740 seconds (1.09 M allocations: 67.349 MiB, 6.12% gc time)\n",
      "  0.104863 seconds (239.11 k allocations: 21.441 MiB)\n"
     ]
    }
   ],
   "source": [
    "@time D⁰ = assembleStiffnessMatrix(ctx, bdata=bdata)\n",
    "@time D¹ = A'*D⁰*A\n",
    "K = 0.5(D⁰+D¹);"
   ]
  },
  {
   "cell_type": "code",
   "execution_count": null,
   "metadata": {},
   "outputs": [],
   "source": [
    "# solve the linear system\n",
    "@time λ₀, u₀ = eigs(K, M, which=:SM)\n",
    "@assert all(imag.(u₀) .== 0)\n",
    "@assert all(imag.(λ₀) .== 0)\n",
    "u₀ = real.(u₀[:,selected_ev])\n",
    "λ₀ = real.(λ₀[selected_ev])\n",
    "u₀ = u₀ ./ sqrt(u₀'*M*u₀)        # L2 normalization\n",
    "u₀ = u₀*sign(sum(u₀))            # fix sign\n",
    "λ₀"
   ]
  },
  {
   "cell_type": "code",
   "execution_count": null,
   "metadata": {},
   "outputs": [],
   "source": [
    "# assemble the linear response matrix L\n",
    "@time L = nonadaptiveTOCollocationLinearResponseMatrix(ctx, T, A, 0, bdata=bdata);"
   ]
  },
  {
   "cell_type": "code",
   "execution_count": null,
   "metadata": {},
   "outputs": [],
   "source": [
    "# solve the system for the derivative u_dot\n",
    "lhs = [K-λ₀*M   -M*u₀\n",
    "        u₀'*M      0]\n",
    "rhs = [-L*u₀    ;  0]\n",
    "\n",
    "@time b = lhs \\ rhs\n",
    "u_dot = b[1:end-1]\n",
    "λ_dot = b[end]"
   ]
  },
  {
   "cell_type": "code",
   "execution_count": null,
   "metadata": {},
   "outputs": [],
   "source": [
    "# calculate the exact uϵ\n",
    "@time Aϵ,_ = nonAdaptiveTOCollocation(ctx, y -> T_inv(y,ϵ),project_in=true,bdata_domain=bdata);\n",
    "@time D¹ϵ = Aϵ'*D⁰*Aϵ\n",
    "Kϵ = 0.5(D⁰+D¹ϵ);\n",
    "λϵ, uϵ = eigs(Kϵ, M, which=:SM)\n",
    "@assert all(imag.(uϵ) .== 0)\n",
    "@assert all(imag.(λϵ) .== 0)\n",
    "uϵ = real.(uϵ[:,selected_ev])\n",
    "λϵ = real.(λϵ[selected_ev])\n",
    "uϵ = uϵ ./ sqrt(uϵ'*M*uϵ)\n",
    "uϵ = uϵ*sign(sum(uϵ))\n",
    "\n",
    "λϵ"
   ]
  },
  {
   "cell_type": "code",
   "execution_count": null,
   "metadata": {},
   "outputs": [],
   "source": [
    "λ₀ + ϵ*λ_dot"
   ]
  },
  {
   "cell_type": "code",
   "execution_count": null,
   "metadata": {
    "scrolled": false
   },
   "outputs": [],
   "source": [
    "color =    :balance\n",
    "xticks =   0:2:6\n",
    "yticks =   0:2:6\n",
    "colorbar = :left\n",
    "cmin =     -0.3\n",
    "cmax =     0.3\n",
    "cmin_lr =  -0.2\n",
    "cmax_lr =  0.2\n",
    "#unfortunately there is no option for colorbar ticks\n",
    "\n",
    "\n",
    "original      = plot_u(ctx, u₀,  grid_resolution, grid_resolution, title=\"u₀\", bdata=bdata,\n",
    "                colorbar=colorbar, color=color, clims=(cmin,cmax), xticks=xticks, yticks=yticks)\n",
    "derivative    = plot_u(ctx, u_dot,       grid_resolution, grid_resolution, title=\"u̇ ₀\", bdata=bdata,\n",
    "                colorbar=colorbar, color=color, clims=(cmin_lr,cmax_lr), xticks=xticks, yticks=yticks)\n",
    "extrapolated  = plot_u(ctx, u₀ + ϵ*u_dot, grid_resolution, grid_resolution, title=\"u₀ + $(ϵ)u̇ ₀\", bdata=bdata,\n",
    "                colorbar=colorbar, color=color, clims=(cmin,cmax), xticks=xticks, yticks=yticks)\n",
    "exact         = plot_u(ctx, uϵ,          grid_resolution, grid_resolution, title=\"uϵ\", bdata=bdata,\n",
    "                colorbar=colorbar, color=color, clims=(cmin,cmax), xticks=xticks, yticks=yticks)\n",
    "Plots.plot(original,derivative,extrapolated,exact, fmt=:png, dpi=500)"
   ]
  },
  {
   "cell_type": "code",
   "execution_count": null,
   "metadata": {},
   "outputs": [],
   "source": [
    "using Contour\n",
    "using StaticArrays"
   ]
  },
  {
   "cell_type": "code",
   "execution_count": null,
   "metadata": {},
   "outputs": [],
   "source": [
    "#Contour.jl needs StaticArrays\n",
    "T_static(x) = SVector{2,Float64}(T(x,0))"
   ]
  },
  {
   "cell_type": "code",
   "execution_count": null,
   "metadata": {},
   "outputs": [],
   "source": [
    "function dynamic_cheeger_value_levelset(levelset)\n",
    "    curves = lines(levelset)\n",
    "    if length(curves) != 1 \n",
    "        @warn \"Currently only connected levelsets are allowed! Levelset: \", level(levelset)\n",
    "    end\n",
    "    curve = curves[1]\n",
    "    return dynamic_cheeger_value(ctx,curve,T_static,tolerance=1e-10)\n",
    "end\n",
    "function dynamic_cheeger_value_levelset_nonnegative(levelset)\n",
    "    if level(levelset) < 0\n",
    "        return Inf\n",
    "    end\n",
    "    curves = lines(levelset)\n",
    "    if length(curves) != 1 \n",
    "        @warn \"Currently only connected levelsets are allowed! Levelset: $(level(levelset))\"\n",
    "    end\n",
    "    curve = curves[1]\n",
    "    return dynamic_cheeger_value(ctx,curve,T_static,tolerance=1e-10)\n",
    "end\n",
    "\n",
    "best_levelset, best_value = get_minimal_levelset(\n",
    "    ctx,u₀,dynamic_cheeger_value_levelset_nonnegative,n_candidates=1000,bdata=bdata)\n",
    "print(\"Dynamic Cheeger value:\\t\",best_value,\"\\n\")\n",
    "print(\"Levelset:\\t\\t\",level(best_levelset),\"\\n\")"
   ]
  },
  {
   "cell_type": "code",
   "execution_count": null,
   "metadata": {},
   "outputs": [],
   "source": [
    "# value from paper\n",
    "c_paper = 0.1447\n",
    "plot_paper = plot_u(ctx, u₀,  grid_resolution, grid_resolution, title=\"c=$(round(c_paper,digits=4))\",bdata=bdata,\n",
    "        colorbar=colorbar, color=color, clims=(cmin,cmax), xticks=xticks, yticks=yticks,legend=false)\n",
    "\n",
    "curves = lines(get_levelset(ctx, u₀, c_paper, bdata=bdata))\n",
    "curves_moved = [Main.CoherentStructures.apply2curve(T_static,c) for c in curves]\n",
    "\n",
    "cheeger_value = dynamic_cheeger_value(ctx, curves[1], T_static)\n",
    "print(\"cheeger value\\t\\tlength\\t\\t\\tlength transported\\tvolume\\n\")\n",
    "print(\"$(cheeger_value)\\t$(Main.CoherentStructures.getLength(curves[1]))\\t\",\n",
    "    \"$(Main.CoherentStructures.getLength(curves_moved[1]))\\t$(Main.CoherentStructures.getEuclideanArea(ctx,curves[1]))\\n\")\n",
    "\n",
    "for c in curves\n",
    "    Plots.plot!(coordinates(c))\n",
    "end\n",
    "for c in curves_moved\n",
    "    Plots.plot!(coordinates(c))\n",
    "end\n",
    "\n",
    "# our value\n",
    "c_ours = level(best_levelset)\n",
    "plot_ours = plot_u(ctx, u₀,  grid_resolution, grid_resolution, title=\"c=$(round(c_ours,digits=4))\",bdata=bdata,\n",
    "        colorbar=colorbar, color=color, clims=(cmin,cmax), xticks=xticks, yticks=yticks,legend=false)\n",
    "\n",
    "curves = lines(get_levelset(ctx, u₀, c_ours, bdata=bdata))\n",
    "curves = [Main.CoherentStructures.closeCurve(ctx,c) for c in curves]\n",
    "curves_moved = [Main.CoherentStructures.apply2curve(T_static,c) for c in curves]\n",
    "\n",
    "cheeger_value = dynamic_cheeger_value(ctx, curves[1], T_static)\n",
    "print(\"$(cheeger_value)\\t$(Main.CoherentStructures.getLength(curves[1]))\\t\",\n",
    "    \"$(Main.CoherentStructures.getLength(curves_moved[1]))\\t$(Main.CoherentStructures.getEuclideanArea(ctx,curves[1]))\\n\")\n",
    "\n",
    "for c in curves\n",
    "    Plots.plot!(coordinates(c))\n",
    "end\n",
    "for c in curves_moved\n",
    "    Plots.plot!(coordinates(c))\n",
    "end\n",
    "Plots.plot(plot_paper,plot_ours,fmt=:png,dpi=200)"
   ]
  },
  {
   "cell_type": "code",
   "execution_count": null,
   "metadata": {},
   "outputs": [],
   "source": [
    "function plot_vectorfield(xs,ys,dx,dy;scale=1,step=1)\n",
    "    xs, ys = xs[1:step:end], ys[1:step:end]\n",
    "    x_coords = repeat(xs, outer=length(ys))\n",
    "    y_coords = repeat(ys, inner=length(xs))\n",
    "    dx, dy = scale.*dx[1:step:end,1:step:end], scale.*dy[1:step:end,1:step:end]\n",
    "    quiver(x_coords,y_coords,quiver=(vec(dx),vec(dy)))\n",
    "end"
   ]
  },
  {
   "cell_type": "code",
   "execution_count": null,
   "metadata": {},
   "outputs": [],
   "source": [
    "plot_vectorfield(get_levelset_evolution(ctx,u₀,u_dot, bdata=bdata)...,scale=3,step=8)\n",
    "curve         = lines(get_levelset(ctx, u₀, c_paper, bdata=bdata))[1]\n",
    "curve_epsilon = lines(get_levelset(ctx, uϵ, c_paper, bdata=bdata))[1]\n",
    "curves_predicted = lines(get_levelset(ctx, u₀ + ϵ*u_dot, c_paper, bdata=bdata))\n",
    "\n",
    "\n",
    "plot!(coordinates(curve),color=:black)\n",
    "plot!(coordinates(curve_epsilon),color=:red,linestyle=:dash)\n",
    "for c in curves_predicted\n",
    "    plot!(coordinates(c),color=:lightgreen)\n",
    "end\n",
    "\n",
    "Plots.plot!(fmt=:png,dpi=200,legend=false,aspectratio=1,xlims=(0,2π),ylims=(0,2π),title=\"c=$(round(c_paper,digits=4))\")"
   ]
  },
  {
   "cell_type": "code",
   "execution_count": null,
   "metadata": {},
   "outputs": [],
   "source": []
  }
 ],
 "metadata": {
  "kernelspec": {
   "display_name": "Julia 1.4.2",
   "language": "julia",
   "name": "julia-1.4"
  },
  "language_info": {
   "file_extension": ".jl",
   "mimetype": "application/julia",
   "name": "julia",
   "version": "1.4.2"
  }
 },
 "nbformat": 4,
 "nbformat_minor": 4
}
