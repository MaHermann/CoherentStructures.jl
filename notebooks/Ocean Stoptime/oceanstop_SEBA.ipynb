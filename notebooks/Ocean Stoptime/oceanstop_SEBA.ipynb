{
 "cells": [
  {
   "cell_type": "markdown",
   "metadata": {},
   "source": [
    "# Using the SEBA Algorithm together with Linear Response for the Ocean System (SEBA Part 2)"
   ]
  },
  {
   "cell_type": "markdown",
   "metadata": {},
   "source": [
    "This is the second part of a two notebook discussion of using SEBA together with Linear Response in Julia. In the first part, we illustrated the ideas on the conceptionally simpler Double Gyre System, and now we will try to apply this to a system determined by real world ocean data. As parameter we will use the **stoptime**, just as in the Double Gyre example, not some more sophisticated parameter like wind etc., in order to increase the difficulty just one step at a time."
   ]
  },
  {
   "cell_type": "markdown",
   "metadata": {},
   "source": [
    "## Setup"
   ]
  },
  {
   "cell_type": "code",
   "execution_count": 1,
   "metadata": {},
   "outputs": [
    {
     "data": {
      "text/plain": [
       "Main.CoherentStructures"
      ]
     },
     "execution_count": 1,
     "metadata": {},
     "output_type": "execute_result"
    }
   ],
   "source": [
    "include(\"../../src/CoherentStructures.jl\")"
   ]
  },
  {
   "cell_type": "code",
   "execution_count": 2,
   "metadata": {},
   "outputs": [],
   "source": [
    "using StreamMacros, Main.CoherentStructures\n",
    "using Tensors, Arpack, JLD2, OrdinaryDiffEq\n",
    "using Plots"
   ]
  },
  {
   "cell_type": "code",
   "execution_count": 3,
   "metadata": {},
   "outputs": [],
   "source": [
    "JLD2.@load(\"Ocean_geostrophic_velocity.jld2\");\n",
    "UV = interpolateVF(Lon, Lat, Time, UT, VT);"
   ]
  },
  {
   "cell_type": "code",
   "execution_count": 4,
   "metadata": {},
   "outputs": [],
   "source": [
    "# Parameters\n",
    "grid_resolution        = 200\n",
    "quadrature_order       = 5\n",
    "ϵ                      = 10               # perturbation\n",
    "nev                    = 10               # number of eigenvalues\n",
    "t_initial              = minimum(Time)  \n",
    "t_end                  = t_initial+80     # parameter value corresponding to ϵ=0\n",
    "solver_tolerance       = 1e-8\n",
    "solver                 = OrdinaryDiffEq.BS5();"
   ]
  },
  {
   "cell_type": "code",
   "execution_count": 5,
   "metadata": {},
   "outputs": [
    {
     "data": {
      "text/plain": [
       "T (generic function with 1 method)"
      ]
     },
     "execution_count": 5,
     "metadata": {},
     "output_type": "execute_result"
    }
   ],
   "source": [
    "T(x, param) = flow(interp_rhs, x, [t_initial, t_end + param], p=UV,\n",
    "        tolerance=solver_tolerance,solver=solver)[end]"
   ]
  },
  {
   "cell_type": "code",
   "execution_count": 6,
   "metadata": {},
   "outputs": [],
   "source": [
    "# standard domain from the literature\n",
    "LL, UR = (-4.0, -34.0), (6.0, -28.0)\n",
    "lon_resolution = grid_resolution\n",
    "lat_resolution = Integer(floor((UR[2] - LL[2])/(UR[1] - LL[1])*grid_resolution))\n",
    "ctx, _ = regularTriangularGrid((lon_resolution, lat_resolution), \n",
    "        LL, UR, quadrature_order = quadrature_order);\n",
    "# homogeneous Dirichlet boundary conditions to avoid intersection with the boundary of the domain\n",
    "bdata = getHomDBCS(ctx, \"all\");"
   ]
  },
  {
   "cell_type": "markdown",
   "metadata": {},
   "source": [
    "## Compute Eigenfunctions and Linear Response"
   ]
  },
  {
   "cell_type": "code",
   "execution_count": 7,
   "metadata": {},
   "outputs": [],
   "source": [
    "M = assembleMassMatrix(ctx, bdata=bdata);"
   ]
  },
  {
   "cell_type": "code",
   "execution_count": 8,
   "metadata": {},
   "outputs": [
    {
     "name": "stdout",
     "output_type": "stream",
     "text": [
      " 92.428657 seconds (91.92 M allocations: 5.215 GiB, 1.35% gc time)\n"
     ]
    }
   ],
   "source": [
    "# assemble K\n",
    "DT₀(x) = linearized_flow_autodiff(y -> T(y,0) , x)\n",
    "A₀(x) = 0.5*(one(Tensor{2,2}) + dott(inv(DT₀(x))))\n",
    "@time K = assembleStiffnessMatrix(ctx, A₀, bdata=bdata);"
   ]
  },
  {
   "cell_type": "code",
   "execution_count": 9,
   "metadata": {},
   "outputs": [],
   "source": [
    "DTϵ(x) = linearized_flow_autodiff(y -> T(y,ϵ) , x)\n",
    "Aϵ(x) = 0.5*(one(Tensor{2,2}) + dott(inv(DTϵ(x))))\n",
    "Kϵ = assembleStiffnessMatrix(ctx, Aϵ, bdata=bdata);"
   ]
  },
  {
   "cell_type": "code",
   "execution_count": null,
   "metadata": {},
   "outputs": [],
   "source": [
    "# assemble the linear response matrix L\n",
    "Adot = x -> linear_response_tensor(T, x, 0)\n",
    "@time L = assembleStiffnessMatrix(ctx, Adot, bdata=bdata);"
   ]
  },
  {
   "cell_type": "code",
   "execution_count": null,
   "metadata": {},
   "outputs": [],
   "source": [
    "normalizeUL2(u,M) = u.*sign.(sum(u))./ sqrt(u'*M*u);\n",
    "λ₀, u₀ = eigs(K, M, which=:SM, nev=nev)\n",
    "@assert all(imag.(u₀) .== 0)\n",
    "@assert all(imag.(λ₀) .== 0)\n",
    "u₀ = real.(u₀)\n",
    "λ₀ = real.(λ₀)\n",
    "for i in 1:size(u₀)[2]\n",
    "    u₀[:,i] = normalizeUL2(u₀[:,i],M)\n",
    "end\n",
    "\n",
    "λϵ, uϵ = eigs(Kϵ, M, which=:SM, nev=nev)\n",
    "@assert all(imag.(uϵ) .== 0)\n",
    "@assert all(imag.(λϵ) .== 0)\n",
    "uϵ = real.(uϵ)\n",
    "λϵ = real.(λϵ)\n",
    "for i in 1:size(uϵ)[2]\n",
    "    uϵ[:,i] = normalizeUL2(uϵ[:,i],M)\n",
    "end\n",
    "\n",
    "u_dot = zero(u₀)\n",
    "λ_dot = zero(λ₀)\n",
    "for i in 1:size(u₀)[2] \n",
    "    u_dot[:,i], λ_dot[i] = getLinearResponse(u₀[:,i],λ₀[i],M,K,L)\n",
    "end"
   ]
  },
  {
   "cell_type": "markdown",
   "metadata": {},
   "source": [
    "## Some first plots"
   ]
  },
  {
   "cell_type": "code",
   "execution_count": null,
   "metadata": {},
   "outputs": [],
   "source": [
    "#select number of evs\n",
    "Plots.scatter(1:nev,λ₀)"
   ]
  },
  {
   "cell_type": "code",
   "execution_count": null,
   "metadata": {},
   "outputs": [],
   "source": [
    "#Eigengap after 4 eigenvalues\n",
    "nev = 4\n",
    "u₀ = u₀[:,1:nev]\n",
    "λ₀ = λ₀[1:nev]\n",
    "uϵ = uϵ[:,1:nev]\n",
    "λϵ = λϵ[1:nev]\n",
    "u_dot = u_dot[:,1:nev]\n",
    "λ_dot = λ_dot[1:nev];"
   ]
  },
  {
   "cell_type": "code",
   "execution_count": null,
   "metadata": {},
   "outputs": [],
   "source": [
    "for i in 1:nev\n",
    "    print(\"exact ev0\"*string(i)*\": \"*string(round(λ₀[i],digits=5))*\n",
    "        \"\\t exact evϵ\"*string(i)*\": \"*string(round(λϵ[i],digits=5))*\n",
    "        \"\\t predicted ev\"*string(i)*\": \"*string(round(λ₀[i] + ϵ*λ_dot[i],digits=5))*\n",
    "        \"\\t relative error: \"*string(round(abs(λ₀[i] + ϵ*λ_dot[i] - λϵ[i])/abs(λϵ[i]),digits=5))*\"\\n\")\n",
    "end"
   ]
  },
  {
   "cell_type": "markdown",
   "metadata": {},
   "source": [
    "We notice a rather large errors for the third eigenvalue, where the linear response even seems to have the wrong sign!"
   ]
  },
  {
   "cell_type": "code",
   "execution_count": null,
   "metadata": {},
   "outputs": [],
   "source": [
    "color =    :balance\n",
    "xticks =   -4:2:6\n",
    "yticks =   -34:2:-28\n",
    "colorbar = :left\n",
    "cmins =     [-1.0, -1.0, -1.0, -1.0,-1.0]\n",
    "cmaxs =     -cmins\n",
    "cmins_lr =  [-0.01, -0.01, -0.01, -0.1, -0.5]\n",
    "cmaxs_lr =  -cmins_lr;"
   ]
  },
  {
   "cell_type": "code",
   "execution_count": null,
   "metadata": {},
   "outputs": [],
   "source": [
    "plots = []\n",
    "for i in 1:nev\n",
    "    push!(plots,plot_u(ctx, u₀[:,i],  lon_resolution, lat_resolution, bdata=bdata,\n",
    "            title=\"u₀\"*string(i), \n",
    "                colorbar=colorbar, color=color, clims=(cmins[i],cmaxs[i]), xticks=xticks, yticks=yticks))\n",
    "    push!(plots,plot_u(ctx, u_dot[:,i],  lon_resolution, lat_resolution, bdata=bdata,\n",
    "            title=\"̇u₀\"*string(i), \n",
    "        colorbar=colorbar, color=color, clims=(cmins_lr[i],cmaxs_lr[i]), xticks=xticks, yticks=yticks))\n",
    "    push!(plots,plot_u(ctx, u₀[:,i] + ϵ*u_dot[:,i],  lat_resolution, grid_resolution, bdata=bdata,\n",
    "            title=\"u₀\"*string(i)*\" + $(ϵ)u̇ ₀\"*string(i), \n",
    "    colorbar=colorbar, color=color, clims=(cmins[i],cmaxs[i]), xticks=xticks, yticks=yticks))\n",
    "    push!(plots,plot_u(ctx, uϵ[:,i],  lon_resolution, lat_resolution, bdata=bdata,\n",
    "            title=\"uϵ\"*string(i), \n",
    "            colorbar=colorbar, color=color, clims=(cmins[i],cmaxs[i]), xticks=xticks, yticks=yticks))\n",
    "end\n",
    "Plots.plot(plots..., fmt=:png, dpi=500,layout=grid(nev,4),\n",
    "            xtickfontsize=2,ytickfontsize=2,xguidefontsize=2,yguidefontsize=2,legendfontsize=5,titlefontsize=5)"
   ]
  },
  {
   "cell_type": "code",
   "execution_count": null,
   "metadata": {},
   "outputs": [],
   "source": [
    "#limit ourselves to one ev for plotting etc.\n",
    "ev = 1"
   ]
  },
  {
   "cell_type": "code",
   "execution_count": null,
   "metadata": {},
   "outputs": [],
   "source": [
    "plots = []\n",
    "push!(plots,plot_u(ctx, u₀[:,ev],  grid_resolution, grid_resolution, \n",
    "        title=\"u₀\"*string(ev), \n",
    "            colorbar=colorbar, color=color, clims=(cmins[ev],cmaxs[ev]), xticks=xticks, yticks=yticks))\n",
    "push!(plots,plot_u(ctx, u_dot[:,ev],  grid_resolution, grid_resolution, \n",
    "        title=\"̇u₀\"*string(ev), \n",
    "    colorbar=colorbar, color=color, clims=(cmins_lr[ev],cmaxs_lr[ev]), xticks=xticks, yticks=yticks))\n",
    "push!(plots,plot_u(ctx, u₀[:,ev] + ϵ*u_dot[:,ev],  grid_resolution, grid_resolution, \n",
    "        title=\"u₀\"*string(ev)*\" + $(ϵ)u̇ ₀\"*string(ev), \n",
    "colorbar=colorbar, color=color, clims=(cmins[ev],cmaxs[ev]), xticks=xticks, yticks=yticks))\n",
    "push!(plots,plot_u(ctx, uϵ[:,ev],  grid_resolution, grid_resolution, \n",
    "        title=\"uϵ\"*string(ev), \n",
    "        colorbar=colorbar, color=color, clims=(cmins[ev],cmaxs[ev]), xticks=xticks, yticks=yticks))\n",
    "Plots.plot(plots..., fmt=:png, dpi=500,layout=grid(2,2),\n",
    "            xtickfontsize=2,ytickfontsize=2,xguidefontsize=2,yguidefontsize=2,legendfontsize=5,titlefontsize=5)"
   ]
  },
  {
   "cell_type": "markdown",
   "metadata": {},
   "source": [
    "## Contour Plots"
   ]
  },
  {
   "cell_type": "code",
   "execution_count": null,
   "metadata": {},
   "outputs": [],
   "source": [
    "using Contour\n",
    "using PyCall\n",
    "using PyPlot\n",
    "import Main.CoherentStructures:dynamic_cheeger_value\n",
    "dynamic_cheeger_value(c) = dynamic_cheeger_value(ctx,c,x->T(x,0);tolerance=1e-10)\n",
    "function plot_vectorfield(xs,ys,dx,dy,ax;scale=1,step=1)\n",
    "    xs, ys = xs[1:step:end], ys[1:step:end]\n",
    "    dx, dy = dx[1:step:end,1:step:end], dy[1:step:end,1:step:end]\n",
    "    ax.quiver(xs,ys,dx',dy',scale=scale,color=\"blue\")\n",
    "end"
   ]
  },
  {
   "cell_type": "code",
   "execution_count": null,
   "metadata": {},
   "outputs": [],
   "source": [
    "best_levelset, best_value = get_minimal_levelset(\n",
    "    ctx,u₀[:,ev],dynamic_cheeger_value, bdata=bdata,\n",
    "    n_candidates=1000,min=0)\n",
    "\n",
    "c_best = level(best_levelset)\n",
    "\n",
    "plt.figure(figsize=(10,6), dpi=100)\n",
    "ax = plt.axes()\n",
    "ax.set(xlim=(-4,6), ylim=(-34,-28))\n",
    "plot_vectorfield(get_levelset_evolution(ctx,u₀[:,ev],u_dot[:,ev], bdata=bdata)...,ax,scale=0.2,step=4)\n",
    "curves           = lines(get_levelset(ctx, u₀[:,ev],c_best, bdata=bdata))\n",
    "curves_epsilon   = lines(get_levelset(ctx, uϵ[:,ev],c_best, bdata=bdata))\n",
    "curves_predicted = lines(get_levelset(ctx, u₀[:,ev] + ϵ*u_dot[:,ev],c_best, bdata=bdata))\n",
    "\n",
    "ax.plot([],[],color=:black,linewidth=2, label=\"Levelset for c of u₀\")\n",
    "for c in curves\n",
    "    ax.plot(coordinates(c)...,color=:black,linewidth=2)\n",
    "end\n",
    "\n",
    "ax.plot([],[],color=:red,linestyle=\"--\",linewidth=2, label=\"Levelset for c of uϵ\")\n",
    "for c in curves_epsilon\n",
    "    ax.plot(coordinates(c)...,color=:red,linestyle=\"--\",linewidth=2)\n",
    "end\n",
    "\n",
    "ax.plot([],[],color=:lightgreen,linewidth=2, label=\"Levelset for c of u₀ + ϵ̇u₀\")\n",
    "for c in curves_predicted\n",
    "    ax.plot(coordinates(c)...,color=:lightgreen,linewidth=2)\n",
    "end\n",
    "ax.set_title(\"c=$(round(c_best,digits=4))\")\n",
    "ax.legend();"
   ]
  },
  {
   "cell_type": "markdown",
   "metadata": {},
   "source": [
    "## SEBA"
   ]
  },
  {
   "cell_type": "markdown",
   "metadata": {},
   "source": [
    "As we can see, the different eigenfunctions do not really correspond to a nice partition into the individual gyres we can see visually, and in addition, it can be hard to match those at t and t+ϵ. For this, again, the SEBA algorithm could come to the resuce, but we need to see whether we can still compute the linear responses for these new partitions:"
   ]
  },
  {
   "cell_type": "code",
   "execution_count": null,
   "metadata": {},
   "outputs": [],
   "source": [
    "softThreshold(u,μ) = sign.(u) .* max.(abs.(u) .- μ, 0)\n",
    "normalizeU(u) = u.*sign.(sum(u))/maximum(u*sign.(sum(u)))"
   ]
  },
  {
   "cell_type": "code",
   "execution_count": null,
   "metadata": {},
   "outputs": [],
   "source": [
    "using LinearAlgebra"
   ]
  },
  {
   "cell_type": "code",
   "execution_count": null,
   "metadata": {},
   "outputs": [],
   "source": [
    "# standard heuristic\n",
    "μ = 0.99/grid_resolution;"
   ]
  },
  {
   "cell_type": "code",
   "execution_count": null,
   "metadata": {},
   "outputs": [],
   "source": [
    "@time S, O = SEBA(u₀,μ=μ,returnR=true,sort=false);"
   ]
  },
  {
   "cell_type": "code",
   "execution_count": null,
   "metadata": {},
   "outputs": [],
   "source": [
    "Sϵ, Oϵ = SEBA(uϵ,μ=μ,returnR=true,sort=false);"
   ]
  },
  {
   "cell_type": "code",
   "execution_count": null,
   "metadata": {},
   "outputs": [],
   "source": [
    "#The SEBA outputs, but without thresholding and rescaling, so that they are comparable to S_dot\n",
    "S′ = Matrix(qr(u₀).Q)*O'\n",
    "Sϵ′ = Matrix(qr(uϵ).Q)*Oϵ';"
   ]
  },
  {
   "cell_type": "code",
   "execution_count": null,
   "metadata": {},
   "outputs": [],
   "source": [
    "# This is the matrix we effectively multiply u₀ with\n",
    "inv(qr(u₀).R)*O'"
   ]
  },
  {
   "cell_type": "code",
   "execution_count": null,
   "metadata": {},
   "outputs": [],
   "source": [
    "inv(qr(uϵ).R)*Oϵ'"
   ]
  },
  {
   "cell_type": "code",
   "execution_count": null,
   "metadata": {},
   "outputs": [],
   "source": [
    "S_dot = u_dot*inv(qr(u₀).R)*O';"
   ]
  },
  {
   "cell_type": "code",
   "execution_count": null,
   "metadata": {},
   "outputs": [],
   "source": [
    "#for S′ and Sϵ′, we have a linear response, namely S_dot \n",
    "plots = []\n",
    "for i in 1:nev\n",
    "    push!(plots,plot_u(ctx, S′[:,i],  \n",
    "            lon_resolution, lat_resolution, bdata=bdata,\n",
    "            title=\"S\"*string(i), \n",
    "            colorbar=colorbar, color=color, clims=(-maximum(abs.(S′[:,i])),maximum(abs.(S′[:,i]))),\n",
    "            xticks=xticks, yticks=yticks))\n",
    "    push!(plots,plot_u(ctx, S_dot[:,i], \n",
    "            lon_resolution, lat_resolution, bdata=bdata,\n",
    "            title=\"̇S\"*string(i), \n",
    "            colorbar=colorbar, color=color, clims=(-maximum(abs.(S_dot[:,i])),maximum(abs.(S_dot[:,i]))), \n",
    "            xticks=xticks, yticks=yticks))\n",
    "    push!(plots,plot_u(ctx, S′[:,i] + ϵ*S_dot[:,i],  \n",
    "            lon_resolution, lat_resolution, bdata=bdata,\n",
    "            title=\"S\"*string(i)*\" + $(ϵ)̇S\"*string(i), \n",
    "            colorbar=colorbar, color=color, clims=(-maximum(abs.(S′[:,i] + ϵ*S_dot[:,i])),maximum(abs.(S′[:,i] + ϵ*S_dot[:,i]))), \n",
    "            xticks=xticks, yticks=yticks))\n",
    "    push!(plots,plot_u(ctx, Sϵ′[:,i],  \n",
    "            lon_resolution, lat_resolution, bdata=bdata,\n",
    "            title=\"Sϵ\"*string(i), \n",
    "            colorbar=colorbar, color=color, clims=(-maximum(abs.(Sϵ′[:,i])),maximum(abs.(Sϵ′[:,i]))), \n",
    "            xticks=xticks, yticks=yticks))\n",
    "end\n",
    "Plots.plot(plots..., fmt=:png, dpi=500,layout=(nev,4),\n",
    "            xtickfontsize=2,ytickfontsize=2,xguidefontsize=2,yguidefontsize=2,legendfontsize=5,titlefontsize=5)"
   ]
  },
  {
   "cell_type": "code",
   "execution_count": null,
   "metadata": {},
   "outputs": [],
   "source": [
    "# to get a prediction for Sϵ from S and S_dot, we simply apply soft thresholding and normalization to the previous example\n",
    "plots = []\n",
    "for i in 1:nev\n",
    "    push!(plots,plot_u(ctx, S[:,i],  \n",
    "            lon_resolution, lat_resolution, bdata=bdata,\n",
    "            title=\"S\"*string(i), \n",
    "            colorbar=colorbar, color=color, clims=(-1,1),\n",
    "            xticks=xticks, yticks=yticks))\n",
    "    push!(plots,plot_u(ctx, S_dot[:,i],  \n",
    "            lon_resolution, lat_resolution, bdata=bdata,\n",
    "            title=\"̇S\"*string(i), \n",
    "            colorbar=colorbar, color=color, clims=(-maximum(abs.(S_dot[:,i])),maximum(abs.(S_dot[:,i]))),\n",
    "            xticks=xticks, yticks=yticks))\n",
    "    push!(plots,plot_u(ctx, normalizeU(softThreshold(S′[:,i] + ϵ*S_dot[:,i],μ)),  \n",
    "            lon_resolution, lat_resolution, bdata=bdata,\n",
    "            title=\"S\"*string(i)*\" + $(ϵ)̇S\"*string(i), \n",
    "            colorbar=colorbar, color=color, clims=(-1,1),\n",
    "            xticks=xticks, yticks=yticks))\n",
    "    push!(plots,plot_u(ctx, Sϵ[:,i],  \n",
    "            lon_resolution, lat_resolution, bdata=bdata,\n",
    "            title=\"Sϵ\"*string(i), \n",
    "            colorbar=colorbar, color=color, clims=(-1,1),\n",
    "            xticks=xticks, yticks=yticks))\n",
    "end\n",
    "Plots.plot(plots..., fmt=:png, dpi=500,layout=(nev,4),\n",
    "            xtickfontsize=2,ytickfontsize=2,xguidefontsize=2,yguidefontsize=2,legendfontsize=5,titlefontsize=5)"
   ]
  },
  {
   "cell_type": "code",
   "execution_count": null,
   "metadata": {},
   "outputs": [],
   "source": [
    "#again, select one index for closer inspection\n",
    "ev = 1"
   ]
  },
  {
   "cell_type": "code",
   "execution_count": null,
   "metadata": {},
   "outputs": [],
   "source": [
    "plots = []\n",
    "push!(plots,plot_u(ctx, S′[:,ev],  \n",
    "        lon_resolution, lat_resolution, bdata=bdata,\n",
    "        title=\"S\"*string(ev), \n",
    "        colorbar=colorbar, color=color, clims=(-maximum(abs.(S′[:,ev])),maximum(abs.(S′[:,ev]))),\n",
    "            xticks=xticks, yticks=yticks))\n",
    "push!(plots,plot_u(ctx, S_dot[:,ev],  \n",
    "        lon_resolution, lat_resolution, bdata=bdata,\n",
    "        title=\"̇S\"*string(ev), \n",
    "        colorbar=colorbar, color=color, clims=(-maximum(abs.(S_dot[:,ev])),maximum(abs.(S_dot[:,ev]))),\n",
    "            xticks=xticks, yticks=yticks))\n",
    "push!(plots,plot_u(ctx, S′[:,ev] + ϵ*S_dot[:,ev],  \n",
    "        lon_resolution, lat_resolution, bdata=bdata,\n",
    "        title=\"S\"*string(ev)*\" + $(ϵ)̇S\"*string(ev), \n",
    "        colorbar=colorbar, color=color, clims=(-maximum(abs.(S′[:,ev] + ϵ*S_dot[:,ev])),maximum(abs.(S′[:,ev] + ϵ*S_dot[:,ev]))),\n",
    "            xticks=xticks, yticks=yticks))\n",
    "push!(plots,plot_u(ctx, Sϵ′[:,ev],  \n",
    "        lon_resolution, lat_resolution, bdata=bdata,\n",
    "        title=\"Sϵ\"*string(ev), \n",
    "        colorbar=colorbar, color=color, clims=(-maximum(abs.(Sϵ′[:,ev])),maximum(abs.(Sϵ′[:,ev]))),\n",
    "            xticks=xticks, yticks=yticks))\n",
    "Plots.plot(plots..., fmt=:png, dpi=500,layout=(2,2),\n",
    "            xtickfontsize=2,ytickfontsize=2,xguidefontsize=2,yguidefontsize=2,legendfontsize=5,titlefontsize=5)"
   ]
  },
  {
   "cell_type": "code",
   "execution_count": null,
   "metadata": {},
   "outputs": [],
   "source": [
    "plots = []\n",
    "push!(plots,plot_u(ctx, S[:,ev],  \n",
    "        lon_resolution, lat_resolution, bdata=bdata,\n",
    "        title=\"S\"*string(ev), \n",
    "        colorbar=colorbar, color=color, clims=(-1,1),\n",
    "            xticks=xticks, yticks=yticks))\n",
    "push!(plots,plot_u(ctx, S_dot[:,ev],  \n",
    "        lon_resolution, lat_resolution, bdata=bdata,\n",
    "        title=\"̇S\"*string(ev), \n",
    "        colorbar=colorbar, color=color, clims=(-maximum(abs.(S_dot[:,ev])),maximum(abs.(S_dot[:,ev]))),\n",
    "            xticks=xticks, yticks=yticks))\n",
    "push!(plots,plot_u(ctx, normalizeU(softThreshold(S′[:,ev] + ϵ*S_dot[:,ev],μ)),  \n",
    "        lon_resolution, lat_resolution, bdata=bdata,\n",
    "        title=\"S\"*string(ev)*\" + $(ϵ)̇S\"*string(ev), \n",
    "        colorbar=colorbar, color=color, clims=(-1,1),\n",
    "            xticks=xticks, yticks=yticks))\n",
    "push!(plots,plot_u(ctx, Sϵ[:,ev],  \n",
    "        lon_resolution, lat_resolution, bdata=bdata,\n",
    "        title=\"Sϵ\"*string(ev), \n",
    "        colorbar=colorbar, color=color, clims=(-1,1),\n",
    "            xticks=xticks, yticks=yticks))\n",
    "Plots.plot(plots..., fmt=:png, dpi=500,layout=(2,2),\n",
    "            xtickfontsize=2,ytickfontsize=2,xguidefontsize=2,yguidefontsize=2,legendfontsize=5,titlefontsize=5)"
   ]
  },
  {
   "cell_type": "markdown",
   "metadata": {},
   "source": [
    "## Contourplots for SEBA"
   ]
  },
  {
   "cell_type": "markdown",
   "metadata": {},
   "source": [
    "Levelsets are a better way to actually asses the quality of the predictions visually."
   ]
  },
  {
   "cell_type": "code",
   "execution_count": null,
   "metadata": {},
   "outputs": [],
   "source": [
    "best_levelset, best_value = get_minimal_levelset(\n",
    "    ctx,S[:,ev],dynamic_cheeger_value, bdata=bdata,\n",
    "    n_candidates=1000,min=0)\n",
    "c_best = level(best_levelset)\n",
    "print(\"Dynamic Cheeger value:\\t\",best_value,\"\\n\")\n",
    "print(\"Levelset:\\t\\t\",c_best,\"\\n\")"
   ]
  },
  {
   "cell_type": "code",
   "execution_count": null,
   "metadata": {},
   "outputs": [],
   "source": [
    "plt.figure(figsize=(10,6), dpi=100)\n",
    "ax = plt.axes()\n",
    "ax.set(xlim=(-4,6), ylim=(-34,-28))\n",
    "plot_vectorfield(get_levelset_evolution(ctx,normalizeU(S′[:,ev]),S_dot[:,ev], bdata=bdata)...,ax,scale=0.01,step=4)\n",
    "curves           = lines(get_levelset(ctx, S[:,ev],c_best, bdata=bdata))\n",
    "curves_epsilon   = lines(get_levelset(ctx, Sϵ[:,ev],c_best, bdata=bdata))\n",
    "curves_predicted = lines(get_levelset(ctx, normalizeU(softThreshold(S′[:,ev] + ϵ*S_dot[:,ev],μ)),c_best, bdata=bdata))\n",
    "\n",
    "for c in curves\n",
    "    ax.plot(coordinates(c)...,color=:black,linewidth=2, label=\"Levelset for c of S\")\n",
    "end\n",
    "for c in curves_epsilon\n",
    "    ax.plot(coordinates(c)...,color=:red,linestyle=\"--\",linewidth=2, label=\"Levelset for c of Sϵ\")\n",
    "end\n",
    "for c in curves_predicted\n",
    "    ax.plot(coordinates(c)...,color=:lightgreen,linewidth=2, label=\"Levelset for c of S + ϵ̇S\")\n",
    "end\n",
    "ax.set_title(\"c=$(round(c_best,digits=4))\")\n",
    "ax.legend(loc=1);"
   ]
  },
  {
   "cell_type": "code",
   "execution_count": null,
   "metadata": {},
   "outputs": [],
   "source": []
  }
 ],
 "metadata": {
  "kernelspec": {
   "display_name": "Julia 1.4.2",
   "language": "julia",
   "name": "julia-1.4"
  },
  "language_info": {
   "file_extension": ".jl",
   "mimetype": "application/julia",
   "name": "julia",
   "version": "1.4.2"
  }
 },
 "nbformat": 4,
 "nbformat_minor": 4
}
