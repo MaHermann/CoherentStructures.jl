{
 "cells": [
  {
   "cell_type": "markdown",
   "metadata": {},
   "source": [
    "# Using the SEBA Algorithm together with Linear Response for the Ocean System (SEBA Part 2)"
   ]
  },
  {
   "cell_type": "markdown",
   "metadata": {},
   "source": [
    "This is the second part of a two notebook discussion of using SEBA together with Linear Response in Julia. In the first part, we illustrated the ideas on the conceptionally simpler Double Gyre System, and now we will try to apply this to a system determined by real world ocean data. As parameter we will use the **stoptime**, just as in the Double Gyre example, not some more sophisticated parameter like wind etc., in order to increase the difficulty just one step at a time."
   ]
  },
  {
   "cell_type": "markdown",
   "metadata": {},
   "source": [
    "## Setup"
   ]
  },
  {
   "cell_type": "code",
   "execution_count": 1,
   "metadata": {},
   "outputs": [
    {
     "data": {
      "text/plain": [
       "Main.CoherentStructures"
      ]
     },
     "execution_count": 1,
     "metadata": {},
     "output_type": "execute_result"
    }
   ],
   "source": [
    "include(\"../../src/CoherentStructures.jl\")"
   ]
  },
  {
   "cell_type": "code",
   "execution_count": 2,
   "metadata": {},
   "outputs": [],
   "source": [
    "using StreamMacros, Main.CoherentStructures\n",
    "using Tensors, Arpack, JLD2, OrdinaryDiffEq\n",
    "using Plots"
   ]
  },
  {
   "cell_type": "code",
   "execution_count": 3,
   "metadata": {},
   "outputs": [],
   "source": [
    "JLD2.@load(\"Ocean_geostrophic_velocity.jld2\");\n",
    "UV = interpolateVF(Lon, Lat, Time, UT, VT);"
   ]
  },
  {
   "cell_type": "code",
   "execution_count": 69,
   "metadata": {},
   "outputs": [],
   "source": [
    "# Parameters\n",
    "grid_resolution        = 200\n",
    "quadrature_order       = 5\n",
    "ϵ                      = 5               # perturbation\n",
    "nev                    = 10               # number of eigenvalues\n",
    "t_initial              = minimum(Time)  \n",
    "t_end                  = t_initial+75     # parameter value corresponding to ϵ=0\n",
    "solver_tolerance       = 1e-8\n",
    "solver                 = OrdinaryDiffEq.BS5();"
   ]
  },
  {
   "cell_type": "code",
   "execution_count": 42,
   "metadata": {},
   "outputs": [
    {
     "data": {
      "text/plain": [
       "T (generic function with 1 method)"
      ]
     },
     "execution_count": 42,
     "metadata": {},
     "output_type": "execute_result"
    }
   ],
   "source": [
    "T(x, param) = flow(interp_rhs, x, [t_initial, t_end + param], p=UV,\n",
    "        tolerance=solver_tolerance,solver=solver)[end]"
   ]
  },
  {
   "cell_type": "code",
   "execution_count": 6,
   "metadata": {},
   "outputs": [],
   "source": [
    "# standard domain from the literature\n",
    "LL, UR = (-4.0, -34.0), (6.0, -28.0)\n",
    "lon_resolution = grid_resolution\n",
    "lat_resolution = Integer(floor((UR[2] - LL[2])/(UR[1] - LL[1])*grid_resolution))\n",
    "ctx, _ = regularTriangularGrid((lon_resolution, lat_resolution), \n",
    "        LL, UR, quadrature_order = quadrature_order);\n",
    "# homogeneous Dirichlet boundary conditions to avoid intersection with the boundary of the domain\n",
    "bdata = getHomDBCS(ctx, \"all\");"
   ]
  },
  {
   "cell_type": "markdown",
   "metadata": {},
   "source": [
    "## Compute Eigenfunctions and Linear Response"
   ]
  },
  {
   "cell_type": "code",
   "execution_count": 7,
   "metadata": {},
   "outputs": [],
   "source": [
    "M = assembleMassMatrix(ctx, bdata=bdata);"
   ]
  },
  {
   "cell_type": "code",
   "execution_count": 8,
   "metadata": {},
   "outputs": [
    {
     "name": "stdout",
     "output_type": "stream",
     "text": [
      " 89.522580 seconds (91.93 M allocations: 5.215 GiB, 1.49% gc time)\n"
     ]
    }
   ],
   "source": [
    "# assemble K\n",
    "DT₀(x) = linearized_flow_autodiff(y -> T(y,0) , x)\n",
    "A₀(x) = 0.5*(one(Tensor{2,2}) + dott(inv(DT₀(x))))\n",
    "@time K = assembleStiffnessMatrix(ctx, A₀, bdata=bdata);"
   ]
  },
  {
   "cell_type": "code",
   "execution_count": 70,
   "metadata": {},
   "outputs": [],
   "source": [
    "DTϵ(x) = linearized_flow_autodiff(y -> T(y,ϵ) , x)\n",
    "Aϵ(x) = 0.5*(one(Tensor{2,2}) + dott(inv(DTϵ(x))))\n",
    "Kϵ = assembleStiffnessMatrix(ctx, Aϵ, bdata=bdata);"
   ]
  },
  {
   "cell_type": "code",
   "execution_count": 10,
   "metadata": {},
   "outputs": [
    {
     "name": "stdout",
     "output_type": "stream",
     "text": [
      "1100.068378 seconds (111.05 M allocations: 8.897 GiB, 0.13% gc time)\n"
     ]
    }
   ],
   "source": [
    "# assemble the linear response matrix L\n",
    "Adot = x -> linear_response_tensor(T, x, 0)\n",
    "@time L = assembleStiffnessMatrix(ctx, Adot, bdata=bdata);"
   ]
  },
  {
   "cell_type": "code",
   "execution_count": null,
   "metadata": {},
   "outputs": [],
   "source": [
    "normalizeUL2(u,M) = u.*sign.(sum(u))./ sqrt(u'*M*u);\n",
    "λ₀, u₀ = eigs(K, M, which=:SM, nev=nev)\n",
    "@assert all(imag.(u₀) .== 0)\n",
    "@assert all(imag.(λ₀) .== 0)\n",
    "u₀ = real.(u₀)\n",
    "λ₀ = real.(λ₀)\n",
    "for i in 1:size(u₀)[2]\n",
    "    u₀[:,i] = normalizeUL2(u₀[:,i],M)\n",
    "end\n",
    "\n",
    "λϵ, uϵ = eigs(Kϵ, M, which=:SM, nev=nev)\n",
    "@assert all(imag.(uϵ) .== 0)\n",
    "@assert all(imag.(λϵ) .== 0)\n",
    "uϵ = real.(uϵ)\n",
    "λϵ = real.(λϵ)\n",
    "for i in 1:size(uϵ)[2]\n",
    "    uϵ[:,i] = normalizeUL2(uϵ[:,i],M)\n",
    "end\n",
    "\n",
    "u_dot = zero(u₀)\n",
    "λ_dot = zero(λ₀)\n",
    "for i in 1:size(u₀)[2] \n",
    "    u_dot[:,i], λ_dot[i] = getLinearResponse(u₀[:,i],λ₀[i],M,K,L)\n",
    "end"
   ]
  },
  {
   "cell_type": "markdown",
   "metadata": {},
   "source": [
    "## Some first plots"
   ]
  },
  {
   "cell_type": "code",
   "execution_count": 12,
   "metadata": {},
   "outputs": [
    {
     "data": {
      "image/svg+xml": [
       "<?xml version=\"1.0\" encoding=\"utf-8\"?>\n",
       "<svg xmlns=\"http://www.w3.org/2000/svg\" xmlns:xlink=\"http://www.w3.org/1999/xlink\" width=\"600\" height=\"400\" viewBox=\"0 0 2400 1600\">\n",
       "<defs>\n",
       "  <clipPath id=\"clip410\">\n",
       "    <rect x=\"0\" y=\"0\" width=\"2400\" height=\"1600\"/>\n",
       "  </clipPath>\n",
       "</defs>\n",
       "<path clip-path=\"url(#clip410)\" d=\"\n",
       "M0 1600 L2400 1600 L2400 0 L0 0  Z\n",
       "  \" fill=\"#ffffff\" fill-rule=\"evenodd\" fill-opacity=\"1\"/>\n",
       "<defs>\n",
       "  <clipPath id=\"clip411\">\n",
       "    <rect x=\"480\" y=\"0\" width=\"1681\" height=\"1600\"/>\n",
       "  </clipPath>\n",
       "</defs>\n",
       "<path clip-path=\"url(#clip410)\" d=\"\n",
       "M171.181 1486.45 L2352.76 1486.45 L2352.76 47.2441 L171.181 47.2441  Z\n",
       "  \" fill=\"#ffffff\" fill-rule=\"evenodd\" fill-opacity=\"1\"/>\n",
       "<defs>\n",
       "  <clipPath id=\"clip412\">\n",
       "    <rect x=\"171\" y=\"47\" width=\"2183\" height=\"1440\"/>\n",
       "  </clipPath>\n",
       "</defs>\n",
       "<polyline clip-path=\"url(#clip412)\" style=\"stroke:#000000; stroke-width:2; stroke-opacity:0.1; fill:none\" points=\"\n",
       "  461.601,1486.45 461.601,47.2441 \n",
       "  \"/>\n",
       "<polyline clip-path=\"url(#clip412)\" style=\"stroke:#000000; stroke-width:2; stroke-opacity:0.1; fill:none\" points=\"\n",
       "  918.954,1486.45 918.954,47.2441 \n",
       "  \"/>\n",
       "<polyline clip-path=\"url(#clip412)\" style=\"stroke:#000000; stroke-width:2; stroke-opacity:0.1; fill:none\" points=\"\n",
       "  1376.31,1486.45 1376.31,47.2441 \n",
       "  \"/>\n",
       "<polyline clip-path=\"url(#clip412)\" style=\"stroke:#000000; stroke-width:2; stroke-opacity:0.1; fill:none\" points=\"\n",
       "  1833.66,1486.45 1833.66,47.2441 \n",
       "  \"/>\n",
       "<polyline clip-path=\"url(#clip412)\" style=\"stroke:#000000; stroke-width:2; stroke-opacity:0.1; fill:none\" points=\"\n",
       "  2291.01,1486.45 2291.01,47.2441 \n",
       "  \"/>\n",
       "<polyline clip-path=\"url(#clip410)\" style=\"stroke:#000000; stroke-width:4; stroke-opacity:1; fill:none\" points=\"\n",
       "  171.181,1486.45 2352.76,1486.45 \n",
       "  \"/>\n",
       "<polyline clip-path=\"url(#clip410)\" style=\"stroke:#000000; stroke-width:4; stroke-opacity:1; fill:none\" points=\"\n",
       "  461.601,1486.45 461.601,1469.18 \n",
       "  \"/>\n",
       "<polyline clip-path=\"url(#clip410)\" style=\"stroke:#000000; stroke-width:4; stroke-opacity:1; fill:none\" points=\"\n",
       "  918.954,1486.45 918.954,1469.18 \n",
       "  \"/>\n",
       "<polyline clip-path=\"url(#clip410)\" style=\"stroke:#000000; stroke-width:4; stroke-opacity:1; fill:none\" points=\"\n",
       "  1376.31,1486.45 1376.31,1469.18 \n",
       "  \"/>\n",
       "<polyline clip-path=\"url(#clip410)\" style=\"stroke:#000000; stroke-width:4; stroke-opacity:1; fill:none\" points=\"\n",
       "  1833.66,1486.45 1833.66,1469.18 \n",
       "  \"/>\n",
       "<polyline clip-path=\"url(#clip410)\" style=\"stroke:#000000; stroke-width:4; stroke-opacity:1; fill:none\" points=\"\n",
       "  2291.01,1486.45 2291.01,1469.18 \n",
       "  \"/>\n",
       "<path clip-path=\"url(#clip410)\" d=\"M 0 0 M456.254 1543.18 L472.573 1543.18 L472.573 1547.12 L450.629 1547.12 L450.629 1543.18 Q453.291 1540.43 457.874 1535.8 Q462.48 1531.15 463.661 1529.81 Q465.906 1527.28 466.786 1525.55 Q467.689 1523.79 467.689 1522.1 Q467.689 1519.34 465.744 1517.61 Q463.823 1515.87 460.721 1515.87 Q458.522 1515.87 456.068 1516.63 Q453.638 1517.4 450.86 1518.95 L450.86 1514.23 Q453.684 1513.09 456.138 1512.51 Q458.591 1511.93 460.629 1511.93 Q465.999 1511.93 469.193 1514.62 Q472.388 1517.31 472.388 1521.8 Q472.388 1523.93 471.578 1525.85 Q470.79 1527.74 468.684 1530.34 Q468.105 1531.01 465.003 1534.23 Q461.902 1537.42 456.254 1543.18 Z\" fill=\"#000000\" fill-rule=\"evenodd\" fill-opacity=\"1\" /><path clip-path=\"url(#clip410)\" d=\"M 0 0 M921.963 1516.63 L910.158 1535.08 L921.963 1535.08 L921.963 1516.63 M920.736 1512.56 L926.616 1512.56 L926.616 1535.08 L931.546 1535.08 L931.546 1538.97 L926.616 1538.97 L926.616 1547.12 L921.963 1547.12 L921.963 1538.97 L906.361 1538.97 L906.361 1534.46 L920.736 1512.56 Z\" fill=\"#000000\" fill-rule=\"evenodd\" fill-opacity=\"1\" /><path clip-path=\"url(#clip410)\" d=\"M 0 0 M1376.71 1527.98 Q1373.56 1527.98 1371.71 1530.13 Q1369.88 1532.28 1369.88 1536.03 Q1369.88 1539.76 1371.71 1541.93 Q1373.56 1544.09 1376.71 1544.09 Q1379.86 1544.09 1381.69 1541.93 Q1383.54 1539.76 1383.54 1536.03 Q1383.54 1532.28 1381.69 1530.13 Q1379.86 1527.98 1376.71 1527.98 M1385.99 1513.32 L1385.99 1517.58 Q1384.24 1516.75 1382.43 1516.31 Q1380.65 1515.87 1378.89 1515.87 Q1374.26 1515.87 1371.8 1519 Q1369.37 1522.12 1369.03 1528.44 Q1370.39 1526.43 1372.45 1525.36 Q1374.51 1524.27 1376.99 1524.27 Q1382.2 1524.27 1385.21 1527.44 Q1388.24 1530.59 1388.24 1536.03 Q1388.24 1541.36 1385.09 1544.57 Q1381.94 1547.79 1376.71 1547.79 Q1370.72 1547.79 1367.55 1543.21 Q1364.37 1538.6 1364.37 1529.87 Q1364.37 1521.68 1368.26 1516.82 Q1372.15 1511.93 1378.7 1511.93 Q1380.46 1511.93 1382.24 1512.28 Q1384.05 1512.63 1385.99 1513.32 Z\" fill=\"#000000\" fill-rule=\"evenodd\" fill-opacity=\"1\" /><path clip-path=\"url(#clip410)\" d=\"M 0 0 M1833.66 1530.71 Q1830.33 1530.71 1828.41 1532.49 Q1826.51 1534.27 1826.51 1537.4 Q1826.51 1540.52 1828.41 1542.31 Q1830.33 1544.09 1833.66 1544.09 Q1836.99 1544.09 1838.91 1542.31 Q1840.84 1540.5 1840.84 1537.4 Q1840.84 1534.27 1838.91 1532.49 Q1837.02 1530.71 1833.66 1530.71 M1828.98 1528.72 Q1825.97 1527.98 1824.29 1525.92 Q1822.62 1523.86 1822.62 1520.89 Q1822.62 1516.75 1825.56 1514.34 Q1828.52 1511.93 1833.66 1511.93 Q1838.82 1511.93 1841.76 1514.34 Q1844.7 1516.75 1844.7 1520.89 Q1844.7 1523.86 1843.01 1525.92 Q1841.35 1527.98 1838.36 1528.72 Q1841.74 1529.5 1843.61 1531.8 Q1845.51 1534.09 1845.51 1537.4 Q1845.51 1542.42 1842.43 1545.11 Q1839.38 1547.79 1833.66 1547.79 Q1827.94 1547.79 1824.86 1545.11 Q1821.81 1542.42 1821.81 1537.4 Q1821.81 1534.09 1823.71 1531.8 Q1825.6 1529.5 1828.98 1528.72 M1827.27 1521.33 Q1827.27 1524.02 1828.94 1525.52 Q1830.63 1527.03 1833.66 1527.03 Q1836.67 1527.03 1838.36 1525.52 Q1840.07 1524.02 1840.07 1521.33 Q1840.07 1518.65 1838.36 1517.14 Q1836.67 1515.64 1833.66 1515.64 Q1830.63 1515.64 1828.94 1517.14 Q1827.27 1518.65 1827.27 1521.33 Z\" fill=\"#000000\" fill-rule=\"evenodd\" fill-opacity=\"1\" /><path clip-path=\"url(#clip410)\" d=\"M 0 0 M2267.89 1543.18 L2275.53 1543.18 L2275.53 1516.82 L2267.22 1518.49 L2267.22 1514.23 L2275.48 1512.56 L2280.16 1512.56 L2280.16 1543.18 L2287.8 1543.18 L2287.8 1547.12 L2267.89 1547.12 L2267.89 1543.18 Z\" fill=\"#000000\" fill-rule=\"evenodd\" fill-opacity=\"1\" /><path clip-path=\"url(#clip410)\" d=\"M 0 0 M2302.87 1515.64 Q2299.25 1515.64 2297.43 1519.2 Q2295.62 1522.75 2295.62 1529.87 Q2295.62 1536.98 2297.43 1540.55 Q2299.25 1544.09 2302.87 1544.09 Q2306.5 1544.09 2308.3 1540.55 Q2310.13 1536.98 2310.13 1529.87 Q2310.13 1522.75 2308.3 1519.2 Q2306.5 1515.64 2302.87 1515.64 M2302.87 1511.93 Q2308.68 1511.93 2311.73 1516.54 Q2314.81 1521.12 2314.81 1529.87 Q2314.81 1538.6 2311.73 1543.21 Q2308.68 1547.79 2302.87 1547.79 Q2297.05 1547.79 2293.98 1543.21 Q2290.92 1538.6 2290.92 1529.87 Q2290.92 1521.12 2293.98 1516.54 Q2297.05 1511.93 2302.87 1511.93 Z\" fill=\"#000000\" fill-rule=\"evenodd\" fill-opacity=\"1\" /><polyline clip-path=\"url(#clip412)\" style=\"stroke:#000000; stroke-width:2; stroke-opacity:0.1; fill:none\" points=\"\n",
       "  171.181,1368.62 2352.76,1368.62 \n",
       "  \"/>\n",
       "<polyline clip-path=\"url(#clip412)\" style=\"stroke:#000000; stroke-width:2; stroke-opacity:0.1; fill:none\" points=\"\n",
       "  171.181,1038.16 2352.76,1038.16 \n",
       "  \"/>\n",
       "<polyline clip-path=\"url(#clip412)\" style=\"stroke:#000000; stroke-width:2; stroke-opacity:0.1; fill:none\" points=\"\n",
       "  171.181,707.7 2352.76,707.7 \n",
       "  \"/>\n",
       "<polyline clip-path=\"url(#clip412)\" style=\"stroke:#000000; stroke-width:2; stroke-opacity:0.1; fill:none\" points=\"\n",
       "  171.181,377.24 2352.76,377.24 \n",
       "  \"/>\n",
       "<polyline clip-path=\"url(#clip410)\" style=\"stroke:#000000; stroke-width:4; stroke-opacity:1; fill:none\" points=\"\n",
       "  171.181,1486.45 171.181,47.2441 \n",
       "  \"/>\n",
       "<polyline clip-path=\"url(#clip410)\" style=\"stroke:#000000; stroke-width:4; stroke-opacity:1; fill:none\" points=\"\n",
       "  171.181,1368.62 197.36,1368.62 \n",
       "  \"/>\n",
       "<polyline clip-path=\"url(#clip410)\" style=\"stroke:#000000; stroke-width:4; stroke-opacity:1; fill:none\" points=\"\n",
       "  171.181,1038.16 197.36,1038.16 \n",
       "  \"/>\n",
       "<polyline clip-path=\"url(#clip410)\" style=\"stroke:#000000; stroke-width:4; stroke-opacity:1; fill:none\" points=\"\n",
       "  171.181,707.7 197.36,707.7 \n",
       "  \"/>\n",
       "<polyline clip-path=\"url(#clip410)\" style=\"stroke:#000000; stroke-width:4; stroke-opacity:1; fill:none\" points=\"\n",
       "  171.181,377.24 197.36,377.24 \n",
       "  \"/>\n",
       "<path clip-path=\"url(#clip410)\" d=\"M 0 0 M52.4736 1369.07 L82.1494 1369.07 L82.1494 1373.01 L52.4736 1373.01 L52.4736 1369.07 Z\" fill=\"#000000\" fill-rule=\"evenodd\" fill-opacity=\"1\" /><path clip-path=\"url(#clip410)\" d=\"M 0 0 M87.2651 1351.34 L105.621 1351.34 L105.621 1355.28 L91.5475 1355.28 L91.5475 1363.75 Q92.566 1363.4 93.5845 1363.24 Q94.603 1363.05 95.6215 1363.05 Q101.409 1363.05 104.788 1366.23 Q108.168 1369.4 108.168 1374.81 Q108.168 1380.39 104.696 1383.49 Q101.223 1386.57 94.9039 1386.57 Q92.728 1386.57 90.4595 1386.2 Q88.2141 1385.83 85.8068 1385.09 L85.8068 1380.39 Q87.8901 1381.53 90.1123 1382.08 Q92.3345 1382.64 94.8113 1382.64 Q98.8159 1382.64 101.154 1380.53 Q103.492 1378.42 103.492 1374.81 Q103.492 1371.2 101.154 1369.1 Q98.8159 1366.99 94.8113 1366.99 Q92.9363 1366.99 91.0614 1367.41 Q89.2095 1367.82 87.2651 1368.7 L87.2651 1351.34 Z\" fill=\"#000000\" fill-rule=\"evenodd\" fill-opacity=\"1\" /><path clip-path=\"url(#clip410)\" d=\"M 0 0 M123.237 1354.42 Q119.626 1354.42 117.797 1357.98 Q115.992 1361.53 115.992 1368.66 Q115.992 1375.76 117.797 1379.33 Q119.626 1382.87 123.237 1382.87 Q126.871 1382.87 128.677 1379.33 Q130.506 1375.76 130.506 1368.66 Q130.506 1361.53 128.677 1357.98 Q126.871 1354.42 123.237 1354.42 M123.237 1350.72 Q129.047 1350.72 132.103 1355.32 Q135.181 1359.91 135.181 1368.66 Q135.181 1377.38 132.103 1381.99 Q129.047 1386.57 123.237 1386.57 Q117.427 1386.57 114.348 1381.99 Q111.293 1377.38 111.293 1368.66 Q111.293 1359.91 114.348 1355.32 Q117.427 1350.72 123.237 1350.72 Z\" fill=\"#000000\" fill-rule=\"evenodd\" fill-opacity=\"1\" /><path clip-path=\"url(#clip410)\" d=\"M 0 0 M50.9921 1038.61 L80.6679 1038.61 L80.6679 1042.55 L50.9921 1042.55 L50.9921 1038.61 Z\" fill=\"#000000\" fill-rule=\"evenodd\" fill-opacity=\"1\" /><path clip-path=\"url(#clip410)\" d=\"M 0 0 M98.5845 1024.95 L86.779 1043.4 L98.5845 1043.4 L98.5845 1024.95 M97.3576 1020.88 L103.237 1020.88 L103.237 1043.4 L108.168 1043.4 L108.168 1047.29 L103.237 1047.29 L103.237 1055.44 L98.5845 1055.44 L98.5845 1047.29 L82.9827 1047.29 L82.9827 1042.78 L97.3576 1020.88 Z\" fill=\"#000000\" fill-rule=\"evenodd\" fill-opacity=\"1\" /><path clip-path=\"url(#clip410)\" d=\"M 0 0 M123.237 1023.96 Q119.626 1023.96 117.797 1027.52 Q115.992 1031.07 115.992 1038.2 Q115.992 1045.3 117.797 1048.87 Q119.626 1052.41 123.237 1052.41 Q126.871 1052.41 128.677 1048.87 Q130.506 1045.3 130.506 1038.2 Q130.506 1031.07 128.677 1027.52 Q126.871 1023.96 123.237 1023.96 M123.237 1020.26 Q129.047 1020.26 132.103 1024.86 Q135.181 1029.45 135.181 1038.2 Q135.181 1046.92 132.103 1051.53 Q129.047 1056.11 123.237 1056.11 Q117.427 1056.11 114.348 1051.53 Q111.293 1046.92 111.293 1038.2 Q111.293 1029.45 114.348 1024.86 Q117.427 1020.26 123.237 1020.26 Z\" fill=\"#000000\" fill-rule=\"evenodd\" fill-opacity=\"1\" /><path clip-path=\"url(#clip410)\" d=\"M 0 0 M52.1264 708.152 L81.8021 708.152 L81.8021 712.087 L52.1264 712.087 L52.1264 708.152 Z\" fill=\"#000000\" fill-rule=\"evenodd\" fill-opacity=\"1\" /><path clip-path=\"url(#clip410)\" d=\"M 0 0 M101.038 706.346 Q104.395 707.064 106.27 709.332 Q108.168 711.601 108.168 714.934 Q108.168 720.05 104.649 722.851 Q101.131 725.651 94.6493 725.651 Q92.4734 725.651 90.1586 725.212 Q87.8669 724.795 85.4132 723.938 L85.4132 719.425 Q87.3577 720.559 89.6725 721.138 Q91.9873 721.716 94.5104 721.716 Q98.9085 721.716 101.2 719.98 Q103.515 718.244 103.515 714.934 Q103.515 711.878 101.362 710.165 Q99.2326 708.429 95.4132 708.429 L91.3854 708.429 L91.3854 704.587 L95.5984 704.587 Q99.0474 704.587 100.876 703.221 Q102.705 701.832 102.705 699.24 Q102.705 696.578 100.807 695.165 Q98.9317 693.73 95.4132 693.73 Q93.4919 693.73 91.2928 694.147 Q89.0938 694.564 86.4549 695.443 L86.4549 691.277 Q89.1169 690.536 91.4317 690.166 Q93.7697 689.795 95.8298 689.795 Q101.154 689.795 104.256 692.226 Q107.358 694.633 107.358 698.753 Q107.358 701.624 105.714 703.615 Q104.071 705.582 101.038 706.346 Z\" fill=\"#000000\" fill-rule=\"evenodd\" fill-opacity=\"1\" /><path clip-path=\"url(#clip410)\" d=\"M 0 0 M123.237 693.499 Q119.626 693.499 117.797 697.064 Q115.992 700.605 115.992 707.735 Q115.992 714.841 117.797 718.406 Q119.626 721.948 123.237 721.948 Q126.871 721.948 128.677 718.406 Q130.506 714.841 130.506 707.735 Q130.506 700.605 128.677 697.064 Q126.871 693.499 123.237 693.499 M123.237 689.795 Q129.047 689.795 132.103 694.402 Q135.181 698.985 135.181 707.735 Q135.181 716.462 132.103 721.068 Q129.047 725.651 123.237 725.651 Q117.427 725.651 114.348 721.068 Q111.293 716.462 111.293 707.735 Q111.293 698.985 114.348 694.402 Q117.427 689.795 123.237 689.795 Z\" fill=\"#000000\" fill-rule=\"evenodd\" fill-opacity=\"1\" /><path clip-path=\"url(#clip410)\" d=\"M 0 0 M53.0754 377.691 L82.7512 377.691 L82.7512 381.626 L53.0754 381.626 L53.0754 377.691 Z\" fill=\"#000000\" fill-rule=\"evenodd\" fill-opacity=\"1\" /><path clip-path=\"url(#clip410)\" d=\"M 0 0 M91.8484 390.584 L108.168 390.584 L108.168 394.52 L86.2234 394.52 L86.2234 390.584 Q88.8854 387.83 93.4688 383.2 Q98.0752 378.547 99.2558 377.205 Q101.501 374.682 102.381 372.946 Q103.284 371.186 103.284 369.497 Q103.284 366.742 101.339 365.006 Q99.4178 363.27 96.316 363.27 Q94.1169 363.27 91.6632 364.034 Q89.2327 364.798 86.4549 366.348 L86.4549 361.626 Q89.279 360.492 91.7326 359.913 Q94.1863 359.335 96.2234 359.335 Q101.594 359.335 104.788 362.02 Q107.983 364.705 107.983 369.196 Q107.983 371.325 107.172 373.247 Q106.385 375.145 104.279 377.737 Q103.7 378.409 100.598 381.626 Q97.4965 384.821 91.8484 390.584 Z\" fill=\"#000000\" fill-rule=\"evenodd\" fill-opacity=\"1\" /><path clip-path=\"url(#clip410)\" d=\"M 0 0 M123.237 363.038 Q119.626 363.038 117.797 366.603 Q115.992 370.145 115.992 377.274 Q115.992 384.381 117.797 387.946 Q119.626 391.487 123.237 391.487 Q126.871 391.487 128.677 387.946 Q130.506 384.381 130.506 377.274 Q130.506 370.145 128.677 366.603 Q126.871 363.038 123.237 363.038 M123.237 359.335 Q129.047 359.335 132.103 363.941 Q135.181 368.524 135.181 377.274 Q135.181 386.001 132.103 390.608 Q129.047 395.191 123.237 395.191 Q117.427 395.191 114.348 390.608 Q111.293 386.001 111.293 377.274 Q111.293 368.524 114.348 363.941 Q117.427 359.335 123.237 359.335 Z\" fill=\"#000000\" fill-rule=\"evenodd\" fill-opacity=\"1\" /><circle clip-path=\"url(#clip412)\" cx=\"232.924\" cy=\"87.9763\" r=\"14\" fill=\"#009af9\" fill-rule=\"evenodd\" fill-opacity=\"1\" stroke=\"#000000\" stroke-opacity=\"1\" stroke-width=\"3.2\"/>\n",
       "<circle clip-path=\"url(#clip412)\" cx=\"461.601\" cy=\"105.929\" r=\"14\" fill=\"#009af9\" fill-rule=\"evenodd\" fill-opacity=\"1\" stroke=\"#000000\" stroke-opacity=\"1\" stroke-width=\"3.2\"/>\n",
       "<circle clip-path=\"url(#clip412)\" cx=\"690.277\" cy=\"174.096\" r=\"14\" fill=\"#009af9\" fill-rule=\"evenodd\" fill-opacity=\"1\" stroke=\"#000000\" stroke-opacity=\"1\" stroke-width=\"3.2\"/>\n",
       "<circle clip-path=\"url(#clip412)\" cx=\"918.954\" cy=\"645.517\" r=\"14\" fill=\"#009af9\" fill-rule=\"evenodd\" fill-opacity=\"1\" stroke=\"#000000\" stroke-opacity=\"1\" stroke-width=\"3.2\"/>\n",
       "<circle clip-path=\"url(#clip412)\" cx=\"1147.63\" cy=\"1050.4\" r=\"14\" fill=\"#009af9\" fill-rule=\"evenodd\" fill-opacity=\"1\" stroke=\"#000000\" stroke-opacity=\"1\" stroke-width=\"3.2\"/>\n",
       "<circle clip-path=\"url(#clip412)\" cx=\"1376.31\" cy=\"1111.87\" r=\"14\" fill=\"#009af9\" fill-rule=\"evenodd\" fill-opacity=\"1\" stroke=\"#000000\" stroke-opacity=\"1\" stroke-width=\"3.2\"/>\n",
       "<circle clip-path=\"url(#clip412)\" cx=\"1604.98\" cy=\"1231.3\" r=\"14\" fill=\"#009af9\" fill-rule=\"evenodd\" fill-opacity=\"1\" stroke=\"#000000\" stroke-opacity=\"1\" stroke-width=\"3.2\"/>\n",
       "<circle clip-path=\"url(#clip412)\" cx=\"1833.66\" cy=\"1323.23\" r=\"14\" fill=\"#009af9\" fill-rule=\"evenodd\" fill-opacity=\"1\" stroke=\"#000000\" stroke-opacity=\"1\" stroke-width=\"3.2\"/>\n",
       "<circle clip-path=\"url(#clip412)\" cx=\"2062.34\" cy=\"1380.06\" r=\"14\" fill=\"#009af9\" fill-rule=\"evenodd\" fill-opacity=\"1\" stroke=\"#000000\" stroke-opacity=\"1\" stroke-width=\"3.2\"/>\n",
       "<circle clip-path=\"url(#clip412)\" cx=\"2291.01\" cy=\"1445.72\" r=\"14\" fill=\"#009af9\" fill-rule=\"evenodd\" fill-opacity=\"1\" stroke=\"#000000\" stroke-opacity=\"1\" stroke-width=\"3.2\"/>\n",
       "<path clip-path=\"url(#clip410)\" d=\"\n",
       "M1986.62 216.178 L2280.04 216.178 L2280.04 95.2176 L1986.62 95.2176  Z\n",
       "  \" fill=\"#ffffff\" fill-rule=\"evenodd\" fill-opacity=\"1\"/>\n",
       "<polyline clip-path=\"url(#clip410)\" style=\"stroke:#000000; stroke-width:4; stroke-opacity:1; fill:none\" points=\"\n",
       "  1986.62,216.178 2280.04,216.178 2280.04,95.2176 1986.62,95.2176 1986.62,216.178 \n",
       "  \"/>\n",
       "<circle clip-path=\"url(#clip410)\" cx=\"2083.58\" cy=\"155.698\" r=\"23\" fill=\"#009af9\" fill-rule=\"evenodd\" fill-opacity=\"1\" stroke=\"#000000\" stroke-opacity=\"1\" stroke-width=\"5.12\"/>\n",
       "<path clip-path=\"url(#clip410)\" d=\"M 0 0 M2194.38 175.385 Q2192.58 180.015 2190.86 181.427 Q2189.15 182.839 2186.28 182.839 L2182.88 182.839 L2182.88 179.274 L2185.38 179.274 Q2187.14 179.274 2188.11 178.44 Q2189.08 177.607 2190.26 174.505 L2191.03 172.561 L2180.54 147.052 L2185.05 147.052 L2193.15 167.329 L2201.26 147.052 L2205.77 147.052 L2194.38 175.385 Z\" fill=\"#000000\" fill-rule=\"evenodd\" fill-opacity=\"1\" /><path clip-path=\"url(#clip410)\" d=\"M 0 0 M2211.65 169.042 L2219.29 169.042 L2219.29 142.677 L2210.98 144.343 L2210.98 140.084 L2219.24 138.418 L2223.92 138.418 L2223.92 169.042 L2231.56 169.042 L2231.56 172.978 L2211.65 172.978 L2211.65 169.042 Z\" fill=\"#000000\" fill-rule=\"evenodd\" fill-opacity=\"1\" /></svg>\n"
      ]
     },
     "execution_count": 12,
     "metadata": {},
     "output_type": "execute_result"
    }
   ],
   "source": [
    "#select number of evs\n",
    "Plots.scatter(1:nev,λ₀)"
   ]
  },
  {
   "cell_type": "code",
   "execution_count": null,
   "metadata": {},
   "outputs": [],
   "source": [
    "#Eigengap after 3 eigenvalues\n",
    "nev = 3\n",
    "u₀ = u₀[:,1:nev]\n",
    "λ₀ = λ₀[1:nev]\n",
    "uϵ = uϵ[:,1:nev]\n",
    "λϵ = λϵ[1:nev]\n",
    "u_dot = u_dot[:,1:nev]\n",
    "λ_dot = λ_dot[1:nev];"
   ]
  },
  {
   "cell_type": "code",
   "execution_count": null,
   "metadata": {},
   "outputs": [],
   "source": [
    "for i in 1:nev\n",
    "    print(\"exact ev0\"*string(i)*\": \"*string(round(λ₀[i],digits=5))*\n",
    "        \"\\t exact evϵ\"*string(i)*\": \"*string(round(λϵ[i],digits=5))*\n",
    "        \"\\t predicted ev\"*string(i)*\": \"*string(round(λ₀[i] + ϵ*λ_dot[i],digits=5))*\n",
    "        \"\\t relative error: \"*string(round(abs(λ₀[i] + ϵ*λ_dot[i] - λϵ[i])/abs(λϵ[i]),digits=5))*\"\\n\")\n",
    "end"
   ]
  },
  {
   "cell_type": "code",
   "execution_count": null,
   "metadata": {},
   "outputs": [],
   "source": [
    "color =    :balance\n",
    "xticks =   -4:2:6\n",
    "yticks =   -34:2:-28\n",
    "colorbar = :left\n",
    "cmins =     [-1.0, -1.0, -1.0, -1.0,-1.0]\n",
    "cmaxs =     -cmins\n",
    "cmins_lr =  [-0.01, -0.01, -0.01, -0.01, -0.5]\n",
    "cmaxs_lr =  -cmins_lr;"
   ]
  },
  {
   "cell_type": "code",
   "execution_count": null,
   "metadata": {},
   "outputs": [],
   "source": [
    "plots = []\n",
    "for i in 1:nev\n",
    "    push!(plots,plot_u(ctx, u₀[:,i],  lon_resolution, lat_resolution, bdata=bdata,\n",
    "            title=\"u₀\"*string(i), \n",
    "                colorbar=colorbar, color=color, clims=(cmins[i],cmaxs[i]), xticks=xticks, yticks=yticks))\n",
    "    push!(plots,plot_u(ctx, u_dot[:,i],  lon_resolution, lat_resolution, bdata=bdata,\n",
    "            title=\"̇u₀\"*string(i), \n",
    "        colorbar=colorbar, color=color, clims=(cmins_lr[i],cmaxs_lr[i]), xticks=xticks, yticks=yticks))\n",
    "    push!(plots,plot_u(ctx, u₀[:,i] + ϵ*u_dot[:,i],  lat_resolution, grid_resolution, bdata=bdata,\n",
    "            title=\"u₀\"*string(i)*\" + $(ϵ)u̇ ₀\"*string(i), \n",
    "    colorbar=colorbar, color=color, clims=(cmins[i],cmaxs[i]), xticks=xticks, yticks=yticks))\n",
    "    push!(plots,plot_u(ctx, uϵ[:,i],  lon_resolution, lat_resolution, bdata=bdata,\n",
    "            title=\"uϵ\"*string(i), \n",
    "            colorbar=colorbar, color=color, clims=(cmins[i],cmaxs[i]), xticks=xticks, yticks=yticks))\n",
    "end\n",
    "Plots.plot(plots..., fmt=:png, dpi=500,layout=grid(nev,4),\n",
    "            xtickfontsize=2,ytickfontsize=2,xguidefontsize=2,yguidefontsize=2,legendfontsize=5,titlefontsize=5)"
   ]
  },
  {
   "cell_type": "code",
   "execution_count": null,
   "metadata": {},
   "outputs": [],
   "source": [
    "#limit ourselves to one ev for plotting etc.\n",
    "ev = 1"
   ]
  },
  {
   "cell_type": "code",
   "execution_count": null,
   "metadata": {},
   "outputs": [],
   "source": [
    "plots = []\n",
    "push!(plots,plot_u(ctx, u₀[:,ev],  grid_resolution, grid_resolution, \n",
    "        title=\"u₀\"*string(ev), \n",
    "            colorbar=colorbar, color=color, clims=(cmins[ev],cmaxs[ev]), xticks=xticks, yticks=yticks))\n",
    "push!(plots,plot_u(ctx, u_dot[:,ev],  grid_resolution, grid_resolution, \n",
    "        title=\"̇u₀\"*string(ev), \n",
    "    colorbar=colorbar, color=color, clims=(cmins_lr[ev],cmaxs_lr[ev]), xticks=xticks, yticks=yticks))\n",
    "push!(plots,plot_u(ctx, u₀[:,ev] + ϵ*u_dot[:,ev],  grid_resolution, grid_resolution, \n",
    "        title=\"u₀\"*string(ev)*\" + $(ϵ)u̇ ₀\"*string(ev), \n",
    "colorbar=colorbar, color=color, clims=(cmins[ev],cmaxs[ev]), xticks=xticks, yticks=yticks))\n",
    "push!(plots,plot_u(ctx, uϵ[:,ev],  grid_resolution, grid_resolution, \n",
    "        title=\"uϵ\"*string(ev), \n",
    "        colorbar=colorbar, color=color, clims=(cmins[ev],cmaxs[ev]), xticks=xticks, yticks=yticks))\n",
    "Plots.plot(plots..., fmt=:png, dpi=500,layout=grid(2,2),\n",
    "            xtickfontsize=2,ytickfontsize=2,xguidefontsize=2,yguidefontsize=2,legendfontsize=5,titlefontsize=5)"
   ]
  },
  {
   "cell_type": "markdown",
   "metadata": {},
   "source": [
    "## Contour Plots"
   ]
  },
  {
   "cell_type": "code",
   "execution_count": null,
   "metadata": {},
   "outputs": [],
   "source": [
    "using Contour\n",
    "using PyCall\n",
    "using PyPlot\n",
    "import Main.CoherentStructures:dynamic_cheeger_value\n",
    "dynamic_cheeger_value(c) = dynamic_cheeger_value(ctx,c,x->T(x,0);tolerance=1e-10)\n",
    "function plot_vectorfield(xs,ys,dx,dy,ax;scale=1,step=1)\n",
    "    xs, ys = xs[1:step:end], ys[1:step:end]\n",
    "    dx, dy = dx[1:step:end,1:step:end], dy[1:step:end,1:step:end]\n",
    "    ax.quiver(xs,ys,dx',dy',scale=scale,color=\"blue\")\n",
    "end"
   ]
  },
  {
   "cell_type": "code",
   "execution_count": null,
   "metadata": {},
   "outputs": [],
   "source": [
    "best_levelset, best_value = get_minimal_levelset(\n",
    "    ctx,u₀[:,ev],dynamic_cheeger_value, bdata=bdata,\n",
    "    n_candidates=1000,min=0)\n",
    "\n",
    "c_best = level(best_levelset)\n",
    "\n",
    "plt.figure(figsize=(10,6), dpi=100)\n",
    "ax = plt.axes()\n",
    "ax.set(xlim=(-4,6), ylim=(-34,-28))\n",
    "plot_vectorfield(get_levelset_evolution(ctx,u₀[:,ev],u_dot[:,ev], bdata=bdata)...,ax,scale=0.1,step=4)\n",
    "curves           = lines(get_levelset(ctx, u₀[:,ev],c_best, bdata=bdata))\n",
    "curves_epsilon   = lines(get_levelset(ctx, uϵ[:,ev],c_best, bdata=bdata))\n",
    "curves_predicted = lines(get_levelset(ctx, u₀[:,ev] + ϵ*u_dot[:,ev],c_best, bdata=bdata))\n",
    "\n",
    "ax.plot([],[],color=:black,linewidth=2, label=\"Levelset for c of u₀\")\n",
    "for c in curves\n",
    "    ax.plot(coordinates(c)...,color=:black,linewidth=2)\n",
    "end\n",
    "\n",
    "ax.plot([],[],color=:red,linestyle=\"--\",linewidth=2, label=\"Levelset for c of uϵ\")\n",
    "for c in curves_epsilon\n",
    "    ax.plot(coordinates(c)...,color=:red,linestyle=\"--\",linewidth=2)\n",
    "end\n",
    "\n",
    "ax.plot([],[],color=:lightgreen,linewidth=2, label=\"Levelset for c of u₀ + ϵ̇u₀\")\n",
    "for c in curves_predicted\n",
    "    ax.plot(coordinates(c)...,color=:lightgreen,linewidth=2)\n",
    "end\n",
    "ax.set_title(\"c=$(round(c_best,digits=4))\")\n",
    "ax.legend();"
   ]
  },
  {
   "cell_type": "markdown",
   "metadata": {},
   "source": [
    "## SEBA"
   ]
  },
  {
   "cell_type": "markdown",
   "metadata": {},
   "source": [
    "As we can see, the different eigenfunctions do not really correspond to a nice partition into the individual gyres we can see visually, and in addition, it can be hard to match those at t and t+ϵ. For this, again, the SEBA algorithm could come to the resuce, but we need to see whether we can still compute the linear responses for these new partitions:"
   ]
  },
  {
   "cell_type": "code",
   "execution_count": null,
   "metadata": {},
   "outputs": [],
   "source": [
    "softThreshold(u,μ) = sign.(u) .* max.(abs.(u) .- μ, 0)\n",
    "normalizeU(u) = u.*sign.(sum(u))/maximum(u*sign.(sum(u)))"
   ]
  },
  {
   "cell_type": "code",
   "execution_count": null,
   "metadata": {},
   "outputs": [],
   "source": [
    "using LinearAlgebra"
   ]
  },
  {
   "cell_type": "code",
   "execution_count": null,
   "metadata": {},
   "outputs": [],
   "source": [
    "# standard heuristic\n",
    "μ = 0.99/sqrt(lon_resolution*lat_resolution);"
   ]
  },
  {
   "cell_type": "code",
   "execution_count": null,
   "metadata": {},
   "outputs": [],
   "source": [
    "@time S, O = SEBA(u₀,μ=μ,returnR=true,sort=false);"
   ]
  },
  {
   "cell_type": "code",
   "execution_count": null,
   "metadata": {},
   "outputs": [],
   "source": [
    "Sϵ, Oϵ = SEBA(uϵ,μ=μ,returnR=true,sort=false);"
   ]
  },
  {
   "cell_type": "code",
   "execution_count": null,
   "metadata": {},
   "outputs": [],
   "source": [
    "#The SEBA outputs, but without thresholding and rescaling, so that they are comparable to S_dot\n",
    "S′ = Matrix(qr(u₀).Q)*O'\n",
    "Sϵ′ = Matrix(qr(uϵ).Q)*Oϵ';"
   ]
  },
  {
   "cell_type": "code",
   "execution_count": null,
   "metadata": {},
   "outputs": [],
   "source": [
    "# This is the matrix we effectively multiply u₀ with\n",
    "inv(qr(u₀).R)*O'"
   ]
  },
  {
   "cell_type": "code",
   "execution_count": null,
   "metadata": {},
   "outputs": [],
   "source": [
    "inv(qr(uϵ).R)*Oϵ'"
   ]
  },
  {
   "cell_type": "code",
   "execution_count": null,
   "metadata": {},
   "outputs": [],
   "source": [
    "S_dot = u_dot*inv(qr(u₀).R)*O';"
   ]
  },
  {
   "cell_type": "code",
   "execution_count": null,
   "metadata": {},
   "outputs": [],
   "source": [
    "#for S′ and Sϵ′, we have a linear response, namely S_dot \n",
    "plots = []\n",
    "for i in 1:nev\n",
    "    push!(plots,plot_u(ctx, S′[:,i],  \n",
    "            lon_resolution, lat_resolution, bdata=bdata,\n",
    "            title=\"S\"*string(i), \n",
    "            colorbar=colorbar, color=color, clims=(-maximum(abs.(S′[:,i])),maximum(abs.(S′[:,i]))),\n",
    "            xticks=xticks, yticks=yticks))\n",
    "    push!(plots,plot_u(ctx, S_dot[:,i], \n",
    "            lon_resolution, lat_resolution, bdata=bdata,\n",
    "            title=\"̇S\"*string(i), \n",
    "            colorbar=colorbar, color=color, clims=(-maximum(abs.(S_dot[:,i])),maximum(abs.(S_dot[:,i]))), \n",
    "            xticks=xticks, yticks=yticks))\n",
    "    push!(plots,plot_u(ctx, S′[:,i] + ϵ*S_dot[:,i],  \n",
    "            lon_resolution, lat_resolution, bdata=bdata,\n",
    "            title=\"S\"*string(i)*\" + $(ϵ)̇S\"*string(i), \n",
    "            colorbar=colorbar, color=color, clims=(-maximum(abs.(S′[:,i] + ϵ*S_dot[:,i])),maximum(abs.(S′[:,i] + ϵ*S_dot[:,i]))), \n",
    "            xticks=xticks, yticks=yticks))\n",
    "    push!(plots,plot_u(ctx, Sϵ′[:,i],  \n",
    "            lon_resolution, lat_resolution, bdata=bdata,\n",
    "            title=\"Sϵ\"*string(i), \n",
    "            colorbar=colorbar, color=color, clims=(-maximum(abs.(Sϵ′[:,i])),maximum(abs.(Sϵ′[:,i]))), \n",
    "            xticks=xticks, yticks=yticks))\n",
    "end\n",
    "Plots.plot(plots..., fmt=:png, dpi=500,layout=(nev,4),\n",
    "            xtickfontsize=2,ytickfontsize=2,xguidefontsize=2,yguidefontsize=2,legendfontsize=5,titlefontsize=5)"
   ]
  },
  {
   "cell_type": "code",
   "execution_count": null,
   "metadata": {},
   "outputs": [],
   "source": [
    "# to get a prediction for Sϵ from S and S_dot, we simply apply soft thresholding and normalization to the previous example\n",
    "plots = []\n",
    "for i in 1:nev\n",
    "    push!(plots,plot_u(ctx, S[:,i],  \n",
    "            lon_resolution, lat_resolution, bdata=bdata,\n",
    "            title=\"S\"*string(i), \n",
    "            colorbar=colorbar, color=color, clims=(-1,1),\n",
    "            xticks=xticks, yticks=yticks))\n",
    "    push!(plots,plot_u(ctx, S_dot[:,i],  \n",
    "            lon_resolution, lat_resolution, bdata=bdata,\n",
    "            title=\"̇S\"*string(i), \n",
    "            colorbar=colorbar, color=color, clims=(-maximum(abs.(S_dot[:,i])),maximum(abs.(S_dot[:,i]))),\n",
    "            xticks=xticks, yticks=yticks))\n",
    "    push!(plots,plot_u(ctx, normalizeU(softThreshold(S′[:,i] + ϵ*S_dot[:,i],μ)),  \n",
    "            lon_resolution, lat_resolution, bdata=bdata,\n",
    "            title=\"S\"*string(i)*\" + $(ϵ)̇S\"*string(i), \n",
    "            colorbar=colorbar, color=color, clims=(-1,1),\n",
    "            xticks=xticks, yticks=yticks))\n",
    "    push!(plots,plot_u(ctx, Sϵ[:,i],  \n",
    "            lon_resolution, lat_resolution, bdata=bdata,\n",
    "            title=\"Sϵ\"*string(i), \n",
    "            colorbar=colorbar, color=color, clims=(-1,1),\n",
    "            xticks=xticks, yticks=yticks))\n",
    "end\n",
    "Plots.plot(plots..., fmt=:png, dpi=500,layout=(nev,4),\n",
    "            xtickfontsize=2,ytickfontsize=2,xguidefontsize=2,yguidefontsize=2,legendfontsize=5,titlefontsize=5)"
   ]
  },
  {
   "cell_type": "code",
   "execution_count": null,
   "metadata": {},
   "outputs": [],
   "source": [
    "#again, select one index for closer inspection\n",
    "ev = 2"
   ]
  },
  {
   "cell_type": "code",
   "execution_count": null,
   "metadata": {},
   "outputs": [],
   "source": [
    "plots = []\n",
    "push!(plots,plot_u(ctx, S′[:,ev],  \n",
    "        lon_resolution, lat_resolution, bdata=bdata,\n",
    "        title=\"S\"*string(ev), \n",
    "        colorbar=colorbar, color=color, clims=(-maximum(abs.(S′[:,ev])),maximum(abs.(S′[:,ev]))),\n",
    "            xticks=xticks, yticks=yticks))\n",
    "push!(plots,plot_u(ctx, S_dot[:,ev],  \n",
    "        lon_resolution, lat_resolution, bdata=bdata,\n",
    "        title=\"̇S\"*string(ev), \n",
    "        colorbar=colorbar, color=color, clims=(-maximum(abs.(S_dot[:,ev])),maximum(abs.(S_dot[:,ev]))),\n",
    "            xticks=xticks, yticks=yticks))\n",
    "push!(plots,plot_u(ctx, S′[:,ev] + ϵ*S_dot[:,ev],  \n",
    "        lon_resolution, lat_resolution, bdata=bdata,\n",
    "        title=\"S\"*string(ev)*\" + $(ϵ)̇S\"*string(ev), \n",
    "        colorbar=colorbar, color=color, clims=(-maximum(abs.(S′[:,ev] + ϵ*S_dot[:,ev])),maximum(abs.(S′[:,ev] + ϵ*S_dot[:,ev]))),\n",
    "            xticks=xticks, yticks=yticks))\n",
    "push!(plots,plot_u(ctx, Sϵ′[:,ev],  \n",
    "        lon_resolution, lat_resolution, bdata=bdata,\n",
    "        title=\"Sϵ\"*string(ev), \n",
    "        colorbar=colorbar, color=color, clims=(-maximum(abs.(Sϵ′[:,ev])),maximum(abs.(Sϵ′[:,ev]))),\n",
    "            xticks=xticks, yticks=yticks))\n",
    "Plots.plot(plots..., fmt=:png, dpi=500,layout=(2,2),\n",
    "            xtickfontsize=2,ytickfontsize=2,xguidefontsize=2,yguidefontsize=2,legendfontsize=5,titlefontsize=5)"
   ]
  },
  {
   "cell_type": "code",
   "execution_count": null,
   "metadata": {},
   "outputs": [],
   "source": [
    "plots = []\n",
    "push!(plots,plot_u(ctx, S[:,ev],  \n",
    "        lon_resolution, lat_resolution, bdata=bdata,\n",
    "        title=\"S\"*string(ev), \n",
    "        colorbar=colorbar, color=color, clims=(-1,1),\n",
    "            xticks=xticks, yticks=yticks))\n",
    "push!(plots,plot_u(ctx, S_dot[:,ev],  \n",
    "        lon_resolution, lat_resolution, bdata=bdata,\n",
    "        title=\"̇S\"*string(ev), \n",
    "        colorbar=colorbar, color=color, clims=(-maximum(abs.(S_dot[:,ev])),maximum(abs.(S_dot[:,ev]))),\n",
    "            xticks=xticks, yticks=yticks))\n",
    "push!(plots,plot_u(ctx, normalizeU(softThreshold(S′[:,ev] + ϵ*S_dot[:,ev],μ)),  \n",
    "        lon_resolution, lat_resolution, bdata=bdata,\n",
    "        title=\"S\"*string(ev)*\" + $(ϵ)̇S\"*string(ev), \n",
    "        colorbar=colorbar, color=color, clims=(-1,1),\n",
    "            xticks=xticks, yticks=yticks))\n",
    "push!(plots,plot_u(ctx, Sϵ[:,ev],  \n",
    "        lon_resolution, lat_resolution, bdata=bdata,\n",
    "        title=\"Sϵ\"*string(ev), \n",
    "        colorbar=colorbar, color=color, clims=(-1,1),\n",
    "            xticks=xticks, yticks=yticks))\n",
    "Plots.plot(plots..., fmt=:png, dpi=500,layout=(2,2),\n",
    "            xtickfontsize=2,ytickfontsize=2,xguidefontsize=2,yguidefontsize=2,legendfontsize=5,titlefontsize=5)"
   ]
  },
  {
   "cell_type": "markdown",
   "metadata": {},
   "source": [
    "## Contourplots for SEBA"
   ]
  },
  {
   "cell_type": "markdown",
   "metadata": {},
   "source": [
    "Levelsets are a better way to actually asses the quality of the predictions visually."
   ]
  },
  {
   "cell_type": "code",
   "execution_count": null,
   "metadata": {},
   "outputs": [],
   "source": [
    "best_levelset, best_value = get_minimal_levelset(\n",
    "    ctx,S[:,ev],dynamic_cheeger_value, bdata=bdata,\n",
    "    n_candidates=1000,min=0)\n",
    "c_best = level(best_levelset)\n",
    "print(\"Dynamic Cheeger value:\\t\",best_value,\"\\n\")\n",
    "print(\"Levelset:\\t\\t\",c_best,\"\\n\")"
   ]
  },
  {
   "cell_type": "code",
   "execution_count": null,
   "metadata": {},
   "outputs": [],
   "source": [
    "plt.figure(figsize=(10,6), dpi=100)\n",
    "ax = plt.axes()\n",
    "ax.set(xlim=(-4,6), ylim=(-34,-28))\n",
    "plot_vectorfield(get_levelset_evolution(ctx,normalizeU(S′[:,ev]),S_dot[:,ev], bdata=bdata)...,ax,scale=0.01,step=4)\n",
    "curves           = lines(get_levelset(ctx, S[:,ev],c_best, bdata=bdata))\n",
    "curves_epsilon   = lines(get_levelset(ctx, Sϵ[:,ev],c_best, bdata=bdata))\n",
    "curves_predicted = lines(get_levelset(ctx, normalizeU(softThreshold(S′[:,ev] + ϵ*S_dot[:,ev],μ)),c_best, bdata=bdata))\n",
    "\n",
    "for c in curves\n",
    "    ax.plot(coordinates(c)...,color=:black,linewidth=2, label=\"Levelset for c of S\")\n",
    "end\n",
    "for c in curves_epsilon\n",
    "    ax.plot(coordinates(c)...,color=:red,linestyle=\"--\",linewidth=2, label=\"Levelset for c of Sϵ\")\n",
    "end\n",
    "for c in curves_predicted\n",
    "    ax.plot(coordinates(c)...,color=:lightgreen,linewidth=2, label=\"Levelset for c of S + ϵ̇S\")\n",
    "end\n",
    "ax.set_title(\"c=$(round(c_best,digits=4))\")\n",
    "ax.legend(loc=1);"
   ]
  },
  {
   "cell_type": "code",
   "execution_count": null,
   "metadata": {},
   "outputs": [],
   "source": []
  }
 ],
 "metadata": {
  "kernelspec": {
   "display_name": "Julia 1.4.2",
   "language": "julia",
   "name": "julia-1.4"
  },
  "language_info": {
   "file_extension": ".jl",
   "mimetype": "application/julia",
   "name": "julia",
   "version": "1.4.2"
  }
 },
 "nbformat": 4,
 "nbformat_minor": 4
}
