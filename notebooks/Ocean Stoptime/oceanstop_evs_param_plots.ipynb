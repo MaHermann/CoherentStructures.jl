{
 "cells": [
  {
   "cell_type": "code",
   "execution_count": 1,
   "metadata": {
    "scrolled": true
   },
   "outputs": [
    {
     "data": {
      "text/plain": [
       "Main.CoherentStructures"
      ]
     },
     "execution_count": 1,
     "metadata": {},
     "output_type": "execute_result"
    }
   ],
   "source": [
    "include(\"../../src/CoherentStructures.jl\") #this is terrible but neccessary during development (?)"
   ]
  },
  {
   "cell_type": "code",
   "execution_count": 2,
   "metadata": {},
   "outputs": [],
   "source": [
    "using StreamMacros, Main.CoherentStructures\n",
    "using Tensors, Arpack, JLD2, OrdinaryDiffEq\n",
    "using Plots;"
   ]
  },
  {
   "cell_type": "code",
   "execution_count": 3,
   "metadata": {},
   "outputs": [],
   "source": [
    "JLD2.@load(\"Ocean_geostrophic_velocity.jld2\");\n",
    "UV = interpolateVF(Lon, Lat, Time, UT, VT);"
   ]
  },
  {
   "cell_type": "code",
   "execution_count": 4,
   "metadata": {},
   "outputs": [],
   "source": [
    "# Parameters\n",
    "grid_resolution        = 200\n",
    "quadrature_order       = 5\n",
    "nevs                   = 20\n",
    "ϵ                      = 10\n",
    "num_steps              = 9\n",
    "t_initial              = minimum(Time)\n",
    "solver_tolerance       = 1e-8\n",
    "solver                 = OrdinaryDiffEq.BS5();"
   ]
  },
  {
   "cell_type": "code",
   "execution_count": 5,
   "metadata": {},
   "outputs": [
    {
     "data": {
      "text/plain": [
       "T (generic function with 1 method)"
      ]
     },
     "execution_count": 5,
     "metadata": {},
     "output_type": "execute_result"
    }
   ],
   "source": [
    "T(x, param) = flow(interp_rhs, x, [t_initial, t_initial + param], p=UV,\n",
    "        tolerance=solver_tolerance,solver=solver)[end]"
   ]
  },
  {
   "cell_type": "code",
   "execution_count": 6,
   "metadata": {},
   "outputs": [],
   "source": [
    "LL, UR = (-4.0, -34.0), (6.0, -28.0)\n",
    "lon_resolution = grid_resolution\n",
    "lat_resolution = Integer(floor((UR[2] - LL[2])/(UR[1] - LL[1])*grid_resolution))\n",
    "ctx, _ = regularTriangularGrid((lon_resolution, lat_resolution), \n",
    "        LL, UR, quadrature_order = quadrature_order);\n",
    "bdata = getHomDBCS(ctx, \"all\");"
   ]
  },
  {
   "cell_type": "code",
   "execution_count": 7,
   "metadata": {},
   "outputs": [],
   "source": [
    "M = assembleMassMatrix(ctx, bdata=bdata);"
   ]
  },
  {
   "cell_type": "code",
   "execution_count": 8,
   "metadata": {},
   "outputs": [
    {
     "data": {
      "text/plain": [
       "9×20 Array{Float64,2}:\n",
       " 0.0  0.0  0.0  0.0  0.0  0.0  0.0  0.0  …  0.0  0.0  0.0  0.0  0.0  0.0  0.0\n",
       " 0.0  0.0  0.0  0.0  0.0  0.0  0.0  0.0     0.0  0.0  0.0  0.0  0.0  0.0  0.0\n",
       " 0.0  0.0  0.0  0.0  0.0  0.0  0.0  0.0     0.0  0.0  0.0  0.0  0.0  0.0  0.0\n",
       " 0.0  0.0  0.0  0.0  0.0  0.0  0.0  0.0     0.0  0.0  0.0  0.0  0.0  0.0  0.0\n",
       " 0.0  0.0  0.0  0.0  0.0  0.0  0.0  0.0     0.0  0.0  0.0  0.0  0.0  0.0  0.0\n",
       " 0.0  0.0  0.0  0.0  0.0  0.0  0.0  0.0  …  0.0  0.0  0.0  0.0  0.0  0.0  0.0\n",
       " 0.0  0.0  0.0  0.0  0.0  0.0  0.0  0.0     0.0  0.0  0.0  0.0  0.0  0.0  0.0\n",
       " 0.0  0.0  0.0  0.0  0.0  0.0  0.0  0.0     0.0  0.0  0.0  0.0  0.0  0.0  0.0\n",
       " 0.0  0.0  0.0  0.0  0.0  0.0  0.0  0.0     0.0  0.0  0.0  0.0  0.0  0.0  0.0"
      ]
     },
     "execution_count": 8,
     "metadata": {},
     "output_type": "execute_result"
    }
   ],
   "source": [
    "evs = zeros(num_steps,nevs)"
   ]
  },
  {
   "cell_type": "code",
   "execution_count": null,
   "metadata": {
    "scrolled": true
   },
   "outputs": [
    {
     "name": "stdout",
     "output_type": "stream",
     "text": [
      " 29.642073 seconds (92.49 M allocations: 5.220 GiB, 5.00% gc time)\n"
     ]
    }
   ],
   "source": [
    "for i in 1:num_steps\n",
    "    DTϵ(x) = linearized_flow_autodiff(y -> T(y,i*ϵ) , x)\n",
    "    Aϵ(x) = 0.5*(one(Tensor{2,2}) + dott(inv(DTϵ(x))))\n",
    "    @time Kϵ = assembleStiffnessMatrix(ctx, Aϵ, bdata=bdata)\n",
    "    evs[i,:], _ = eigs(Kϵ, M, nev=nevs, which=:SM)\n",
    "    print(Int(i), \"/\" ,num_steps, \"\\n\")\n",
    "end\n",
    "nothing"
   ]
  },
  {
   "cell_type": "code",
   "execution_count": null,
   "metadata": {},
   "outputs": [],
   "source": [
    "Plots.plot(ϵ:ϵ:num_steps*ϵ, evs, legend=false, fmt = :png)"
   ]
  },
  {
   "cell_type": "code",
   "execution_count": null,
   "metadata": {},
   "outputs": [],
   "source": [
    "Plots.plot(ϵ:ϵ:num_steps*ϵ, evs[1:4], legend=false, fmt = :png)"
   ]
  },
  {
   "cell_type": "code",
   "execution_count": null,
   "metadata": {},
   "outputs": [],
   "source": [
    "using DelimitedFiles"
   ]
  },
  {
   "cell_type": "code",
   "execution_count": null,
   "metadata": {},
   "outputs": [],
   "source": [
    "writedlm(\"D:/ocean_stop_complete\"*Int(num_steps)*\".csv\", [ϵ:ϵ:num_steps*ϵ  evs], \",\")"
   ]
  },
  {
   "cell_type": "code",
   "execution_count": null,
   "metadata": {},
   "outputs": [],
   "source": []
  }
 ],
 "metadata": {
  "kernelspec": {
   "display_name": "Julia 1.4.2",
   "language": "julia",
   "name": "julia-1.4"
  },
  "language_info": {
   "file_extension": ".jl",
   "mimetype": "application/julia",
   "name": "julia",
   "version": "1.4.2"
  }
 },
 "nbformat": 4,
 "nbformat_minor": 4
}
