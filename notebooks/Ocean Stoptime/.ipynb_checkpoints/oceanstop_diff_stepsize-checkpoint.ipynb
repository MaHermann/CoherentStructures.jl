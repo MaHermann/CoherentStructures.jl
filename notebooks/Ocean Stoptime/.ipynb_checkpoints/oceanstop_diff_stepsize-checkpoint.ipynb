{
 "cells": [
  {
   "cell_type": "code",
   "execution_count": 1,
   "metadata": {},
   "outputs": [
    {
     "data": {
      "text/plain": [
       "Main.CoherentStructures"
      ]
     },
     "execution_count": 1,
     "metadata": {},
     "output_type": "execute_result"
    }
   ],
   "source": [
    "include(\"../../src/CoherentStructures.jl\") #this is terrible but neccessary during development (?)"
   ]
  },
  {
   "cell_type": "code",
   "execution_count": 2,
   "metadata": {},
   "outputs": [
    {
     "data": {
      "text/plain": [
       "OrdinaryDiffEq"
      ]
     },
     "execution_count": 2,
     "metadata": {},
     "output_type": "execute_result"
    }
   ],
   "source": [
    "using StreamMacros, Main.CoherentStructures\n",
    "using Tensors, Arpack, JLD2, OrdinaryDiffEq\n",
    "using Plots\n",
    "using OrdinaryDiffEq\n",
    "const ODE = OrdinaryDiffEq"
   ]
  },
  {
   "cell_type": "code",
   "execution_count": 3,
   "metadata": {},
   "outputs": [],
   "source": [
    "JLD2.@load(\"Ocean_geostrophic_velocity.jld2\");\n",
    "UV = interpolateVF(Lon, Lat, Time, UT, VT);"
   ]
  },
  {
   "cell_type": "code",
   "execution_count": 4,
   "metadata": {},
   "outputs": [],
   "source": [
    "# Parameters\n",
    "grid_resolution        = 100\n",
    "quadrature_order       = 1\n",
    "t_initial              = minimum(Time)\n",
    "t_end                  = t_initial+80\n",
    "scale                  = 1;"
   ]
  },
  {
   "cell_type": "code",
   "execution_count": 5,
   "metadata": {},
   "outputs": [],
   "source": [
    "LL, UR = (-4.0, -34.0), (6.0, -28.0)\n",
    "ctx, _ = regularTriangularGrid((grid_resolution, Integer(floor((UR[2] - LL[2])/(UR[1] - LL[1])*grid_resolution))), \n",
    "        LL, UR, quadrature_order = quadrature_order);"
   ]
  },
  {
   "cell_type": "code",
   "execution_count": 6,
   "metadata": {},
   "outputs": [
    {
     "data": {
      "text/plain": [
       "evaluate_on_grid (generic function with 1 method)"
      ]
     },
     "execution_count": 6,
     "metadata": {},
     "output_type": "execute_result"
    }
   ],
   "source": [
    "function evaluate_on_grid(f,ctx)\n",
    "    [f(node.x) for node in ctx.grid.nodes]\n",
    "end"
   ]
  },
  {
   "cell_type": "code",
   "execution_count": 7,
   "metadata": {},
   "outputs": [
    {
     "data": {
      "text/plain": [
       "l1_error (generic function with 1 method)"
      ]
     },
     "execution_count": 7,
     "metadata": {},
     "output_type": "execute_result"
    }
   ],
   "source": [
    "function l1_error(reference,solution)\n",
    "    sum(sum([abs.(a .- b) for (a,b) in zip(reference,solution)])) / (2*length(reference))\n",
    "end"
   ]
  },
  {
   "cell_type": "code",
   "execution_count": 8,
   "metadata": {},
   "outputs": [
    {
     "data": {
      "text/plain": [
       "l2_error (generic function with 1 method)"
      ]
     },
     "execution_count": 8,
     "metadata": {},
     "output_type": "execute_result"
    }
   ],
   "source": [
    "function l2_error(reference,solution)\n",
    "    sum(sqrt.(sum([(a .- b).^2 for (a,b) in zip(reference,solution)]))) / (2*length(reference))\n",
    "end"
   ]
  },
  {
   "cell_type": "code",
   "execution_count": 9,
   "metadata": {},
   "outputs": [
    {
     "data": {
      "text/plain": [
       "linfty_error (generic function with 1 method)"
      ]
     },
     "execution_count": 9,
     "metadata": {},
     "output_type": "execute_result"
    }
   ],
   "source": [
    "function linfty_error(reference,solution)\n",
    "    sum(maximum([(a .- b) for (a,b) in zip(reference,solution)]))\n",
    "end"
   ]
  },
  {
   "cell_type": "code",
   "execution_count": 10,
   "metadata": {},
   "outputs": [
    {
     "data": {
      "text/plain": [
       "T (generic function with 1 method)"
      ]
     },
     "execution_count": 10,
     "metadata": {},
     "output_type": "execute_result"
    }
   ],
   "source": [
    "function T(solver, stepsize)\n",
    "    return (x, param) -> flow(interp_rhs, x, [t_initial, t_end + scale*param], p=UV,\n",
    "        dt=stepsize,adaptive=false,solver=solver)[end]\n",
    "end"
   ]
  },
  {
   "cell_type": "code",
   "execution_count": 11,
   "metadata": {},
   "outputs": [
    {
     "data": {
      "text/plain": [
       "Tdot_reference (generic function with 1 method)"
      ]
     },
     "execution_count": 11,
     "metadata": {},
     "output_type": "execute_result"
    }
   ],
   "source": [
    "function Tdot_reference(solver, stepsize, param)\n",
    "   return x -> UV(T(solver, stepsize)(x,param)...,t_end+param)*scale\n",
    "end"
   ]
  },
  {
   "cell_type": "code",
   "execution_count": 12,
   "metadata": {},
   "outputs": [
    {
     "data": {
      "text/plain": [
       "Tdot_autodiff (generic function with 1 method)"
      ]
     },
     "execution_count": 12,
     "metadata": {},
     "output_type": "execute_result"
    }
   ],
   "source": [
    "function Tdot_autodiff(solver, stepsize, param)\n",
    "    return x -> Main.CoherentStructures.parameter_autodiff(T(solver, stepsize), x, param)\n",
    "end"
   ]
  },
  {
   "cell_type": "code",
   "execution_count": 13,
   "metadata": {},
   "outputs": [
    {
     "data": {
      "text/plain": [
       "Tdot_finite_differences (generic function with 1 method)"
      ]
     },
     "execution_count": 13,
     "metadata": {},
     "output_type": "execute_result"
    }
   ],
   "source": [
    "function Tdot_finite_differences(solver, stepsize, param, diff)\n",
    "    return x -> \n",
    "     (T(solver, stepsize)(x, param+diff) .- T(solver, stepsize)(x, param-diff)) ./ (2*diff)\n",
    "end"
   ]
  },
  {
   "cell_type": "code",
   "execution_count": 14,
   "metadata": {},
   "outputs": [],
   "source": [
    "stepsize_range_BS5 = [6,5,2.5,1,0.75,0.6,0.5,0.4,0.25,0.1,0.075,0.05,0.025,0.01];"
   ]
  },
  {
   "cell_type": "code",
   "execution_count": 15,
   "metadata": {},
   "outputs": [
    {
     "ename": "BoundsError",
     "evalue": "\u001b[91mBoundsError: attempt to access 165×105×14 scale(interpolate(OffsetArray(::Array{StaticArrays.SArray{Tuple{2},Float64,1,2},3}, 0:166, 0:106, 0:15), BSpline(Cubic(Free(Interpolations.OnGrid())))), (-12.0:0.25:29.0, -45.0:0.25:-19.0, 733010.0:7.0:733101.0)) with element type StaticArrays.SArray{Tuple{2},Float64,1,2} at index [13.315702256791528, -48.21338939568242, 733085.0]\u001b[39m",
     "output_type": "error",
     "traceback": [
      "\u001b[91mBoundsError: attempt to access 165×105×14 scale(interpolate(OffsetArray(::Array{StaticArrays.SArray{Tuple{2},Float64,1,2},3}, 0:166, 0:106, 0:15), BSpline(Cubic(Free(Interpolations.OnGrid())))), (-12.0:0.25:29.0, -45.0:0.25:-19.0, 733010.0:7.0:733101.0)) with element type StaticArrays.SArray{Tuple{2},Float64,1,2} at index [13.315702256791528, -48.21338939568242, 733085.0]\u001b[39m",
      "",
      "Stacktrace:",
      " [1] throw_boundserror(::Interpolations.ScaledInterpolation{StaticArrays.SArray{Tuple{2},Float64,1,2},3,Interpolations.BSplineInterpolation{StaticArrays.SArray{Tuple{2},Float64,1,2},3,OffsetArrays.OffsetArray{StaticArrays.SArray{Tuple{2},Float64,1,2},3,Array{StaticArrays.SArray{Tuple{2},Float64,1,2},3}},Interpolations.BSpline{Interpolations.Cubic{Interpolations.Free{Interpolations.OnGrid}}},Tuple{Base.OneTo{Int64},Base.OneTo{Int64},Base.OneTo{Int64}}},Interpolations.BSpline{Interpolations.Cubic{Interpolations.Free{Interpolations.OnGrid}}},Tuple{StepRangeLen{Float64,Base.TwicePrecision{Float64},Base.TwicePrecision{Float64}},StepRangeLen{Float64,Base.TwicePrecision{Float64},Base.TwicePrecision{Float64}},StepRangeLen{Float64,Base.TwicePrecision{Float64},Base.TwicePrecision{Float64}}}}, ::Tuple{Float64,Float64,Float64}) at .\\abstractarray.jl:537",
      " [2] ScaledInterpolation at C:\\Users\\Martin\\.julia\\packages\\Interpolations\\qHlUr\\src\\scaling\\scaling.jl:71 [inlined]",
      " [3] (::Main.CoherentStructures.var\"#265#266\")(::StaticArrays.SArray{Tuple{2},Float64,1,2}, ::Interpolations.ScaledInterpolation{StaticArrays.SArray{Tuple{2},Float64,1,2},3,Interpolations.BSplineInterpolation{StaticArrays.SArray{Tuple{2},Float64,1,2},3,OffsetArrays.OffsetArray{StaticArrays.SArray{Tuple{2},Float64,1,2},3,Array{StaticArrays.SArray{Tuple{2},Float64,1,2},3}},Interpolations.BSpline{Interpolations.Cubic{Interpolations.Free{Interpolations.OnGrid}}},Tuple{Base.OneTo{Int64},Base.OneTo{Int64},Base.OneTo{Int64}}},Interpolations.BSpline{Interpolations.Cubic{Interpolations.Free{Interpolations.OnGrid}}},Tuple{StepRangeLen{Float64,Base.TwicePrecision{Float64},Base.TwicePrecision{Float64}},StepRangeLen{Float64,Base.TwicePrecision{Float64},Base.TwicePrecision{Float64}},StepRangeLen{Float64,Base.TwicePrecision{Float64},Base.TwicePrecision{Float64}}}}, ::Float64) at C:\\Users\\Martin\\D_Drive\\Documents\\Uni\\3 Mathematics in Data Science\\05 Masterarbeit\\CoherentStructuresLinearResponse\\src\\velocityfields.jl:51",
      " [4] ODEFunction at C:\\Users\\Martin\\.julia\\packages\\SciMLBase\\Afx1r\\src\\scimlfunctions.jl:329 [inlined]",
      " [5] perform_step!(::OrdinaryDiffEq.ODEIntegrator{BS5,false,StaticArrays.SArray{Tuple{2},Float64,1,2},Nothing,Float64,Interpolations.ScaledInterpolation{StaticArrays.SArray{Tuple{2},Float64,1,2},3,Interpolations.BSplineInterpolation{StaticArrays.SArray{Tuple{2},Float64,1,2},3,OffsetArrays.OffsetArray{StaticArrays.SArray{Tuple{2},Float64,1,2},3,Array{StaticArrays.SArray{Tuple{2},Float64,1,2},3}},Interpolations.BSpline{Interpolations.Cubic{Interpolations.Free{Interpolations.OnGrid}}},Tuple{Base.OneTo{Int64},Base.OneTo{Int64},Base.OneTo{Int64}}},Interpolations.BSpline{Interpolations.Cubic{Interpolations.Free{Interpolations.OnGrid}}},Tuple{StepRangeLen{Float64,Base.TwicePrecision{Float64},Base.TwicePrecision{Float64}},StepRangeLen{Float64,Base.TwicePrecision{Float64},Base.TwicePrecision{Float64}},StepRangeLen{Float64,Base.TwicePrecision{Float64},Base.TwicePrecision{Float64}}}},Float64,Float64,Float64,Array{StaticArrays.SArray{Tuple{2},Float64,1,2},1},ODESolution{Float64,2,Array{StaticArrays.SArray{Tuple{2},Float64,1,2},1},Nothing,Nothing,Array{Float64,1},Array{Array{StaticArrays.SArray{Tuple{2},Float64,1,2},1},1},ODEProblem{StaticArrays.SArray{Tuple{2},Float64,1,2},Tuple{Float64,Float64},false,Interpolations.ScaledInterpolation{StaticArrays.SArray{Tuple{2},Float64,1,2},3,Interpolations.BSplineInterpolation{StaticArrays.SArray{Tuple{2},Float64,1,2},3,OffsetArrays.OffsetArray{StaticArrays.SArray{Tuple{2},Float64,1,2},3,Array{StaticArrays.SArray{Tuple{2},Float64,1,2},3}},Interpolations.BSpline{Interpolations.Cubic{Interpolations.Free{Interpolations.OnGrid}}},Tuple{Base.OneTo{Int64},Base.OneTo{Int64},Base.OneTo{Int64}}},Interpolations.BSpline{Interpolations.Cubic{Interpolations.Free{Interpolations.OnGrid}}},Tuple{StepRangeLen{Float64,Base.TwicePrecision{Float64},Base.TwicePrecision{Float64}},StepRangeLen{Float64,Base.TwicePrecision{Float64},Base.TwicePrecision{Float64}},StepRangeLen{Float64,Base.TwicePrecision{Float64},Base.TwicePrecision{Float64}}}},ODEFunction{false,Main.CoherentStructures.var\"#265#266\",LinearAlgebra.UniformScaling{Bool},Nothing,Nothing,Nothing,Nothing,Nothing,Nothing,Nothing,Nothing,Nothing,Nothing,Nothing,Nothing,typeof(SciMLBase.DEFAULT_OBSERVED),Nothing},Base.Iterators.Pairs{Union{},Union{},Tuple{},NamedTuple{(),Tuple{}}},SciMLBase.StandardODEProblem},BS5,OrdinaryDiffEq.InterpolationData{ODEFunction{false,Main.CoherentStructures.var\"#265#266\",LinearAlgebra.UniformScaling{Bool},Nothing,Nothing,Nothing,Nothing,Nothing,Nothing,Nothing,Nothing,Nothing,Nothing,Nothing,Nothing,typeof(SciMLBase.DEFAULT_OBSERVED),Nothing},Array{StaticArrays.SArray{Tuple{2},Float64,1,2},1},Array{Float64,1},Array{Array{StaticArrays.SArray{Tuple{2},Float64,1,2},1},1},OrdinaryDiffEq.BS5ConstantCache{Float64,Float64}},DiffEqBase.DEStats},ODEFunction{false,Main.CoherentStructures.var\"#265#266\",LinearAlgebra.UniformScaling{Bool},Nothing,Nothing,Nothing,Nothing,Nothing,Nothing,Nothing,Nothing,Nothing,Nothing,Nothing,Nothing,typeof(SciMLBase.DEFAULT_OBSERVED),Nothing},OrdinaryDiffEq.BS5ConstantCache{Float64,Float64},OrdinaryDiffEq.DEOptions{Float64,Float64,Float64,Float64,typeof(DiffEqBase.ODE_DEFAULT_NORM),typeof(LinearAlgebra.opnorm),Nothing,CallbackSet{Tuple{},Tuple{}},typeof(DiffEqBase.ODE_DEFAULT_ISOUTOFDOMAIN),typeof(DiffEqBase.ODE_DEFAULT_PROG_MESSAGE),typeof(DiffEqBase.ODE_DEFAULT_UNSTABLE_CHECK),DataStructures.BinaryHeap{Float64,Base.Order.ForwardOrdering},DataStructures.BinaryHeap{Float64,Base.Order.ForwardOrdering},Nothing,Nothing,Int64,Tuple{},Array{Float64,1},Tuple{}},StaticArrays.SArray{Tuple{2},Float64,1,2},Float64,Nothing,OrdinaryDiffEq.DefaultInit}, ::OrdinaryDiffEq.BS5ConstantCache{Float64,Float64}, ::Bool) at C:\\Users\\Martin\\.julia\\packages\\OrdinaryDiffEq\\y19MS\\src\\perform_step\\low_order_rk_perform_step.jl:399",
      " [6] perform_step! at C:\\Users\\Martin\\.julia\\packages\\OrdinaryDiffEq\\y19MS\\src\\perform_step\\low_order_rk_perform_step.jl:390 [inlined]",
      " [7] solve!(::OrdinaryDiffEq.ODEIntegrator{BS5,false,StaticArrays.SArray{Tuple{2},Float64,1,2},Nothing,Float64,Interpolations.ScaledInterpolation{StaticArrays.SArray{Tuple{2},Float64,1,2},3,Interpolations.BSplineInterpolation{StaticArrays.SArray{Tuple{2},Float64,1,2},3,OffsetArrays.OffsetArray{StaticArrays.SArray{Tuple{2},Float64,1,2},3,Array{StaticArrays.SArray{Tuple{2},Float64,1,2},3}},Interpolations.BSpline{Interpolations.Cubic{Interpolations.Free{Interpolations.OnGrid}}},Tuple{Base.OneTo{Int64},Base.OneTo{Int64},Base.OneTo{Int64}}},Interpolations.BSpline{Interpolations.Cubic{Interpolations.Free{Interpolations.OnGrid}}},Tuple{StepRangeLen{Float64,Base.TwicePrecision{Float64},Base.TwicePrecision{Float64}},StepRangeLen{Float64,Base.TwicePrecision{Float64},Base.TwicePrecision{Float64}},StepRangeLen{Float64,Base.TwicePrecision{Float64},Base.TwicePrecision{Float64}}}},Float64,Float64,Float64,Array{StaticArrays.SArray{Tuple{2},Float64,1,2},1},ODESolution{Float64,2,Array{StaticArrays.SArray{Tuple{2},Float64,1,2},1},Nothing,Nothing,Array{Float64,1},Array{Array{StaticArrays.SArray{Tuple{2},Float64,1,2},1},1},ODEProblem{StaticArrays.SArray{Tuple{2},Float64,1,2},Tuple{Float64,Float64},false,Interpolations.ScaledInterpolation{StaticArrays.SArray{Tuple{2},Float64,1,2},3,Interpolations.BSplineInterpolation{StaticArrays.SArray{Tuple{2},Float64,1,2},3,OffsetArrays.OffsetArray{StaticArrays.SArray{Tuple{2},Float64,1,2},3,Array{StaticArrays.SArray{Tuple{2},Float64,1,2},3}},Interpolations.BSpline{Interpolations.Cubic{Interpolations.Free{Interpolations.OnGrid}}},Tuple{Base.OneTo{Int64},Base.OneTo{Int64},Base.OneTo{Int64}}},Interpolations.BSpline{Interpolations.Cubic{Interpolations.Free{Interpolations.OnGrid}}},Tuple{StepRangeLen{Float64,Base.TwicePrecision{Float64},Base.TwicePrecision{Float64}},StepRangeLen{Float64,Base.TwicePrecision{Float64},Base.TwicePrecision{Float64}},StepRangeLen{Float64,Base.TwicePrecision{Float64},Base.TwicePrecision{Float64}}}},ODEFunction{false,Main.CoherentStructures.var\"#265#266\",LinearAlgebra.UniformScaling{Bool},Nothing,Nothing,Nothing,Nothing,Nothing,Nothing,Nothing,Nothing,Nothing,Nothing,Nothing,Nothing,typeof(SciMLBase.DEFAULT_OBSERVED),Nothing},Base.Iterators.Pairs{Union{},Union{},Tuple{},NamedTuple{(),Tuple{}}},SciMLBase.StandardODEProblem},BS5,OrdinaryDiffEq.InterpolationData{ODEFunction{false,Main.CoherentStructures.var\"#265#266\",LinearAlgebra.UniformScaling{Bool},Nothing,Nothing,Nothing,Nothing,Nothing,Nothing,Nothing,Nothing,Nothing,Nothing,Nothing,Nothing,typeof(SciMLBase.DEFAULT_OBSERVED),Nothing},Array{StaticArrays.SArray{Tuple{2},Float64,1,2},1},Array{Float64,1},Array{Array{StaticArrays.SArray{Tuple{2},Float64,1,2},1},1},OrdinaryDiffEq.BS5ConstantCache{Float64,Float64}},DiffEqBase.DEStats},ODEFunction{false,Main.CoherentStructures.var\"#265#266\",LinearAlgebra.UniformScaling{Bool},Nothing,Nothing,Nothing,Nothing,Nothing,Nothing,Nothing,Nothing,Nothing,Nothing,Nothing,Nothing,typeof(SciMLBase.DEFAULT_OBSERVED),Nothing},OrdinaryDiffEq.BS5ConstantCache{Float64,Float64},OrdinaryDiffEq.DEOptions{Float64,Float64,Float64,Float64,typeof(DiffEqBase.ODE_DEFAULT_NORM),typeof(LinearAlgebra.opnorm),Nothing,CallbackSet{Tuple{},Tuple{}},typeof(DiffEqBase.ODE_DEFAULT_ISOUTOFDOMAIN),typeof(DiffEqBase.ODE_DEFAULT_PROG_MESSAGE),typeof(DiffEqBase.ODE_DEFAULT_UNSTABLE_CHECK),DataStructures.BinaryHeap{Float64,Base.Order.ForwardOrdering},DataStructures.BinaryHeap{Float64,Base.Order.ForwardOrdering},Nothing,Nothing,Int64,Tuple{},Array{Float64,1},Tuple{}},StaticArrays.SArray{Tuple{2},Float64,1,2},Float64,Nothing,OrdinaryDiffEq.DefaultInit}) at C:\\Users\\Martin\\.julia\\packages\\OrdinaryDiffEq\\y19MS\\src\\solve.jl:453",
      " [8] #__solve#401 at C:\\Users\\Martin\\.julia\\packages\\OrdinaryDiffEq\\y19MS\\src\\solve.jl:5 [inlined]",
      " [9] #solve_call#56 at C:\\Users\\Martin\\.julia\\packages\\DiffEqBase\\krS36\\src\\solve.jl:61 [inlined]",
      " [10] solve_up(::ODEProblem{StaticArrays.SArray{Tuple{2},Float64,1,2},Tuple{Float64,Float64},false,Interpolations.ScaledInterpolation{StaticArrays.SArray{Tuple{2},Float64,1,2},3,Interpolations.BSplineInterpolation{StaticArrays.SArray{Tuple{2},Float64,1,2},3,OffsetArrays.OffsetArray{StaticArrays.SArray{Tuple{2},Float64,1,2},3,Array{StaticArrays.SArray{Tuple{2},Float64,1,2},3}},Interpolations.BSpline{Interpolations.Cubic{Interpolations.Free{Interpolations.OnGrid}}},Tuple{Base.OneTo{Int64},Base.OneTo{Int64},Base.OneTo{Int64}}},Interpolations.BSpline{Interpolations.Cubic{Interpolations.Free{Interpolations.OnGrid}}},Tuple{StepRangeLen{Float64,Base.TwicePrecision{Float64},Base.TwicePrecision{Float64}},StepRangeLen{Float64,Base.TwicePrecision{Float64},Base.TwicePrecision{Float64}},StepRangeLen{Float64,Base.TwicePrecision{Float64},Base.TwicePrecision{Float64}}}},ODEFunction{false,Main.CoherentStructures.var\"#265#266\",LinearAlgebra.UniformScaling{Bool},Nothing,Nothing,Nothing,Nothing,Nothing,Nothing,Nothing,Nothing,Nothing,Nothing,Nothing,Nothing,typeof(SciMLBase.DEFAULT_OBSERVED),Nothing},Base.Iterators.Pairs{Union{},Union{},Tuple{},NamedTuple{(),Tuple{}}},SciMLBase.StandardODEProblem}, ::Nothing, ::StaticArrays.SArray{Tuple{2},Float64,1,2}, ::Interpolations.ScaledInterpolation{StaticArrays.SArray{Tuple{2},Float64,1,2},3,Interpolations.BSplineInterpolation{StaticArrays.SArray{Tuple{2},Float64,1,2},3,OffsetArrays.OffsetArray{StaticArrays.SArray{Tuple{2},Float64,1,2},3,Array{StaticArrays.SArray{Tuple{2},Float64,1,2},3}},Interpolations.BSpline{Interpolations.Cubic{Interpolations.Free{Interpolations.OnGrid}}},Tuple{Base.OneTo{Int64},Base.OneTo{Int64},Base.OneTo{Int64}}},Interpolations.BSpline{Interpolations.Cubic{Interpolations.Free{Interpolations.OnGrid}}},Tuple{StepRangeLen{Float64,Base.TwicePrecision{Float64},Base.TwicePrecision{Float64}},StepRangeLen{Float64,Base.TwicePrecision{Float64},Base.TwicePrecision{Float64}},StepRangeLen{Float64,Base.TwicePrecision{Float64},Base.TwicePrecision{Float64}}}}, ::BS5; kwargs::Base.Iterators.Pairs{Symbol,Any,NTuple{8,Symbol},NamedTuple{(:saveat, :save_everystep, :dense, :reltol, :abstol, :force_dtmin, :adaptive, :dt),Tuple{Array{Float64,1},Bool,Bool,Float64,Float64,Bool,Bool,Float64}}}) at C:\\Users\\Martin\\.julia\\packages\\DiffEqBase\\krS36\\src\\solve.jl:82",
      " [11] #solve#57 at C:\\Users\\Martin\\.julia\\packages\\DiffEqBase\\krS36\\src\\solve.jl:70 [inlined]",
      " [12] #_flow#52 at C:\\Users\\Martin\\D_Drive\\Documents\\Uni\\3 Mathematics in Data Science\\05 Masterarbeit\\CoherentStructuresLinearResponse\\src\\pullbacktensors.jl:72 [inlined]",
      " [13] #flow#51 at C:\\Users\\Martin\\D_Drive\\Documents\\Uni\\3 Mathematics in Data Science\\05 Masterarbeit\\CoherentStructuresLinearResponse\\src\\pullbacktensors.jl:37 [inlined]",
      " [14] (::var\"#13#14\"{BS5,Float64})(::Tensor{1,2,Float64,2}, ::Int64) at .\\In[10]:2",
      " [15] (::var\"#15#16\"{BS5,Float64,Int64})(::Tensor{1,2,Float64,2}) at .\\In[11]:2",
      " [16] #5 at .\\none:0 [inlined]",
      " [17] iterate at .\\generator.jl:47 [inlined]",
      " [18] collect_to!(::Array{StaticArrays.SArray{Tuple{2},Float64,1,2},1}, ::Base.Generator{Array{JuAFEM.Node{2,Float64},1},var\"#5#6\"{var\"#15#16\"{BS5,Float64,Int64}}}, ::Int64, ::Int64) at .\\array.jl:711",
      " [19] collect_to_with_first!(::Array{StaticArrays.SArray{Tuple{2},Float64,1,2},1}, ::StaticArrays.SArray{Tuple{2},Float64,1,2}, ::Base.Generator{Array{JuAFEM.Node{2,Float64},1},var\"#5#6\"{var\"#15#16\"{BS5,Float64,Int64}}}, ::Int64) at .\\array.jl:689",
      " [20] collect(::Base.Generator{Array{JuAFEM.Node{2,Float64},1},var\"#5#6\"{var\"#15#16\"{BS5,Float64,Int64}}}) at .\\array.jl:670",
      " [21] evaluate_on_grid(::var\"#15#16\"{BS5,Float64,Int64}, ::Main.CoherentStructures.GridContext{2,JuAFEM.Grid{2,JuAFEM.Cell{2,3,3},Float64},JuAFEM.Lagrange{2,JuAFEM.RefTetrahedron,1},JuAFEM.Lagrange{2,JuAFEM.RefTetrahedron,1},JuAFEM.DofHandler{2,JuAFEM.Cell{2,3,3},Float64},JuAFEM.QuadratureRule{2,JuAFEM.RefTetrahedron,Float64},Main.CoherentStructures.Regular2DGridLocator{JuAFEM.Cell{2,3,3}}}) at .\\In[6]:2",
      " [22] (::var\"#21#22\")(::Float64) at .\\none:0",
      " [23] iterate at .\\generator.jl:47 [inlined]",
      " [24] collect(::Base.Generator{Array{Float64,1},var\"#21#22\"}) at .\\array.jl:665",
      " [25] top-level scope at util.jl:175",
      " [26] top-level scope at In[15]:1"
     ]
    }
   ],
   "source": [
    "@time reference_BS5 = [evaluate_on_grid(Tdot_reference(OrdinaryDiffEq.BS5(),stepsize,0),ctx) \n",
    "    for stepsize in stepsize_range_BS5];"
   ]
  },
  {
   "cell_type": "code",
   "execution_count": 16,
   "metadata": {},
   "outputs": [
    {
     "ename": "BoundsError",
     "evalue": "\u001b[91mBoundsError: attempt to access 165×105×14 scale(interpolate(OffsetArray(::Array{StaticArrays.SArray{Tuple{2},Float64,1,2},3}, 0:166, 0:106, 0:15), BSpline(Cubic(Free(Interpolations.OnGrid())))), (-12.0:0.25:29.0, -45.0:0.25:-19.0, 733010.0:7.0:733101.0)) with element type StaticArrays.SArray{Tuple{2},Float64,1,2} at index [Dual{ForwardDiff.Tag{Main.CoherentStructures.var\"#543#544\"{var\"#13#14\"{BS5,Float64}},Float64}}(13.315702256791528,-50.57438389155294,38.66326558691236,0.0), Dual{ForwardDiff.Tag{Main.CoherentStructures.var\"#543#544\"{var\"#13#14\"{BS5,Float64}},Float64}}(-48.21338939568242,1098.4090547563992,-831.6204445401809,0.0), Dual{ForwardDiff.Tag{Main.CoherentStructures.var\"#543#544\"{var\"#13#14\"{BS5,Float64}},Float64}}(733085.0,0.0,0.0,0.0)]\u001b[39m",
     "output_type": "error",
     "traceback": [
      "\u001b[91mBoundsError: attempt to access 165×105×14 scale(interpolate(OffsetArray(::Array{StaticArrays.SArray{Tuple{2},Float64,1,2},3}, 0:166, 0:106, 0:15), BSpline(Cubic(Free(Interpolations.OnGrid())))), (-12.0:0.25:29.0, -45.0:0.25:-19.0, 733010.0:7.0:733101.0)) with element type StaticArrays.SArray{Tuple{2},Float64,1,2} at index [Dual{ForwardDiff.Tag{Main.CoherentStructures.var\"#543#544\"{var\"#13#14\"{BS5,Float64}},Float64}}(13.315702256791528,-50.57438389155294,38.66326558691236,0.0), Dual{ForwardDiff.Tag{Main.CoherentStructures.var\"#543#544\"{var\"#13#14\"{BS5,Float64}},Float64}}(-48.21338939568242,1098.4090547563992,-831.6204445401809,0.0), Dual{ForwardDiff.Tag{Main.CoherentStructures.var\"#543#544\"{var\"#13#14\"{BS5,Float64}},Float64}}(733085.0,0.0,0.0,0.0)]\u001b[39m",
      "",
      "Stacktrace:",
      " [1] throw_boundserror(::Interpolations.ScaledInterpolation{StaticArrays.SArray{Tuple{2},Float64,1,2},3,Interpolations.BSplineInterpolation{StaticArrays.SArray{Tuple{2},Float64,1,2},3,OffsetArrays.OffsetArray{StaticArrays.SArray{Tuple{2},Float64,1,2},3,Array{StaticArrays.SArray{Tuple{2},Float64,1,2},3}},Interpolations.BSpline{Interpolations.Cubic{Interpolations.Free{Interpolations.OnGrid}}},Tuple{Base.OneTo{Int64},Base.OneTo{Int64},Base.OneTo{Int64}}},Interpolations.BSpline{Interpolations.Cubic{Interpolations.Free{Interpolations.OnGrid}}},Tuple{StepRangeLen{Float64,Base.TwicePrecision{Float64},Base.TwicePrecision{Float64}},StepRangeLen{Float64,Base.TwicePrecision{Float64},Base.TwicePrecision{Float64}},StepRangeLen{Float64,Base.TwicePrecision{Float64},Base.TwicePrecision{Float64}}}}, ::Tuple{ForwardDiff.Dual{ForwardDiff.Tag{Main.CoherentStructures.var\"#543#544\"{var\"#13#14\"{BS5,Float64}},Float64},Float64,3},ForwardDiff.Dual{ForwardDiff.Tag{Main.CoherentStructures.var\"#543#544\"{var\"#13#14\"{BS5,Float64}},Float64},Float64,3},ForwardDiff.Dual{ForwardDiff.Tag{Main.CoherentStructures.var\"#543#544\"{var\"#13#14\"{BS5,Float64}},Float64},Float64,3}}) at .\\abstractarray.jl:537",
      " [2] ScaledInterpolation at C:\\Users\\Martin\\.julia\\packages\\Interpolations\\qHlUr\\src\\scaling\\scaling.jl:71 [inlined]",
      " [3] (::Main.CoherentStructures.var\"#265#266\")(::StaticArrays.SArray{Tuple{2},ForwardDiff.Dual{ForwardDiff.Tag{Main.CoherentStructures.var\"#543#544\"{var\"#13#14\"{BS5,Float64}},Float64},Float64,3},1,2}, ::Interpolations.ScaledInterpolation{StaticArrays.SArray{Tuple{2},Float64,1,2},3,Interpolations.BSplineInterpolation{StaticArrays.SArray{Tuple{2},Float64,1,2},3,OffsetArrays.OffsetArray{StaticArrays.SArray{Tuple{2},Float64,1,2},3,Array{StaticArrays.SArray{Tuple{2},Float64,1,2},3}},Interpolations.BSpline{Interpolations.Cubic{Interpolations.Free{Interpolations.OnGrid}}},Tuple{Base.OneTo{Int64},Base.OneTo{Int64},Base.OneTo{Int64}}},Interpolations.BSpline{Interpolations.Cubic{Interpolations.Free{Interpolations.OnGrid}}},Tuple{StepRangeLen{Float64,Base.TwicePrecision{Float64},Base.TwicePrecision{Float64}},StepRangeLen{Float64,Base.TwicePrecision{Float64},Base.TwicePrecision{Float64}},StepRangeLen{Float64,Base.TwicePrecision{Float64},Base.TwicePrecision{Float64}}}}, ::ForwardDiff.Dual{ForwardDiff.Tag{Main.CoherentStructures.var\"#543#544\"{var\"#13#14\"{BS5,Float64}},Float64},Float64,3}) at C:\\Users\\Martin\\D_Drive\\Documents\\Uni\\3 Mathematics in Data Science\\05 Masterarbeit\\CoherentStructuresLinearResponse\\src\\velocityfields.jl:51",
      " [4] ODEFunction at C:\\Users\\Martin\\.julia\\packages\\SciMLBase\\Afx1r\\src\\scimlfunctions.jl:329 [inlined]",
      " [5] perform_step!(::OrdinaryDiffEq.ODEIntegrator{BS5,false,StaticArrays.SArray{Tuple{2},ForwardDiff.Dual{ForwardDiff.Tag{Main.CoherentStructures.var\"#543#544\"{var\"#13#14\"{BS5,Float64}},Float64},Float64,3},1,2},Nothing,ForwardDiff.Dual{ForwardDiff.Tag{Main.CoherentStructures.var\"#543#544\"{var\"#13#14\"{BS5,Float64}},Float64},Float64,3},Interpolations.ScaledInterpolation{StaticArrays.SArray{Tuple{2},Float64,1,2},3,Interpolations.BSplineInterpolation{StaticArrays.SArray{Tuple{2},Float64,1,2},3,OffsetArrays.OffsetArray{StaticArrays.SArray{Tuple{2},Float64,1,2},3,Array{StaticArrays.SArray{Tuple{2},Float64,1,2},3}},Interpolations.BSpline{Interpolations.Cubic{Interpolations.Free{Interpolations.OnGrid}}},Tuple{Base.OneTo{Int64},Base.OneTo{Int64},Base.OneTo{Int64}}},Interpolations.BSpline{Interpolations.Cubic{Interpolations.Free{Interpolations.OnGrid}}},Tuple{StepRangeLen{Float64,Base.TwicePrecision{Float64},Base.TwicePrecision{Float64}},StepRangeLen{Float64,Base.TwicePrecision{Float64},Base.TwicePrecision{Float64}},StepRangeLen{Float64,Base.TwicePrecision{Float64},Base.TwicePrecision{Float64}}}},ForwardDiff.Dual{ForwardDiff.Tag{Main.CoherentStructures.var\"#543#544\"{var\"#13#14\"{BS5,Float64}},Float64},Float64,3},Float64,ForwardDiff.Dual{ForwardDiff.Tag{Main.CoherentStructures.var\"#543#544\"{var\"#13#14\"{BS5,Float64}},Float64},Float64,3},Array{StaticArrays.SArray{Tuple{2},ForwardDiff.Dual{ForwardDiff.Tag{Main.CoherentStructures.var\"#543#544\"{var\"#13#14\"{BS5,Float64}},Float64},Float64,3},1,2},1},ODESolution{ForwardDiff.Dual{ForwardDiff.Tag{Main.CoherentStructures.var\"#543#544\"{var\"#13#14\"{BS5,Float64}},Float64},Float64,3},2,Array{StaticArrays.SArray{Tuple{2},ForwardDiff.Dual{ForwardDiff.Tag{Main.CoherentStructures.var\"#543#544\"{var\"#13#14\"{BS5,Float64}},Float64},Float64,3},1,2},1},Nothing,Nothing,Array{ForwardDiff.Dual{ForwardDiff.Tag{Main.CoherentStructures.var\"#543#544\"{var\"#13#14\"{BS5,Float64}},Float64},Float64,3},1},Array{Array{StaticArrays.SArray{Tuple{2},ForwardDiff.Dual{ForwardDiff.Tag{Main.CoherentStructures.var\"#543#544\"{var\"#13#14\"{BS5,Float64}},Float64},Float64,3},1,2},1},1},ODEProblem{StaticArrays.SArray{Tuple{2},ForwardDiff.Dual{ForwardDiff.Tag{Main.CoherentStructures.var\"#543#544\"{var\"#13#14\"{BS5,Float64}},Float64},Float64,3},1,2},Tuple{ForwardDiff.Dual{ForwardDiff.Tag{Main.CoherentStructures.var\"#543#544\"{var\"#13#14\"{BS5,Float64}},Float64},Float64,3},ForwardDiff.Dual{ForwardDiff.Tag{Main.CoherentStructures.var\"#543#544\"{var\"#13#14\"{BS5,Float64}},Float64},Float64,3}},false,Interpolations.ScaledInterpolation{StaticArrays.SArray{Tuple{2},Float64,1,2},3,Interpolations.BSplineInterpolation{StaticArrays.SArray{Tuple{2},Float64,1,2},3,OffsetArrays.OffsetArray{StaticArrays.SArray{Tuple{2},Float64,1,2},3,Array{StaticArrays.SArray{Tuple{2},Float64,1,2},3}},Interpolations.BSpline{Interpolations.Cubic{Interpolations.Free{Interpolations.OnGrid}}},Tuple{Base.OneTo{Int64},Base.OneTo{Int64},Base.OneTo{Int64}}},Interpolations.BSpline{Interpolations.Cubic{Interpolations.Free{Interpolations.OnGrid}}},Tuple{StepRangeLen{Float64,Base.TwicePrecision{Float64},Base.TwicePrecision{Float64}},StepRangeLen{Float64,Base.TwicePrecision{Float64},Base.TwicePrecision{Float64}},StepRangeLen{Float64,Base.TwicePrecision{Float64},Base.TwicePrecision{Float64}}}},ODEFunction{false,Main.CoherentStructures.var\"#265#266\",LinearAlgebra.UniformScaling{Bool},Nothing,Nothing,Nothing,Nothing,Nothing,Nothing,Nothing,Nothing,Nothing,Nothing,Nothing,Nothing,typeof(SciMLBase.DEFAULT_OBSERVED),Nothing},Base.Iterators.Pairs{Union{},Union{},Tuple{},NamedTuple{(),Tuple{}}},SciMLBase.StandardODEProblem},BS5,OrdinaryDiffEq.InterpolationData{ODEFunction{false,Main.CoherentStructures.var\"#265#266\",LinearAlgebra.UniformScaling{Bool},Nothing,Nothing,Nothing,Nothing,Nothing,Nothing,Nothing,Nothing,Nothing,Nothing,Nothing,Nothing,typeof(SciMLBase.DEFAULT_OBSERVED),Nothing},Array{StaticArrays.SArray{Tuple{2},ForwardDiff.Dual{ForwardDiff.Tag{Main.CoherentStructures.var\"#543#544\"{var\"#13#14\"{BS5,Float64}},Float64},Float64,3},1,2},1},Array{ForwardDiff.Dual{ForwardDiff.Tag{Main.CoherentStructures.var\"#543#544\"{var\"#13#14\"{BS5,Float64}},Float64},Float64,3},1},Array{Array{StaticArrays.SArray{Tuple{2},ForwardDiff.Dual{ForwardDiff.Tag{Main.CoherentStructures.var\"#543#544\"{var\"#13#14\"{BS5,Float64}},Float64},Float64,3},1,2},1},1},OrdinaryDiffEq.BS5ConstantCache{Float64,Float64}},DiffEqBase.DEStats},ODEFunction{false,Main.CoherentStructures.var\"#265#266\",LinearAlgebra.UniformScaling{Bool},Nothing,Nothing,Nothing,Nothing,Nothing,Nothing,Nothing,Nothing,Nothing,Nothing,Nothing,Nothing,typeof(SciMLBase.DEFAULT_OBSERVED),Nothing},OrdinaryDiffEq.BS5ConstantCache{Float64,Float64},OrdinaryDiffEq.DEOptions{Float64,Float64,Float64,ForwardDiff.Dual{ForwardDiff.Tag{Main.CoherentStructures.var\"#543#544\"{var\"#13#14\"{BS5,Float64}},Float64},Float64,3},typeof(DiffEqBase.ODE_DEFAULT_NORM),typeof(LinearAlgebra.opnorm),Nothing,CallbackSet{Tuple{},Tuple{}},typeof(DiffEqBase.ODE_DEFAULT_ISOUTOFDOMAIN),typeof(DiffEqBase.ODE_DEFAULT_PROG_MESSAGE),typeof(DiffEqBase.ODE_DEFAULT_UNSTABLE_CHECK),DataStructures.BinaryHeap{ForwardDiff.Dual{ForwardDiff.Tag{Main.CoherentStructures.var\"#543#544\"{var\"#13#14\"{BS5,Float64}},Float64},Float64,3},Base.Order.ForwardOrdering},DataStructures.BinaryHeap{ForwardDiff.Dual{ForwardDiff.Tag{Main.CoherentStructures.var\"#543#544\"{var\"#13#14\"{BS5,Float64}},Float64},Float64,3},Base.Order.ForwardOrdering},Nothing,Nothing,Int64,Tuple{},Array{ForwardDiff.Dual{ForwardDiff.Tag{Main.CoherentStructures.var\"#543#544\"{var\"#13#14\"{BS5,Float64}},Float64},Float64,3},1},Tuple{}},StaticArrays.SArray{Tuple{2},ForwardDiff.Dual{ForwardDiff.Tag{Main.CoherentStructures.var\"#543#544\"{var\"#13#14\"{BS5,Float64}},Float64},Float64,3},1,2},ForwardDiff.Dual{ForwardDiff.Tag{Main.CoherentStructures.var\"#543#544\"{var\"#13#14\"{BS5,Float64}},Float64},Float64,3},Nothing,OrdinaryDiffEq.DefaultInit}, ::OrdinaryDiffEq.BS5ConstantCache{Float64,Float64}, ::Bool) at C:\\Users\\Martin\\.julia\\packages\\OrdinaryDiffEq\\y19MS\\src\\perform_step\\low_order_rk_perform_step.jl:399",
      " [6] perform_step! at C:\\Users\\Martin\\.julia\\packages\\OrdinaryDiffEq\\y19MS\\src\\perform_step\\low_order_rk_perform_step.jl:390 [inlined]",
      " [7] solve!(::OrdinaryDiffEq.ODEIntegrator{BS5,false,StaticArrays.SArray{Tuple{2},ForwardDiff.Dual{ForwardDiff.Tag{Main.CoherentStructures.var\"#543#544\"{var\"#13#14\"{BS5,Float64}},Float64},Float64,3},1,2},Nothing,ForwardDiff.Dual{ForwardDiff.Tag{Main.CoherentStructures.var\"#543#544\"{var\"#13#14\"{BS5,Float64}},Float64},Float64,3},Interpolations.ScaledInterpolation{StaticArrays.SArray{Tuple{2},Float64,1,2},3,Interpolations.BSplineInterpolation{StaticArrays.SArray{Tuple{2},Float64,1,2},3,OffsetArrays.OffsetArray{StaticArrays.SArray{Tuple{2},Float64,1,2},3,Array{StaticArrays.SArray{Tuple{2},Float64,1,2},3}},Interpolations.BSpline{Interpolations.Cubic{Interpolations.Free{Interpolations.OnGrid}}},Tuple{Base.OneTo{Int64},Base.OneTo{Int64},Base.OneTo{Int64}}},Interpolations.BSpline{Interpolations.Cubic{Interpolations.Free{Interpolations.OnGrid}}},Tuple{StepRangeLen{Float64,Base.TwicePrecision{Float64},Base.TwicePrecision{Float64}},StepRangeLen{Float64,Base.TwicePrecision{Float64},Base.TwicePrecision{Float64}},StepRangeLen{Float64,Base.TwicePrecision{Float64},Base.TwicePrecision{Float64}}}},ForwardDiff.Dual{ForwardDiff.Tag{Main.CoherentStructures.var\"#543#544\"{var\"#13#14\"{BS5,Float64}},Float64},Float64,3},Float64,ForwardDiff.Dual{ForwardDiff.Tag{Main.CoherentStructures.var\"#543#544\"{var\"#13#14\"{BS5,Float64}},Float64},Float64,3},Array{StaticArrays.SArray{Tuple{2},ForwardDiff.Dual{ForwardDiff.Tag{Main.CoherentStructures.var\"#543#544\"{var\"#13#14\"{BS5,Float64}},Float64},Float64,3},1,2},1},ODESolution{ForwardDiff.Dual{ForwardDiff.Tag{Main.CoherentStructures.var\"#543#544\"{var\"#13#14\"{BS5,Float64}},Float64},Float64,3},2,Array{StaticArrays.SArray{Tuple{2},ForwardDiff.Dual{ForwardDiff.Tag{Main.CoherentStructures.var\"#543#544\"{var\"#13#14\"{BS5,Float64}},Float64},Float64,3},1,2},1},Nothing,Nothing,Array{ForwardDiff.Dual{ForwardDiff.Tag{Main.CoherentStructures.var\"#543#544\"{var\"#13#14\"{BS5,Float64}},Float64},Float64,3},1},Array{Array{StaticArrays.SArray{Tuple{2},ForwardDiff.Dual{ForwardDiff.Tag{Main.CoherentStructures.var\"#543#544\"{var\"#13#14\"{BS5,Float64}},Float64},Float64,3},1,2},1},1},ODEProblem{StaticArrays.SArray{Tuple{2},ForwardDiff.Dual{ForwardDiff.Tag{Main.CoherentStructures.var\"#543#544\"{var\"#13#14\"{BS5,Float64}},Float64},Float64,3},1,2},Tuple{ForwardDiff.Dual{ForwardDiff.Tag{Main.CoherentStructures.var\"#543#544\"{var\"#13#14\"{BS5,Float64}},Float64},Float64,3},ForwardDiff.Dual{ForwardDiff.Tag{Main.CoherentStructures.var\"#543#544\"{var\"#13#14\"{BS5,Float64}},Float64},Float64,3}},false,Interpolations.ScaledInterpolation{StaticArrays.SArray{Tuple{2},Float64,1,2},3,Interpolations.BSplineInterpolation{StaticArrays.SArray{Tuple{2},Float64,1,2},3,OffsetArrays.OffsetArray{StaticArrays.SArray{Tuple{2},Float64,1,2},3,Array{StaticArrays.SArray{Tuple{2},Float64,1,2},3}},Interpolations.BSpline{Interpolations.Cubic{Interpolations.Free{Interpolations.OnGrid}}},Tuple{Base.OneTo{Int64},Base.OneTo{Int64},Base.OneTo{Int64}}},Interpolations.BSpline{Interpolations.Cubic{Interpolations.Free{Interpolations.OnGrid}}},Tuple{StepRangeLen{Float64,Base.TwicePrecision{Float64},Base.TwicePrecision{Float64}},StepRangeLen{Float64,Base.TwicePrecision{Float64},Base.TwicePrecision{Float64}},StepRangeLen{Float64,Base.TwicePrecision{Float64},Base.TwicePrecision{Float64}}}},ODEFunction{false,Main.CoherentStructures.var\"#265#266\",LinearAlgebra.UniformScaling{Bool},Nothing,Nothing,Nothing,Nothing,Nothing,Nothing,Nothing,Nothing,Nothing,Nothing,Nothing,Nothing,typeof(SciMLBase.DEFAULT_OBSERVED),Nothing},Base.Iterators.Pairs{Union{},Union{},Tuple{},NamedTuple{(),Tuple{}}},SciMLBase.StandardODEProblem},BS5,OrdinaryDiffEq.InterpolationData{ODEFunction{false,Main.CoherentStructures.var\"#265#266\",LinearAlgebra.UniformScaling{Bool},Nothing,Nothing,Nothing,Nothing,Nothing,Nothing,Nothing,Nothing,Nothing,Nothing,Nothing,Nothing,typeof(SciMLBase.DEFAULT_OBSERVED),Nothing},Array{StaticArrays.SArray{Tuple{2},ForwardDiff.Dual{ForwardDiff.Tag{Main.CoherentStructures.var\"#543#544\"{var\"#13#14\"{BS5,Float64}},Float64},Float64,3},1,2},1},Array{ForwardDiff.Dual{ForwardDiff.Tag{Main.CoherentStructures.var\"#543#544\"{var\"#13#14\"{BS5,Float64}},Float64},Float64,3},1},Array{Array{StaticArrays.SArray{Tuple{2},ForwardDiff.Dual{ForwardDiff.Tag{Main.CoherentStructures.var\"#543#544\"{var\"#13#14\"{BS5,Float64}},Float64},Float64,3},1,2},1},1},OrdinaryDiffEq.BS5ConstantCache{Float64,Float64}},DiffEqBase.DEStats},ODEFunction{false,Main.CoherentStructures.var\"#265#266\",LinearAlgebra.UniformScaling{Bool},Nothing,Nothing,Nothing,Nothing,Nothing,Nothing,Nothing,Nothing,Nothing,Nothing,Nothing,Nothing,typeof(SciMLBase.DEFAULT_OBSERVED),Nothing},OrdinaryDiffEq.BS5ConstantCache{Float64,Float64},OrdinaryDiffEq.DEOptions{Float64,Float64,Float64,ForwardDiff.Dual{ForwardDiff.Tag{Main.CoherentStructures.var\"#543#544\"{var\"#13#14\"{BS5,Float64}},Float64},Float64,3},typeof(DiffEqBase.ODE_DEFAULT_NORM),typeof(LinearAlgebra.opnorm),Nothing,CallbackSet{Tuple{},Tuple{}},typeof(DiffEqBase.ODE_DEFAULT_ISOUTOFDOMAIN),typeof(DiffEqBase.ODE_DEFAULT_PROG_MESSAGE),typeof(DiffEqBase.ODE_DEFAULT_UNSTABLE_CHECK),DataStructures.BinaryHeap{ForwardDiff.Dual{ForwardDiff.Tag{Main.CoherentStructures.var\"#543#544\"{var\"#13#14\"{BS5,Float64}},Float64},Float64,3},Base.Order.ForwardOrdering},DataStructures.BinaryHeap{ForwardDiff.Dual{ForwardDiff.Tag{Main.CoherentStructures.var\"#543#544\"{var\"#13#14\"{BS5,Float64}},Float64},Float64,3},Base.Order.ForwardOrdering},Nothing,Nothing,Int64,Tuple{},Array{ForwardDiff.Dual{ForwardDiff.Tag{Main.CoherentStructures.var\"#543#544\"{var\"#13#14\"{BS5,Float64}},Float64},Float64,3},1},Tuple{}},StaticArrays.SArray{Tuple{2},ForwardDiff.Dual{ForwardDiff.Tag{Main.CoherentStructures.var\"#543#544\"{var\"#13#14\"{BS5,Float64}},Float64},Float64,3},1,2},ForwardDiff.Dual{ForwardDiff.Tag{Main.CoherentStructures.var\"#543#544\"{var\"#13#14\"{BS5,Float64}},Float64},Float64,3},Nothing,OrdinaryDiffEq.DefaultInit}) at C:\\Users\\Martin\\.julia\\packages\\OrdinaryDiffEq\\y19MS\\src\\solve.jl:453",
      " [8] #__solve#401 at C:\\Users\\Martin\\.julia\\packages\\OrdinaryDiffEq\\y19MS\\src\\solve.jl:5 [inlined]",
      " [9] #solve_call#56 at C:\\Users\\Martin\\.julia\\packages\\DiffEqBase\\krS36\\src\\solve.jl:61 [inlined]",
      " [10] solve_up(::ODEProblem{StaticArrays.SArray{Tuple{2},ForwardDiff.Dual{ForwardDiff.Tag{Main.CoherentStructures.var\"#543#544\"{var\"#13#14\"{BS5,Float64}},Float64},Float64,3},1,2},Tuple{ForwardDiff.Dual{ForwardDiff.Tag{Main.CoherentStructures.var\"#543#544\"{var\"#13#14\"{BS5,Float64}},Float64},Float64,3},ForwardDiff.Dual{ForwardDiff.Tag{Main.CoherentStructures.var\"#543#544\"{var\"#13#14\"{BS5,Float64}},Float64},Float64,3}},false,Interpolations.ScaledInterpolation{StaticArrays.SArray{Tuple{2},Float64,1,2},3,Interpolations.BSplineInterpolation{StaticArrays.SArray{Tuple{2},Float64,1,2},3,OffsetArrays.OffsetArray{StaticArrays.SArray{Tuple{2},Float64,1,2},3,Array{StaticArrays.SArray{Tuple{2},Float64,1,2},3}},Interpolations.BSpline{Interpolations.Cubic{Interpolations.Free{Interpolations.OnGrid}}},Tuple{Base.OneTo{Int64},Base.OneTo{Int64},Base.OneTo{Int64}}},Interpolations.BSpline{Interpolations.Cubic{Interpolations.Free{Interpolations.OnGrid}}},Tuple{StepRangeLen{Float64,Base.TwicePrecision{Float64},Base.TwicePrecision{Float64}},StepRangeLen{Float64,Base.TwicePrecision{Float64},Base.TwicePrecision{Float64}},StepRangeLen{Float64,Base.TwicePrecision{Float64},Base.TwicePrecision{Float64}}}},ODEFunction{false,Main.CoherentStructures.var\"#265#266\",LinearAlgebra.UniformScaling{Bool},Nothing,Nothing,Nothing,Nothing,Nothing,Nothing,Nothing,Nothing,Nothing,Nothing,Nothing,Nothing,typeof(SciMLBase.DEFAULT_OBSERVED),Nothing},Base.Iterators.Pairs{Union{},Union{},Tuple{},NamedTuple{(),Tuple{}}},SciMLBase.StandardODEProblem}, ::Nothing, ::StaticArrays.SArray{Tuple{2},ForwardDiff.Dual{ForwardDiff.Tag{Main.CoherentStructures.var\"#543#544\"{var\"#13#14\"{BS5,Float64}},Float64},Float64,3},1,2}, ::Interpolations.ScaledInterpolation{StaticArrays.SArray{Tuple{2},Float64,1,2},3,Interpolations.BSplineInterpolation{StaticArrays.SArray{Tuple{2},Float64,1,2},3,OffsetArrays.OffsetArray{StaticArrays.SArray{Tuple{2},Float64,1,2},3,Array{StaticArrays.SArray{Tuple{2},Float64,1,2},3}},Interpolations.BSpline{Interpolations.Cubic{Interpolations.Free{Interpolations.OnGrid}}},Tuple{Base.OneTo{Int64},Base.OneTo{Int64},Base.OneTo{Int64}}},Interpolations.BSpline{Interpolations.Cubic{Interpolations.Free{Interpolations.OnGrid}}},Tuple{StepRangeLen{Float64,Base.TwicePrecision{Float64},Base.TwicePrecision{Float64}},StepRangeLen{Float64,Base.TwicePrecision{Float64},Base.TwicePrecision{Float64}},StepRangeLen{Float64,Base.TwicePrecision{Float64},Base.TwicePrecision{Float64}}}}, ::BS5; kwargs::Base.Iterators.Pairs{Symbol,Any,NTuple{8,Symbol},NamedTuple{(:saveat, :save_everystep, :dense, :reltol, :abstol, :force_dtmin, :adaptive, :dt),Tuple{Array{ForwardDiff.Dual{ForwardDiff.Tag{Main.CoherentStructures.var\"#543#544\"{var\"#13#14\"{BS5,Float64}},Float64},Float64,3},1},Bool,Bool,Float64,Float64,Bool,Bool,Float64}}}) at C:\\Users\\Martin\\.julia\\packages\\DiffEqBase\\krS36\\src\\solve.jl:82",
      " [11] #solve#57 at C:\\Users\\Martin\\.julia\\packages\\DiffEqBase\\krS36\\src\\solve.jl:70 [inlined]",
      " [12] #_flow#52 at C:\\Users\\Martin\\D_Drive\\Documents\\Uni\\3 Mathematics in Data Science\\05 Masterarbeit\\CoherentStructuresLinearResponse\\src\\pullbacktensors.jl:72 [inlined]",
      " [13] #flow#51 at C:\\Users\\Martin\\D_Drive\\Documents\\Uni\\3 Mathematics in Data Science\\05 Masterarbeit\\CoherentStructuresLinearResponse\\src\\pullbacktensors.jl:37 [inlined]",
      " [14] (::var\"#13#14\"{BS5,Float64})(::Array{ForwardDiff.Dual{ForwardDiff.Tag{Main.CoherentStructures.var\"#543#544\"{var\"#13#14\"{BS5,Float64}},Float64},Float64,3},1}, ::ForwardDiff.Dual{ForwardDiff.Tag{Main.CoherentStructures.var\"#543#544\"{var\"#13#14\"{BS5,Float64}},Float64},Float64,3}) at .\\In[10]:2",
      " [15] (::Main.CoherentStructures.var\"#543#544\"{var\"#13#14\"{BS5,Float64}})(::Array{ForwardDiff.Dual{ForwardDiff.Tag{Main.CoherentStructures.var\"#543#544\"{var\"#13#14\"{BS5,Float64}},Float64},Float64,3},1}) at C:\\Users\\Martin\\D_Drive\\Documents\\Uni\\3 Mathematics in Data Science\\05 Masterarbeit\\CoherentStructuresLinearResponse\\src\\linearResponse.jl:14",
      " [16] vector_mode_dual_eval at C:\\Users\\Martin\\.julia\\packages\\ForwardDiff\\m7cm5\\src\\apiutils.jl:37 [inlined]",
      " [17] vector_mode_jacobian(::Main.CoherentStructures.var\"#543#544\"{var\"#13#14\"{BS5,Float64}}, ::Array{Float64,1}, ::ForwardDiff.JacobianConfig{ForwardDiff.Tag{Main.CoherentStructures.var\"#543#544\"{var\"#13#14\"{BS5,Float64}},Float64},Float64,3,Array{ForwardDiff.Dual{ForwardDiff.Tag{Main.CoherentStructures.var\"#543#544\"{var\"#13#14\"{BS5,Float64}},Float64},Float64,3},1}}) at C:\\Users\\Martin\\.julia\\packages\\ForwardDiff\\m7cm5\\src\\jacobian.jl:147",
      " [18] jacobian(::Function, ::Array{Float64,1}, ::ForwardDiff.JacobianConfig{ForwardDiff.Tag{Main.CoherentStructures.var\"#543#544\"{var\"#13#14\"{BS5,Float64}},Float64},Float64,3,Array{ForwardDiff.Dual{ForwardDiff.Tag{Main.CoherentStructures.var\"#543#544\"{var\"#13#14\"{BS5,Float64}},Float64},Float64,3},1}}, ::Val{true}) at C:\\Users\\Martin\\.julia\\packages\\ForwardDiff\\m7cm5\\src\\jacobian.jl:21",
      " [19] jacobian(::Function, ::Array{Float64,1}, ::ForwardDiff.JacobianConfig{ForwardDiff.Tag{Main.CoherentStructures.var\"#543#544\"{var\"#13#14\"{BS5,Float64}},Float64},Float64,3,Array{ForwardDiff.Dual{ForwardDiff.Tag{Main.CoherentStructures.var\"#543#544\"{var\"#13#14\"{BS5,Float64}},Float64},Float64,3},1}}) at C:\\Users\\Martin\\.julia\\packages\\ForwardDiff\\m7cm5\\src\\jacobian.jl:19 (repeats 2 times)",
      " [20] parameter_autodiff(::var\"#13#14\"{BS5,Float64}, ::Tensor{1,2,Float64,2}, ::Int64) at C:\\Users\\Martin\\D_Drive\\Documents\\Uni\\3 Mathematics in Data Science\\05 Masterarbeit\\CoherentStructuresLinearResponse\\src\\linearResponse.jl:14",
      " [21] #17 at .\\In[12]:2 [inlined]",
      " [22] #5 at .\\none:0 [inlined]",
      " [23] iterate at .\\generator.jl:47 [inlined]",
      " [24] collect_to!(::Array{Array{Float64,1},1}, ::Base.Generator{Array{JuAFEM.Node{2,Float64},1},var\"#5#6\"{var\"#17#18\"{BS5,Float64,Int64}}}, ::Int64, ::Int64) at .\\array.jl:711",
      " [25] collect_to_with_first!(::Array{Array{Float64,1},1}, ::Array{Float64,1}, ::Base.Generator{Array{JuAFEM.Node{2,Float64},1},var\"#5#6\"{var\"#17#18\"{BS5,Float64,Int64}}}, ::Int64) at .\\array.jl:689",
      " [26] collect(::Base.Generator{Array{JuAFEM.Node{2,Float64},1},var\"#5#6\"{var\"#17#18\"{BS5,Float64,Int64}}}) at .\\array.jl:670",
      " [27] evaluate_on_grid(::var\"#17#18\"{BS5,Float64,Int64}, ::Main.CoherentStructures.GridContext{2,JuAFEM.Grid{2,JuAFEM.Cell{2,3,3},Float64},JuAFEM.Lagrange{2,JuAFEM.RefTetrahedron,1},JuAFEM.Lagrange{2,JuAFEM.RefTetrahedron,1},JuAFEM.DofHandler{2,JuAFEM.Cell{2,3,3},Float64},JuAFEM.QuadratureRule{2,JuAFEM.RefTetrahedron,Float64},Main.CoherentStructures.Regular2DGridLocator{JuAFEM.Cell{2,3,3}}}) at .\\In[6]:2",
      " [28] (::var\"#23#24\")(::Float64) at .\\none:0",
      " [29] iterate at .\\generator.jl:47 [inlined]",
      " [30] collect(::Base.Generator{Array{Float64,1},var\"#23#24\"}) at .\\array.jl:665",
      " [31] top-level scope at util.jl:175",
      " [32] top-level scope at In[16]:1"
     ]
    }
   ],
   "source": [
    "@time autodiff_BS5    = [evaluate_on_grid(Tdot_autodiff(OrdinaryDiffEq.BS5(),stepsize,0),ctx) \n",
    "    for stepsize in stepsize_range_BS5]\n",
    "@time FD_1eminus2_BS5 = [evaluate_on_grid(Tdot_finite_differences(OrdinaryDiffEq.BS5(),stepsize,0,1e-2),ctx)\n",
    "    for stepsize in stepsize_range_BS5]\n",
    "@time FD_1eminus3_BS5 = [evaluate_on_grid(Tdot_finite_differences(OrdinaryDiffEq.BS5(),stepsize,0,1e-3),ctx)\n",
    "    for stepsize in stepsize_range_BS5]\n",
    "@time FD_1eminus4_BS5 = [evaluate_on_grid(Tdot_finite_differences(OrdinaryDiffEq.BS5(),stepsize,0,1e-4),ctx) \n",
    "    for stepsize in stepsize_range_BS5]\n",
    "@time FD_1eminus5_BS5 = [evaluate_on_grid(Tdot_finite_differences(OrdinaryDiffEq.BS5(),stepsize,0,1e-5),ctx)\n",
    "    for stepsize in stepsize_range_BS5];\n",
    "@time FD_1eminus6_BS5 = [evaluate_on_grid(Tdot_finite_differences(OrdinaryDiffEq.BS5(),stepsize,0,1e-6),ctx)\n",
    "    for stepsize in stepsize_range_BS5];\n",
    "@time FD_1eminus7_BS5 = [evaluate_on_grid(Tdot_finite_differences(OrdinaryDiffEq.BS5(),stepsize,0,1e-7),ctx)\n",
    "    for stepsize in stepsize_range_BS5];"
   ]
  },
  {
   "cell_type": "code",
   "execution_count": 17,
   "metadata": {},
   "outputs": [
    {
     "ename": "UndefVarError",
     "evalue": "\u001b[91mUndefVarError: reference_BS5 not defined\u001b[39m",
     "output_type": "error",
     "traceback": [
      "\u001b[91mUndefVarError: reference_BS5 not defined\u001b[39m",
      "",
      "Stacktrace:",
      " [1] top-level scope at In[17]:1"
     ]
    }
   ],
   "source": [
    "l2_plot_BS5 = Plots.plot(stepsize_range_BS5,[l2_error(ref_stepsize,stepsize) \n",
    "        for (ref_stepsize,stepsize) in zip(reference_BS5,autodiff_BS5)], \n",
    "    xaxis=:log, yaxis=:log, marker=:dot, xflip=true, label=\"Autodiff BS5\"\n",
    "    ,fmt=:png,dpi=300,title=\"L2 error\",legend=(0.1,0.25),legendfontsize=5)\n",
    "Plots.plot!(stepsize_range_BS5,[l2_error(ref_stepsize,stepsize) \n",
    "        for (ref_stepsize,stepsize) in zip(reference_BS5,FD_1eminus2_BS5)], \n",
    "    marker=:dot, label=\"Finite Differences, δ=1e-2, BS5\")\n",
    "Plots.plot!(stepsize_range_BS5,[l2_error(ref_stepsize,stepsize) \n",
    "         for (ref_stepsize,stepsize) in zip(reference_BS5,FD_1eminus3_BS5)], \n",
    "    marker=:dot, label=\"Finite Differences, δ=1e-3, BS5\")\n",
    "Plots.plot!(stepsize_range_BS5,[l2_error(ref_stepsize,stepsize) \n",
    "         for (ref_stepsize,stepsize) in zip(reference_BS5,FD_1eminus4_BS5)], \n",
    "    marker=:dot, label=\"Finite Differences, δ=1e-4, BS5\")\n",
    "Plots.plot!(stepsize_range_BS5,[l2_error(ref_stepsize,stepsize) \n",
    "         for (ref_stepsize,stepsize) in zip(reference_BS5,FD_1eminus5_BS5)], \n",
    "    marker=:dot, label=\"Finite Differences, δ=1e-5, BS5\")\n",
    "Plots.plot!(stepsize_range_BS5,[l2_error(ref_stepsize,stepsize) \n",
    "         for (ref_stepsize,stepsize) in zip(reference_BS5,FD_1eminus6_BS5)], \n",
    "    marker=:dot, label=\"Finite Differences, δ=1e-6, BS5\")\n",
    "Plots.plot!(stepsize_range_BS5,[l2_error(ref_stepsize,stepsize) \n",
    "         for (ref_stepsize,stepsize) in zip(reference_BS5,FD_1eminus7_BS5)], \n",
    "    marker=:dot, label=\"Finite Differences, δ=1e-7, BS5\")\n",
    "#Plots.plot!(stepsize_range_BS5,[x^(5.5) for x in stepsize_range_BS5], \n",
    "#    linestyle=:dash,label=\"O(h^5.5)\")"
   ]
  },
  {
   "cell_type": "code",
   "execution_count": 18,
   "metadata": {},
   "outputs": [],
   "source": [
    "stepsize_range_DP8 = [6,5,2.5,1,0.75,0.6,0.5,0.4,0.25,0.1,0.075,0.05,0.025,0.01];"
   ]
  },
  {
   "cell_type": "code",
   "execution_count": 19,
   "metadata": {},
   "outputs": [
    {
     "ename": "BoundsError",
     "evalue": "\u001b[91mBoundsError: attempt to access 165×105×14 scale(interpolate(OffsetArray(::Array{StaticArrays.SArray{Tuple{2},Float64,1,2},3}, 0:166, 0:106, 0:15), BSpline(Cubic(Free(Interpolations.OnGrid())))), (-12.0:0.25:29.0, -45.0:0.25:-19.0, 733010.0:7.0:733101.0)) with element type StaticArrays.SArray{Tuple{2},Float64,1,2} at index [-3.6592976719721957, -49.1660016279486, 733085.0]\u001b[39m",
     "output_type": "error",
     "traceback": [
      "\u001b[91mBoundsError: attempt to access 165×105×14 scale(interpolate(OffsetArray(::Array{StaticArrays.SArray{Tuple{2},Float64,1,2},3}, 0:166, 0:106, 0:15), BSpline(Cubic(Free(Interpolations.OnGrid())))), (-12.0:0.25:29.0, -45.0:0.25:-19.0, 733010.0:7.0:733101.0)) with element type StaticArrays.SArray{Tuple{2},Float64,1,2} at index [-3.6592976719721957, -49.1660016279486, 733085.0]\u001b[39m",
      "",
      "Stacktrace:",
      " [1] throw_boundserror(::Interpolations.ScaledInterpolation{StaticArrays.SArray{Tuple{2},Float64,1,2},3,Interpolations.BSplineInterpolation{StaticArrays.SArray{Tuple{2},Float64,1,2},3,OffsetArrays.OffsetArray{StaticArrays.SArray{Tuple{2},Float64,1,2},3,Array{StaticArrays.SArray{Tuple{2},Float64,1,2},3}},Interpolations.BSpline{Interpolations.Cubic{Interpolations.Free{Interpolations.OnGrid}}},Tuple{Base.OneTo{Int64},Base.OneTo{Int64},Base.OneTo{Int64}}},Interpolations.BSpline{Interpolations.Cubic{Interpolations.Free{Interpolations.OnGrid}}},Tuple{StepRangeLen{Float64,Base.TwicePrecision{Float64},Base.TwicePrecision{Float64}},StepRangeLen{Float64,Base.TwicePrecision{Float64},Base.TwicePrecision{Float64}},StepRangeLen{Float64,Base.TwicePrecision{Float64},Base.TwicePrecision{Float64}}}}, ::Tuple{Float64,Float64,Float64}) at .\\abstractarray.jl:537",
      " [2] ScaledInterpolation at C:\\Users\\Martin\\.julia\\packages\\Interpolations\\qHlUr\\src\\scaling\\scaling.jl:71 [inlined]",
      " [3] (::Main.CoherentStructures.var\"#265#266\")(::StaticArrays.SArray{Tuple{2},Float64,1,2}, ::Interpolations.ScaledInterpolation{StaticArrays.SArray{Tuple{2},Float64,1,2},3,Interpolations.BSplineInterpolation{StaticArrays.SArray{Tuple{2},Float64,1,2},3,OffsetArrays.OffsetArray{StaticArrays.SArray{Tuple{2},Float64,1,2},3,Array{StaticArrays.SArray{Tuple{2},Float64,1,2},3}},Interpolations.BSpline{Interpolations.Cubic{Interpolations.Free{Interpolations.OnGrid}}},Tuple{Base.OneTo{Int64},Base.OneTo{Int64},Base.OneTo{Int64}}},Interpolations.BSpline{Interpolations.Cubic{Interpolations.Free{Interpolations.OnGrid}}},Tuple{StepRangeLen{Float64,Base.TwicePrecision{Float64},Base.TwicePrecision{Float64}},StepRangeLen{Float64,Base.TwicePrecision{Float64},Base.TwicePrecision{Float64}},StepRangeLen{Float64,Base.TwicePrecision{Float64},Base.TwicePrecision{Float64}}}}, ::Float64) at C:\\Users\\Martin\\D_Drive\\Documents\\Uni\\3 Mathematics in Data Science\\05 Masterarbeit\\CoherentStructuresLinearResponse\\src\\velocityfields.jl:51",
      " [4] ODEFunction at C:\\Users\\Martin\\.julia\\packages\\SciMLBase\\Afx1r\\src\\scimlfunctions.jl:329 [inlined]",
      " [5] perform_step!(::OrdinaryDiffEq.ODEIntegrator{DP8,false,StaticArrays.SArray{Tuple{2},Float64,1,2},Nothing,Float64,Interpolations.ScaledInterpolation{StaticArrays.SArray{Tuple{2},Float64,1,2},3,Interpolations.BSplineInterpolation{StaticArrays.SArray{Tuple{2},Float64,1,2},3,OffsetArrays.OffsetArray{StaticArrays.SArray{Tuple{2},Float64,1,2},3,Array{StaticArrays.SArray{Tuple{2},Float64,1,2},3}},Interpolations.BSpline{Interpolations.Cubic{Interpolations.Free{Interpolations.OnGrid}}},Tuple{Base.OneTo{Int64},Base.OneTo{Int64},Base.OneTo{Int64}}},Interpolations.BSpline{Interpolations.Cubic{Interpolations.Free{Interpolations.OnGrid}}},Tuple{StepRangeLen{Float64,Base.TwicePrecision{Float64},Base.TwicePrecision{Float64}},StepRangeLen{Float64,Base.TwicePrecision{Float64},Base.TwicePrecision{Float64}},StepRangeLen{Float64,Base.TwicePrecision{Float64},Base.TwicePrecision{Float64}}}},Float64,Float64,Float64,Array{StaticArrays.SArray{Tuple{2},Float64,1,2},1},ODESolution{Float64,2,Array{StaticArrays.SArray{Tuple{2},Float64,1,2},1},Nothing,Nothing,Array{Float64,1},Array{Array{StaticArrays.SArray{Tuple{2},Float64,1,2},1},1},ODEProblem{StaticArrays.SArray{Tuple{2},Float64,1,2},Tuple{Float64,Float64},false,Interpolations.ScaledInterpolation{StaticArrays.SArray{Tuple{2},Float64,1,2},3,Interpolations.BSplineInterpolation{StaticArrays.SArray{Tuple{2},Float64,1,2},3,OffsetArrays.OffsetArray{StaticArrays.SArray{Tuple{2},Float64,1,2},3,Array{StaticArrays.SArray{Tuple{2},Float64,1,2},3}},Interpolations.BSpline{Interpolations.Cubic{Interpolations.Free{Interpolations.OnGrid}}},Tuple{Base.OneTo{Int64},Base.OneTo{Int64},Base.OneTo{Int64}}},Interpolations.BSpline{Interpolations.Cubic{Interpolations.Free{Interpolations.OnGrid}}},Tuple{StepRangeLen{Float64,Base.TwicePrecision{Float64},Base.TwicePrecision{Float64}},StepRangeLen{Float64,Base.TwicePrecision{Float64},Base.TwicePrecision{Float64}},StepRangeLen{Float64,Base.TwicePrecision{Float64},Base.TwicePrecision{Float64}}}},ODEFunction{false,Main.CoherentStructures.var\"#265#266\",LinearAlgebra.UniformScaling{Bool},Nothing,Nothing,Nothing,Nothing,Nothing,Nothing,Nothing,Nothing,Nothing,Nothing,Nothing,Nothing,typeof(SciMLBase.DEFAULT_OBSERVED),Nothing},Base.Iterators.Pairs{Union{},Union{},Tuple{},NamedTuple{(),Tuple{}}},SciMLBase.StandardODEProblem},DP8,OrdinaryDiffEq.InterpolationData{ODEFunction{false,Main.CoherentStructures.var\"#265#266\",LinearAlgebra.UniformScaling{Bool},Nothing,Nothing,Nothing,Nothing,Nothing,Nothing,Nothing,Nothing,Nothing,Nothing,Nothing,Nothing,typeof(SciMLBase.DEFAULT_OBSERVED),Nothing},Array{StaticArrays.SArray{Tuple{2},Float64,1,2},1},Array{Float64,1},Array{Array{StaticArrays.SArray{Tuple{2},Float64,1,2},1},1},OrdinaryDiffEq.DP8ConstantCache{Float64,Float64}},DiffEqBase.DEStats},ODEFunction{false,Main.CoherentStructures.var\"#265#266\",LinearAlgebra.UniformScaling{Bool},Nothing,Nothing,Nothing,Nothing,Nothing,Nothing,Nothing,Nothing,Nothing,Nothing,Nothing,Nothing,typeof(SciMLBase.DEFAULT_OBSERVED),Nothing},OrdinaryDiffEq.DP8ConstantCache{Float64,Float64},OrdinaryDiffEq.DEOptions{Float64,Float64,Float64,Float64,typeof(DiffEqBase.ODE_DEFAULT_NORM),typeof(LinearAlgebra.opnorm),Nothing,CallbackSet{Tuple{},Tuple{}},typeof(DiffEqBase.ODE_DEFAULT_ISOUTOFDOMAIN),typeof(DiffEqBase.ODE_DEFAULT_PROG_MESSAGE),typeof(DiffEqBase.ODE_DEFAULT_UNSTABLE_CHECK),DataStructures.BinaryHeap{Float64,Base.Order.ForwardOrdering},DataStructures.BinaryHeap{Float64,Base.Order.ForwardOrdering},Nothing,Nothing,Int64,Tuple{},Array{Float64,1},Tuple{}},StaticArrays.SArray{Tuple{2},Float64,1,2},Float64,Nothing,OrdinaryDiffEq.DefaultInit}, ::OrdinaryDiffEq.DP8ConstantCache{Float64,Float64}, ::Bool) at C:\\Users\\Martin\\.julia\\packages\\OrdinaryDiffEq\\y19MS\\src\\perform_step\\high_order_rk_perform_step.jl:178",
      " [6] perform_step! at C:\\Users\\Martin\\.julia\\packages\\OrdinaryDiffEq\\y19MS\\src\\perform_step\\high_order_rk_perform_step.jl:164 [inlined]",
      " [7] solve!(::OrdinaryDiffEq.ODEIntegrator{DP8,false,StaticArrays.SArray{Tuple{2},Float64,1,2},Nothing,Float64,Interpolations.ScaledInterpolation{StaticArrays.SArray{Tuple{2},Float64,1,2},3,Interpolations.BSplineInterpolation{StaticArrays.SArray{Tuple{2},Float64,1,2},3,OffsetArrays.OffsetArray{StaticArrays.SArray{Tuple{2},Float64,1,2},3,Array{StaticArrays.SArray{Tuple{2},Float64,1,2},3}},Interpolations.BSpline{Interpolations.Cubic{Interpolations.Free{Interpolations.OnGrid}}},Tuple{Base.OneTo{Int64},Base.OneTo{Int64},Base.OneTo{Int64}}},Interpolations.BSpline{Interpolations.Cubic{Interpolations.Free{Interpolations.OnGrid}}},Tuple{StepRangeLen{Float64,Base.TwicePrecision{Float64},Base.TwicePrecision{Float64}},StepRangeLen{Float64,Base.TwicePrecision{Float64},Base.TwicePrecision{Float64}},StepRangeLen{Float64,Base.TwicePrecision{Float64},Base.TwicePrecision{Float64}}}},Float64,Float64,Float64,Array{StaticArrays.SArray{Tuple{2},Float64,1,2},1},ODESolution{Float64,2,Array{StaticArrays.SArray{Tuple{2},Float64,1,2},1},Nothing,Nothing,Array{Float64,1},Array{Array{StaticArrays.SArray{Tuple{2},Float64,1,2},1},1},ODEProblem{StaticArrays.SArray{Tuple{2},Float64,1,2},Tuple{Float64,Float64},false,Interpolations.ScaledInterpolation{StaticArrays.SArray{Tuple{2},Float64,1,2},3,Interpolations.BSplineInterpolation{StaticArrays.SArray{Tuple{2},Float64,1,2},3,OffsetArrays.OffsetArray{StaticArrays.SArray{Tuple{2},Float64,1,2},3,Array{StaticArrays.SArray{Tuple{2},Float64,1,2},3}},Interpolations.BSpline{Interpolations.Cubic{Interpolations.Free{Interpolations.OnGrid}}},Tuple{Base.OneTo{Int64},Base.OneTo{Int64},Base.OneTo{Int64}}},Interpolations.BSpline{Interpolations.Cubic{Interpolations.Free{Interpolations.OnGrid}}},Tuple{StepRangeLen{Float64,Base.TwicePrecision{Float64},Base.TwicePrecision{Float64}},StepRangeLen{Float64,Base.TwicePrecision{Float64},Base.TwicePrecision{Float64}},StepRangeLen{Float64,Base.TwicePrecision{Float64},Base.TwicePrecision{Float64}}}},ODEFunction{false,Main.CoherentStructures.var\"#265#266\",LinearAlgebra.UniformScaling{Bool},Nothing,Nothing,Nothing,Nothing,Nothing,Nothing,Nothing,Nothing,Nothing,Nothing,Nothing,Nothing,typeof(SciMLBase.DEFAULT_OBSERVED),Nothing},Base.Iterators.Pairs{Union{},Union{},Tuple{},NamedTuple{(),Tuple{}}},SciMLBase.StandardODEProblem},DP8,OrdinaryDiffEq.InterpolationData{ODEFunction{false,Main.CoherentStructures.var\"#265#266\",LinearAlgebra.UniformScaling{Bool},Nothing,Nothing,Nothing,Nothing,Nothing,Nothing,Nothing,Nothing,Nothing,Nothing,Nothing,Nothing,typeof(SciMLBase.DEFAULT_OBSERVED),Nothing},Array{StaticArrays.SArray{Tuple{2},Float64,1,2},1},Array{Float64,1},Array{Array{StaticArrays.SArray{Tuple{2},Float64,1,2},1},1},OrdinaryDiffEq.DP8ConstantCache{Float64,Float64}},DiffEqBase.DEStats},ODEFunction{false,Main.CoherentStructures.var\"#265#266\",LinearAlgebra.UniformScaling{Bool},Nothing,Nothing,Nothing,Nothing,Nothing,Nothing,Nothing,Nothing,Nothing,Nothing,Nothing,Nothing,typeof(SciMLBase.DEFAULT_OBSERVED),Nothing},OrdinaryDiffEq.DP8ConstantCache{Float64,Float64},OrdinaryDiffEq.DEOptions{Float64,Float64,Float64,Float64,typeof(DiffEqBase.ODE_DEFAULT_NORM),typeof(LinearAlgebra.opnorm),Nothing,CallbackSet{Tuple{},Tuple{}},typeof(DiffEqBase.ODE_DEFAULT_ISOUTOFDOMAIN),typeof(DiffEqBase.ODE_DEFAULT_PROG_MESSAGE),typeof(DiffEqBase.ODE_DEFAULT_UNSTABLE_CHECK),DataStructures.BinaryHeap{Float64,Base.Order.ForwardOrdering},DataStructures.BinaryHeap{Float64,Base.Order.ForwardOrdering},Nothing,Nothing,Int64,Tuple{},Array{Float64,1},Tuple{}},StaticArrays.SArray{Tuple{2},Float64,1,2},Float64,Nothing,OrdinaryDiffEq.DefaultInit}) at C:\\Users\\Martin\\.julia\\packages\\OrdinaryDiffEq\\y19MS\\src\\solve.jl:453",
      " [8] #__solve#401 at C:\\Users\\Martin\\.julia\\packages\\OrdinaryDiffEq\\y19MS\\src\\solve.jl:5 [inlined]",
      " [9] #solve_call#56 at C:\\Users\\Martin\\.julia\\packages\\DiffEqBase\\krS36\\src\\solve.jl:61 [inlined]",
      " [10] solve_up(::ODEProblem{StaticArrays.SArray{Tuple{2},Float64,1,2},Tuple{Float64,Float64},false,Interpolations.ScaledInterpolation{StaticArrays.SArray{Tuple{2},Float64,1,2},3,Interpolations.BSplineInterpolation{StaticArrays.SArray{Tuple{2},Float64,1,2},3,OffsetArrays.OffsetArray{StaticArrays.SArray{Tuple{2},Float64,1,2},3,Array{StaticArrays.SArray{Tuple{2},Float64,1,2},3}},Interpolations.BSpline{Interpolations.Cubic{Interpolations.Free{Interpolations.OnGrid}}},Tuple{Base.OneTo{Int64},Base.OneTo{Int64},Base.OneTo{Int64}}},Interpolations.BSpline{Interpolations.Cubic{Interpolations.Free{Interpolations.OnGrid}}},Tuple{StepRangeLen{Float64,Base.TwicePrecision{Float64},Base.TwicePrecision{Float64}},StepRangeLen{Float64,Base.TwicePrecision{Float64},Base.TwicePrecision{Float64}},StepRangeLen{Float64,Base.TwicePrecision{Float64},Base.TwicePrecision{Float64}}}},ODEFunction{false,Main.CoherentStructures.var\"#265#266\",LinearAlgebra.UniformScaling{Bool},Nothing,Nothing,Nothing,Nothing,Nothing,Nothing,Nothing,Nothing,Nothing,Nothing,Nothing,Nothing,typeof(SciMLBase.DEFAULT_OBSERVED),Nothing},Base.Iterators.Pairs{Union{},Union{},Tuple{},NamedTuple{(),Tuple{}}},SciMLBase.StandardODEProblem}, ::Nothing, ::StaticArrays.SArray{Tuple{2},Float64,1,2}, ::Interpolations.ScaledInterpolation{StaticArrays.SArray{Tuple{2},Float64,1,2},3,Interpolations.BSplineInterpolation{StaticArrays.SArray{Tuple{2},Float64,1,2},3,OffsetArrays.OffsetArray{StaticArrays.SArray{Tuple{2},Float64,1,2},3,Array{StaticArrays.SArray{Tuple{2},Float64,1,2},3}},Interpolations.BSpline{Interpolations.Cubic{Interpolations.Free{Interpolations.OnGrid}}},Tuple{Base.OneTo{Int64},Base.OneTo{Int64},Base.OneTo{Int64}}},Interpolations.BSpline{Interpolations.Cubic{Interpolations.Free{Interpolations.OnGrid}}},Tuple{StepRangeLen{Float64,Base.TwicePrecision{Float64},Base.TwicePrecision{Float64}},StepRangeLen{Float64,Base.TwicePrecision{Float64},Base.TwicePrecision{Float64}},StepRangeLen{Float64,Base.TwicePrecision{Float64},Base.TwicePrecision{Float64}}}}, ::DP8; kwargs::Base.Iterators.Pairs{Symbol,Any,NTuple{8,Symbol},NamedTuple{(:saveat, :save_everystep, :dense, :reltol, :abstol, :force_dtmin, :adaptive, :dt),Tuple{Array{Float64,1},Bool,Bool,Float64,Float64,Bool,Bool,Float64}}}) at C:\\Users\\Martin\\.julia\\packages\\DiffEqBase\\krS36\\src\\solve.jl:82",
      " [11] #solve#57 at C:\\Users\\Martin\\.julia\\packages\\DiffEqBase\\krS36\\src\\solve.jl:70 [inlined]",
      " [12] #_flow#52 at C:\\Users\\Martin\\D_Drive\\Documents\\Uni\\3 Mathematics in Data Science\\05 Masterarbeit\\CoherentStructuresLinearResponse\\src\\pullbacktensors.jl:72 [inlined]",
      " [13] #flow#51 at C:\\Users\\Martin\\D_Drive\\Documents\\Uni\\3 Mathematics in Data Science\\05 Masterarbeit\\CoherentStructuresLinearResponse\\src\\pullbacktensors.jl:37 [inlined]",
      " [14] (::var\"#13#14\"{DP8,Float64})(::Tensor{1,2,Float64,2}, ::Int64) at .\\In[10]:2",
      " [15] (::var\"#15#16\"{DP8,Float64,Int64})(::Tensor{1,2,Float64,2}) at .\\In[11]:2",
      " [16] #5 at .\\none:0 [inlined]",
      " [17] iterate at .\\generator.jl:47 [inlined]",
      " [18] collect_to!(::Array{StaticArrays.SArray{Tuple{2},Float64,1,2},1}, ::Base.Generator{Array{JuAFEM.Node{2,Float64},1},var\"#5#6\"{var\"#15#16\"{DP8,Float64,Int64}}}, ::Int64, ::Int64) at .\\array.jl:711",
      " [19] collect_to_with_first!(::Array{StaticArrays.SArray{Tuple{2},Float64,1,2},1}, ::StaticArrays.SArray{Tuple{2},Float64,1,2}, ::Base.Generator{Array{JuAFEM.Node{2,Float64},1},var\"#5#6\"{var\"#15#16\"{DP8,Float64,Int64}}}, ::Int64) at .\\array.jl:689",
      " [20] collect(::Base.Generator{Array{JuAFEM.Node{2,Float64},1},var\"#5#6\"{var\"#15#16\"{DP8,Float64,Int64}}}) at .\\array.jl:670",
      " [21] evaluate_on_grid(::var\"#15#16\"{DP8,Float64,Int64}, ::Main.CoherentStructures.GridContext{2,JuAFEM.Grid{2,JuAFEM.Cell{2,3,3},Float64},JuAFEM.Lagrange{2,JuAFEM.RefTetrahedron,1},JuAFEM.Lagrange{2,JuAFEM.RefTetrahedron,1},JuAFEM.DofHandler{2,JuAFEM.Cell{2,3,3},Float64},JuAFEM.QuadratureRule{2,JuAFEM.RefTetrahedron,Float64},Main.CoherentStructures.Regular2DGridLocator{JuAFEM.Cell{2,3,3}}}) at .\\In[6]:2",
      " [22] (::var\"#27#28\")(::Float64) at .\\none:0",
      " [23] iterate at .\\generator.jl:47 [inlined]",
      " [24] collect(::Base.Generator{Array{Float64,1},var\"#27#28\"}) at .\\array.jl:665",
      " [25] top-level scope at In[19]:1"
     ]
    }
   ],
   "source": [
    "reference_DP8 = [evaluate_on_grid(Tdot_reference(OrdinaryDiffEq.DP8(),stepsize,0),ctx) \n",
    "    for stepsize in stepsize_range_DP8];"
   ]
  },
  {
   "cell_type": "code",
   "execution_count": 20,
   "metadata": {},
   "outputs": [
    {
     "ename": "BoundsError",
     "evalue": "\u001b[91mBoundsError: attempt to access 165×105×14 scale(interpolate(OffsetArray(::Array{StaticArrays.SArray{Tuple{2},Float64,1,2},3}, 0:166, 0:106, 0:15), BSpline(Cubic(Free(Interpolations.OnGrid())))), (-12.0:0.25:29.0, -45.0:0.25:-19.0, 733010.0:7.0:733101.0)) with element type StaticArrays.SArray{Tuple{2},Float64,1,2} at index [Dual{ForwardDiff.Tag{Main.CoherentStructures.var\"#543#544\"{var\"#13#14\"{DP8,Float64}},Float64}}(-3.6592976719721957,-37704.74774046449,-26694.977346332143,0.0), Dual{ForwardDiff.Tag{Main.CoherentStructures.var\"#543#544\"{var\"#13#14\"{DP8,Float64}},Float64}}(-49.1660016279486,31629.955106293404,22389.793931483397,0.0), Dual{ForwardDiff.Tag{Main.CoherentStructures.var\"#543#544\"{var\"#13#14\"{DP8,Float64}},Float64}}(733085.0,0.0,0.0,0.0)]\u001b[39m",
     "output_type": "error",
     "traceback": [
      "\u001b[91mBoundsError: attempt to access 165×105×14 scale(interpolate(OffsetArray(::Array{StaticArrays.SArray{Tuple{2},Float64,1,2},3}, 0:166, 0:106, 0:15), BSpline(Cubic(Free(Interpolations.OnGrid())))), (-12.0:0.25:29.0, -45.0:0.25:-19.0, 733010.0:7.0:733101.0)) with element type StaticArrays.SArray{Tuple{2},Float64,1,2} at index [Dual{ForwardDiff.Tag{Main.CoherentStructures.var\"#543#544\"{var\"#13#14\"{DP8,Float64}},Float64}}(-3.6592976719721957,-37704.74774046449,-26694.977346332143,0.0), Dual{ForwardDiff.Tag{Main.CoherentStructures.var\"#543#544\"{var\"#13#14\"{DP8,Float64}},Float64}}(-49.1660016279486,31629.955106293404,22389.793931483397,0.0), Dual{ForwardDiff.Tag{Main.CoherentStructures.var\"#543#544\"{var\"#13#14\"{DP8,Float64}},Float64}}(733085.0,0.0,0.0,0.0)]\u001b[39m",
      "",
      "Stacktrace:",
      " [1] throw_boundserror(::Interpolations.ScaledInterpolation{StaticArrays.SArray{Tuple{2},Float64,1,2},3,Interpolations.BSplineInterpolation{StaticArrays.SArray{Tuple{2},Float64,1,2},3,OffsetArrays.OffsetArray{StaticArrays.SArray{Tuple{2},Float64,1,2},3,Array{StaticArrays.SArray{Tuple{2},Float64,1,2},3}},Interpolations.BSpline{Interpolations.Cubic{Interpolations.Free{Interpolations.OnGrid}}},Tuple{Base.OneTo{Int64},Base.OneTo{Int64},Base.OneTo{Int64}}},Interpolations.BSpline{Interpolations.Cubic{Interpolations.Free{Interpolations.OnGrid}}},Tuple{StepRangeLen{Float64,Base.TwicePrecision{Float64},Base.TwicePrecision{Float64}},StepRangeLen{Float64,Base.TwicePrecision{Float64},Base.TwicePrecision{Float64}},StepRangeLen{Float64,Base.TwicePrecision{Float64},Base.TwicePrecision{Float64}}}}, ::Tuple{ForwardDiff.Dual{ForwardDiff.Tag{Main.CoherentStructures.var\"#543#544\"{var\"#13#14\"{DP8,Float64}},Float64},Float64,3},ForwardDiff.Dual{ForwardDiff.Tag{Main.CoherentStructures.var\"#543#544\"{var\"#13#14\"{DP8,Float64}},Float64},Float64,3},ForwardDiff.Dual{ForwardDiff.Tag{Main.CoherentStructures.var\"#543#544\"{var\"#13#14\"{DP8,Float64}},Float64},Float64,3}}) at .\\abstractarray.jl:537",
      " [2] ScaledInterpolation at C:\\Users\\Martin\\.julia\\packages\\Interpolations\\qHlUr\\src\\scaling\\scaling.jl:71 [inlined]",
      " [3] (::Main.CoherentStructures.var\"#265#266\")(::StaticArrays.SArray{Tuple{2},ForwardDiff.Dual{ForwardDiff.Tag{Main.CoherentStructures.var\"#543#544\"{var\"#13#14\"{DP8,Float64}},Float64},Float64,3},1,2}, ::Interpolations.ScaledInterpolation{StaticArrays.SArray{Tuple{2},Float64,1,2},3,Interpolations.BSplineInterpolation{StaticArrays.SArray{Tuple{2},Float64,1,2},3,OffsetArrays.OffsetArray{StaticArrays.SArray{Tuple{2},Float64,1,2},3,Array{StaticArrays.SArray{Tuple{2},Float64,1,2},3}},Interpolations.BSpline{Interpolations.Cubic{Interpolations.Free{Interpolations.OnGrid}}},Tuple{Base.OneTo{Int64},Base.OneTo{Int64},Base.OneTo{Int64}}},Interpolations.BSpline{Interpolations.Cubic{Interpolations.Free{Interpolations.OnGrid}}},Tuple{StepRangeLen{Float64,Base.TwicePrecision{Float64},Base.TwicePrecision{Float64}},StepRangeLen{Float64,Base.TwicePrecision{Float64},Base.TwicePrecision{Float64}},StepRangeLen{Float64,Base.TwicePrecision{Float64},Base.TwicePrecision{Float64}}}}, ::ForwardDiff.Dual{ForwardDiff.Tag{Main.CoherentStructures.var\"#543#544\"{var\"#13#14\"{DP8,Float64}},Float64},Float64,3}) at C:\\Users\\Martin\\D_Drive\\Documents\\Uni\\3 Mathematics in Data Science\\05 Masterarbeit\\CoherentStructuresLinearResponse\\src\\velocityfields.jl:51",
      " [4] ODEFunction at C:\\Users\\Martin\\.julia\\packages\\SciMLBase\\Afx1r\\src\\scimlfunctions.jl:329 [inlined]",
      " [5] perform_step!(::OrdinaryDiffEq.ODEIntegrator{DP8,false,StaticArrays.SArray{Tuple{2},ForwardDiff.Dual{ForwardDiff.Tag{Main.CoherentStructures.var\"#543#544\"{var\"#13#14\"{DP8,Float64}},Float64},Float64,3},1,2},Nothing,ForwardDiff.Dual{ForwardDiff.Tag{Main.CoherentStructures.var\"#543#544\"{var\"#13#14\"{DP8,Float64}},Float64},Float64,3},Interpolations.ScaledInterpolation{StaticArrays.SArray{Tuple{2},Float64,1,2},3,Interpolations.BSplineInterpolation{StaticArrays.SArray{Tuple{2},Float64,1,2},3,OffsetArrays.OffsetArray{StaticArrays.SArray{Tuple{2},Float64,1,2},3,Array{StaticArrays.SArray{Tuple{2},Float64,1,2},3}},Interpolations.BSpline{Interpolations.Cubic{Interpolations.Free{Interpolations.OnGrid}}},Tuple{Base.OneTo{Int64},Base.OneTo{Int64},Base.OneTo{Int64}}},Interpolations.BSpline{Interpolations.Cubic{Interpolations.Free{Interpolations.OnGrid}}},Tuple{StepRangeLen{Float64,Base.TwicePrecision{Float64},Base.TwicePrecision{Float64}},StepRangeLen{Float64,Base.TwicePrecision{Float64},Base.TwicePrecision{Float64}},StepRangeLen{Float64,Base.TwicePrecision{Float64},Base.TwicePrecision{Float64}}}},ForwardDiff.Dual{ForwardDiff.Tag{Main.CoherentStructures.var\"#543#544\"{var\"#13#14\"{DP8,Float64}},Float64},Float64,3},Float64,ForwardDiff.Dual{ForwardDiff.Tag{Main.CoherentStructures.var\"#543#544\"{var\"#13#14\"{DP8,Float64}},Float64},Float64,3},Array{StaticArrays.SArray{Tuple{2},ForwardDiff.Dual{ForwardDiff.Tag{Main.CoherentStructures.var\"#543#544\"{var\"#13#14\"{DP8,Float64}},Float64},Float64,3},1,2},1},ODESolution{ForwardDiff.Dual{ForwardDiff.Tag{Main.CoherentStructures.var\"#543#544\"{var\"#13#14\"{DP8,Float64}},Float64},Float64,3},2,Array{StaticArrays.SArray{Tuple{2},ForwardDiff.Dual{ForwardDiff.Tag{Main.CoherentStructures.var\"#543#544\"{var\"#13#14\"{DP8,Float64}},Float64},Float64,3},1,2},1},Nothing,Nothing,Array{ForwardDiff.Dual{ForwardDiff.Tag{Main.CoherentStructures.var\"#543#544\"{var\"#13#14\"{DP8,Float64}},Float64},Float64,3},1},Array{Array{StaticArrays.SArray{Tuple{2},ForwardDiff.Dual{ForwardDiff.Tag{Main.CoherentStructures.var\"#543#544\"{var\"#13#14\"{DP8,Float64}},Float64},Float64,3},1,2},1},1},ODEProblem{StaticArrays.SArray{Tuple{2},ForwardDiff.Dual{ForwardDiff.Tag{Main.CoherentStructures.var\"#543#544\"{var\"#13#14\"{DP8,Float64}},Float64},Float64,3},1,2},Tuple{ForwardDiff.Dual{ForwardDiff.Tag{Main.CoherentStructures.var\"#543#544\"{var\"#13#14\"{DP8,Float64}},Float64},Float64,3},ForwardDiff.Dual{ForwardDiff.Tag{Main.CoherentStructures.var\"#543#544\"{var\"#13#14\"{DP8,Float64}},Float64},Float64,3}},false,Interpolations.ScaledInterpolation{StaticArrays.SArray{Tuple{2},Float64,1,2},3,Interpolations.BSplineInterpolation{StaticArrays.SArray{Tuple{2},Float64,1,2},3,OffsetArrays.OffsetArray{StaticArrays.SArray{Tuple{2},Float64,1,2},3,Array{StaticArrays.SArray{Tuple{2},Float64,1,2},3}},Interpolations.BSpline{Interpolations.Cubic{Interpolations.Free{Interpolations.OnGrid}}},Tuple{Base.OneTo{Int64},Base.OneTo{Int64},Base.OneTo{Int64}}},Interpolations.BSpline{Interpolations.Cubic{Interpolations.Free{Interpolations.OnGrid}}},Tuple{StepRangeLen{Float64,Base.TwicePrecision{Float64},Base.TwicePrecision{Float64}},StepRangeLen{Float64,Base.TwicePrecision{Float64},Base.TwicePrecision{Float64}},StepRangeLen{Float64,Base.TwicePrecision{Float64},Base.TwicePrecision{Float64}}}},ODEFunction{false,Main.CoherentStructures.var\"#265#266\",LinearAlgebra.UniformScaling{Bool},Nothing,Nothing,Nothing,Nothing,Nothing,Nothing,Nothing,Nothing,Nothing,Nothing,Nothing,Nothing,typeof(SciMLBase.DEFAULT_OBSERVED),Nothing},Base.Iterators.Pairs{Union{},Union{},Tuple{},NamedTuple{(),Tuple{}}},SciMLBase.StandardODEProblem},DP8,OrdinaryDiffEq.InterpolationData{ODEFunction{false,Main.CoherentStructures.var\"#265#266\",LinearAlgebra.UniformScaling{Bool},Nothing,Nothing,Nothing,Nothing,Nothing,Nothing,Nothing,Nothing,Nothing,Nothing,Nothing,Nothing,typeof(SciMLBase.DEFAULT_OBSERVED),Nothing},Array{StaticArrays.SArray{Tuple{2},ForwardDiff.Dual{ForwardDiff.Tag{Main.CoherentStructures.var\"#543#544\"{var\"#13#14\"{DP8,Float64}},Float64},Float64,3},1,2},1},Array{ForwardDiff.Dual{ForwardDiff.Tag{Main.CoherentStructures.var\"#543#544\"{var\"#13#14\"{DP8,Float64}},Float64},Float64,3},1},Array{Array{StaticArrays.SArray{Tuple{2},ForwardDiff.Dual{ForwardDiff.Tag{Main.CoherentStructures.var\"#543#544\"{var\"#13#14\"{DP8,Float64}},Float64},Float64,3},1,2},1},1},OrdinaryDiffEq.DP8ConstantCache{Float64,Float64}},DiffEqBase.DEStats},ODEFunction{false,Main.CoherentStructures.var\"#265#266\",LinearAlgebra.UniformScaling{Bool},Nothing,Nothing,Nothing,Nothing,Nothing,Nothing,Nothing,Nothing,Nothing,Nothing,Nothing,Nothing,typeof(SciMLBase.DEFAULT_OBSERVED),Nothing},OrdinaryDiffEq.DP8ConstantCache{Float64,Float64},OrdinaryDiffEq.DEOptions{Float64,Float64,Float64,ForwardDiff.Dual{ForwardDiff.Tag{Main.CoherentStructures.var\"#543#544\"{var\"#13#14\"{DP8,Float64}},Float64},Float64,3},typeof(DiffEqBase.ODE_DEFAULT_NORM),typeof(LinearAlgebra.opnorm),Nothing,CallbackSet{Tuple{},Tuple{}},typeof(DiffEqBase.ODE_DEFAULT_ISOUTOFDOMAIN),typeof(DiffEqBase.ODE_DEFAULT_PROG_MESSAGE),typeof(DiffEqBase.ODE_DEFAULT_UNSTABLE_CHECK),DataStructures.BinaryHeap{ForwardDiff.Dual{ForwardDiff.Tag{Main.CoherentStructures.var\"#543#544\"{var\"#13#14\"{DP8,Float64}},Float64},Float64,3},Base.Order.ForwardOrdering},DataStructures.BinaryHeap{ForwardDiff.Dual{ForwardDiff.Tag{Main.CoherentStructures.var\"#543#544\"{var\"#13#14\"{DP8,Float64}},Float64},Float64,3},Base.Order.ForwardOrdering},Nothing,Nothing,Int64,Tuple{},Array{ForwardDiff.Dual{ForwardDiff.Tag{Main.CoherentStructures.var\"#543#544\"{var\"#13#14\"{DP8,Float64}},Float64},Float64,3},1},Tuple{}},StaticArrays.SArray{Tuple{2},ForwardDiff.Dual{ForwardDiff.Tag{Main.CoherentStructures.var\"#543#544\"{var\"#13#14\"{DP8,Float64}},Float64},Float64,3},1,2},ForwardDiff.Dual{ForwardDiff.Tag{Main.CoherentStructures.var\"#543#544\"{var\"#13#14\"{DP8,Float64}},Float64},Float64,3},Nothing,OrdinaryDiffEq.DefaultInit}, ::OrdinaryDiffEq.DP8ConstantCache{Float64,Float64}, ::Bool) at C:\\Users\\Martin\\.julia\\packages\\OrdinaryDiffEq\\y19MS\\src\\perform_step\\high_order_rk_perform_step.jl:178",
      " [6] perform_step! at C:\\Users\\Martin\\.julia\\packages\\OrdinaryDiffEq\\y19MS\\src\\perform_step\\high_order_rk_perform_step.jl:164 [inlined]",
      " [7] solve!(::OrdinaryDiffEq.ODEIntegrator{DP8,false,StaticArrays.SArray{Tuple{2},ForwardDiff.Dual{ForwardDiff.Tag{Main.CoherentStructures.var\"#543#544\"{var\"#13#14\"{DP8,Float64}},Float64},Float64,3},1,2},Nothing,ForwardDiff.Dual{ForwardDiff.Tag{Main.CoherentStructures.var\"#543#544\"{var\"#13#14\"{DP8,Float64}},Float64},Float64,3},Interpolations.ScaledInterpolation{StaticArrays.SArray{Tuple{2},Float64,1,2},3,Interpolations.BSplineInterpolation{StaticArrays.SArray{Tuple{2},Float64,1,2},3,OffsetArrays.OffsetArray{StaticArrays.SArray{Tuple{2},Float64,1,2},3,Array{StaticArrays.SArray{Tuple{2},Float64,1,2},3}},Interpolations.BSpline{Interpolations.Cubic{Interpolations.Free{Interpolations.OnGrid}}},Tuple{Base.OneTo{Int64},Base.OneTo{Int64},Base.OneTo{Int64}}},Interpolations.BSpline{Interpolations.Cubic{Interpolations.Free{Interpolations.OnGrid}}},Tuple{StepRangeLen{Float64,Base.TwicePrecision{Float64},Base.TwicePrecision{Float64}},StepRangeLen{Float64,Base.TwicePrecision{Float64},Base.TwicePrecision{Float64}},StepRangeLen{Float64,Base.TwicePrecision{Float64},Base.TwicePrecision{Float64}}}},ForwardDiff.Dual{ForwardDiff.Tag{Main.CoherentStructures.var\"#543#544\"{var\"#13#14\"{DP8,Float64}},Float64},Float64,3},Float64,ForwardDiff.Dual{ForwardDiff.Tag{Main.CoherentStructures.var\"#543#544\"{var\"#13#14\"{DP8,Float64}},Float64},Float64,3},Array{StaticArrays.SArray{Tuple{2},ForwardDiff.Dual{ForwardDiff.Tag{Main.CoherentStructures.var\"#543#544\"{var\"#13#14\"{DP8,Float64}},Float64},Float64,3},1,2},1},ODESolution{ForwardDiff.Dual{ForwardDiff.Tag{Main.CoherentStructures.var\"#543#544\"{var\"#13#14\"{DP8,Float64}},Float64},Float64,3},2,Array{StaticArrays.SArray{Tuple{2},ForwardDiff.Dual{ForwardDiff.Tag{Main.CoherentStructures.var\"#543#544\"{var\"#13#14\"{DP8,Float64}},Float64},Float64,3},1,2},1},Nothing,Nothing,Array{ForwardDiff.Dual{ForwardDiff.Tag{Main.CoherentStructures.var\"#543#544\"{var\"#13#14\"{DP8,Float64}},Float64},Float64,3},1},Array{Array{StaticArrays.SArray{Tuple{2},ForwardDiff.Dual{ForwardDiff.Tag{Main.CoherentStructures.var\"#543#544\"{var\"#13#14\"{DP8,Float64}},Float64},Float64,3},1,2},1},1},ODEProblem{StaticArrays.SArray{Tuple{2},ForwardDiff.Dual{ForwardDiff.Tag{Main.CoherentStructures.var\"#543#544\"{var\"#13#14\"{DP8,Float64}},Float64},Float64,3},1,2},Tuple{ForwardDiff.Dual{ForwardDiff.Tag{Main.CoherentStructures.var\"#543#544\"{var\"#13#14\"{DP8,Float64}},Float64},Float64,3},ForwardDiff.Dual{ForwardDiff.Tag{Main.CoherentStructures.var\"#543#544\"{var\"#13#14\"{DP8,Float64}},Float64},Float64,3}},false,Interpolations.ScaledInterpolation{StaticArrays.SArray{Tuple{2},Float64,1,2},3,Interpolations.BSplineInterpolation{StaticArrays.SArray{Tuple{2},Float64,1,2},3,OffsetArrays.OffsetArray{StaticArrays.SArray{Tuple{2},Float64,1,2},3,Array{StaticArrays.SArray{Tuple{2},Float64,1,2},3}},Interpolations.BSpline{Interpolations.Cubic{Interpolations.Free{Interpolations.OnGrid}}},Tuple{Base.OneTo{Int64},Base.OneTo{Int64},Base.OneTo{Int64}}},Interpolations.BSpline{Interpolations.Cubic{Interpolations.Free{Interpolations.OnGrid}}},Tuple{StepRangeLen{Float64,Base.TwicePrecision{Float64},Base.TwicePrecision{Float64}},StepRangeLen{Float64,Base.TwicePrecision{Float64},Base.TwicePrecision{Float64}},StepRangeLen{Float64,Base.TwicePrecision{Float64},Base.TwicePrecision{Float64}}}},ODEFunction{false,Main.CoherentStructures.var\"#265#266\",LinearAlgebra.UniformScaling{Bool},Nothing,Nothing,Nothing,Nothing,Nothing,Nothing,Nothing,Nothing,Nothing,Nothing,Nothing,Nothing,typeof(SciMLBase.DEFAULT_OBSERVED),Nothing},Base.Iterators.Pairs{Union{},Union{},Tuple{},NamedTuple{(),Tuple{}}},SciMLBase.StandardODEProblem},DP8,OrdinaryDiffEq.InterpolationData{ODEFunction{false,Main.CoherentStructures.var\"#265#266\",LinearAlgebra.UniformScaling{Bool},Nothing,Nothing,Nothing,Nothing,Nothing,Nothing,Nothing,Nothing,Nothing,Nothing,Nothing,Nothing,typeof(SciMLBase.DEFAULT_OBSERVED),Nothing},Array{StaticArrays.SArray{Tuple{2},ForwardDiff.Dual{ForwardDiff.Tag{Main.CoherentStructures.var\"#543#544\"{var\"#13#14\"{DP8,Float64}},Float64},Float64,3},1,2},1},Array{ForwardDiff.Dual{ForwardDiff.Tag{Main.CoherentStructures.var\"#543#544\"{var\"#13#14\"{DP8,Float64}},Float64},Float64,3},1},Array{Array{StaticArrays.SArray{Tuple{2},ForwardDiff.Dual{ForwardDiff.Tag{Main.CoherentStructures.var\"#543#544\"{var\"#13#14\"{DP8,Float64}},Float64},Float64,3},1,2},1},1},OrdinaryDiffEq.DP8ConstantCache{Float64,Float64}},DiffEqBase.DEStats},ODEFunction{false,Main.CoherentStructures.var\"#265#266\",LinearAlgebra.UniformScaling{Bool},Nothing,Nothing,Nothing,Nothing,Nothing,Nothing,Nothing,Nothing,Nothing,Nothing,Nothing,Nothing,typeof(SciMLBase.DEFAULT_OBSERVED),Nothing},OrdinaryDiffEq.DP8ConstantCache{Float64,Float64},OrdinaryDiffEq.DEOptions{Float64,Float64,Float64,ForwardDiff.Dual{ForwardDiff.Tag{Main.CoherentStructures.var\"#543#544\"{var\"#13#14\"{DP8,Float64}},Float64},Float64,3},typeof(DiffEqBase.ODE_DEFAULT_NORM),typeof(LinearAlgebra.opnorm),Nothing,CallbackSet{Tuple{},Tuple{}},typeof(DiffEqBase.ODE_DEFAULT_ISOUTOFDOMAIN),typeof(DiffEqBase.ODE_DEFAULT_PROG_MESSAGE),typeof(DiffEqBase.ODE_DEFAULT_UNSTABLE_CHECK),DataStructures.BinaryHeap{ForwardDiff.Dual{ForwardDiff.Tag{Main.CoherentStructures.var\"#543#544\"{var\"#13#14\"{DP8,Float64}},Float64},Float64,3},Base.Order.ForwardOrdering},DataStructures.BinaryHeap{ForwardDiff.Dual{ForwardDiff.Tag{Main.CoherentStructures.var\"#543#544\"{var\"#13#14\"{DP8,Float64}},Float64},Float64,3},Base.Order.ForwardOrdering},Nothing,Nothing,Int64,Tuple{},Array{ForwardDiff.Dual{ForwardDiff.Tag{Main.CoherentStructures.var\"#543#544\"{var\"#13#14\"{DP8,Float64}},Float64},Float64,3},1},Tuple{}},StaticArrays.SArray{Tuple{2},ForwardDiff.Dual{ForwardDiff.Tag{Main.CoherentStructures.var\"#543#544\"{var\"#13#14\"{DP8,Float64}},Float64},Float64,3},1,2},ForwardDiff.Dual{ForwardDiff.Tag{Main.CoherentStructures.var\"#543#544\"{var\"#13#14\"{DP8,Float64}},Float64},Float64,3},Nothing,OrdinaryDiffEq.DefaultInit}) at C:\\Users\\Martin\\.julia\\packages\\OrdinaryDiffEq\\y19MS\\src\\solve.jl:453",
      " [8] #__solve#401 at C:\\Users\\Martin\\.julia\\packages\\OrdinaryDiffEq\\y19MS\\src\\solve.jl:5 [inlined]",
      " [9] #solve_call#56 at C:\\Users\\Martin\\.julia\\packages\\DiffEqBase\\krS36\\src\\solve.jl:61 [inlined]",
      " [10] solve_up(::ODEProblem{StaticArrays.SArray{Tuple{2},ForwardDiff.Dual{ForwardDiff.Tag{Main.CoherentStructures.var\"#543#544\"{var\"#13#14\"{DP8,Float64}},Float64},Float64,3},1,2},Tuple{ForwardDiff.Dual{ForwardDiff.Tag{Main.CoherentStructures.var\"#543#544\"{var\"#13#14\"{DP8,Float64}},Float64},Float64,3},ForwardDiff.Dual{ForwardDiff.Tag{Main.CoherentStructures.var\"#543#544\"{var\"#13#14\"{DP8,Float64}},Float64},Float64,3}},false,Interpolations.ScaledInterpolation{StaticArrays.SArray{Tuple{2},Float64,1,2},3,Interpolations.BSplineInterpolation{StaticArrays.SArray{Tuple{2},Float64,1,2},3,OffsetArrays.OffsetArray{StaticArrays.SArray{Tuple{2},Float64,1,2},3,Array{StaticArrays.SArray{Tuple{2},Float64,1,2},3}},Interpolations.BSpline{Interpolations.Cubic{Interpolations.Free{Interpolations.OnGrid}}},Tuple{Base.OneTo{Int64},Base.OneTo{Int64},Base.OneTo{Int64}}},Interpolations.BSpline{Interpolations.Cubic{Interpolations.Free{Interpolations.OnGrid}}},Tuple{StepRangeLen{Float64,Base.TwicePrecision{Float64},Base.TwicePrecision{Float64}},StepRangeLen{Float64,Base.TwicePrecision{Float64},Base.TwicePrecision{Float64}},StepRangeLen{Float64,Base.TwicePrecision{Float64},Base.TwicePrecision{Float64}}}},ODEFunction{false,Main.CoherentStructures.var\"#265#266\",LinearAlgebra.UniformScaling{Bool},Nothing,Nothing,Nothing,Nothing,Nothing,Nothing,Nothing,Nothing,Nothing,Nothing,Nothing,Nothing,typeof(SciMLBase.DEFAULT_OBSERVED),Nothing},Base.Iterators.Pairs{Union{},Union{},Tuple{},NamedTuple{(),Tuple{}}},SciMLBase.StandardODEProblem}, ::Nothing, ::StaticArrays.SArray{Tuple{2},ForwardDiff.Dual{ForwardDiff.Tag{Main.CoherentStructures.var\"#543#544\"{var\"#13#14\"{DP8,Float64}},Float64},Float64,3},1,2}, ::Interpolations.ScaledInterpolation{StaticArrays.SArray{Tuple{2},Float64,1,2},3,Interpolations.BSplineInterpolation{StaticArrays.SArray{Tuple{2},Float64,1,2},3,OffsetArrays.OffsetArray{StaticArrays.SArray{Tuple{2},Float64,1,2},3,Array{StaticArrays.SArray{Tuple{2},Float64,1,2},3}},Interpolations.BSpline{Interpolations.Cubic{Interpolations.Free{Interpolations.OnGrid}}},Tuple{Base.OneTo{Int64},Base.OneTo{Int64},Base.OneTo{Int64}}},Interpolations.BSpline{Interpolations.Cubic{Interpolations.Free{Interpolations.OnGrid}}},Tuple{StepRangeLen{Float64,Base.TwicePrecision{Float64},Base.TwicePrecision{Float64}},StepRangeLen{Float64,Base.TwicePrecision{Float64},Base.TwicePrecision{Float64}},StepRangeLen{Float64,Base.TwicePrecision{Float64},Base.TwicePrecision{Float64}}}}, ::DP8; kwargs::Base.Iterators.Pairs{Symbol,Any,NTuple{8,Symbol},NamedTuple{(:saveat, :save_everystep, :dense, :reltol, :abstol, :force_dtmin, :adaptive, :dt),Tuple{Array{ForwardDiff.Dual{ForwardDiff.Tag{Main.CoherentStructures.var\"#543#544\"{var\"#13#14\"{DP8,Float64}},Float64},Float64,3},1},Bool,Bool,Float64,Float64,Bool,Bool,Float64}}}) at C:\\Users\\Martin\\.julia\\packages\\DiffEqBase\\krS36\\src\\solve.jl:82",
      " [11] #solve#57 at C:\\Users\\Martin\\.julia\\packages\\DiffEqBase\\krS36\\src\\solve.jl:70 [inlined]",
      " [12] #_flow#52 at C:\\Users\\Martin\\D_Drive\\Documents\\Uni\\3 Mathematics in Data Science\\05 Masterarbeit\\CoherentStructuresLinearResponse\\src\\pullbacktensors.jl:72 [inlined]",
      " [13] #flow#51 at C:\\Users\\Martin\\D_Drive\\Documents\\Uni\\3 Mathematics in Data Science\\05 Masterarbeit\\CoherentStructuresLinearResponse\\src\\pullbacktensors.jl:37 [inlined]",
      " [14] (::var\"#13#14\"{DP8,Float64})(::Array{ForwardDiff.Dual{ForwardDiff.Tag{Main.CoherentStructures.var\"#543#544\"{var\"#13#14\"{DP8,Float64}},Float64},Float64,3},1}, ::ForwardDiff.Dual{ForwardDiff.Tag{Main.CoherentStructures.var\"#543#544\"{var\"#13#14\"{DP8,Float64}},Float64},Float64,3}) at .\\In[10]:2",
      " [15] (::Main.CoherentStructures.var\"#543#544\"{var\"#13#14\"{DP8,Float64}})(::Array{ForwardDiff.Dual{ForwardDiff.Tag{Main.CoherentStructures.var\"#543#544\"{var\"#13#14\"{DP8,Float64}},Float64},Float64,3},1}) at C:\\Users\\Martin\\D_Drive\\Documents\\Uni\\3 Mathematics in Data Science\\05 Masterarbeit\\CoherentStructuresLinearResponse\\src\\linearResponse.jl:14",
      " [16] vector_mode_dual_eval at C:\\Users\\Martin\\.julia\\packages\\ForwardDiff\\m7cm5\\src\\apiutils.jl:37 [inlined]",
      " [17] vector_mode_jacobian(::Main.CoherentStructures.var\"#543#544\"{var\"#13#14\"{DP8,Float64}}, ::Array{Float64,1}, ::ForwardDiff.JacobianConfig{ForwardDiff.Tag{Main.CoherentStructures.var\"#543#544\"{var\"#13#14\"{DP8,Float64}},Float64},Float64,3,Array{ForwardDiff.Dual{ForwardDiff.Tag{Main.CoherentStructures.var\"#543#544\"{var\"#13#14\"{DP8,Float64}},Float64},Float64,3},1}}) at C:\\Users\\Martin\\.julia\\packages\\ForwardDiff\\m7cm5\\src\\jacobian.jl:147",
      " [18] jacobian(::Function, ::Array{Float64,1}, ::ForwardDiff.JacobianConfig{ForwardDiff.Tag{Main.CoherentStructures.var\"#543#544\"{var\"#13#14\"{DP8,Float64}},Float64},Float64,3,Array{ForwardDiff.Dual{ForwardDiff.Tag{Main.CoherentStructures.var\"#543#544\"{var\"#13#14\"{DP8,Float64}},Float64},Float64,3},1}}, ::Val{true}) at C:\\Users\\Martin\\.julia\\packages\\ForwardDiff\\m7cm5\\src\\jacobian.jl:21",
      " [19] jacobian(::Function, ::Array{Float64,1}, ::ForwardDiff.JacobianConfig{ForwardDiff.Tag{Main.CoherentStructures.var\"#543#544\"{var\"#13#14\"{DP8,Float64}},Float64},Float64,3,Array{ForwardDiff.Dual{ForwardDiff.Tag{Main.CoherentStructures.var\"#543#544\"{var\"#13#14\"{DP8,Float64}},Float64},Float64,3},1}}) at C:\\Users\\Martin\\.julia\\packages\\ForwardDiff\\m7cm5\\src\\jacobian.jl:19 (repeats 2 times)",
      " [20] parameter_autodiff(::var\"#13#14\"{DP8,Float64}, ::Tensor{1,2,Float64,2}, ::Int64) at C:\\Users\\Martin\\D_Drive\\Documents\\Uni\\3 Mathematics in Data Science\\05 Masterarbeit\\CoherentStructuresLinearResponse\\src\\linearResponse.jl:14",
      " [21] #17 at .\\In[12]:2 [inlined]",
      " [22] #5 at .\\none:0 [inlined]",
      " [23] iterate at .\\generator.jl:47 [inlined]",
      " [24] collect_to!(::Array{Array{Float64,1},1}, ::Base.Generator{Array{JuAFEM.Node{2,Float64},1},var\"#5#6\"{var\"#17#18\"{DP8,Float64,Int64}}}, ::Int64, ::Int64) at .\\array.jl:711",
      " [25] collect_to_with_first!(::Array{Array{Float64,1},1}, ::Array{Float64,1}, ::Base.Generator{Array{JuAFEM.Node{2,Float64},1},var\"#5#6\"{var\"#17#18\"{DP8,Float64,Int64}}}, ::Int64) at .\\array.jl:689",
      " [26] collect(::Base.Generator{Array{JuAFEM.Node{2,Float64},1},var\"#5#6\"{var\"#17#18\"{DP8,Float64,Int64}}}) at .\\array.jl:670",
      " [27] evaluate_on_grid(::var\"#17#18\"{DP8,Float64,Int64}, ::Main.CoherentStructures.GridContext{2,JuAFEM.Grid{2,JuAFEM.Cell{2,3,3},Float64},JuAFEM.Lagrange{2,JuAFEM.RefTetrahedron,1},JuAFEM.Lagrange{2,JuAFEM.RefTetrahedron,1},JuAFEM.DofHandler{2,JuAFEM.Cell{2,3,3},Float64},JuAFEM.QuadratureRule{2,JuAFEM.RefTetrahedron,Float64},Main.CoherentStructures.Regular2DGridLocator{JuAFEM.Cell{2,3,3}}}) at .\\In[6]:2",
      " [28] (::var\"#29#30\")(::Float64) at .\\none:0",
      " [29] iterate at .\\generator.jl:47 [inlined]",
      " [30] collect(::Base.Generator{Array{Float64,1},var\"#29#30\"}) at .\\array.jl:665",
      " [31] top-level scope at In[20]:1"
     ]
    }
   ],
   "source": [
    "autodiff_DP8     = [evaluate_on_grid(Tdot_autodiff(OrdinaryDiffEq.DP8(),stepsize,0),ctx) \n",
    "    for stepsize in stepsize_range_DP8]\n",
    "FD_1eminus2_DP8 = [evaluate_on_grid(Tdot_finite_differences(OrdinaryDiffEq.DP8(),stepsize,0,1e-2),ctx)\n",
    "    for stepsize in stepsize_range_DP8]\n",
    "FD_1eminus3_DP8 = [evaluate_on_grid(Tdot_finite_differences(OrdinaryDiffEq.DP8(),stepsize,0,1e-3),ctx)\n",
    "    for stepsize in stepsize_range_DP8]\n",
    "FD_1eminus4_DP8 = [evaluate_on_grid(Tdot_finite_differences(OrdinaryDiffEq.DP8(),stepsize,0,1e-4),ctx) \n",
    "    for stepsize in stepsize_range_DP8]\n",
    "FD_1eminus5_DP8 = [evaluate_on_grid(Tdot_finite_differences(OrdinaryDiffEq.DP8(),stepsize,0,1e-5),ctx)\n",
    "    for stepsize in stepsize_range_DP8];\n",
    "FD_1eminus6_DP8 = [evaluate_on_grid(Tdot_finite_differences(OrdinaryDiffEq.DP8(),stepsize,0,1e-6),ctx)\n",
    "    for stepsize in stepsize_range_DP8];\n",
    "FD_1eminus7_DP8 = [evaluate_on_grid(Tdot_finite_differences(OrdinaryDiffEq.DP8(),stepsize,0,1e-7),ctx)\n",
    "    for stepsize in stepsize_range_DP8];"
   ]
  },
  {
   "cell_type": "code",
   "execution_count": 21,
   "metadata": {},
   "outputs": [
    {
     "ename": "UndefVarError",
     "evalue": "\u001b[91mUndefVarError: reference_DP8 not defined\u001b[39m",
     "output_type": "error",
     "traceback": [
      "\u001b[91mUndefVarError: reference_DP8 not defined\u001b[39m",
      "",
      "Stacktrace:",
      " [1] top-level scope at In[21]:1"
     ]
    }
   ],
   "source": [
    "l2_plot_DP8 = Plots.plot(stepsize_range_DP8,[l2_error(ref_stepsize,stepsize) \n",
    "        for (ref_stepsize,stepsize) in zip(reference_DP8,autodiff_DP8)], \n",
    "    xaxis=:log, yaxis=:log, marker=:dot, xflip=true, label=\"Autodiff DP8\"\n",
    "    ,fmt=:png,dpi=300,title=\"L2 error\",legend=(0.1,0.25),legendfontsize=5)\n",
    "Plots.plot!(stepsize_range_DP8,[l2_error(ref_stepsize,stepsize) \n",
    "        for (ref_stepsize,stepsize) in zip(reference_DP8,FD_1eminus2_DP8)], \n",
    "    marker=:dot, label=\"Finite Differences, δ=1e-2, DP8\")\n",
    "Plots.plot!(stepsize_range_DP8,[l2_error(ref_stepsize,stepsize) \n",
    "         for (ref_stepsize,stepsize) in zip(reference_DP8,FD_1eminus3_DP8)], \n",
    "    marker=:dot, label=\"Finite Differences, δ=1e-3, DP8\")\n",
    "Plots.plot!(stepsize_range_DP8,[l2_error(ref_stepsize,stepsize) \n",
    "         for (ref_stepsize,stepsize) in zip(reference_DP8,FD_1eminus4_DP8)], \n",
    "    marker=:dot, label=\"Finite Differences, δ=1e-4, DP8\")\n",
    "Plots.plot!(stepsize_range_DP8,[l2_error(ref_stepsize,stepsize) \n",
    "         for (ref_stepsize,stepsize) in zip(reference_DP8,FD_1eminus5_DP8)], \n",
    "    marker=:dot, label=\"Finite Differences, δ=1e-5, DP8\")\n",
    "Plots.plot!(stepsize_range_DP8,[l2_error(ref_stepsize,stepsize) \n",
    "         for (ref_stepsize,stepsize) in zip(reference_DP8,FD_1eminus6_DP8)], \n",
    "    marker=:dot, label=\"Finite Differences, δ=1e-6, DP8\")\n",
    "Plots.plot!(stepsize_range_DP8,[l2_error(ref_stepsize,stepsize) \n",
    "         for (ref_stepsize,stepsize) in zip(reference_DP8,FD_1eminus7_DP8)], \n",
    "    marker=:dot, label=\"Finite Differences, δ=1e-7, DP8\")\n",
    "Plots.plot!(stepsize_range_DP8,[100*x^8 for x in stepsize_range_DP8], \n",
    "    linestyle=:dash,label=\"O(h^8)\")"
   ]
  },
  {
   "cell_type": "code",
   "execution_count": 22,
   "metadata": {},
   "outputs": [],
   "source": [
    "stepsize_range_Vern7 = [6,5,2.5,1,0.75,0.6,0.5,0.4,0.25,0.1,0.075,0.05,0.025,0.01];"
   ]
  },
  {
   "cell_type": "code",
   "execution_count": 23,
   "metadata": {},
   "outputs": [
    {
     "ename": "BoundsError",
     "evalue": "\u001b[91mBoundsError: attempt to access 165×105×14 scale(interpolate(OffsetArray(::Array{StaticArrays.SArray{Tuple{2},Float64,1,2},3}, 0:166, 0:106, 0:15), BSpline(Cubic(Free(Interpolations.OnGrid())))), (-12.0:0.25:29.0, -45.0:0.25:-19.0, 733010.0:7.0:733101.0)) with element type StaticArrays.SArray{Tuple{2},Float64,1,2} at index [-10.701239554899658, -54.85146076348673, 733070.0]\u001b[39m",
     "output_type": "error",
     "traceback": [
      "\u001b[91mBoundsError: attempt to access 165×105×14 scale(interpolate(OffsetArray(::Array{StaticArrays.SArray{Tuple{2},Float64,1,2},3}, 0:166, 0:106, 0:15), BSpline(Cubic(Free(Interpolations.OnGrid())))), (-12.0:0.25:29.0, -45.0:0.25:-19.0, 733010.0:7.0:733101.0)) with element type StaticArrays.SArray{Tuple{2},Float64,1,2} at index [-10.701239554899658, -54.85146076348673, 733070.0]\u001b[39m",
      "",
      "Stacktrace:",
      " [1] throw_boundserror(::Interpolations.ScaledInterpolation{StaticArrays.SArray{Tuple{2},Float64,1,2},3,Interpolations.BSplineInterpolation{StaticArrays.SArray{Tuple{2},Float64,1,2},3,OffsetArrays.OffsetArray{StaticArrays.SArray{Tuple{2},Float64,1,2},3,Array{StaticArrays.SArray{Tuple{2},Float64,1,2},3}},Interpolations.BSpline{Interpolations.Cubic{Interpolations.Free{Interpolations.OnGrid}}},Tuple{Base.OneTo{Int64},Base.OneTo{Int64},Base.OneTo{Int64}}},Interpolations.BSpline{Interpolations.Cubic{Interpolations.Free{Interpolations.OnGrid}}},Tuple{StepRangeLen{Float64,Base.TwicePrecision{Float64},Base.TwicePrecision{Float64}},StepRangeLen{Float64,Base.TwicePrecision{Float64},Base.TwicePrecision{Float64}},StepRangeLen{Float64,Base.TwicePrecision{Float64},Base.TwicePrecision{Float64}}}}, ::Tuple{Float64,Float64,Float64}) at .\\abstractarray.jl:537",
      " [2] ScaledInterpolation at C:\\Users\\Martin\\.julia\\packages\\Interpolations\\qHlUr\\src\\scaling\\scaling.jl:71 [inlined]",
      " [3] (::Main.CoherentStructures.var\"#265#266\")(::StaticArrays.SArray{Tuple{2},Float64,1,2}, ::Interpolations.ScaledInterpolation{StaticArrays.SArray{Tuple{2},Float64,1,2},3,Interpolations.BSplineInterpolation{StaticArrays.SArray{Tuple{2},Float64,1,2},3,OffsetArrays.OffsetArray{StaticArrays.SArray{Tuple{2},Float64,1,2},3,Array{StaticArrays.SArray{Tuple{2},Float64,1,2},3}},Interpolations.BSpline{Interpolations.Cubic{Interpolations.Free{Interpolations.OnGrid}}},Tuple{Base.OneTo{Int64},Base.OneTo{Int64},Base.OneTo{Int64}}},Interpolations.BSpline{Interpolations.Cubic{Interpolations.Free{Interpolations.OnGrid}}},Tuple{StepRangeLen{Float64,Base.TwicePrecision{Float64},Base.TwicePrecision{Float64}},StepRangeLen{Float64,Base.TwicePrecision{Float64},Base.TwicePrecision{Float64}},StepRangeLen{Float64,Base.TwicePrecision{Float64},Base.TwicePrecision{Float64}}}}, ::Float64) at C:\\Users\\Martin\\D_Drive\\Documents\\Uni\\3 Mathematics in Data Science\\05 Masterarbeit\\CoherentStructuresLinearResponse\\src\\velocityfields.jl:51",
      " [4] ODEFunction at C:\\Users\\Martin\\.julia\\packages\\SciMLBase\\Afx1r\\src\\scimlfunctions.jl:329 [inlined]",
      " [5] perform_step!(::OrdinaryDiffEq.ODEIntegrator{Vern7,false,StaticArrays.SArray{Tuple{2},Float64,1,2},Nothing,Float64,Interpolations.ScaledInterpolation{StaticArrays.SArray{Tuple{2},Float64,1,2},3,Interpolations.BSplineInterpolation{StaticArrays.SArray{Tuple{2},Float64,1,2},3,OffsetArrays.OffsetArray{StaticArrays.SArray{Tuple{2},Float64,1,2},3,Array{StaticArrays.SArray{Tuple{2},Float64,1,2},3}},Interpolations.BSpline{Interpolations.Cubic{Interpolations.Free{Interpolations.OnGrid}}},Tuple{Base.OneTo{Int64},Base.OneTo{Int64},Base.OneTo{Int64}}},Interpolations.BSpline{Interpolations.Cubic{Interpolations.Free{Interpolations.OnGrid}}},Tuple{StepRangeLen{Float64,Base.TwicePrecision{Float64},Base.TwicePrecision{Float64}},StepRangeLen{Float64,Base.TwicePrecision{Float64},Base.TwicePrecision{Float64}},StepRangeLen{Float64,Base.TwicePrecision{Float64},Base.TwicePrecision{Float64}}}},Float64,Float64,Float64,Array{StaticArrays.SArray{Tuple{2},Float64,1,2},1},ODESolution{Float64,2,Array{StaticArrays.SArray{Tuple{2},Float64,1,2},1},Nothing,Nothing,Array{Float64,1},Array{Array{StaticArrays.SArray{Tuple{2},Float64,1,2},1},1},ODEProblem{StaticArrays.SArray{Tuple{2},Float64,1,2},Tuple{Float64,Float64},false,Interpolations.ScaledInterpolation{StaticArrays.SArray{Tuple{2},Float64,1,2},3,Interpolations.BSplineInterpolation{StaticArrays.SArray{Tuple{2},Float64,1,2},3,OffsetArrays.OffsetArray{StaticArrays.SArray{Tuple{2},Float64,1,2},3,Array{StaticArrays.SArray{Tuple{2},Float64,1,2},3}},Interpolations.BSpline{Interpolations.Cubic{Interpolations.Free{Interpolations.OnGrid}}},Tuple{Base.OneTo{Int64},Base.OneTo{Int64},Base.OneTo{Int64}}},Interpolations.BSpline{Interpolations.Cubic{Interpolations.Free{Interpolations.OnGrid}}},Tuple{StepRangeLen{Float64,Base.TwicePrecision{Float64},Base.TwicePrecision{Float64}},StepRangeLen{Float64,Base.TwicePrecision{Float64},Base.TwicePrecision{Float64}},StepRangeLen{Float64,Base.TwicePrecision{Float64},Base.TwicePrecision{Float64}}}},ODEFunction{false,Main.CoherentStructures.var\"#265#266\",LinearAlgebra.UniformScaling{Bool},Nothing,Nothing,Nothing,Nothing,Nothing,Nothing,Nothing,Nothing,Nothing,Nothing,Nothing,Nothing,typeof(SciMLBase.DEFAULT_OBSERVED),Nothing},Base.Iterators.Pairs{Union{},Union{},Tuple{},NamedTuple{(),Tuple{}}},SciMLBase.StandardODEProblem},Vern7,OrdinaryDiffEq.InterpolationData{ODEFunction{false,Main.CoherentStructures.var\"#265#266\",LinearAlgebra.UniformScaling{Bool},Nothing,Nothing,Nothing,Nothing,Nothing,Nothing,Nothing,Nothing,Nothing,Nothing,Nothing,Nothing,typeof(SciMLBase.DEFAULT_OBSERVED),Nothing},Array{StaticArrays.SArray{Tuple{2},Float64,1,2},1},Array{Float64,1},Array{Array{StaticArrays.SArray{Tuple{2},Float64,1,2},1},1},OrdinaryDiffEq.Vern7ConstantCache{OrdinaryDiffEq.Vern7Tableau{Float64,Float64}}},DiffEqBase.DEStats},ODEFunction{false,Main.CoherentStructures.var\"#265#266\",LinearAlgebra.UniformScaling{Bool},Nothing,Nothing,Nothing,Nothing,Nothing,Nothing,Nothing,Nothing,Nothing,Nothing,Nothing,Nothing,typeof(SciMLBase.DEFAULT_OBSERVED),Nothing},OrdinaryDiffEq.Vern7ConstantCache{OrdinaryDiffEq.Vern7Tableau{Float64,Float64}},OrdinaryDiffEq.DEOptions{Float64,Float64,Float64,Float64,typeof(DiffEqBase.ODE_DEFAULT_NORM),typeof(LinearAlgebra.opnorm),Nothing,CallbackSet{Tuple{},Tuple{}},typeof(DiffEqBase.ODE_DEFAULT_ISOUTOFDOMAIN),typeof(DiffEqBase.ODE_DEFAULT_PROG_MESSAGE),typeof(DiffEqBase.ODE_DEFAULT_UNSTABLE_CHECK),DataStructures.BinaryHeap{Float64,Base.Order.ForwardOrdering},DataStructures.BinaryHeap{Float64,Base.Order.ForwardOrdering},Nothing,Nothing,Int64,Tuple{},Array{Float64,1},Tuple{}},StaticArrays.SArray{Tuple{2},Float64,1,2},Float64,Nothing,OrdinaryDiffEq.DefaultInit}, ::OrdinaryDiffEq.Vern7ConstantCache{OrdinaryDiffEq.Vern7Tableau{Float64,Float64}}, ::Bool) at C:\\Users\\Martin\\.julia\\packages\\OrdinaryDiffEq\\y19MS\\src\\perform_step\\verner_rk_perform_step.jl:169",
      " [6] perform_step! at C:\\Users\\Martin\\.julia\\packages\\OrdinaryDiffEq\\y19MS\\src\\perform_step\\verner_rk_perform_step.jl:155 [inlined]",
      " [7] solve!(::OrdinaryDiffEq.ODEIntegrator{Vern7,false,StaticArrays.SArray{Tuple{2},Float64,1,2},Nothing,Float64,Interpolations.ScaledInterpolation{StaticArrays.SArray{Tuple{2},Float64,1,2},3,Interpolations.BSplineInterpolation{StaticArrays.SArray{Tuple{2},Float64,1,2},3,OffsetArrays.OffsetArray{StaticArrays.SArray{Tuple{2},Float64,1,2},3,Array{StaticArrays.SArray{Tuple{2},Float64,1,2},3}},Interpolations.BSpline{Interpolations.Cubic{Interpolations.Free{Interpolations.OnGrid}}},Tuple{Base.OneTo{Int64},Base.OneTo{Int64},Base.OneTo{Int64}}},Interpolations.BSpline{Interpolations.Cubic{Interpolations.Free{Interpolations.OnGrid}}},Tuple{StepRangeLen{Float64,Base.TwicePrecision{Float64},Base.TwicePrecision{Float64}},StepRangeLen{Float64,Base.TwicePrecision{Float64},Base.TwicePrecision{Float64}},StepRangeLen{Float64,Base.TwicePrecision{Float64},Base.TwicePrecision{Float64}}}},Float64,Float64,Float64,Array{StaticArrays.SArray{Tuple{2},Float64,1,2},1},ODESolution{Float64,2,Array{StaticArrays.SArray{Tuple{2},Float64,1,2},1},Nothing,Nothing,Array{Float64,1},Array{Array{StaticArrays.SArray{Tuple{2},Float64,1,2},1},1},ODEProblem{StaticArrays.SArray{Tuple{2},Float64,1,2},Tuple{Float64,Float64},false,Interpolations.ScaledInterpolation{StaticArrays.SArray{Tuple{2},Float64,1,2},3,Interpolations.BSplineInterpolation{StaticArrays.SArray{Tuple{2},Float64,1,2},3,OffsetArrays.OffsetArray{StaticArrays.SArray{Tuple{2},Float64,1,2},3,Array{StaticArrays.SArray{Tuple{2},Float64,1,2},3}},Interpolations.BSpline{Interpolations.Cubic{Interpolations.Free{Interpolations.OnGrid}}},Tuple{Base.OneTo{Int64},Base.OneTo{Int64},Base.OneTo{Int64}}},Interpolations.BSpline{Interpolations.Cubic{Interpolations.Free{Interpolations.OnGrid}}},Tuple{StepRangeLen{Float64,Base.TwicePrecision{Float64},Base.TwicePrecision{Float64}},StepRangeLen{Float64,Base.TwicePrecision{Float64},Base.TwicePrecision{Float64}},StepRangeLen{Float64,Base.TwicePrecision{Float64},Base.TwicePrecision{Float64}}}},ODEFunction{false,Main.CoherentStructures.var\"#265#266\",LinearAlgebra.UniformScaling{Bool},Nothing,Nothing,Nothing,Nothing,Nothing,Nothing,Nothing,Nothing,Nothing,Nothing,Nothing,Nothing,typeof(SciMLBase.DEFAULT_OBSERVED),Nothing},Base.Iterators.Pairs{Union{},Union{},Tuple{},NamedTuple{(),Tuple{}}},SciMLBase.StandardODEProblem},Vern7,OrdinaryDiffEq.InterpolationData{ODEFunction{false,Main.CoherentStructures.var\"#265#266\",LinearAlgebra.UniformScaling{Bool},Nothing,Nothing,Nothing,Nothing,Nothing,Nothing,Nothing,Nothing,Nothing,Nothing,Nothing,Nothing,typeof(SciMLBase.DEFAULT_OBSERVED),Nothing},Array{StaticArrays.SArray{Tuple{2},Float64,1,2},1},Array{Float64,1},Array{Array{StaticArrays.SArray{Tuple{2},Float64,1,2},1},1},OrdinaryDiffEq.Vern7ConstantCache{OrdinaryDiffEq.Vern7Tableau{Float64,Float64}}},DiffEqBase.DEStats},ODEFunction{false,Main.CoherentStructures.var\"#265#266\",LinearAlgebra.UniformScaling{Bool},Nothing,Nothing,Nothing,Nothing,Nothing,Nothing,Nothing,Nothing,Nothing,Nothing,Nothing,Nothing,typeof(SciMLBase.DEFAULT_OBSERVED),Nothing},OrdinaryDiffEq.Vern7ConstantCache{OrdinaryDiffEq.Vern7Tableau{Float64,Float64}},OrdinaryDiffEq.DEOptions{Float64,Float64,Float64,Float64,typeof(DiffEqBase.ODE_DEFAULT_NORM),typeof(LinearAlgebra.opnorm),Nothing,CallbackSet{Tuple{},Tuple{}},typeof(DiffEqBase.ODE_DEFAULT_ISOUTOFDOMAIN),typeof(DiffEqBase.ODE_DEFAULT_PROG_MESSAGE),typeof(DiffEqBase.ODE_DEFAULT_UNSTABLE_CHECK),DataStructures.BinaryHeap{Float64,Base.Order.ForwardOrdering},DataStructures.BinaryHeap{Float64,Base.Order.ForwardOrdering},Nothing,Nothing,Int64,Tuple{},Array{Float64,1},Tuple{}},StaticArrays.SArray{Tuple{2},Float64,1,2},Float64,Nothing,OrdinaryDiffEq.DefaultInit}) at C:\\Users\\Martin\\.julia\\packages\\OrdinaryDiffEq\\y19MS\\src\\solve.jl:453",
      " [8] #__solve#401 at C:\\Users\\Martin\\.julia\\packages\\OrdinaryDiffEq\\y19MS\\src\\solve.jl:5 [inlined]",
      " [9] #solve_call#56 at C:\\Users\\Martin\\.julia\\packages\\DiffEqBase\\krS36\\src\\solve.jl:61 [inlined]",
      " [10] solve_up(::ODEProblem{StaticArrays.SArray{Tuple{2},Float64,1,2},Tuple{Float64,Float64},false,Interpolations.ScaledInterpolation{StaticArrays.SArray{Tuple{2},Float64,1,2},3,Interpolations.BSplineInterpolation{StaticArrays.SArray{Tuple{2},Float64,1,2},3,OffsetArrays.OffsetArray{StaticArrays.SArray{Tuple{2},Float64,1,2},3,Array{StaticArrays.SArray{Tuple{2},Float64,1,2},3}},Interpolations.BSpline{Interpolations.Cubic{Interpolations.Free{Interpolations.OnGrid}}},Tuple{Base.OneTo{Int64},Base.OneTo{Int64},Base.OneTo{Int64}}},Interpolations.BSpline{Interpolations.Cubic{Interpolations.Free{Interpolations.OnGrid}}},Tuple{StepRangeLen{Float64,Base.TwicePrecision{Float64},Base.TwicePrecision{Float64}},StepRangeLen{Float64,Base.TwicePrecision{Float64},Base.TwicePrecision{Float64}},StepRangeLen{Float64,Base.TwicePrecision{Float64},Base.TwicePrecision{Float64}}}},ODEFunction{false,Main.CoherentStructures.var\"#265#266\",LinearAlgebra.UniformScaling{Bool},Nothing,Nothing,Nothing,Nothing,Nothing,Nothing,Nothing,Nothing,Nothing,Nothing,Nothing,Nothing,typeof(SciMLBase.DEFAULT_OBSERVED),Nothing},Base.Iterators.Pairs{Union{},Union{},Tuple{},NamedTuple{(),Tuple{}}},SciMLBase.StandardODEProblem}, ::Nothing, ::StaticArrays.SArray{Tuple{2},Float64,1,2}, ::Interpolations.ScaledInterpolation{StaticArrays.SArray{Tuple{2},Float64,1,2},3,Interpolations.BSplineInterpolation{StaticArrays.SArray{Tuple{2},Float64,1,2},3,OffsetArrays.OffsetArray{StaticArrays.SArray{Tuple{2},Float64,1,2},3,Array{StaticArrays.SArray{Tuple{2},Float64,1,2},3}},Interpolations.BSpline{Interpolations.Cubic{Interpolations.Free{Interpolations.OnGrid}}},Tuple{Base.OneTo{Int64},Base.OneTo{Int64},Base.OneTo{Int64}}},Interpolations.BSpline{Interpolations.Cubic{Interpolations.Free{Interpolations.OnGrid}}},Tuple{StepRangeLen{Float64,Base.TwicePrecision{Float64},Base.TwicePrecision{Float64}},StepRangeLen{Float64,Base.TwicePrecision{Float64},Base.TwicePrecision{Float64}},StepRangeLen{Float64,Base.TwicePrecision{Float64},Base.TwicePrecision{Float64}}}}, ::Vern7; kwargs::Base.Iterators.Pairs{Symbol,Any,NTuple{8,Symbol},NamedTuple{(:saveat, :save_everystep, :dense, :reltol, :abstol, :force_dtmin, :adaptive, :dt),Tuple{Array{Float64,1},Bool,Bool,Float64,Float64,Bool,Bool,Float64}}}) at C:\\Users\\Martin\\.julia\\packages\\DiffEqBase\\krS36\\src\\solve.jl:82",
      " [11] #solve#57 at C:\\Users\\Martin\\.julia\\packages\\DiffEqBase\\krS36\\src\\solve.jl:70 [inlined]",
      " [12] #_flow#52 at C:\\Users\\Martin\\D_Drive\\Documents\\Uni\\3 Mathematics in Data Science\\05 Masterarbeit\\CoherentStructuresLinearResponse\\src\\pullbacktensors.jl:72 [inlined]",
      " [13] #flow#51 at C:\\Users\\Martin\\D_Drive\\Documents\\Uni\\3 Mathematics in Data Science\\05 Masterarbeit\\CoherentStructuresLinearResponse\\src\\pullbacktensors.jl:37 [inlined]",
      " [14] (::var\"#13#14\"{Vern7,Float64})(::Tensor{1,2,Float64,2}, ::Int64) at .\\In[10]:2",
      " [15] (::var\"#15#16\"{Vern7,Float64,Int64})(::Tensor{1,2,Float64,2}) at .\\In[11]:2",
      " [16] #5 at .\\none:0 [inlined]",
      " [17] iterate at .\\generator.jl:47 [inlined]",
      " [18] collect_to!(::Array{StaticArrays.SArray{Tuple{2},Float64,1,2},1}, ::Base.Generator{Array{JuAFEM.Node{2,Float64},1},var\"#5#6\"{var\"#15#16\"{Vern7,Float64,Int64}}}, ::Int64, ::Int64) at .\\array.jl:711",
      " [19] collect_to_with_first!(::Array{StaticArrays.SArray{Tuple{2},Float64,1,2},1}, ::StaticArrays.SArray{Tuple{2},Float64,1,2}, ::Base.Generator{Array{JuAFEM.Node{2,Float64},1},var\"#5#6\"{var\"#15#16\"{Vern7,Float64,Int64}}}, ::Int64) at .\\array.jl:689",
      " [20] collect(::Base.Generator{Array{JuAFEM.Node{2,Float64},1},var\"#5#6\"{var\"#15#16\"{Vern7,Float64,Int64}}}) at .\\array.jl:670",
      " [21] evaluate_on_grid(::var\"#15#16\"{Vern7,Float64,Int64}, ::Main.CoherentStructures.GridContext{2,JuAFEM.Grid{2,JuAFEM.Cell{2,3,3},Float64},JuAFEM.Lagrange{2,JuAFEM.RefTetrahedron,1},JuAFEM.Lagrange{2,JuAFEM.RefTetrahedron,1},JuAFEM.DofHandler{2,JuAFEM.Cell{2,3,3},Float64},JuAFEM.QuadratureRule{2,JuAFEM.RefTetrahedron,Float64},Main.CoherentStructures.Regular2DGridLocator{JuAFEM.Cell{2,3,3}}}) at .\\In[6]:2",
      " [22] (::var\"#33#34\")(::Float64) at .\\none:0",
      " [23] iterate at .\\generator.jl:47 [inlined]",
      " [24] collect(::Base.Generator{Array{Float64,1},var\"#33#34\"}) at .\\array.jl:665",
      " [25] top-level scope at In[23]:1"
     ]
    }
   ],
   "source": [
    "reference_Vern7 = [evaluate_on_grid(Tdot_reference(OrdinaryDiffEq.Vern7(),stepsize,0),ctx) \n",
    "    for stepsize in stepsize_range_Vern7];"
   ]
  },
  {
   "cell_type": "code",
   "execution_count": 24,
   "metadata": {},
   "outputs": [
    {
     "ename": "BoundsError",
     "evalue": "\u001b[91mBoundsError: attempt to access 165×105×14 scale(interpolate(OffsetArray(::Array{StaticArrays.SArray{Tuple{2},Float64,1,2},3}, 0:166, 0:106, 0:15), BSpline(Cubic(Free(Interpolations.OnGrid())))), (-12.0:0.25:29.0, -45.0:0.25:-19.0, 733010.0:7.0:733101.0)) with element type StaticArrays.SArray{Tuple{2},Float64,1,2} at index [Dual{ForwardDiff.Tag{Main.CoherentStructures.var\"#543#544\"{var\"#13#14\"{Vern7,Float64}},Float64}}(-10.701239554899658,2130.7447577540897,2309.708359731288,0.0), Dual{ForwardDiff.Tag{Main.CoherentStructures.var\"#543#544\"{var\"#13#14\"{Vern7,Float64}},Float64}}(-54.85146076348673,26323.961602884996,28478.46907234655,0.0), Dual{ForwardDiff.Tag{Main.CoherentStructures.var\"#543#544\"{var\"#13#14\"{Vern7,Float64}},Float64}}(733070.0,0.0,0.0,0.0)]\u001b[39m",
     "output_type": "error",
     "traceback": [
      "\u001b[91mBoundsError: attempt to access 165×105×14 scale(interpolate(OffsetArray(::Array{StaticArrays.SArray{Tuple{2},Float64,1,2},3}, 0:166, 0:106, 0:15), BSpline(Cubic(Free(Interpolations.OnGrid())))), (-12.0:0.25:29.0, -45.0:0.25:-19.0, 733010.0:7.0:733101.0)) with element type StaticArrays.SArray{Tuple{2},Float64,1,2} at index [Dual{ForwardDiff.Tag{Main.CoherentStructures.var\"#543#544\"{var\"#13#14\"{Vern7,Float64}},Float64}}(-10.701239554899658,2130.7447577540897,2309.708359731288,0.0), Dual{ForwardDiff.Tag{Main.CoherentStructures.var\"#543#544\"{var\"#13#14\"{Vern7,Float64}},Float64}}(-54.85146076348673,26323.961602884996,28478.46907234655,0.0), Dual{ForwardDiff.Tag{Main.CoherentStructures.var\"#543#544\"{var\"#13#14\"{Vern7,Float64}},Float64}}(733070.0,0.0,0.0,0.0)]\u001b[39m",
      "",
      "Stacktrace:",
      " [1] throw_boundserror(::Interpolations.ScaledInterpolation{StaticArrays.SArray{Tuple{2},Float64,1,2},3,Interpolations.BSplineInterpolation{StaticArrays.SArray{Tuple{2},Float64,1,2},3,OffsetArrays.OffsetArray{StaticArrays.SArray{Tuple{2},Float64,1,2},3,Array{StaticArrays.SArray{Tuple{2},Float64,1,2},3}},Interpolations.BSpline{Interpolations.Cubic{Interpolations.Free{Interpolations.OnGrid}}},Tuple{Base.OneTo{Int64},Base.OneTo{Int64},Base.OneTo{Int64}}},Interpolations.BSpline{Interpolations.Cubic{Interpolations.Free{Interpolations.OnGrid}}},Tuple{StepRangeLen{Float64,Base.TwicePrecision{Float64},Base.TwicePrecision{Float64}},StepRangeLen{Float64,Base.TwicePrecision{Float64},Base.TwicePrecision{Float64}},StepRangeLen{Float64,Base.TwicePrecision{Float64},Base.TwicePrecision{Float64}}}}, ::Tuple{ForwardDiff.Dual{ForwardDiff.Tag{Main.CoherentStructures.var\"#543#544\"{var\"#13#14\"{Vern7,Float64}},Float64},Float64,3},ForwardDiff.Dual{ForwardDiff.Tag{Main.CoherentStructures.var\"#543#544\"{var\"#13#14\"{Vern7,Float64}},Float64},Float64,3},ForwardDiff.Dual{ForwardDiff.Tag{Main.CoherentStructures.var\"#543#544\"{var\"#13#14\"{Vern7,Float64}},Float64},Float64,3}}) at .\\abstractarray.jl:537",
      " [2] ScaledInterpolation at C:\\Users\\Martin\\.julia\\packages\\Interpolations\\qHlUr\\src\\scaling\\scaling.jl:71 [inlined]",
      " [3] (::Main.CoherentStructures.var\"#265#266\")(::StaticArrays.SArray{Tuple{2},ForwardDiff.Dual{ForwardDiff.Tag{Main.CoherentStructures.var\"#543#544\"{var\"#13#14\"{Vern7,Float64}},Float64},Float64,3},1,2}, ::Interpolations.ScaledInterpolation{StaticArrays.SArray{Tuple{2},Float64,1,2},3,Interpolations.BSplineInterpolation{StaticArrays.SArray{Tuple{2},Float64,1,2},3,OffsetArrays.OffsetArray{StaticArrays.SArray{Tuple{2},Float64,1,2},3,Array{StaticArrays.SArray{Tuple{2},Float64,1,2},3}},Interpolations.BSpline{Interpolations.Cubic{Interpolations.Free{Interpolations.OnGrid}}},Tuple{Base.OneTo{Int64},Base.OneTo{Int64},Base.OneTo{Int64}}},Interpolations.BSpline{Interpolations.Cubic{Interpolations.Free{Interpolations.OnGrid}}},Tuple{StepRangeLen{Float64,Base.TwicePrecision{Float64},Base.TwicePrecision{Float64}},StepRangeLen{Float64,Base.TwicePrecision{Float64},Base.TwicePrecision{Float64}},StepRangeLen{Float64,Base.TwicePrecision{Float64},Base.TwicePrecision{Float64}}}}, ::ForwardDiff.Dual{ForwardDiff.Tag{Main.CoherentStructures.var\"#543#544\"{var\"#13#14\"{Vern7,Float64}},Float64},Float64,3}) at C:\\Users\\Martin\\D_Drive\\Documents\\Uni\\3 Mathematics in Data Science\\05 Masterarbeit\\CoherentStructuresLinearResponse\\src\\velocityfields.jl:51",
      " [4] ODEFunction at C:\\Users\\Martin\\.julia\\packages\\SciMLBase\\Afx1r\\src\\scimlfunctions.jl:329 [inlined]",
      " [5] perform_step!(::OrdinaryDiffEq.ODEIntegrator{Vern7,false,StaticArrays.SArray{Tuple{2},ForwardDiff.Dual{ForwardDiff.Tag{Main.CoherentStructures.var\"#543#544\"{var\"#13#14\"{Vern7,Float64}},Float64},Float64,3},1,2},Nothing,ForwardDiff.Dual{ForwardDiff.Tag{Main.CoherentStructures.var\"#543#544\"{var\"#13#14\"{Vern7,Float64}},Float64},Float64,3},Interpolations.ScaledInterpolation{StaticArrays.SArray{Tuple{2},Float64,1,2},3,Interpolations.BSplineInterpolation{StaticArrays.SArray{Tuple{2},Float64,1,2},3,OffsetArrays.OffsetArray{StaticArrays.SArray{Tuple{2},Float64,1,2},3,Array{StaticArrays.SArray{Tuple{2},Float64,1,2},3}},Interpolations.BSpline{Interpolations.Cubic{Interpolations.Free{Interpolations.OnGrid}}},Tuple{Base.OneTo{Int64},Base.OneTo{Int64},Base.OneTo{Int64}}},Interpolations.BSpline{Interpolations.Cubic{Interpolations.Free{Interpolations.OnGrid}}},Tuple{StepRangeLen{Float64,Base.TwicePrecision{Float64},Base.TwicePrecision{Float64}},StepRangeLen{Float64,Base.TwicePrecision{Float64},Base.TwicePrecision{Float64}},StepRangeLen{Float64,Base.TwicePrecision{Float64},Base.TwicePrecision{Float64}}}},ForwardDiff.Dual{ForwardDiff.Tag{Main.CoherentStructures.var\"#543#544\"{var\"#13#14\"{Vern7,Float64}},Float64},Float64,3},Float64,ForwardDiff.Dual{ForwardDiff.Tag{Main.CoherentStructures.var\"#543#544\"{var\"#13#14\"{Vern7,Float64}},Float64},Float64,3},Array{StaticArrays.SArray{Tuple{2},ForwardDiff.Dual{ForwardDiff.Tag{Main.CoherentStructures.var\"#543#544\"{var\"#13#14\"{Vern7,Float64}},Float64},Float64,3},1,2},1},ODESolution{ForwardDiff.Dual{ForwardDiff.Tag{Main.CoherentStructures.var\"#543#544\"{var\"#13#14\"{Vern7,Float64}},Float64},Float64,3},2,Array{StaticArrays.SArray{Tuple{2},ForwardDiff.Dual{ForwardDiff.Tag{Main.CoherentStructures.var\"#543#544\"{var\"#13#14\"{Vern7,Float64}},Float64},Float64,3},1,2},1},Nothing,Nothing,Array{ForwardDiff.Dual{ForwardDiff.Tag{Main.CoherentStructures.var\"#543#544\"{var\"#13#14\"{Vern7,Float64}},Float64},Float64,3},1},Array{Array{StaticArrays.SArray{Tuple{2},ForwardDiff.Dual{ForwardDiff.Tag{Main.CoherentStructures.var\"#543#544\"{var\"#13#14\"{Vern7,Float64}},Float64},Float64,3},1,2},1},1},ODEProblem{StaticArrays.SArray{Tuple{2},ForwardDiff.Dual{ForwardDiff.Tag{Main.CoherentStructures.var\"#543#544\"{var\"#13#14\"{Vern7,Float64}},Float64},Float64,3},1,2},Tuple{ForwardDiff.Dual{ForwardDiff.Tag{Main.CoherentStructures.var\"#543#544\"{var\"#13#14\"{Vern7,Float64}},Float64},Float64,3},ForwardDiff.Dual{ForwardDiff.Tag{Main.CoherentStructures.var\"#543#544\"{var\"#13#14\"{Vern7,Float64}},Float64},Float64,3}},false,Interpolations.ScaledInterpolation{StaticArrays.SArray{Tuple{2},Float64,1,2},3,Interpolations.BSplineInterpolation{StaticArrays.SArray{Tuple{2},Float64,1,2},3,OffsetArrays.OffsetArray{StaticArrays.SArray{Tuple{2},Float64,1,2},3,Array{StaticArrays.SArray{Tuple{2},Float64,1,2},3}},Interpolations.BSpline{Interpolations.Cubic{Interpolations.Free{Interpolations.OnGrid}}},Tuple{Base.OneTo{Int64},Base.OneTo{Int64},Base.OneTo{Int64}}},Interpolations.BSpline{Interpolations.Cubic{Interpolations.Free{Interpolations.OnGrid}}},Tuple{StepRangeLen{Float64,Base.TwicePrecision{Float64},Base.TwicePrecision{Float64}},StepRangeLen{Float64,Base.TwicePrecision{Float64},Base.TwicePrecision{Float64}},StepRangeLen{Float64,Base.TwicePrecision{Float64},Base.TwicePrecision{Float64}}}},ODEFunction{false,Main.CoherentStructures.var\"#265#266\",LinearAlgebra.UniformScaling{Bool},Nothing,Nothing,Nothing,Nothing,Nothing,Nothing,Nothing,Nothing,Nothing,Nothing,Nothing,Nothing,typeof(SciMLBase.DEFAULT_OBSERVED),Nothing},Base.Iterators.Pairs{Union{},Union{},Tuple{},NamedTuple{(),Tuple{}}},SciMLBase.StandardODEProblem},Vern7,OrdinaryDiffEq.InterpolationData{ODEFunction{false,Main.CoherentStructures.var\"#265#266\",LinearAlgebra.UniformScaling{Bool},Nothing,Nothing,Nothing,Nothing,Nothing,Nothing,Nothing,Nothing,Nothing,Nothing,Nothing,Nothing,typeof(SciMLBase.DEFAULT_OBSERVED),Nothing},Array{StaticArrays.SArray{Tuple{2},ForwardDiff.Dual{ForwardDiff.Tag{Main.CoherentStructures.var\"#543#544\"{var\"#13#14\"{Vern7,Float64}},Float64},Float64,3},1,2},1},Array{ForwardDiff.Dual{ForwardDiff.Tag{Main.CoherentStructures.var\"#543#544\"{var\"#13#14\"{Vern7,Float64}},Float64},Float64,3},1},Array{Array{StaticArrays.SArray{Tuple{2},ForwardDiff.Dual{ForwardDiff.Tag{Main.CoherentStructures.var\"#543#544\"{var\"#13#14\"{Vern7,Float64}},Float64},Float64,3},1,2},1},1},OrdinaryDiffEq.Vern7ConstantCache{OrdinaryDiffEq.Vern7Tableau{Float64,Float64}}},DiffEqBase.DEStats},ODEFunction{false,Main.CoherentStructures.var\"#265#266\",LinearAlgebra.UniformScaling{Bool},Nothing,Nothing,Nothing,Nothing,Nothing,Nothing,Nothing,Nothing,Nothing,Nothing,Nothing,Nothing,typeof(SciMLBase.DEFAULT_OBSERVED),Nothing},OrdinaryDiffEq.Vern7ConstantCache{OrdinaryDiffEq.Vern7Tableau{Float64,Float64}},OrdinaryDiffEq.DEOptions{Float64,Float64,Float64,ForwardDiff.Dual{ForwardDiff.Tag{Main.CoherentStructures.var\"#543#544\"{var\"#13#14\"{Vern7,Float64}},Float64},Float64,3},typeof(DiffEqBase.ODE_DEFAULT_NORM),typeof(LinearAlgebra.opnorm),Nothing,CallbackSet{Tuple{},Tuple{}},typeof(DiffEqBase.ODE_DEFAULT_ISOUTOFDOMAIN),typeof(DiffEqBase.ODE_DEFAULT_PROG_MESSAGE),typeof(DiffEqBase.ODE_DEFAULT_UNSTABLE_CHECK),DataStructures.BinaryHeap{ForwardDiff.Dual{ForwardDiff.Tag{Main.CoherentStructures.var\"#543#544\"{var\"#13#14\"{Vern7,Float64}},Float64},Float64,3},Base.Order.ForwardOrdering},DataStructures.BinaryHeap{ForwardDiff.Dual{ForwardDiff.Tag{Main.CoherentStructures.var\"#543#544\"{var\"#13#14\"{Vern7,Float64}},Float64},Float64,3},Base.Order.ForwardOrdering},Nothing,Nothing,Int64,Tuple{},Array{ForwardDiff.Dual{ForwardDiff.Tag{Main.CoherentStructures.var\"#543#544\"{var\"#13#14\"{Vern7,Float64}},Float64},Float64,3},1},Tuple{}},StaticArrays.SArray{Tuple{2},ForwardDiff.Dual{ForwardDiff.Tag{Main.CoherentStructures.var\"#543#544\"{var\"#13#14\"{Vern7,Float64}},Float64},Float64,3},1,2},ForwardDiff.Dual{ForwardDiff.Tag{Main.CoherentStructures.var\"#543#544\"{var\"#13#14\"{Vern7,Float64}},Float64},Float64,3},Nothing,OrdinaryDiffEq.DefaultInit}, ::OrdinaryDiffEq.Vern7ConstantCache{OrdinaryDiffEq.Vern7Tableau{Float64,Float64}}, ::Bool) at C:\\Users\\Martin\\.julia\\packages\\OrdinaryDiffEq\\y19MS\\src\\perform_step\\verner_rk_perform_step.jl:169",
      " [6] perform_step! at C:\\Users\\Martin\\.julia\\packages\\OrdinaryDiffEq\\y19MS\\src\\perform_step\\verner_rk_perform_step.jl:155 [inlined]",
      " [7] solve!(::OrdinaryDiffEq.ODEIntegrator{Vern7,false,StaticArrays.SArray{Tuple{2},ForwardDiff.Dual{ForwardDiff.Tag{Main.CoherentStructures.var\"#543#544\"{var\"#13#14\"{Vern7,Float64}},Float64},Float64,3},1,2},Nothing,ForwardDiff.Dual{ForwardDiff.Tag{Main.CoherentStructures.var\"#543#544\"{var\"#13#14\"{Vern7,Float64}},Float64},Float64,3},Interpolations.ScaledInterpolation{StaticArrays.SArray{Tuple{2},Float64,1,2},3,Interpolations.BSplineInterpolation{StaticArrays.SArray{Tuple{2},Float64,1,2},3,OffsetArrays.OffsetArray{StaticArrays.SArray{Tuple{2},Float64,1,2},3,Array{StaticArrays.SArray{Tuple{2},Float64,1,2},3}},Interpolations.BSpline{Interpolations.Cubic{Interpolations.Free{Interpolations.OnGrid}}},Tuple{Base.OneTo{Int64},Base.OneTo{Int64},Base.OneTo{Int64}}},Interpolations.BSpline{Interpolations.Cubic{Interpolations.Free{Interpolations.OnGrid}}},Tuple{StepRangeLen{Float64,Base.TwicePrecision{Float64},Base.TwicePrecision{Float64}},StepRangeLen{Float64,Base.TwicePrecision{Float64},Base.TwicePrecision{Float64}},StepRangeLen{Float64,Base.TwicePrecision{Float64},Base.TwicePrecision{Float64}}}},ForwardDiff.Dual{ForwardDiff.Tag{Main.CoherentStructures.var\"#543#544\"{var\"#13#14\"{Vern7,Float64}},Float64},Float64,3},Float64,ForwardDiff.Dual{ForwardDiff.Tag{Main.CoherentStructures.var\"#543#544\"{var\"#13#14\"{Vern7,Float64}},Float64},Float64,3},Array{StaticArrays.SArray{Tuple{2},ForwardDiff.Dual{ForwardDiff.Tag{Main.CoherentStructures.var\"#543#544\"{var\"#13#14\"{Vern7,Float64}},Float64},Float64,3},1,2},1},ODESolution{ForwardDiff.Dual{ForwardDiff.Tag{Main.CoherentStructures.var\"#543#544\"{var\"#13#14\"{Vern7,Float64}},Float64},Float64,3},2,Array{StaticArrays.SArray{Tuple{2},ForwardDiff.Dual{ForwardDiff.Tag{Main.CoherentStructures.var\"#543#544\"{var\"#13#14\"{Vern7,Float64}},Float64},Float64,3},1,2},1},Nothing,Nothing,Array{ForwardDiff.Dual{ForwardDiff.Tag{Main.CoherentStructures.var\"#543#544\"{var\"#13#14\"{Vern7,Float64}},Float64},Float64,3},1},Array{Array{StaticArrays.SArray{Tuple{2},ForwardDiff.Dual{ForwardDiff.Tag{Main.CoherentStructures.var\"#543#544\"{var\"#13#14\"{Vern7,Float64}},Float64},Float64,3},1,2},1},1},ODEProblem{StaticArrays.SArray{Tuple{2},ForwardDiff.Dual{ForwardDiff.Tag{Main.CoherentStructures.var\"#543#544\"{var\"#13#14\"{Vern7,Float64}},Float64},Float64,3},1,2},Tuple{ForwardDiff.Dual{ForwardDiff.Tag{Main.CoherentStructures.var\"#543#544\"{var\"#13#14\"{Vern7,Float64}},Float64},Float64,3},ForwardDiff.Dual{ForwardDiff.Tag{Main.CoherentStructures.var\"#543#544\"{var\"#13#14\"{Vern7,Float64}},Float64},Float64,3}},false,Interpolations.ScaledInterpolation{StaticArrays.SArray{Tuple{2},Float64,1,2},3,Interpolations.BSplineInterpolation{StaticArrays.SArray{Tuple{2},Float64,1,2},3,OffsetArrays.OffsetArray{StaticArrays.SArray{Tuple{2},Float64,1,2},3,Array{StaticArrays.SArray{Tuple{2},Float64,1,2},3}},Interpolations.BSpline{Interpolations.Cubic{Interpolations.Free{Interpolations.OnGrid}}},Tuple{Base.OneTo{Int64},Base.OneTo{Int64},Base.OneTo{Int64}}},Interpolations.BSpline{Interpolations.Cubic{Interpolations.Free{Interpolations.OnGrid}}},Tuple{StepRangeLen{Float64,Base.TwicePrecision{Float64},Base.TwicePrecision{Float64}},StepRangeLen{Float64,Base.TwicePrecision{Float64},Base.TwicePrecision{Float64}},StepRangeLen{Float64,Base.TwicePrecision{Float64},Base.TwicePrecision{Float64}}}},ODEFunction{false,Main.CoherentStructures.var\"#265#266\",LinearAlgebra.UniformScaling{Bool},Nothing,Nothing,Nothing,Nothing,Nothing,Nothing,Nothing,Nothing,Nothing,Nothing,Nothing,Nothing,typeof(SciMLBase.DEFAULT_OBSERVED),Nothing},Base.Iterators.Pairs{Union{},Union{},Tuple{},NamedTuple{(),Tuple{}}},SciMLBase.StandardODEProblem},Vern7,OrdinaryDiffEq.InterpolationData{ODEFunction{false,Main.CoherentStructures.var\"#265#266\",LinearAlgebra.UniformScaling{Bool},Nothing,Nothing,Nothing,Nothing,Nothing,Nothing,Nothing,Nothing,Nothing,Nothing,Nothing,Nothing,typeof(SciMLBase.DEFAULT_OBSERVED),Nothing},Array{StaticArrays.SArray{Tuple{2},ForwardDiff.Dual{ForwardDiff.Tag{Main.CoherentStructures.var\"#543#544\"{var\"#13#14\"{Vern7,Float64}},Float64},Float64,3},1,2},1},Array{ForwardDiff.Dual{ForwardDiff.Tag{Main.CoherentStructures.var\"#543#544\"{var\"#13#14\"{Vern7,Float64}},Float64},Float64,3},1},Array{Array{StaticArrays.SArray{Tuple{2},ForwardDiff.Dual{ForwardDiff.Tag{Main.CoherentStructures.var\"#543#544\"{var\"#13#14\"{Vern7,Float64}},Float64},Float64,3},1,2},1},1},OrdinaryDiffEq.Vern7ConstantCache{OrdinaryDiffEq.Vern7Tableau{Float64,Float64}}},DiffEqBase.DEStats},ODEFunction{false,Main.CoherentStructures.var\"#265#266\",LinearAlgebra.UniformScaling{Bool},Nothing,Nothing,Nothing,Nothing,Nothing,Nothing,Nothing,Nothing,Nothing,Nothing,Nothing,Nothing,typeof(SciMLBase.DEFAULT_OBSERVED),Nothing},OrdinaryDiffEq.Vern7ConstantCache{OrdinaryDiffEq.Vern7Tableau{Float64,Float64}},OrdinaryDiffEq.DEOptions{Float64,Float64,Float64,ForwardDiff.Dual{ForwardDiff.Tag{Main.CoherentStructures.var\"#543#544\"{var\"#13#14\"{Vern7,Float64}},Float64},Float64,3},typeof(DiffEqBase.ODE_DEFAULT_NORM),typeof(LinearAlgebra.opnorm),Nothing,CallbackSet{Tuple{},Tuple{}},typeof(DiffEqBase.ODE_DEFAULT_ISOUTOFDOMAIN),typeof(DiffEqBase.ODE_DEFAULT_PROG_MESSAGE),typeof(DiffEqBase.ODE_DEFAULT_UNSTABLE_CHECK),DataStructures.BinaryHeap{ForwardDiff.Dual{ForwardDiff.Tag{Main.CoherentStructures.var\"#543#544\"{var\"#13#14\"{Vern7,Float64}},Float64},Float64,3},Base.Order.ForwardOrdering},DataStructures.BinaryHeap{ForwardDiff.Dual{ForwardDiff.Tag{Main.CoherentStructures.var\"#543#544\"{var\"#13#14\"{Vern7,Float64}},Float64},Float64,3},Base.Order.ForwardOrdering},Nothing,Nothing,Int64,Tuple{},Array{ForwardDiff.Dual{ForwardDiff.Tag{Main.CoherentStructures.var\"#543#544\"{var\"#13#14\"{Vern7,Float64}},Float64},Float64,3},1},Tuple{}},StaticArrays.SArray{Tuple{2},ForwardDiff.Dual{ForwardDiff.Tag{Main.CoherentStructures.var\"#543#544\"{var\"#13#14\"{Vern7,Float64}},Float64},Float64,3},1,2},ForwardDiff.Dual{ForwardDiff.Tag{Main.CoherentStructures.var\"#543#544\"{var\"#13#14\"{Vern7,Float64}},Float64},Float64,3},Nothing,OrdinaryDiffEq.DefaultInit}) at C:\\Users\\Martin\\.julia\\packages\\OrdinaryDiffEq\\y19MS\\src\\solve.jl:453",
      " [8] #__solve#401 at C:\\Users\\Martin\\.julia\\packages\\OrdinaryDiffEq\\y19MS\\src\\solve.jl:5 [inlined]",
      " [9] #solve_call#56 at C:\\Users\\Martin\\.julia\\packages\\DiffEqBase\\krS36\\src\\solve.jl:61 [inlined]",
      " [10] solve_up(::ODEProblem{StaticArrays.SArray{Tuple{2},ForwardDiff.Dual{ForwardDiff.Tag{Main.CoherentStructures.var\"#543#544\"{var\"#13#14\"{Vern7,Float64}},Float64},Float64,3},1,2},Tuple{ForwardDiff.Dual{ForwardDiff.Tag{Main.CoherentStructures.var\"#543#544\"{var\"#13#14\"{Vern7,Float64}},Float64},Float64,3},ForwardDiff.Dual{ForwardDiff.Tag{Main.CoherentStructures.var\"#543#544\"{var\"#13#14\"{Vern7,Float64}},Float64},Float64,3}},false,Interpolations.ScaledInterpolation{StaticArrays.SArray{Tuple{2},Float64,1,2},3,Interpolations.BSplineInterpolation{StaticArrays.SArray{Tuple{2},Float64,1,2},3,OffsetArrays.OffsetArray{StaticArrays.SArray{Tuple{2},Float64,1,2},3,Array{StaticArrays.SArray{Tuple{2},Float64,1,2},3}},Interpolations.BSpline{Interpolations.Cubic{Interpolations.Free{Interpolations.OnGrid}}},Tuple{Base.OneTo{Int64},Base.OneTo{Int64},Base.OneTo{Int64}}},Interpolations.BSpline{Interpolations.Cubic{Interpolations.Free{Interpolations.OnGrid}}},Tuple{StepRangeLen{Float64,Base.TwicePrecision{Float64},Base.TwicePrecision{Float64}},StepRangeLen{Float64,Base.TwicePrecision{Float64},Base.TwicePrecision{Float64}},StepRangeLen{Float64,Base.TwicePrecision{Float64},Base.TwicePrecision{Float64}}}},ODEFunction{false,Main.CoherentStructures.var\"#265#266\",LinearAlgebra.UniformScaling{Bool},Nothing,Nothing,Nothing,Nothing,Nothing,Nothing,Nothing,Nothing,Nothing,Nothing,Nothing,Nothing,typeof(SciMLBase.DEFAULT_OBSERVED),Nothing},Base.Iterators.Pairs{Union{},Union{},Tuple{},NamedTuple{(),Tuple{}}},SciMLBase.StandardODEProblem}, ::Nothing, ::StaticArrays.SArray{Tuple{2},ForwardDiff.Dual{ForwardDiff.Tag{Main.CoherentStructures.var\"#543#544\"{var\"#13#14\"{Vern7,Float64}},Float64},Float64,3},1,2}, ::Interpolations.ScaledInterpolation{StaticArrays.SArray{Tuple{2},Float64,1,2},3,Interpolations.BSplineInterpolation{StaticArrays.SArray{Tuple{2},Float64,1,2},3,OffsetArrays.OffsetArray{StaticArrays.SArray{Tuple{2},Float64,1,2},3,Array{StaticArrays.SArray{Tuple{2},Float64,1,2},3}},Interpolations.BSpline{Interpolations.Cubic{Interpolations.Free{Interpolations.OnGrid}}},Tuple{Base.OneTo{Int64},Base.OneTo{Int64},Base.OneTo{Int64}}},Interpolations.BSpline{Interpolations.Cubic{Interpolations.Free{Interpolations.OnGrid}}},Tuple{StepRangeLen{Float64,Base.TwicePrecision{Float64},Base.TwicePrecision{Float64}},StepRangeLen{Float64,Base.TwicePrecision{Float64},Base.TwicePrecision{Float64}},StepRangeLen{Float64,Base.TwicePrecision{Float64},Base.TwicePrecision{Float64}}}}, ::Vern7; kwargs::Base.Iterators.Pairs{Symbol,Any,NTuple{8,Symbol},NamedTuple{(:saveat, :save_everystep, :dense, :reltol, :abstol, :force_dtmin, :adaptive, :dt),Tuple{Array{ForwardDiff.Dual{ForwardDiff.Tag{Main.CoherentStructures.var\"#543#544\"{var\"#13#14\"{Vern7,Float64}},Float64},Float64,3},1},Bool,Bool,Float64,Float64,Bool,Bool,Float64}}}) at C:\\Users\\Martin\\.julia\\packages\\DiffEqBase\\krS36\\src\\solve.jl:82",
      " [11] #solve#57 at C:\\Users\\Martin\\.julia\\packages\\DiffEqBase\\krS36\\src\\solve.jl:70 [inlined]",
      " [12] #_flow#52 at C:\\Users\\Martin\\D_Drive\\Documents\\Uni\\3 Mathematics in Data Science\\05 Masterarbeit\\CoherentStructuresLinearResponse\\src\\pullbacktensors.jl:72 [inlined]",
      " [13] #flow#51 at C:\\Users\\Martin\\D_Drive\\Documents\\Uni\\3 Mathematics in Data Science\\05 Masterarbeit\\CoherentStructuresLinearResponse\\src\\pullbacktensors.jl:37 [inlined]",
      " [14] (::var\"#13#14\"{Vern7,Float64})(::Array{ForwardDiff.Dual{ForwardDiff.Tag{Main.CoherentStructures.var\"#543#544\"{var\"#13#14\"{Vern7,Float64}},Float64},Float64,3},1}, ::ForwardDiff.Dual{ForwardDiff.Tag{Main.CoherentStructures.var\"#543#544\"{var\"#13#14\"{Vern7,Float64}},Float64},Float64,3}) at .\\In[10]:2",
      " [15] (::Main.CoherentStructures.var\"#543#544\"{var\"#13#14\"{Vern7,Float64}})(::Array{ForwardDiff.Dual{ForwardDiff.Tag{Main.CoherentStructures.var\"#543#544\"{var\"#13#14\"{Vern7,Float64}},Float64},Float64,3},1}) at C:\\Users\\Martin\\D_Drive\\Documents\\Uni\\3 Mathematics in Data Science\\05 Masterarbeit\\CoherentStructuresLinearResponse\\src\\linearResponse.jl:14",
      " [16] vector_mode_dual_eval at C:\\Users\\Martin\\.julia\\packages\\ForwardDiff\\m7cm5\\src\\apiutils.jl:37 [inlined]",
      " [17] vector_mode_jacobian(::Main.CoherentStructures.var\"#543#544\"{var\"#13#14\"{Vern7,Float64}}, ::Array{Float64,1}, ::ForwardDiff.JacobianConfig{ForwardDiff.Tag{Main.CoherentStructures.var\"#543#544\"{var\"#13#14\"{Vern7,Float64}},Float64},Float64,3,Array{ForwardDiff.Dual{ForwardDiff.Tag{Main.CoherentStructures.var\"#543#544\"{var\"#13#14\"{Vern7,Float64}},Float64},Float64,3},1}}) at C:\\Users\\Martin\\.julia\\packages\\ForwardDiff\\m7cm5\\src\\jacobian.jl:147",
      " [18] jacobian(::Function, ::Array{Float64,1}, ::ForwardDiff.JacobianConfig{ForwardDiff.Tag{Main.CoherentStructures.var\"#543#544\"{var\"#13#14\"{Vern7,Float64}},Float64},Float64,3,Array{ForwardDiff.Dual{ForwardDiff.Tag{Main.CoherentStructures.var\"#543#544\"{var\"#13#14\"{Vern7,Float64}},Float64},Float64,3},1}}, ::Val{true}) at C:\\Users\\Martin\\.julia\\packages\\ForwardDiff\\m7cm5\\src\\jacobian.jl:21",
      " [19] jacobian(::Function, ::Array{Float64,1}, ::ForwardDiff.JacobianConfig{ForwardDiff.Tag{Main.CoherentStructures.var\"#543#544\"{var\"#13#14\"{Vern7,Float64}},Float64},Float64,3,Array{ForwardDiff.Dual{ForwardDiff.Tag{Main.CoherentStructures.var\"#543#544\"{var\"#13#14\"{Vern7,Float64}},Float64},Float64,3},1}}) at C:\\Users\\Martin\\.julia\\packages\\ForwardDiff\\m7cm5\\src\\jacobian.jl:19 (repeats 2 times)",
      " [20] parameter_autodiff(::var\"#13#14\"{Vern7,Float64}, ::Tensor{1,2,Float64,2}, ::Int64) at C:\\Users\\Martin\\D_Drive\\Documents\\Uni\\3 Mathematics in Data Science\\05 Masterarbeit\\CoherentStructuresLinearResponse\\src\\linearResponse.jl:14",
      " [21] #17 at .\\In[12]:2 [inlined]",
      " [22] #5 at .\\none:0 [inlined]",
      " [23] iterate at .\\generator.jl:47 [inlined]",
      " [24] collect_to!(::Array{Array{Float64,1},1}, ::Base.Generator{Array{JuAFEM.Node{2,Float64},1},var\"#5#6\"{var\"#17#18\"{Vern7,Float64,Int64}}}, ::Int64, ::Int64) at .\\array.jl:711",
      " [25] collect_to_with_first!(::Array{Array{Float64,1},1}, ::Array{Float64,1}, ::Base.Generator{Array{JuAFEM.Node{2,Float64},1},var\"#5#6\"{var\"#17#18\"{Vern7,Float64,Int64}}}, ::Int64) at .\\array.jl:689",
      " [26] collect(::Base.Generator{Array{JuAFEM.Node{2,Float64},1},var\"#5#6\"{var\"#17#18\"{Vern7,Float64,Int64}}}) at .\\array.jl:670",
      " [27] evaluate_on_grid(::var\"#17#18\"{Vern7,Float64,Int64}, ::Main.CoherentStructures.GridContext{2,JuAFEM.Grid{2,JuAFEM.Cell{2,3,3},Float64},JuAFEM.Lagrange{2,JuAFEM.RefTetrahedron,1},JuAFEM.Lagrange{2,JuAFEM.RefTetrahedron,1},JuAFEM.DofHandler{2,JuAFEM.Cell{2,3,3},Float64},JuAFEM.QuadratureRule{2,JuAFEM.RefTetrahedron,Float64},Main.CoherentStructures.Regular2DGridLocator{JuAFEM.Cell{2,3,3}}}) at .\\In[6]:2",
      " [28] (::var\"#35#36\")(::Float64) at .\\none:0",
      " [29] iterate at .\\generator.jl:47 [inlined]",
      " [30] collect(::Base.Generator{Array{Float64,1},var\"#35#36\"}) at .\\array.jl:665",
      " [31] top-level scope at In[24]:1"
     ]
    }
   ],
   "source": [
    "autodiff_Vern7     = [evaluate_on_grid(Tdot_autodiff(OrdinaryDiffEq.Vern7(),stepsize,0),ctx) \n",
    "    for stepsize in stepsize_range_Vern7]\n",
    "FD_1eminus2_Vern7 = [evaluate_on_grid(Tdot_finite_differences(OrdinaryDiffEq.Vern7(),stepsize,0,1e-2),ctx)\n",
    "    for stepsize in stepsize_range_Vern7]\n",
    "FD_1eminus3_Vern7 = [evaluate_on_grid(Tdot_finite_differences(OrdinaryDiffEq.Vern7(),stepsize,0,1e-3),ctx)\n",
    "    for stepsize in stepsize_range_Vern7]\n",
    "FD_1eminus4_Vern7 = [evaluate_on_grid(Tdot_finite_differences(OrdinaryDiffEq.Vern7(),stepsize,0,1e-4),ctx) \n",
    "    for stepsize in stepsize_range_Vern7]\n",
    "FD_1eminus5_Vern7 = [evaluate_on_grid(Tdot_finite_differences(OrdinaryDiffEq.Vern7(),stepsize,0,1e-5),ctx)\n",
    "    for stepsize in stepsize_range_Vern7];\n",
    "FD_1eminus6_Vern7 = [evaluate_on_grid(Tdot_finite_differences(OrdinaryDiffEq.Vern7(),stepsize,0,1e-6),ctx)\n",
    "    for stepsize in stepsize_range_Vern7];\n",
    "FD_1eminus7_Vern7 = [evaluate_on_grid(Tdot_finite_differences(OrdinaryDiffEq.Vern7(),stepsize,0,1e-7),ctx)\n",
    "    for stepsize in stepsize_range_Vern7];"
   ]
  },
  {
   "cell_type": "code",
   "execution_count": 25,
   "metadata": {},
   "outputs": [
    {
     "ename": "UndefVarError",
     "evalue": "\u001b[91mUndefVarError: reference_Vern7 not defined\u001b[39m",
     "output_type": "error",
     "traceback": [
      "\u001b[91mUndefVarError: reference_Vern7 not defined\u001b[39m",
      "",
      "Stacktrace:",
      " [1] top-level scope at In[25]:1"
     ]
    }
   ],
   "source": [
    "l2_plot_Vern7 = Plots.plot(stepsize_range_Vern7,[l2_error(ref_stepsize,stepsize) \n",
    "        for (ref_stepsize,stepsize) in zip(reference_Vern7,autodiff_Vern7)], \n",
    "    xaxis=:log, yaxis=:log, marker=:dot, xflip=true, label=\"Autodiff Vern7\"\n",
    "    ,fmt=:png,dpi=300,title=\"L2 error\",legend=(0.1,0.25),legendfontsize=5)\n",
    "Plots.plot!(stepsize_range_Vern7,[l2_error(ref_stepsize,stepsize) \n",
    "        for (ref_stepsize,stepsize) in zip(reference_Vern7,FD_1eminus2_Vern7)], \n",
    "    marker=:dot, label=\"Finite Differences, δ=1e-2, Vern7\")\n",
    "Plots.plot!(stepsize_range_Vern7,[l2_error(ref_stepsize,stepsize) \n",
    "         for (ref_stepsize,stepsize) in zip(reference_Vern7,FD_1eminus3_Vern7)], \n",
    "    marker=:dot, label=\"Finite Differences, δ=1e-3, Vern7\")\n",
    "Plots.plot!(stepsize_range_Vern7,[l2_error(ref_stepsize,stepsize) \n",
    "         for (ref_stepsize,stepsize) in zip(reference_Vern7,FD_1eminus4_Vern7)], \n",
    "    marker=:dot, label=\"Finite Differences, δ=1e-4, Vern7\")\n",
    "Plots.plot!(stepsize_range_Vern7,[l2_error(ref_stepsize,stepsize) \n",
    "         for (ref_stepsize,stepsize) in zip(reference_Vern7,FD_1eminus5_Vern7)], \n",
    "    marker=:dot, label=\"Finite Differences, δ=1e-5, Vern7\")\n",
    "Plots.plot!(stepsize_range_Vern7,[l2_error(ref_stepsize,stepsize) \n",
    "         for (ref_stepsize,stepsize) in zip(reference_Vern7,FD_1eminus6_Vern7)], \n",
    "    marker=:dot, label=\"Finite Differences, δ=1e-6, Vern7\")\n",
    "Plots.plot!(stepsize_range_Vern7,[l2_error(ref_stepsize,stepsize) \n",
    "         for (ref_stepsize,stepsize) in zip(reference_Vern7,FD_1eminus7_Vern7)], \n",
    "    marker=:dot, label=\"Finite Differences, δ=1e-7, Vern7\")\n",
    "Plots.plot!(stepsize_range_Vern7,[1000*x^8 for x in stepsize_range_Vern7], \n",
    "    linestyle=:dash,label=\"O(h^8)\")"
   ]
  },
  {
   "cell_type": "code",
   "execution_count": null,
   "metadata": {},
   "outputs": [],
   "source": []
  }
 ],
 "metadata": {
  "kernelspec": {
   "display_name": "Julia (16 threads) 1.4.2",
   "language": "julia",
   "name": "julia-(16-threads)-1.4"
  },
  "language_info": {
   "file_extension": ".jl",
   "mimetype": "application/julia",
   "name": "julia",
   "version": "1.4.2"
  }
 },
 "nbformat": 4,
 "nbformat_minor": 4
}
