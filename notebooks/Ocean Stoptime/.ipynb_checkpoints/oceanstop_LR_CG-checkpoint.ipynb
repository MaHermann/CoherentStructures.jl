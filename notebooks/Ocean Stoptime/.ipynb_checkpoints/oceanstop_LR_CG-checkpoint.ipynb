{
 "cells": [
  {
   "cell_type": "code",
   "execution_count": 1,
   "metadata": {
    "scrolled": true
   },
   "outputs": [
    {
     "ename": "ErrorException",
     "evalue": "\u001b[91mcould not open file C:\\Users\\Martin\\D_Drive\\Documents\\Uni\\3 Mathematics in Data Science\\05 Masterarbeit\\CoherentStructuresLinearResponse\\notebooks\\src\\CoherentStructures.jl\u001b[39m",
     "output_type": "error",
     "traceback": [
      "\u001b[91mcould not open file C:\\Users\\Martin\\D_Drive\\Documents\\Uni\\3 Mathematics in Data Science\\05 Masterarbeit\\CoherentStructuresLinearResponse\\notebooks\\src\\CoherentStructures.jl\u001b[39m",
      "",
      "Stacktrace:",
      " [1] include(::String) at .\\client.jl:439",
      " [2] top-level scope at In[1]:1"
     ]
    }
   ],
   "source": [
    "include(\"../../src/CoherentStructures.jl\") #this is terrible but neccessary during development (?)"
   ]
  },
  {
   "cell_type": "code",
   "execution_count": 2,
   "metadata": {},
   "outputs": [
    {
     "ename": "UndefVarError",
     "evalue": "\u001b[91mUndefVarError: CoherentStructures not defined\u001b[39m",
     "output_type": "error",
     "traceback": [
      "\u001b[91mUndefVarError: CoherentStructures not defined\u001b[39m",
      "",
      "Stacktrace:",
      " [1] top-level scope at In[2]:1"
     ]
    }
   ],
   "source": [
    "using StreamMacros, Main.CoherentStructures\n",
    "using Tensors, Arpack, JLD2, OrdinaryDiffEq\n",
    "using Plots, UnicodePlots\n",
    "using OrdinaryDiffEq\n",
    "const ODE = OrdinaryDiffEq"
   ]
  },
  {
   "cell_type": "code",
   "execution_count": 3,
   "metadata": {},
   "outputs": [
    {
     "ename": "LoadError",
     "evalue": "\u001b[91mUndefVarError: JLD2 not defined\u001b[39m",
     "output_type": "error",
     "traceback": [
      "\u001b[91mUndefVarError: JLD2 not defined\u001b[39m",
      ""
     ]
    }
   ],
   "source": [
    "JLD2.@load(\"Ocean_geostrophic_velocity.jld2\");\n",
    "UV = interpolateVF(Lon, Lat, Time, UT, VT);"
   ]
  },
  {
   "cell_type": "code",
   "execution_count": 4,
   "metadata": {},
   "outputs": [
    {
     "ename": "UndefVarError",
     "evalue": "\u001b[91mUndefVarError: Time not defined\u001b[39m",
     "output_type": "error",
     "traceback": [
      "\u001b[91mUndefVarError: Time not defined\u001b[39m",
      "",
      "Stacktrace:",
      " [1] top-level scope at In[4]:6"
     ]
    }
   ],
   "source": [
    "# Parameters\n",
    "grid_resolution        = 100\n",
    "quadrature_order       = 1\n",
    "ϵ                      = 1                # perturbation\n",
    "selected_ev            = 1\n",
    "t_initial              = minimum(Time)\n",
    "t_end                  = t_initial+80     # parameter value corresponding to ϵ=0 (t_max is 90)\n",
    "scale                  = 10\n",
    "solver_tolerance       = 1e-10\n",
    "solver                 = OrdinaryDiffEq.BS5();"
   ]
  },
  {
   "cell_type": "code",
   "execution_count": 5,
   "metadata": {},
   "outputs": [
    {
     "data": {
      "text/plain": [
       "T (generic function with 1 method)"
      ]
     },
     "execution_count": 5,
     "metadata": {},
     "output_type": "execute_result"
    }
   ],
   "source": [
    "T(x, param) = flow(interp_rhs, x, [t_initial, t_end + scale*param], p=UV,\n",
    "        tolerance=solver_tolerance,solver=solver)[end]"
   ]
  },
  {
   "cell_type": "code",
   "execution_count": 6,
   "metadata": {},
   "outputs": [
    {
     "ename": "UndefVarError",
     "evalue": "\u001b[91mUndefVarError: regularTriangularGrid not defined\u001b[39m",
     "output_type": "error",
     "traceback": [
      "\u001b[91mUndefVarError: regularTriangularGrid not defined\u001b[39m",
      "",
      "Stacktrace:",
      " [1] top-level scope at In[6]:2"
     ]
    }
   ],
   "source": [
    "LL, UR = (-4.0, -34.0), (6.0, -28.0)\n",
    "ctx, _ = regularTriangularGrid((grid_resolution, Integer(floor((UR[2] - LL[2])/(UR[1] - LL[1])*grid_resolution))), \n",
    "        LL, UR, quadrature_order = quadrature_order);\n",
    "bdata = getHomDBCS(ctx, \"all\");"
   ]
  },
  {
   "cell_type": "code",
   "execution_count": 7,
   "metadata": {},
   "outputs": [
    {
     "ename": "UndefVarError",
     "evalue": "\u001b[91mUndefVarError: bdata not defined\u001b[39m",
     "output_type": "error",
     "traceback": [
      "\u001b[91mUndefVarError: bdata not defined\u001b[39m",
      "",
      "Stacktrace:",
      " [1] top-level scope at In[7]:1"
     ]
    }
   ],
   "source": [
    "M = assembleMassMatrix(ctx, bdata=bdata);"
   ]
  },
  {
   "cell_type": "code",
   "execution_count": 8,
   "metadata": {
    "scrolled": false
   },
   "outputs": [
    {
     "ename": "UndefVarError",
     "evalue": "\u001b[91mUndefVarError: bdata not defined\u001b[39m",
     "output_type": "error",
     "traceback": [
      "\u001b[91mUndefVarError: bdata not defined\u001b[39m",
      "",
      "Stacktrace:",
      " [1] macro expansion at .\\util.jl:175 [inlined]",
      " [2] top-level scope at .\\In[8]:4"
     ]
    }
   ],
   "source": [
    "# assemble K\n",
    "DT₀(x) = linearized_transfer_function_autodiff(y -> T(y,0) , x)\n",
    "A₀(x) = 0.5*(one(Tensor{2,2}) + dott(inv(DT₀(x))))\n",
    "@time K = assembleStiffnessMatrix(ctx, A₀, bdata=bdata)\n",
    "@time λs, us = eigs(K, M, which=:SM)"
   ]
  },
  {
   "cell_type": "code",
   "execution_count": 9,
   "metadata": {},
   "outputs": [
    {
     "ename": "UndefVarError",
     "evalue": "\u001b[91mUndefVarError: us not defined\u001b[39m",
     "output_type": "error",
     "traceback": [
      "\u001b[91mUndefVarError: us not defined\u001b[39m",
      "",
      "Stacktrace:",
      " [1] top-level scope at In[9]:1"
     ]
    }
   ],
   "source": [
    "u₀ = us[:,selected_ev]\n",
    "λ₀ = λs[selected_ev]\n",
    "u₀ = u₀ ./ (u₀'*M*u₀);"
   ]
  },
  {
   "cell_type": "code",
   "execution_count": 10,
   "metadata": {},
   "outputs": [
    {
     "ename": "UndefVarError",
     "evalue": "\u001b[91mUndefVarError: bdata not defined\u001b[39m",
     "output_type": "error",
     "traceback": [
      "\u001b[91mUndefVarError: bdata not defined\u001b[39m",
      "",
      "Stacktrace:",
      " [1] macro expansion at .\\util.jl:175 [inlined]",
      " [2] top-level scope at .\\In[10]:3"
     ]
    }
   ],
   "source": [
    "DTϵ(x) = linearized_transfer_function_autodiff(y -> T(y,ϵ) , x)\n",
    "Aϵ(x) = 0.5*(one(Tensor{2,2}) + dott(inv(DTϵ(x))))\n",
    "@time Kϵ = assembleStiffnessMatrix(ctx, Aϵ, bdata=bdata)\n",
    "λϵs, uϵs = eigs(Kϵ, M, which=:SM);"
   ]
  },
  {
   "cell_type": "code",
   "execution_count": 11,
   "metadata": {},
   "outputs": [
    {
     "ename": "UndefVarError",
     "evalue": "\u001b[91mUndefVarError: uϵs not defined\u001b[39m",
     "output_type": "error",
     "traceback": [
      "\u001b[91mUndefVarError: uϵs not defined\u001b[39m",
      "",
      "Stacktrace:",
      " [1] top-level scope at In[11]:1"
     ]
    }
   ],
   "source": [
    "uϵ = uϵs[:,selected_ev]\n",
    "λϵ = λϵs[selected_ev]\n",
    "uϵ = uϵ ./ (uϵ'*M*uϵ);"
   ]
  },
  {
   "cell_type": "code",
   "execution_count": 12,
   "metadata": {},
   "outputs": [
    {
     "ename": "UndefVarError",
     "evalue": "\u001b[91mUndefVarError: bdata not defined\u001b[39m",
     "output_type": "error",
     "traceback": [
      "\u001b[91mUndefVarError: bdata not defined\u001b[39m",
      "",
      "Stacktrace:",
      " [1] macro expansion at .\\util.jl:175 [inlined]",
      " [2] top-level scope at .\\In[12]:3"
     ]
    }
   ],
   "source": [
    "DTminusϵ(x) = linearized_transfer_function_autodiff(y -> T(y,-ϵ) , x)\n",
    "Aminusϵ(x) = 0.5*(one(Tensor{2,2}) + dott(inv(DTminusϵ(x))))\n",
    "@time Kminusϵ = assembleStiffnessMatrix(ctx, Aminusϵ, bdata=bdata)\n",
    "λminusϵs, uminusϵs = eigs(Kminusϵ, M, which=:SM);"
   ]
  },
  {
   "cell_type": "code",
   "execution_count": 13,
   "metadata": {},
   "outputs": [
    {
     "ename": "UndefVarError",
     "evalue": "\u001b[91mUndefVarError: uminusϵs not defined\u001b[39m",
     "output_type": "error",
     "traceback": [
      "\u001b[91mUndefVarError: uminusϵs not defined\u001b[39m",
      "",
      "Stacktrace:",
      " [1] top-level scope at In[13]:1"
     ]
    }
   ],
   "source": [
    "uminusϵ = uminusϵs[:,selected_ev]\n",
    "λminusϵ = λminusϵs[selected_ev]\n",
    "uminusϵ = uminusϵ ./ (uminusϵ'*M*uminusϵ);"
   ]
  },
  {
   "cell_type": "code",
   "execution_count": 14,
   "metadata": {},
   "outputs": [
    {
     "ename": "UndefVarError",
     "evalue": "\u001b[91mUndefVarError: bdata not defined\u001b[39m",
     "output_type": "error",
     "traceback": [
      "\u001b[91mUndefVarError: bdata not defined\u001b[39m",
      "",
      "Stacktrace:",
      " [1] macro expansion at .\\util.jl:175 [inlined]",
      " [2] top-level scope at .\\In[14]:3"
     ]
    }
   ],
   "source": [
    "# assemble the linear response matrix L\n",
    "Adot = x -> linear_response_tensor_autodiff(T, x, 0)\n",
    "@time L = assembleStiffnessMatrix(ctx, Adot, bdata=bdata)\n",
    "nothing"
   ]
  },
  {
   "cell_type": "code",
   "execution_count": 15,
   "metadata": {},
   "outputs": [
    {
     "ename": "UndefVarError",
     "evalue": "\u001b[91mUndefVarError: λ₀ not defined\u001b[39m",
     "output_type": "error",
     "traceback": [
      "\u001b[91mUndefVarError: λ₀ not defined\u001b[39m",
      "",
      "Stacktrace:",
      " [1] top-level scope at In[15]:1"
     ]
    }
   ],
   "source": [
    "# solve the system for the derivative u_dot\n",
    "lhs = [K-λ₀*M   -M*u₀\n",
    "        u₀'*M      0]\n",
    "rhs = [-L*u₀    ;  0]\n",
    "\n",
    "@time b = lhs \\ rhs\n",
    "u_dot = b[1:end-1]\n",
    "λ_dot = b[end]"
   ]
  },
  {
   "cell_type": "code",
   "execution_count": 16,
   "metadata": {},
   "outputs": [
    {
     "ename": "UndefVarError",
     "evalue": "\u001b[91mUndefVarError: λϵ not defined\u001b[39m",
     "output_type": "error",
     "traceback": [
      "\u001b[91mUndefVarError: λϵ not defined\u001b[39m",
      "",
      "Stacktrace:",
      " [1] top-level scope at In[16]:1"
     ]
    }
   ],
   "source": [
    "(λϵ - λminusϵ) / 2ϵ"
   ]
  },
  {
   "cell_type": "code",
   "execution_count": 17,
   "metadata": {},
   "outputs": [],
   "source": [
    "color = :balance;"
   ]
  },
  {
   "cell_type": "code",
   "execution_count": 18,
   "metadata": {},
   "outputs": [
    {
     "ename": "UndefVarError",
     "evalue": "\u001b[91mUndefVarError: bdata not defined\u001b[39m",
     "output_type": "error",
     "traceback": [
      "\u001b[91mUndefVarError: bdata not defined\u001b[39m",
      "",
      "Stacktrace:",
      " [1] top-level scope at In[18]:1"
     ]
    }
   ],
   "source": [
    "plot_u(ctx, u_dot,\n",
    "        grid_resolution, grid_resolution, bdata=bdata, \n",
    "        colorbar=:left, color=color,clims=(-0.025,0.025))"
   ]
  },
  {
   "cell_type": "code",
   "execution_count": 19,
   "metadata": {},
   "outputs": [
    {
     "ename": "UndefVarError",
     "evalue": "\u001b[91mUndefVarError: bdata not defined\u001b[39m",
     "output_type": "error",
     "traceback": [
      "\u001b[91mUndefVarError: bdata not defined\u001b[39m",
      "",
      "Stacktrace:",
      " [1] top-level scope at In[19]:1"
     ]
    }
   ],
   "source": [
    "plot_u(ctx, u₀,\n",
    "        grid_resolution, grid_resolution, bdata=bdata, \n",
    "        colorbar=:left, color=color)"
   ]
  },
  {
   "cell_type": "code",
   "execution_count": 20,
   "metadata": {},
   "outputs": [
    {
     "ename": "UndefVarError",
     "evalue": "\u001b[91mUndefVarError: bdata not defined\u001b[39m",
     "output_type": "error",
     "traceback": [
      "\u001b[91mUndefVarError: bdata not defined\u001b[39m",
      "",
      "Stacktrace:",
      " [1] top-level scope at In[20]:1"
     ]
    }
   ],
   "source": [
    "plot_u(ctx, uϵ,\n",
    "        grid_resolution, grid_resolution, bdata=bdata, \n",
    "        colorbar=:left, color=color)"
   ]
  },
  {
   "cell_type": "code",
   "execution_count": 21,
   "metadata": {},
   "outputs": [
    {
     "ename": "UndefVarError",
     "evalue": "\u001b[91mUndefVarError: bdata not defined\u001b[39m",
     "output_type": "error",
     "traceback": [
      "\u001b[91mUndefVarError: bdata not defined\u001b[39m",
      "",
      "Stacktrace:",
      " [1] top-level scope at In[21]:1"
     ]
    }
   ],
   "source": [
    "plot_u(ctx, uminusϵ,\n",
    "        grid_resolution, grid_resolution, bdata=bdata, \n",
    "        colorbar=:left, color=color)"
   ]
  },
  {
   "cell_type": "code",
   "execution_count": 22,
   "metadata": {},
   "outputs": [
    {
     "ename": "UndefVarError",
     "evalue": "\u001b[91mUndefVarError: uϵ not defined\u001b[39m",
     "output_type": "error",
     "traceback": [
      "\u001b[91mUndefVarError: uϵ not defined\u001b[39m",
      "",
      "Stacktrace:",
      " [1] top-level scope at In[22]:1"
     ]
    }
   ],
   "source": [
    "plot_u(ctx, (uϵ - uminusϵ) ./ (2*ϵ),\n",
    "        grid_resolution, grid_resolution, bdata=bdata, \n",
    "        colorbar=:left, color=color, clims=(-0.4,0.4))"
   ]
  }
 ],
 "metadata": {
  "kernelspec": {
   "display_name": "Julia (16 threads) 1.4.2",
   "language": "julia",
   "name": "julia-(16-threads)-1.4"
  },
  "language_info": {
   "file_extension": ".jl",
   "mimetype": "application/julia",
   "name": "julia",
   "version": "1.4.2"
  }
 },
 "nbformat": 4,
 "nbformat_minor": 4
}
