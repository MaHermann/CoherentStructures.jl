{
 "cells": [
  {
   "cell_type": "code",
   "execution_count": 1,
   "metadata": {
    "scrolled": true
   },
   "outputs": [
    {
     "data": {
      "text/plain": [
       "Main.CoherentStructures"
      ]
     },
     "execution_count": 1,
     "metadata": {},
     "output_type": "execute_result"
    }
   ],
   "source": [
    "include(\"../src/CoherentStructures.jl\") #this is terrible but neccessary during development (?)"
   ]
  },
  {
   "cell_type": "code",
   "execution_count": 2,
   "metadata": {},
   "outputs": [
    {
     "data": {
      "text/plain": [
       "OrdinaryDiffEq"
      ]
     },
     "execution_count": 2,
     "metadata": {},
     "output_type": "execute_result"
    }
   ],
   "source": [
    "using StreamMacros, Main.CoherentStructures\n",
    "using Tensors, Arpack, Distances\n",
    "using Plots, UnicodePlots"
   ]
  },
  {
   "cell_type": "code",
   "execution_count": 3,
   "metadata": {},
   "outputs": [],
   "source": [
    "JLD2.@load(\"Ocean_geostrophic_velocity.jld2\");\n",
    "UV = interpolateVF(Lon, Lat, Time, UT, VT);"
   ]
  },
  {
   "cell_type": "code",
   "execution_count": 4,
   "metadata": {},
   "outputs": [],
   "source": [
    "# Parameters\n",
    "grid_resolution        = 100\n",
    "quadrature_order       = 1\n",
    "nevs                   = 20\n",
    "topk                   = 9\n",
    "a                      = .98;   # parameter value corresponding to ϵ=0"
   ]
  },
  {
   "cell_type": "code",
   "execution_count": 5,
   "metadata": {},
   "outputs": [
    {
     "data": {
      "text/plain": [
       "T (generic function with 1 method)"
      ]
     },
     "execution_count": 5,
     "metadata": {},
     "output_type": "execute_result"
    }
   ],
   "source": [
    "T(x ,p) = [rem2pi(x[1] + x[2] + (p+a)*sin(x[1]), RoundDown),\n",
    "           rem2pi(       x[2] + (p+a)*sin(x[1]), RoundDown)]"
   ]
  },
  {
   "cell_type": "code",
   "execution_count": 6,
   "metadata": {},
   "outputs": [
    {
     "ename": "UndefVarError",
     "evalue": "UndefVarError: peuclidean not defined",
     "output_type": "error",
     "traceback": [
      "UndefVarError: peuclidean not defined",
      "",
      "Stacktrace:",
      " [1] pred(::Tensor{1,2,Float64,2}, ::Tensor{1,2,Float64,2}) at .\\In[6]:3",
      " [2] identifyPoints(::Main.CoherentStructures.GridContext{2,JuAFEM.Grid{2,JuAFEM.Cell{2,3,3},Float64},JuAFEM.Lagrange{2,JuAFEM.RefTetrahedron,1},JuAFEM.Lagrange{2,JuAFEM.RefTetrahedron,1},JuAFEM.DofHandler{2,JuAFEM.Cell{2,3,3},Float64},JuAFEM.QuadratureRule{2,JuAFEM.RefTetrahedron,Float64},Main.CoherentStructures.Regular2DGridLocator{JuAFEM.Cell{2,3,3}}}, ::typeof(pred)) at C:\\Users\\Martin\\D_Drive\\Documents\\Uni\\3 Mathematics in Data Science\\05 Masterarbeit\\CoherentStructuresLinearResponse\\src\\boundaryconditions.jl:340",
      " [3] BoundaryData(::Main.CoherentStructures.GridContext{2,JuAFEM.Grid{2,JuAFEM.Cell{2,3,3},Float64},JuAFEM.Lagrange{2,JuAFEM.RefTetrahedron,1},JuAFEM.Lagrange{2,JuAFEM.RefTetrahedron,1},JuAFEM.DofHandler{2,JuAFEM.Cell{2,3,3},Float64},JuAFEM.QuadratureRule{2,JuAFEM.RefTetrahedron,Float64},Main.CoherentStructures.Regular2DGridLocator{JuAFEM.Cell{2,3,3}}}, ::Function, ::Array{Any,1}) at C:\\Users\\Martin\\D_Drive\\Documents\\Uni\\3 Mathematics in Data Science\\05 Masterarbeit\\CoherentStructuresLinearResponse\\src\\boundaryconditions.jl:38",
      " [4] BoundaryData(::Main.CoherentStructures.GridContext{2,JuAFEM.Grid{2,JuAFEM.Cell{2,3,3},Float64},JuAFEM.Lagrange{2,JuAFEM.RefTetrahedron,1},JuAFEM.Lagrange{2,JuAFEM.RefTetrahedron,1},JuAFEM.DofHandler{2,JuAFEM.Cell{2,3,3},Float64},JuAFEM.QuadratureRule{2,JuAFEM.RefTetrahedron,Float64},Main.CoherentStructures.Regular2DGridLocator{JuAFEM.Cell{2,3,3}}}, ::Function) at C:\\Users\\Martin\\D_Drive\\Documents\\Uni\\3 Mathematics in Data Science\\05 Masterarbeit\\CoherentStructuresLinearResponse\\src\\boundaryconditions.jl:37",
      " [5] top-level scope at In[6]:4"
     ]
    }
   ],
   "source": [
    "LL, UR = (0.0, 0.0), (2π, 2π)\n",
    "ctx, _ = regularTriangularGrid((grid_resolution, grid_resolution), LL, UR, quadrature_order = quadrature_order)\n",
    "pred(x,y) = peuclidean(x, y, [2π, 2π]) < 1e-9\n",
    "bdata = BoundaryData(ctx, pred);"
   ]
  },
  {
   "cell_type": "code",
   "execution_count": 7,
   "metadata": {},
   "outputs": [
    {
     "ename": "UndefVarError",
     "evalue": "UndefVarError: bdata not defined",
     "output_type": "error",
     "traceback": [
      "UndefVarError: bdata not defined",
      "",
      "Stacktrace:",
      " [1] top-level scope at In[7]:1"
     ]
    }
   ],
   "source": [
    "M = assembleMassMatrix(ctx, bdata=bdata);"
   ]
  },
  {
   "cell_type": "code",
   "execution_count": 8,
   "metadata": {
    "scrolled": false
   },
   "outputs": [
    {
     "ename": "UndefVarError",
     "evalue": "UndefVarError: bdata not defined",
     "output_type": "error",
     "traceback": [
      "UndefVarError: bdata not defined",
      "",
      "Stacktrace:",
      " [1] macro expansion at .\\util.jl:175 [inlined]",
      " [2] top-level scope at .\\In[8]:4"
     ]
    }
   ],
   "source": [
    "# assemble K\n",
    "DT₀(x) = linearized_transfer_function_autodiff(y -> T(y,0) , x)\n",
    "A₀(x) = 0.5*(one(Tensor{2,2}) + dott(inv(DT₀(x))))\n",
    "@time K = assembleStiffnessMatrix(ctx, A₀, bdata=bdata)\n",
    "nothing"
   ]
  },
  {
   "cell_type": "code",
   "execution_count": 9,
   "metadata": {},
   "outputs": [
    {
     "ename": "UndefVarError",
     "evalue": "UndefVarError: K not defined",
     "output_type": "error",
     "traceback": [
      "UndefVarError: K not defined",
      "",
      "Stacktrace:",
      " [1] top-level scope at In[9]:1"
     ]
    }
   ],
   "source": [
    "λ, u = eigs(K, M, nev=topk, which=:SM);"
   ]
  },
  {
   "cell_type": "code",
   "execution_count": 10,
   "metadata": {},
   "outputs": [
    {
     "ename": "UndefVarError",
     "evalue": "UndefVarError: u not defined",
     "output_type": "error",
     "traceback": [
      "UndefVarError: u not defined",
      "",
      "Stacktrace:",
      " [1] top-level scope at .\\In[10]:4"
     ]
    }
   ],
   "source": [
    "plot_color = :balance;\n",
    "plots = []\n",
    "for i in 1:topk\n",
    "    push!(plots, plot_u(ctx, u[:,i], grid_resolution, grid_resolution,\n",
    "         title=round(λ[i],digits=2), bdata=bdata, \n",
    "         color=plot_color, clims=(-2.0,2.5), titlefontsize=5, xtickfontsize=5,ytickfontsize=5))\n",
    "    \n",
    "end\n",
    "Plots.plot(plots..., fmt = :png, dpi=300)"
   ]
  },
  {
   "cell_type": "code",
   "execution_count": null,
   "metadata": {},
   "outputs": [],
   "source": []
  },
  {
   "cell_type": "code",
   "execution_count": null,
   "metadata": {},
   "outputs": [],
   "source": []
  }
 ],
 "metadata": {
  "kernelspec": {
   "display_name": "Julia (16 threads) 1.4.2",
   "language": "julia",
   "name": "julia-(16-threads)-1.4"
  },
  "language_info": {
   "file_extension": ".jl",
   "mimetype": "application/julia",
   "name": "julia",
   "version": "1.4.2"
  }
 },
 "nbformat": 4,
 "nbformat_minor": 4
}
